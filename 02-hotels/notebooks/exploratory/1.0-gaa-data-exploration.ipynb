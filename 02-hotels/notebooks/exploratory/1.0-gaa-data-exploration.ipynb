{
 "cells": [
  {
   "cell_type": "code",
   "execution_count": 1,
   "id": "eb704afc",
   "metadata": {},
   "outputs": [],
   "source": [
    "SAMPLE_SIZE = 100_000\n",
    "DTYPES = {\n",
    "    'date_time': 'string',\n",
    "    'site_name': 'uint8',\n",
    "    'posa_continent': 'uint8',\n",
    "    'user_location_country': 'uint8',\n",
    "    'user_location_region': 'uint16',\n",
    "    'user_location_city': 'uint16',\n",
    "    'orig_destination_distance': 'float32',\n",
    "    'user_id': 'uint32',\n",
    "    'is_mobile': 'bool',\n",
    "    'is_package': 'bool',\n",
    "    'channel': 'uint8',\n",
    "    'srch_ci': 'string',\n",
    "    'srch_co': 'string',\n",
    "    'srch_adults_cnt': 'uint8',\n",
    "    'srch_children_cnt': 'uint8',\n",
    "    'srch_rm_cnt': 'uint8',\n",
    "    'srch_destination_id': 'uint16',\n",
    "    'srch_destination_type_id': 'uint8',\n",
    "    'is_booking': 'bool',\n",
    "    'cnt': 'uint16',\n",
    "    'hotel_continent': 'uint8',\n",
    "    'hotel_country': 'uint8',\n",
    "    'hotel_market': 'uint16',\n",
    "    'hotel_cluster': 'uint8',\n",
    "}\n",
    "DATETIME_COLUMNS = ['date_time', 'srch_ci', 'srch_co']\n",
    "BOOLEAN_COLUMNS = ['is_booking', 'is_mobile', 'is_package']"
   ]
  },
  {
   "cell_type": "code",
   "execution_count": 2,
   "id": "95e442e5",
   "metadata": {},
   "outputs": [
    {
     "name": "stderr",
     "output_type": "stream",
     "text": [
      "C:\\Users\\tyoma\\AppData\\Local\\Temp\\ipykernel_6552\\122666053.py:22: DeprecationWarning: `replace` is deprecated. DataFrame.replace is deprecated and will be removed in a future version. Please use\n",
      "    df = df.with_columns(new_column.alias(column_name))\n",
      "instead.\n",
      "  df = df.replace(col, df[col] == 1)\n"
     ]
    }
   ],
   "source": [
    "import numpy as np\n",
    "import polars as pl\n",
    "\n",
    "\n",
    "def map_to_polars(dtype: str):\n",
    "    conversion = {\n",
    "        'string': pl.String,\n",
    "        'uint8': pl.UInt8,\n",
    "        'uint16': pl.UInt16,\n",
    "        'uint32': pl.UInt32,\n",
    "        'float32': pl.Float32,\n",
    "        'bool': pl.UInt8 \n",
    "    }\n",
    "    return conversion[dtype]\n",
    "\n",
    "dtypes = {k: map_to_polars(v) for k, v in DTYPES.items()}\n",
    "df = pl.read_csv('../../data/raw/train.csv', dtypes=dtypes)\n",
    "df = df.with_columns(\n",
    "    *[pl.col(col).str.to_datetime() for col in DATETIME_COLUMNS]\n",
    ")\n",
    "for col in BOOLEAN_COLUMNS:\n",
    "    df = df.replace(col, df[col] == 1)"
   ]
  },
  {
   "cell_type": "code",
   "execution_count": 3,
   "id": "ee353cbe",
   "metadata": {},
   "outputs": [
    {
     "data": {
      "text/html": [
       "<div><style>\n",
       ".dataframe > thead > tr,\n",
       ".dataframe > tbody > tr {\n",
       "  text-align: right;\n",
       "  white-space: pre-wrap;\n",
       "}\n",
       "</style>\n",
       "<small>shape: (10, 24)</small><table border=\"1\" class=\"dataframe\"><thead><tr><th>date_time</th><th>site_name</th><th>posa_continent</th><th>user_location_country</th><th>user_location_region</th><th>user_location_city</th><th>orig_destination_distance</th><th>user_id</th><th>is_mobile</th><th>is_package</th><th>channel</th><th>srch_ci</th><th>srch_co</th><th>srch_adults_cnt</th><th>srch_children_cnt</th><th>srch_rm_cnt</th><th>srch_destination_id</th><th>srch_destination_type_id</th><th>is_booking</th><th>cnt</th><th>hotel_continent</th><th>hotel_country</th><th>hotel_market</th><th>hotel_cluster</th></tr><tr><td>datetime[μs]</td><td>u8</td><td>u8</td><td>u8</td><td>u16</td><td>u16</td><td>f32</td><td>u32</td><td>bool</td><td>bool</td><td>u8</td><td>datetime[μs]</td><td>datetime[μs]</td><td>u8</td><td>u8</td><td>u8</td><td>u16</td><td>u8</td><td>bool</td><td>u16</td><td>u8</td><td>u8</td><td>u16</td><td>u8</td></tr></thead><tbody><tr><td>2014-08-11 07:46:59</td><td>2</td><td>3</td><td>66</td><td>348</td><td>48862</td><td>2234.26416</td><td>12</td><td>false</td><td>true</td><td>9</td><td>2014-08-27 00:00:00</td><td>2014-08-31 00:00:00</td><td>2</td><td>0</td><td>1</td><td>8250</td><td>1</td><td>false</td><td>3</td><td>2</td><td>50</td><td>628</td><td>1</td></tr><tr><td>2014-08-11 08:22:12</td><td>2</td><td>3</td><td>66</td><td>348</td><td>48862</td><td>2234.26416</td><td>12</td><td>false</td><td>true</td><td>9</td><td>2014-08-29 00:00:00</td><td>2014-09-02 00:00:00</td><td>2</td><td>0</td><td>1</td><td>8250</td><td>1</td><td>true</td><td>1</td><td>2</td><td>50</td><td>628</td><td>1</td></tr><tr><td>2014-08-11 08:24:33</td><td>2</td><td>3</td><td>66</td><td>348</td><td>48862</td><td>2234.26416</td><td>12</td><td>false</td><td>false</td><td>9</td><td>2014-08-29 00:00:00</td><td>2014-09-02 00:00:00</td><td>2</td><td>0</td><td>1</td><td>8250</td><td>1</td><td>false</td><td>1</td><td>2</td><td>50</td><td>628</td><td>1</td></tr><tr><td>2014-08-09 18:05:16</td><td>2</td><td>3</td><td>66</td><td>442</td><td>35390</td><td>913.193176</td><td>93</td><td>false</td><td>false</td><td>3</td><td>2014-11-23 00:00:00</td><td>2014-11-28 00:00:00</td><td>2</td><td>0</td><td>1</td><td>14984</td><td>1</td><td>false</td><td>1</td><td>2</td><td>50</td><td>1457</td><td>80</td></tr><tr><td>2014-08-09 18:08:18</td><td>2</td><td>3</td><td>66</td><td>442</td><td>35390</td><td>913.625916</td><td>93</td><td>false</td><td>false</td><td>3</td><td>2014-11-23 00:00:00</td><td>2014-11-28 00:00:00</td><td>2</td><td>0</td><td>1</td><td>14984</td><td>1</td><td>false</td><td>1</td><td>2</td><td>50</td><td>1457</td><td>21</td></tr><tr><td>2014-08-09 18:13:12</td><td>2</td><td>3</td><td>66</td><td>442</td><td>35390</td><td>911.514221</td><td>93</td><td>false</td><td>false</td><td>3</td><td>2014-11-23 00:00:00</td><td>2014-11-28 00:00:00</td><td>2</td><td>0</td><td>1</td><td>14984</td><td>1</td><td>false</td><td>1</td><td>2</td><td>50</td><td>1457</td><td>92</td></tr><tr><td>2014-07-16 09:42:23</td><td>2</td><td>3</td><td>66</td><td>189</td><td>10067</td><td>null</td><td>501</td><td>false</td><td>false</td><td>2</td><td>2014-08-01 00:00:00</td><td>2014-08-02 00:00:00</td><td>2</td><td>0</td><td>1</td><td>8267</td><td>1</td><td>false</td><td>2</td><td>2</td><td>50</td><td>675</td><td>41</td></tr><tr><td>2014-07-16 09:45:48</td><td>2</td><td>3</td><td>66</td><td>189</td><td>10067</td><td>null</td><td>501</td><td>false</td><td>true</td><td>2</td><td>2014-08-01 00:00:00</td><td>2014-08-02 00:00:00</td><td>2</td><td>0</td><td>1</td><td>8267</td><td>1</td><td>false</td><td>1</td><td>2</td><td>50</td><td>675</td><td>41</td></tr><tr><td>2014-07-16 09:52:11</td><td>2</td><td>3</td><td>66</td><td>189</td><td>10067</td><td>null</td><td>501</td><td>false</td><td>false</td><td>2</td><td>2014-08-01 00:00:00</td><td>2014-08-02 00:00:00</td><td>2</td><td>0</td><td>1</td><td>8267</td><td>1</td><td>false</td><td>1</td><td>2</td><td>50</td><td>675</td><td>69</td></tr><tr><td>2014-07-16 09:55:24</td><td>2</td><td>3</td><td>66</td><td>189</td><td>10067</td><td>null</td><td>501</td><td>false</td><td>false</td><td>2</td><td>2014-08-01 00:00:00</td><td>2014-08-02 00:00:00</td><td>2</td><td>0</td><td>1</td><td>8267</td><td>1</td><td>false</td><td>1</td><td>2</td><td>50</td><td>675</td><td>70</td></tr></tbody></table></div>"
      ],
      "text/plain": [
       "shape: (10, 24)\n",
       "┌───────────┬───────────┬───────────┬───────────┬───┬───────────┬───────────┬───────────┬──────────┐\n",
       "│ date_time ┆ site_name ┆ posa_cont ┆ user_loca ┆ … ┆ hotel_con ┆ hotel_cou ┆ hotel_mar ┆ hotel_cl │\n",
       "│ ---       ┆ ---       ┆ inent     ┆ tion_coun ┆   ┆ tinent    ┆ ntry      ┆ ket       ┆ uster    │\n",
       "│ datetime[ ┆ u8        ┆ ---       ┆ try       ┆   ┆ ---       ┆ ---       ┆ ---       ┆ ---      │\n",
       "│ μs]       ┆           ┆ u8        ┆ ---       ┆   ┆ u8        ┆ u8        ┆ u16       ┆ u8       │\n",
       "│           ┆           ┆           ┆ u8        ┆   ┆           ┆           ┆           ┆          │\n",
       "╞═══════════╪═══════════╪═══════════╪═══════════╪═══╪═══════════╪═══════════╪═══════════╪══════════╡\n",
       "│ 2014-08-1 ┆ 2         ┆ 3         ┆ 66        ┆ … ┆ 2         ┆ 50        ┆ 628       ┆ 1        │\n",
       "│ 1         ┆           ┆           ┆           ┆   ┆           ┆           ┆           ┆          │\n",
       "│ 07:46:59  ┆           ┆           ┆           ┆   ┆           ┆           ┆           ┆          │\n",
       "│ 2014-08-1 ┆ 2         ┆ 3         ┆ 66        ┆ … ┆ 2         ┆ 50        ┆ 628       ┆ 1        │\n",
       "│ 1         ┆           ┆           ┆           ┆   ┆           ┆           ┆           ┆          │\n",
       "│ 08:22:12  ┆           ┆           ┆           ┆   ┆           ┆           ┆           ┆          │\n",
       "│ 2014-08-1 ┆ 2         ┆ 3         ┆ 66        ┆ … ┆ 2         ┆ 50        ┆ 628       ┆ 1        │\n",
       "│ 1         ┆           ┆           ┆           ┆   ┆           ┆           ┆           ┆          │\n",
       "│ 08:24:33  ┆           ┆           ┆           ┆   ┆           ┆           ┆           ┆          │\n",
       "│ 2014-08-0 ┆ 2         ┆ 3         ┆ 66        ┆ … ┆ 2         ┆ 50        ┆ 1457      ┆ 80       │\n",
       "│ 9         ┆           ┆           ┆           ┆   ┆           ┆           ┆           ┆          │\n",
       "│ 18:05:16  ┆           ┆           ┆           ┆   ┆           ┆           ┆           ┆          │\n",
       "│ 2014-08-0 ┆ 2         ┆ 3         ┆ 66        ┆ … ┆ 2         ┆ 50        ┆ 1457      ┆ 21       │\n",
       "│ 9         ┆           ┆           ┆           ┆   ┆           ┆           ┆           ┆          │\n",
       "│ 18:08:18  ┆           ┆           ┆           ┆   ┆           ┆           ┆           ┆          │\n",
       "│ 2014-08-0 ┆ 2         ┆ 3         ┆ 66        ┆ … ┆ 2         ┆ 50        ┆ 1457      ┆ 92       │\n",
       "│ 9         ┆           ┆           ┆           ┆   ┆           ┆           ┆           ┆          │\n",
       "│ 18:13:12  ┆           ┆           ┆           ┆   ┆           ┆           ┆           ┆          │\n",
       "│ 2014-07-1 ┆ 2         ┆ 3         ┆ 66        ┆ … ┆ 2         ┆ 50        ┆ 675       ┆ 41       │\n",
       "│ 6         ┆           ┆           ┆           ┆   ┆           ┆           ┆           ┆          │\n",
       "│ 09:42:23  ┆           ┆           ┆           ┆   ┆           ┆           ┆           ┆          │\n",
       "│ 2014-07-1 ┆ 2         ┆ 3         ┆ 66        ┆ … ┆ 2         ┆ 50        ┆ 675       ┆ 41       │\n",
       "│ 6         ┆           ┆           ┆           ┆   ┆           ┆           ┆           ┆          │\n",
       "│ 09:45:48  ┆           ┆           ┆           ┆   ┆           ┆           ┆           ┆          │\n",
       "│ 2014-07-1 ┆ 2         ┆ 3         ┆ 66        ┆ … ┆ 2         ┆ 50        ┆ 675       ┆ 69       │\n",
       "│ 6         ┆           ┆           ┆           ┆   ┆           ┆           ┆           ┆          │\n",
       "│ 09:52:11  ┆           ┆           ┆           ┆   ┆           ┆           ┆           ┆          │\n",
       "│ 2014-07-1 ┆ 2         ┆ 3         ┆ 66        ┆ … ┆ 2         ┆ 50        ┆ 675       ┆ 70       │\n",
       "│ 6         ┆           ┆           ┆           ┆   ┆           ┆           ┆           ┆          │\n",
       "│ 09:55:24  ┆           ┆           ┆           ┆   ┆           ┆           ┆           ┆          │\n",
       "└───────────┴───────────┴───────────┴───────────┴───┴───────────┴───────────┴───────────┴──────────┘"
      ]
     },
     "execution_count": 3,
     "metadata": {},
     "output_type": "execute_result"
    }
   ],
   "source": [
    "df.head(10)"
   ]
  },
  {
   "cell_type": "code",
   "execution_count": 4,
   "id": "1ff19346",
   "metadata": {},
   "outputs": [],
   "source": [
    "df_sample = df.sample(SAMPLE_SIZE)"
   ]
  },
  {
   "cell_type": "code",
   "execution_count": null,
   "id": "561f670a",
   "metadata": {},
   "outputs": [],
   "source": [
    "from ydata_profiling import ProfileReport\n",
    "\n",
    "profile_report = ProfileReport(df_sample, title='Data profile report', explorative=True)"
   ]
  },
  {
   "cell_type": "code",
   "execution_count": null,
   "id": "3d36ddad",
   "metadata": {},
   "outputs": [
    {
     "data": {
      "application/vnd.jupyter.widget-view+json": {
       "model_id": "105f4452bfe84cc9849e711a4348bb68",
       "version_major": 2,
       "version_minor": 0
      },
      "text/plain": [
       "Summarize dataset:   0%|          | 0/5 [00:00<?, ?it/s]"
      ]
     },
     "metadata": {},
     "output_type": "display_data"
    },
    {
     "data": {
      "application/vnd.jupyter.widget-view+json": {
       "model_id": "c1e30ca7ae5b41b1917b19c3103f939c",
       "version_major": 2,
       "version_minor": 0
      },
      "text/plain": [
       "Generate report structure:   0%|          | 0/1 [00:00<?, ?it/s]"
      ]
     },
     "metadata": {},
     "output_type": "display_data"
    },
    {
     "data": {
      "application/vnd.jupyter.widget-view+json": {
       "model_id": "639d0d2b613c4147b7aa359cd6241524",
       "version_major": 2,
       "version_minor": 0
      },
      "text/plain": [
       "Render HTML:   0%|          | 0/1 [00:00<?, ?it/s]"
      ]
     },
     "metadata": {},
     "output_type": "display_data"
    },
    {
     "data": {
      "application/vnd.jupyter.widget-view+json": {
       "model_id": "ef28cc55d1764fd68ef8742fcc528dbf",
       "version_major": 2,
       "version_minor": 0
      },
      "text/plain": [
       "Export report to file:   0%|          | 0/1 [00:00<?, ?it/s]"
      ]
     },
     "metadata": {},
     "output_type": "display_data"
    }
   ],
   "source": [
    "profile_report.to_file('../reports/report.html')"
   ]
  },
  {
   "cell_type": "code",
   "execution_count": 4,
   "id": "b4103e6f",
   "metadata": {},
   "outputs": [
    {
     "data": {
      "application/vnd.plotly.v1+json": {
       "config": {
        "plotlyServerURL": "https://plot.ly"
       },
       "data": [
        {
         "alignmentgroup": "True",
         "hovertemplate": "variable=0<br>value=%{x}<br>index=%{y}<extra></extra>",
         "legendgroup": "0",
         "marker": {
          "color": "#636efa",
          "pattern": {
           "shape": ""
          }
         },
         "name": "0",
         "offsetgroup": "0",
         "orientation": "h",
         "showlegend": true,
         "textposition": "auto",
         "type": "bar",
         "x": [
          35.903625703150226,
          0.12498973660757032,
          0.12498708199588467,
          0,
          0,
          0,
          0,
          0,
          0,
          0,
          0,
          0,
          0,
          0,
          0,
          0,
          0,
          0,
          0,
          0,
          0,
          0,
          0,
          0
         ],
         "xaxis": "x",
         "y": [
          "orig_destination_distance",
          "srch_co",
          "srch_ci",
          "srch_adults_cnt",
          "hotel_market",
          "hotel_country",
          "hotel_continent",
          "cnt",
          "is_booking",
          "srch_destination_type_id",
          "srch_destination_id",
          "srch_rm_cnt",
          "srch_children_cnt",
          "date_time",
          "site_name",
          "channel",
          "is_package",
          "is_mobile",
          "user_id",
          "user_location_city",
          "user_location_region",
          "user_location_country",
          "posa_continent",
          "hotel_cluster"
         ],
         "yaxis": "y"
        }
       ],
       "layout": {
        "barmode": "relative",
        "legend": {
         "title": {
          "text": "variable"
         },
         "tracegroupgap": 0
        },
        "template": {
         "data": {
          "bar": [
           {
            "error_x": {
             "color": "#2a3f5f"
            },
            "error_y": {
             "color": "#2a3f5f"
            },
            "marker": {
             "line": {
              "color": "#E5ECF6",
              "width": 0.5
             },
             "pattern": {
              "fillmode": "overlay",
              "size": 10,
              "solidity": 0.2
             }
            },
            "type": "bar"
           }
          ],
          "barpolar": [
           {
            "marker": {
             "line": {
              "color": "#E5ECF6",
              "width": 0.5
             },
             "pattern": {
              "fillmode": "overlay",
              "size": 10,
              "solidity": 0.2
             }
            },
            "type": "barpolar"
           }
          ],
          "carpet": [
           {
            "aaxis": {
             "endlinecolor": "#2a3f5f",
             "gridcolor": "white",
             "linecolor": "white",
             "minorgridcolor": "white",
             "startlinecolor": "#2a3f5f"
            },
            "baxis": {
             "endlinecolor": "#2a3f5f",
             "gridcolor": "white",
             "linecolor": "white",
             "minorgridcolor": "white",
             "startlinecolor": "#2a3f5f"
            },
            "type": "carpet"
           }
          ],
          "choropleth": [
           {
            "colorbar": {
             "outlinewidth": 0,
             "ticks": ""
            },
            "type": "choropleth"
           }
          ],
          "contour": [
           {
            "colorbar": {
             "outlinewidth": 0,
             "ticks": ""
            },
            "colorscale": [
             [
              0,
              "#0d0887"
             ],
             [
              0.1111111111111111,
              "#46039f"
             ],
             [
              0.2222222222222222,
              "#7201a8"
             ],
             [
              0.3333333333333333,
              "#9c179e"
             ],
             [
              0.4444444444444444,
              "#bd3786"
             ],
             [
              0.5555555555555556,
              "#d8576b"
             ],
             [
              0.6666666666666666,
              "#ed7953"
             ],
             [
              0.7777777777777778,
              "#fb9f3a"
             ],
             [
              0.8888888888888888,
              "#fdca26"
             ],
             [
              1,
              "#f0f921"
             ]
            ],
            "type": "contour"
           }
          ],
          "contourcarpet": [
           {
            "colorbar": {
             "outlinewidth": 0,
             "ticks": ""
            },
            "type": "contourcarpet"
           }
          ],
          "heatmap": [
           {
            "colorbar": {
             "outlinewidth": 0,
             "ticks": ""
            },
            "colorscale": [
             [
              0,
              "#0d0887"
             ],
             [
              0.1111111111111111,
              "#46039f"
             ],
             [
              0.2222222222222222,
              "#7201a8"
             ],
             [
              0.3333333333333333,
              "#9c179e"
             ],
             [
              0.4444444444444444,
              "#bd3786"
             ],
             [
              0.5555555555555556,
              "#d8576b"
             ],
             [
              0.6666666666666666,
              "#ed7953"
             ],
             [
              0.7777777777777778,
              "#fb9f3a"
             ],
             [
              0.8888888888888888,
              "#fdca26"
             ],
             [
              1,
              "#f0f921"
             ]
            ],
            "type": "heatmap"
           }
          ],
          "heatmapgl": [
           {
            "colorbar": {
             "outlinewidth": 0,
             "ticks": ""
            },
            "colorscale": [
             [
              0,
              "#0d0887"
             ],
             [
              0.1111111111111111,
              "#46039f"
             ],
             [
              0.2222222222222222,
              "#7201a8"
             ],
             [
              0.3333333333333333,
              "#9c179e"
             ],
             [
              0.4444444444444444,
              "#bd3786"
             ],
             [
              0.5555555555555556,
              "#d8576b"
             ],
             [
              0.6666666666666666,
              "#ed7953"
             ],
             [
              0.7777777777777778,
              "#fb9f3a"
             ],
             [
              0.8888888888888888,
              "#fdca26"
             ],
             [
              1,
              "#f0f921"
             ]
            ],
            "type": "heatmapgl"
           }
          ],
          "histogram": [
           {
            "marker": {
             "pattern": {
              "fillmode": "overlay",
              "size": 10,
              "solidity": 0.2
             }
            },
            "type": "histogram"
           }
          ],
          "histogram2d": [
           {
            "colorbar": {
             "outlinewidth": 0,
             "ticks": ""
            },
            "colorscale": [
             [
              0,
              "#0d0887"
             ],
             [
              0.1111111111111111,
              "#46039f"
             ],
             [
              0.2222222222222222,
              "#7201a8"
             ],
             [
              0.3333333333333333,
              "#9c179e"
             ],
             [
              0.4444444444444444,
              "#bd3786"
             ],
             [
              0.5555555555555556,
              "#d8576b"
             ],
             [
              0.6666666666666666,
              "#ed7953"
             ],
             [
              0.7777777777777778,
              "#fb9f3a"
             ],
             [
              0.8888888888888888,
              "#fdca26"
             ],
             [
              1,
              "#f0f921"
             ]
            ],
            "type": "histogram2d"
           }
          ],
          "histogram2dcontour": [
           {
            "colorbar": {
             "outlinewidth": 0,
             "ticks": ""
            },
            "colorscale": [
             [
              0,
              "#0d0887"
             ],
             [
              0.1111111111111111,
              "#46039f"
             ],
             [
              0.2222222222222222,
              "#7201a8"
             ],
             [
              0.3333333333333333,
              "#9c179e"
             ],
             [
              0.4444444444444444,
              "#bd3786"
             ],
             [
              0.5555555555555556,
              "#d8576b"
             ],
             [
              0.6666666666666666,
              "#ed7953"
             ],
             [
              0.7777777777777778,
              "#fb9f3a"
             ],
             [
              0.8888888888888888,
              "#fdca26"
             ],
             [
              1,
              "#f0f921"
             ]
            ],
            "type": "histogram2dcontour"
           }
          ],
          "mesh3d": [
           {
            "colorbar": {
             "outlinewidth": 0,
             "ticks": ""
            },
            "type": "mesh3d"
           }
          ],
          "parcoords": [
           {
            "line": {
             "colorbar": {
              "outlinewidth": 0,
              "ticks": ""
             }
            },
            "type": "parcoords"
           }
          ],
          "pie": [
           {
            "automargin": true,
            "type": "pie"
           }
          ],
          "scatter": [
           {
            "fillpattern": {
             "fillmode": "overlay",
             "size": 10,
             "solidity": 0.2
            },
            "type": "scatter"
           }
          ],
          "scatter3d": [
           {
            "line": {
             "colorbar": {
              "outlinewidth": 0,
              "ticks": ""
             }
            },
            "marker": {
             "colorbar": {
              "outlinewidth": 0,
              "ticks": ""
             }
            },
            "type": "scatter3d"
           }
          ],
          "scattercarpet": [
           {
            "marker": {
             "colorbar": {
              "outlinewidth": 0,
              "ticks": ""
             }
            },
            "type": "scattercarpet"
           }
          ],
          "scattergeo": [
           {
            "marker": {
             "colorbar": {
              "outlinewidth": 0,
              "ticks": ""
             }
            },
            "type": "scattergeo"
           }
          ],
          "scattergl": [
           {
            "marker": {
             "colorbar": {
              "outlinewidth": 0,
              "ticks": ""
             }
            },
            "type": "scattergl"
           }
          ],
          "scattermapbox": [
           {
            "marker": {
             "colorbar": {
              "outlinewidth": 0,
              "ticks": ""
             }
            },
            "type": "scattermapbox"
           }
          ],
          "scatterpolar": [
           {
            "marker": {
             "colorbar": {
              "outlinewidth": 0,
              "ticks": ""
             }
            },
            "type": "scatterpolar"
           }
          ],
          "scatterpolargl": [
           {
            "marker": {
             "colorbar": {
              "outlinewidth": 0,
              "ticks": ""
             }
            },
            "type": "scatterpolargl"
           }
          ],
          "scatterternary": [
           {
            "marker": {
             "colorbar": {
              "outlinewidth": 0,
              "ticks": ""
             }
            },
            "type": "scatterternary"
           }
          ],
          "surface": [
           {
            "colorbar": {
             "outlinewidth": 0,
             "ticks": ""
            },
            "colorscale": [
             [
              0,
              "#0d0887"
             ],
             [
              0.1111111111111111,
              "#46039f"
             ],
             [
              0.2222222222222222,
              "#7201a8"
             ],
             [
              0.3333333333333333,
              "#9c179e"
             ],
             [
              0.4444444444444444,
              "#bd3786"
             ],
             [
              0.5555555555555556,
              "#d8576b"
             ],
             [
              0.6666666666666666,
              "#ed7953"
             ],
             [
              0.7777777777777778,
              "#fb9f3a"
             ],
             [
              0.8888888888888888,
              "#fdca26"
             ],
             [
              1,
              "#f0f921"
             ]
            ],
            "type": "surface"
           }
          ],
          "table": [
           {
            "cells": {
             "fill": {
              "color": "#EBF0F8"
             },
             "line": {
              "color": "white"
             }
            },
            "header": {
             "fill": {
              "color": "#C8D4E3"
             },
             "line": {
              "color": "white"
             }
            },
            "type": "table"
           }
          ]
         },
         "layout": {
          "annotationdefaults": {
           "arrowcolor": "#2a3f5f",
           "arrowhead": 0,
           "arrowwidth": 1
          },
          "autotypenumbers": "strict",
          "coloraxis": {
           "colorbar": {
            "outlinewidth": 0,
            "ticks": ""
           }
          },
          "colorscale": {
           "diverging": [
            [
             0,
             "#8e0152"
            ],
            [
             0.1,
             "#c51b7d"
            ],
            [
             0.2,
             "#de77ae"
            ],
            [
             0.3,
             "#f1b6da"
            ],
            [
             0.4,
             "#fde0ef"
            ],
            [
             0.5,
             "#f7f7f7"
            ],
            [
             0.6,
             "#e6f5d0"
            ],
            [
             0.7,
             "#b8e186"
            ],
            [
             0.8,
             "#7fbc41"
            ],
            [
             0.9,
             "#4d9221"
            ],
            [
             1,
             "#276419"
            ]
           ],
           "sequential": [
            [
             0,
             "#0d0887"
            ],
            [
             0.1111111111111111,
             "#46039f"
            ],
            [
             0.2222222222222222,
             "#7201a8"
            ],
            [
             0.3333333333333333,
             "#9c179e"
            ],
            [
             0.4444444444444444,
             "#bd3786"
            ],
            [
             0.5555555555555556,
             "#d8576b"
            ],
            [
             0.6666666666666666,
             "#ed7953"
            ],
            [
             0.7777777777777778,
             "#fb9f3a"
            ],
            [
             0.8888888888888888,
             "#fdca26"
            ],
            [
             1,
             "#f0f921"
            ]
           ],
           "sequentialminus": [
            [
             0,
             "#0d0887"
            ],
            [
             0.1111111111111111,
             "#46039f"
            ],
            [
             0.2222222222222222,
             "#7201a8"
            ],
            [
             0.3333333333333333,
             "#9c179e"
            ],
            [
             0.4444444444444444,
             "#bd3786"
            ],
            [
             0.5555555555555556,
             "#d8576b"
            ],
            [
             0.6666666666666666,
             "#ed7953"
            ],
            [
             0.7777777777777778,
             "#fb9f3a"
            ],
            [
             0.8888888888888888,
             "#fdca26"
            ],
            [
             1,
             "#f0f921"
            ]
           ]
          },
          "colorway": [
           "#636efa",
           "#EF553B",
           "#00cc96",
           "#ab63fa",
           "#FFA15A",
           "#19d3f3",
           "#FF6692",
           "#B6E880",
           "#FF97FF",
           "#FECB52"
          ],
          "font": {
           "color": "#2a3f5f"
          },
          "geo": {
           "bgcolor": "white",
           "lakecolor": "white",
           "landcolor": "#E5ECF6",
           "showlakes": true,
           "showland": true,
           "subunitcolor": "white"
          },
          "hoverlabel": {
           "align": "left"
          },
          "hovermode": "closest",
          "mapbox": {
           "style": "light"
          },
          "paper_bgcolor": "white",
          "plot_bgcolor": "#E5ECF6",
          "polar": {
           "angularaxis": {
            "gridcolor": "white",
            "linecolor": "white",
            "ticks": ""
           },
           "bgcolor": "#E5ECF6",
           "radialaxis": {
            "gridcolor": "white",
            "linecolor": "white",
            "ticks": ""
           }
          },
          "scene": {
           "xaxis": {
            "backgroundcolor": "#E5ECF6",
            "gridcolor": "white",
            "gridwidth": 2,
            "linecolor": "white",
            "showbackground": true,
            "ticks": "",
            "zerolinecolor": "white"
           },
           "yaxis": {
            "backgroundcolor": "#E5ECF6",
            "gridcolor": "white",
            "gridwidth": 2,
            "linecolor": "white",
            "showbackground": true,
            "ticks": "",
            "zerolinecolor": "white"
           },
           "zaxis": {
            "backgroundcolor": "#E5ECF6",
            "gridcolor": "white",
            "gridwidth": 2,
            "linecolor": "white",
            "showbackground": true,
            "ticks": "",
            "zerolinecolor": "white"
           }
          },
          "shapedefaults": {
           "line": {
            "color": "#2a3f5f"
           }
          },
          "ternary": {
           "aaxis": {
            "gridcolor": "white",
            "linecolor": "white",
            "ticks": ""
           },
           "baxis": {
            "gridcolor": "white",
            "linecolor": "white",
            "ticks": ""
           },
           "bgcolor": "#E5ECF6",
           "caxis": {
            "gridcolor": "white",
            "linecolor": "white",
            "ticks": ""
           }
          },
          "title": {
           "x": 0.05
          },
          "xaxis": {
           "automargin": true,
           "gridcolor": "white",
           "linecolor": "white",
           "ticks": "",
           "title": {
            "standoff": 15
           },
           "zerolinecolor": "white",
           "zerolinewidth": 2
          },
          "yaxis": {
           "automargin": true,
           "gridcolor": "white",
           "linecolor": "white",
           "ticks": "",
           "title": {
            "standoff": 15
           },
           "zerolinecolor": "white",
           "zerolinewidth": 2
          }
         }
        },
        "title": {
         "text": "Missing values (in %, to 100)"
        },
        "xaxis": {
         "anchor": "y",
         "domain": [
          0,
          1
         ],
         "title": {
          "text": "value"
         }
        },
        "yaxis": {
         "anchor": "x",
         "domain": [
          0,
          1
         ],
         "title": {
          "text": "index"
         }
        }
       }
      }
     },
     "metadata": {},
     "output_type": "display_data"
    }
   ],
   "source": [
    "from pandas import Series\n",
    "from plotly.express import bar\n",
    "\n",
    "\n",
    "nulls = Series(df.null_count().row(0), index=df.columns)\n",
    "bar((nulls.sort_values(ascending=False) * 100) / len(df), title='Missing values (in %, to 100)', orientation='h', labels={\n",
    "    'x': 'Missing values (to 100%)',\n",
    "    'y': 'Column'\n",
    "})"
   ]
  },
  {
   "cell_type": "code",
   "execution_count": 22,
   "id": "993c77a6af58db4",
   "metadata": {
    "ExecuteTime": {
     "end_time": "2024-02-05T08:52:03.524825100Z",
     "start_time": "2024-02-05T08:52:03.491492500Z"
    },
    "collapsed": false
   },
   "outputs": [],
   "source": [
    "numerical_columns = [column for column in df.columns if df[column].dtype not in [pl.Boolean, pl.String, pl.Datetime]]\n",
    "categorical_columns = [column for column in df.columns if df[column].dtype in [pl.Boolean, pl.String, pl.Datetime]]"
   ]
  },
  {
   "cell_type": "code",
   "execution_count": 7,
   "id": "8ace027d",
   "metadata": {},
   "outputs": [],
   "source": [
    "visualization_df = df.sample(1_000).to_pandas()"
   ]
  },
  {
   "cell_type": "code",
   "execution_count": 15,
   "id": "9c843f80",
   "metadata": {},
   "outputs": [],
   "source": [
    "from plotly_resampler import register_plotly_resampler\n",
    "\n",
    "register_plotly_resampler(mode='auto')"
   ]
  },
  {
   "cell_type": "code",
   "execution_count": 23,
   "id": "6ed683818b863615",
   "metadata": {
    "ExecuteTime": {
     "end_time": "2024-02-05T08:52:03.959871500Z",
     "start_time": "2024-02-05T08:52:03.501812900Z"
    }
   },
   "outputs": [
    {
     "data": {
      "text/html": [
       "\n",
       "        <iframe\n",
       "            width=\"100%\"\n",
       "            height=\"650\"\n",
       "            src=\"http://127.0.0.1:8050/\"\n",
       "            frameborder=\"0\"\n",
       "            allowfullscreen\n",
       "            \n",
       "        ></iframe>\n",
       "        "
      ],
      "text/plain": [
       "<IPython.lib.display.IFrame at 0x2a40b20ab50>"
      ]
     },
     "metadata": {},
     "output_type": "display_data"
    },
    {
     "ename": "",
     "evalue": "",
     "output_type": "error",
     "traceback": [
      "\u001b[1;31mThe Kernel crashed while executing code in the current cell or a previous cell. \n",
      "\u001b[1;31mPlease review the code in the cell(s) to identify a possible cause of the failure. \n",
      "\u001b[1;31mClick <a href='https://aka.ms/vscodeJupyterKernelCrash'>here</a> for more info. \n",
      "\u001b[1;31mView Jupyter <a href='command:jupyter.viewOutput'>log</a> for further details."
     ]
    }
   ],
   "source": [
    "from enum import Enum\n",
    "from functools import partial\n",
    "\n",
    "import datashader as ds\n",
    "\n",
    "from dash import Dash, dcc, html, Input, Output\n",
    "from pandas import DataFrame\n",
    "from plotly.graph_objects import Figure\n",
    "\n",
    "import plotly.express as px\n",
    "\n",
    "DASH_PORT = 8050\n",
    "FIGURE_HEIGHT = 800\n",
    "\n",
    "\n",
    "class FeatureType(Enum):\n",
    "    NUMERICAL = 'numerical'\n",
    "    CATEGORICAL = 'categorical'\n",
    "\n",
    "\n",
    "def get_feature_type(feature: str) -> FeatureType:\n",
    "    return FeatureType.NUMERICAL if feature in numerical_columns else FeatureType.CATEGORICAL\n",
    "\n",
    "\n",
    "def scatterplot(df: DataFrame, x: str, y: str, height: int = FIGURE_HEIGHT) -> Figure:\n",
    "    canvas = ds.Canvas(plot_height=height)\n",
    "    agg = canvas.points(df, x, y)\n",
    "    return px.imshow(agg)\n",
    "\n",
    "\n",
    "def make_interactive_plot(x_columns: list[str], y_columns: list[str], title: str | None = None,\n",
    "                          *, vdf: DataFrame = df) -> Dash:\n",
    "    \"\"\"\n",
    "    Creates interactive plot for given x and y columns\n",
    "    :param x_columns: x columns to display\n",
    "    :param y_columns: y columns to display\n",
    "    :param title: title of the plot\n",
    "    :param df: dataframe, default is data\n",
    "    :return: Dash with interactive plot\n",
    "    \"\"\"\n",
    "    assert set(x_columns).issubset(set(vdf.columns)), 'x_columns must be in data.columns'\n",
    "    assert set(y_columns).issubset(set(vdf.columns)), 'y_columns must be in data.columns'\n",
    "    assert len(x_columns) > 0\n",
    "    assert len(y_columns) > 0\n",
    "\n",
    "    if title is None:\n",
    "        title = ', '.join(x_columns) + ' to ' + ', '.join(y_columns)\n",
    "\n",
    "    app = Dash(__name__)\n",
    "    display_types = {\n",
    "        (FeatureType.NUMERICAL, FeatureType.NUMERICAL): scatterplot,\n",
    "        (FeatureType.NUMERICAL, FeatureType.CATEGORICAL): px.box,\n",
    "        (FeatureType.CATEGORICAL, FeatureType.NUMERICAL): px.box,\n",
    "        (FeatureType.CATEGORICAL, FeatureType.CATEGORICAL): px.bar\n",
    "    }\n",
    "    app.layout = html.Div([\n",
    "        html.H5(title),\n",
    "        html.A('Open in browser', href=f'http://localhost:{DASH_PORT}'),\n",
    "        html.P('x-axis:'),\n",
    "        dcc.RadioItems(\n",
    "            id='x-axis',\n",
    "            options=x_columns,\n",
    "            value=x_columns[0],\n",
    "            inline=True,\n",
    "        ),\n",
    "        html.P('y-axis:'),\n",
    "        dcc.RadioItems(\n",
    "            id='y-axis',\n",
    "            options=y_columns,\n",
    "            value=y_columns[0],\n",
    "            inline=True,\n",
    "        ),\n",
    "        dcc.Graph(id='graph')\n",
    "    ], style={'height': '1300px', 'overflowY': 'auto'},)\n",
    "\n",
    "    @app.callback(\n",
    "        Output('graph', 'figure'),\n",
    "        Input('x-axis', 'value'),\n",
    "        Input('y-axis', 'value')\n",
    "    )\n",
    "    def generate_chart(x_value: str, y_value: str) -> Figure:\n",
    "        x_type = get_feature_type(x_value)\n",
    "        y_type = get_feature_type(y_value)\n",
    "        if x_type == y_type == FeatureType.CATEGORICAL:\n",
    "            return px.histogram(vdf, x=x_value, color=y_value, height=FIGURE_HEIGHT, histnorm='probability density')\n",
    "        return display_types[x_type, y_type](vdf, x=x_value, y=y_value, height=FIGURE_HEIGHT)\n",
    "\n",
    "    return app\n",
    "\n",
    "\n",
    "app = make_interactive_plot(visualization_df.columns, visualization_df.columns, 'Title', vdf=visualization_df.sample(100))\n",
    "app.run_server(port=DASH_PORT, debug=True)"
   ]
  },
  {
   "cell_type": "code",
   "execution_count": null,
   "id": "20557462",
   "metadata": {},
   "outputs": [],
   "source": []
  }
 ],
 "metadata": {
  "kernelspec": {
   "display_name": "Python 3 (ipykernel)",
   "language": "python",
   "name": "python3"
  },
  "language_info": {
   "codemirror_mode": {
    "name": "ipython",
    "version": 3
   },
   "file_extension": ".py",
   "mimetype": "text/x-python",
   "name": "python",
   "nbconvert_exporter": "python",
   "pygments_lexer": "ipython3",
   "version": "3.11.7"
  }
 },
 "nbformat": 4,
 "nbformat_minor": 5
}
