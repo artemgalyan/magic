{
 "cells": [
  {
   "cell_type": "code",
   "execution_count": 5,
   "id": "eb704afc",
   "metadata": {},
   "outputs": [],
   "source": [
    "SAMPLE_SIZE = 100_000\n",
    "DTYPES = {\n",
    "    'date_time': 'string',\n",
    "    'site_name': 'uint8',\n",
    "    'posa_continent': 'uint8',\n",
    "    'user_location_country': 'uint8',\n",
    "    'user_location_region': 'uint16',\n",
    "    'user_location_city': 'uint16',\n",
    "    'orig_destination_distance': 'float32',\n",
    "    'user_id': 'uint32',\n",
    "    'is_mobile': 'bool',\n",
    "    'is_package': 'bool',\n",
    "    'channel': 'uint8',\n",
    "    'srch_ci': 'string',\n",
    "    'srch_co': 'string',\n",
    "    'srch_adults_cnt': 'uint8',\n",
    "    'srch_children_cnt': 'uint8',\n",
    "    'srch_rm_cnt': 'uint8',\n",
    "    'srch_destination_id': 'uint16',\n",
    "    'srch_destination_type_id': 'uint8',\n",
    "    'is_booking': 'bool',\n",
    "    'cnt': 'uint16',\n",
    "    'hotel_continent': 'uint8',\n",
    "    'hotel_country': 'uint8',\n",
    "    'hotel_market': 'uint16',\n",
    "    'hotel_cluster': 'uint8',\n",
    "}"
   ]
  },
  {
   "cell_type": "code",
   "execution_count": 30,
   "id": "95e442e5",
   "metadata": {},
   "outputs": [],
   "source": [
    "import numpy as np\n",
    "import polars as pl\n",
    "\n",
    "\n",
    "def map_to_polars(dtype: str):\n",
    "    conversion = {\n",
    "        'string': pl.String,\n",
    "        'uint8': pl.UInt8,\n",
    "        'uint16': pl.UInt16,\n",
    "        'uint32': pl.UInt32,\n",
    "        'float32': pl.Float32,\n",
    "        'bool': pl.UInt8\n",
    "    }\n",
    "    return conversion[dtype]\n",
    "\n",
    "dtypes = {k: map_to_polars(v) for k, v in DTYPES.items()}\n",
    "df = pl.read_csv('../../data/raw/train.csv', dtypes=dtypes)"
   ]
  },
  {
   "cell_type": "code",
   "execution_count": 2,
   "id": "e99c0c1e",
   "metadata": {},
   "outputs": [],
   "source": [
    "import pandas as pd\n",
    "\n",
    "df = pd.read_csv('../../data/raw/train.csv', dtype=DTYPES, low_memory=True)"
   ]
  },
  {
   "cell_type": "code",
   "execution_count": 31,
   "id": "ee353cbe",
   "metadata": {},
   "outputs": [
    {
     "data": {
      "text/html": [
       "<div><style>\n",
       ".dataframe > thead > tr,\n",
       ".dataframe > tbody > tr {\n",
       "  text-align: right;\n",
       "  white-space: pre-wrap;\n",
       "}\n",
       "</style>\n",
       "<small>shape: (10, 24)</small><table border=\"1\" class=\"dataframe\"><thead><tr><th>date_time</th><th>site_name</th><th>posa_continent</th><th>user_location_country</th><th>user_location_region</th><th>user_location_city</th><th>orig_destination_distance</th><th>user_id</th><th>is_mobile</th><th>is_package</th><th>channel</th><th>srch_ci</th><th>srch_co</th><th>srch_adults_cnt</th><th>srch_children_cnt</th><th>srch_rm_cnt</th><th>srch_destination_id</th><th>srch_destination_type_id</th><th>is_booking</th><th>cnt</th><th>hotel_continent</th><th>hotel_country</th><th>hotel_market</th><th>hotel_cluster</th></tr><tr><td>str</td><td>u8</td><td>u8</td><td>u8</td><td>u16</td><td>u16</td><td>f32</td><td>u32</td><td>u8</td><td>u8</td><td>u8</td><td>str</td><td>str</td><td>u8</td><td>u8</td><td>u8</td><td>u16</td><td>u8</td><td>u8</td><td>u16</td><td>u8</td><td>u8</td><td>u16</td><td>u8</td></tr></thead><tbody><tr><td>&quot;2014-08-11 07:…</td><td>2</td><td>3</td><td>66</td><td>348</td><td>48862</td><td>2234.26416</td><td>12</td><td>0</td><td>1</td><td>9</td><td>&quot;2014-08-27&quot;</td><td>&quot;2014-08-31&quot;</td><td>2</td><td>0</td><td>1</td><td>8250</td><td>1</td><td>0</td><td>3</td><td>2</td><td>50</td><td>628</td><td>1</td></tr><tr><td>&quot;2014-08-11 08:…</td><td>2</td><td>3</td><td>66</td><td>348</td><td>48862</td><td>2234.26416</td><td>12</td><td>0</td><td>1</td><td>9</td><td>&quot;2014-08-29&quot;</td><td>&quot;2014-09-02&quot;</td><td>2</td><td>0</td><td>1</td><td>8250</td><td>1</td><td>1</td><td>1</td><td>2</td><td>50</td><td>628</td><td>1</td></tr><tr><td>&quot;2014-08-11 08:…</td><td>2</td><td>3</td><td>66</td><td>348</td><td>48862</td><td>2234.26416</td><td>12</td><td>0</td><td>0</td><td>9</td><td>&quot;2014-08-29&quot;</td><td>&quot;2014-09-02&quot;</td><td>2</td><td>0</td><td>1</td><td>8250</td><td>1</td><td>0</td><td>1</td><td>2</td><td>50</td><td>628</td><td>1</td></tr><tr><td>&quot;2014-08-09 18:…</td><td>2</td><td>3</td><td>66</td><td>442</td><td>35390</td><td>913.193176</td><td>93</td><td>0</td><td>0</td><td>3</td><td>&quot;2014-11-23&quot;</td><td>&quot;2014-11-28&quot;</td><td>2</td><td>0</td><td>1</td><td>14984</td><td>1</td><td>0</td><td>1</td><td>2</td><td>50</td><td>1457</td><td>80</td></tr><tr><td>&quot;2014-08-09 18:…</td><td>2</td><td>3</td><td>66</td><td>442</td><td>35390</td><td>913.625916</td><td>93</td><td>0</td><td>0</td><td>3</td><td>&quot;2014-11-23&quot;</td><td>&quot;2014-11-28&quot;</td><td>2</td><td>0</td><td>1</td><td>14984</td><td>1</td><td>0</td><td>1</td><td>2</td><td>50</td><td>1457</td><td>21</td></tr><tr><td>&quot;2014-08-09 18:…</td><td>2</td><td>3</td><td>66</td><td>442</td><td>35390</td><td>911.514221</td><td>93</td><td>0</td><td>0</td><td>3</td><td>&quot;2014-11-23&quot;</td><td>&quot;2014-11-28&quot;</td><td>2</td><td>0</td><td>1</td><td>14984</td><td>1</td><td>0</td><td>1</td><td>2</td><td>50</td><td>1457</td><td>92</td></tr><tr><td>&quot;2014-07-16 09:…</td><td>2</td><td>3</td><td>66</td><td>189</td><td>10067</td><td>null</td><td>501</td><td>0</td><td>0</td><td>2</td><td>&quot;2014-08-01&quot;</td><td>&quot;2014-08-02&quot;</td><td>2</td><td>0</td><td>1</td><td>8267</td><td>1</td><td>0</td><td>2</td><td>2</td><td>50</td><td>675</td><td>41</td></tr><tr><td>&quot;2014-07-16 09:…</td><td>2</td><td>3</td><td>66</td><td>189</td><td>10067</td><td>null</td><td>501</td><td>0</td><td>1</td><td>2</td><td>&quot;2014-08-01&quot;</td><td>&quot;2014-08-02&quot;</td><td>2</td><td>0</td><td>1</td><td>8267</td><td>1</td><td>0</td><td>1</td><td>2</td><td>50</td><td>675</td><td>41</td></tr><tr><td>&quot;2014-07-16 09:…</td><td>2</td><td>3</td><td>66</td><td>189</td><td>10067</td><td>null</td><td>501</td><td>0</td><td>0</td><td>2</td><td>&quot;2014-08-01&quot;</td><td>&quot;2014-08-02&quot;</td><td>2</td><td>0</td><td>1</td><td>8267</td><td>1</td><td>0</td><td>1</td><td>2</td><td>50</td><td>675</td><td>69</td></tr><tr><td>&quot;2014-07-16 09:…</td><td>2</td><td>3</td><td>66</td><td>189</td><td>10067</td><td>null</td><td>501</td><td>0</td><td>0</td><td>2</td><td>&quot;2014-08-01&quot;</td><td>&quot;2014-08-02&quot;</td><td>2</td><td>0</td><td>1</td><td>8267</td><td>1</td><td>0</td><td>1</td><td>2</td><td>50</td><td>675</td><td>70</td></tr></tbody></table></div>"
      ],
      "text/plain": [
       "shape: (10, 24)\n",
       "┌───────────┬───────────┬───────────┬───────────┬───┬───────────┬───────────┬───────────┬──────────┐\n",
       "│ date_time ┆ site_name ┆ posa_cont ┆ user_loca ┆ … ┆ hotel_con ┆ hotel_cou ┆ hotel_mar ┆ hotel_cl │\n",
       "│ ---       ┆ ---       ┆ inent     ┆ tion_coun ┆   ┆ tinent    ┆ ntry      ┆ ket       ┆ uster    │\n",
       "│ str       ┆ u8        ┆ ---       ┆ try       ┆   ┆ ---       ┆ ---       ┆ ---       ┆ ---      │\n",
       "│           ┆           ┆ u8        ┆ ---       ┆   ┆ u8        ┆ u8        ┆ u16       ┆ u8       │\n",
       "│           ┆           ┆           ┆ u8        ┆   ┆           ┆           ┆           ┆          │\n",
       "╞═══════════╪═══════════╪═══════════╪═══════════╪═══╪═══════════╪═══════════╪═══════════╪══════════╡\n",
       "│ 2014-08-1 ┆ 2         ┆ 3         ┆ 66        ┆ … ┆ 2         ┆ 50        ┆ 628       ┆ 1        │\n",
       "│ 1         ┆           ┆           ┆           ┆   ┆           ┆           ┆           ┆          │\n",
       "│ 07:46:59  ┆           ┆           ┆           ┆   ┆           ┆           ┆           ┆          │\n",
       "│ 2014-08-1 ┆ 2         ┆ 3         ┆ 66        ┆ … ┆ 2         ┆ 50        ┆ 628       ┆ 1        │\n",
       "│ 1         ┆           ┆           ┆           ┆   ┆           ┆           ┆           ┆          │\n",
       "│ 08:22:12  ┆           ┆           ┆           ┆   ┆           ┆           ┆           ┆          │\n",
       "│ 2014-08-1 ┆ 2         ┆ 3         ┆ 66        ┆ … ┆ 2         ┆ 50        ┆ 628       ┆ 1        │\n",
       "│ 1         ┆           ┆           ┆           ┆   ┆           ┆           ┆           ┆          │\n",
       "│ 08:24:33  ┆           ┆           ┆           ┆   ┆           ┆           ┆           ┆          │\n",
       "│ 2014-08-0 ┆ 2         ┆ 3         ┆ 66        ┆ … ┆ 2         ┆ 50        ┆ 1457      ┆ 80       │\n",
       "│ 9         ┆           ┆           ┆           ┆   ┆           ┆           ┆           ┆          │\n",
       "│ 18:05:16  ┆           ┆           ┆           ┆   ┆           ┆           ┆           ┆          │\n",
       "│ 2014-08-0 ┆ 2         ┆ 3         ┆ 66        ┆ … ┆ 2         ┆ 50        ┆ 1457      ┆ 21       │\n",
       "│ 9         ┆           ┆           ┆           ┆   ┆           ┆           ┆           ┆          │\n",
       "│ 18:08:18  ┆           ┆           ┆           ┆   ┆           ┆           ┆           ┆          │\n",
       "│ 2014-08-0 ┆ 2         ┆ 3         ┆ 66        ┆ … ┆ 2         ┆ 50        ┆ 1457      ┆ 92       │\n",
       "│ 9         ┆           ┆           ┆           ┆   ┆           ┆           ┆           ┆          │\n",
       "│ 18:13:12  ┆           ┆           ┆           ┆   ┆           ┆           ┆           ┆          │\n",
       "│ 2014-07-1 ┆ 2         ┆ 3         ┆ 66        ┆ … ┆ 2         ┆ 50        ┆ 675       ┆ 41       │\n",
       "│ 6         ┆           ┆           ┆           ┆   ┆           ┆           ┆           ┆          │\n",
       "│ 09:42:23  ┆           ┆           ┆           ┆   ┆           ┆           ┆           ┆          │\n",
       "│ 2014-07-1 ┆ 2         ┆ 3         ┆ 66        ┆ … ┆ 2         ┆ 50        ┆ 675       ┆ 41       │\n",
       "│ 6         ┆           ┆           ┆           ┆   ┆           ┆           ┆           ┆          │\n",
       "│ 09:45:48  ┆           ┆           ┆           ┆   ┆           ┆           ┆           ┆          │\n",
       "│ 2014-07-1 ┆ 2         ┆ 3         ┆ 66        ┆ … ┆ 2         ┆ 50        ┆ 675       ┆ 69       │\n",
       "│ 6         ┆           ┆           ┆           ┆   ┆           ┆           ┆           ┆          │\n",
       "│ 09:52:11  ┆           ┆           ┆           ┆   ┆           ┆           ┆           ┆          │\n",
       "│ 2014-07-1 ┆ 2         ┆ 3         ┆ 66        ┆ … ┆ 2         ┆ 50        ┆ 675       ┆ 70       │\n",
       "│ 6         ┆           ┆           ┆           ┆   ┆           ┆           ┆           ┆          │\n",
       "│ 09:55:24  ┆           ┆           ┆           ┆   ┆           ┆           ┆           ┆          │\n",
       "└───────────┴───────────┴───────────┴───────────┴───┴───────────┴───────────┴───────────┴──────────┘"
      ]
     },
     "execution_count": 31,
     "metadata": {},
     "output_type": "execute_result"
    }
   ],
   "source": [
    "df.head(10)"
   ]
  },
  {
   "cell_type": "code",
   "execution_count": 38,
   "id": "561f670a",
   "metadata": {},
   "outputs": [],
   "source": [
    "from ydata_profiling import ProfileReport\n",
    "\n",
    "profile_report = ProfileReport(df, title='Data profile report')"
   ]
  },
  {
   "cell_type": "code",
   "execution_count": null,
   "id": "3d36ddad",
   "metadata": {},
   "outputs": [],
   "source": [
    "profile_report.to_file('report.html')"
   ]
  },
  {
   "cell_type": "code",
   "execution_count": 13,
   "id": "b4103e6f",
   "metadata": {},
   "outputs": [
    {
     "data": {
      "application/vnd.plotly.v1+json": {
       "config": {
        "plotlyServerURL": "https://plot.ly"
       },
       "data": [
        {
         "alignmentgroup": "True",
         "hovertemplate": "variable=0<br>value=%{x}<br>index=%{y}<extra></extra>",
         "legendgroup": "0",
         "marker": {
          "color": "#636efa",
          "pattern": {
           "shape": ""
          }
         },
         "name": "0",
         "offsetgroup": "0",
         "orientation": "h",
         "showlegend": true,
         "textposition": "auto",
         "type": "bar",
         "x": [
          35.903625703150226,
          0.12498973660757032,
          0.12498708199588467,
          0,
          0,
          0,
          0,
          0,
          0,
          0,
          0,
          0,
          0,
          0,
          0,
          0,
          0,
          0,
          0,
          0,
          0,
          0,
          0,
          0
         ],
         "xaxis": "x",
         "y": [
          "orig_destination_distance",
          "srch_co",
          "srch_ci",
          "srch_adults_cnt",
          "hotel_market",
          "hotel_country",
          "hotel_continent",
          "cnt",
          "is_booking",
          "srch_destination_type_id",
          "srch_destination_id",
          "srch_rm_cnt",
          "srch_children_cnt",
          "date_time",
          "site_name",
          "channel",
          "is_package",
          "is_mobile",
          "user_id",
          "user_location_city",
          "user_location_region",
          "user_location_country",
          "posa_continent",
          "hotel_cluster"
         ],
         "yaxis": "y"
        }
       ],
       "layout": {
        "barmode": "relative",
        "legend": {
         "title": {
          "text": "variable"
         },
         "tracegroupgap": 0
        },
        "template": {
         "data": {
          "bar": [
           {
            "error_x": {
             "color": "#2a3f5f"
            },
            "error_y": {
             "color": "#2a3f5f"
            },
            "marker": {
             "line": {
              "color": "#E5ECF6",
              "width": 0.5
             },
             "pattern": {
              "fillmode": "overlay",
              "size": 10,
              "solidity": 0.2
             }
            },
            "type": "bar"
           }
          ],
          "barpolar": [
           {
            "marker": {
             "line": {
              "color": "#E5ECF6",
              "width": 0.5
             },
             "pattern": {
              "fillmode": "overlay",
              "size": 10,
              "solidity": 0.2
             }
            },
            "type": "barpolar"
           }
          ],
          "carpet": [
           {
            "aaxis": {
             "endlinecolor": "#2a3f5f",
             "gridcolor": "white",
             "linecolor": "white",
             "minorgridcolor": "white",
             "startlinecolor": "#2a3f5f"
            },
            "baxis": {
             "endlinecolor": "#2a3f5f",
             "gridcolor": "white",
             "linecolor": "white",
             "minorgridcolor": "white",
             "startlinecolor": "#2a3f5f"
            },
            "type": "carpet"
           }
          ],
          "choropleth": [
           {
            "colorbar": {
             "outlinewidth": 0,
             "ticks": ""
            },
            "type": "choropleth"
           }
          ],
          "contour": [
           {
            "colorbar": {
             "outlinewidth": 0,
             "ticks": ""
            },
            "colorscale": [
             [
              0,
              "#0d0887"
             ],
             [
              0.1111111111111111,
              "#46039f"
             ],
             [
              0.2222222222222222,
              "#7201a8"
             ],
             [
              0.3333333333333333,
              "#9c179e"
             ],
             [
              0.4444444444444444,
              "#bd3786"
             ],
             [
              0.5555555555555556,
              "#d8576b"
             ],
             [
              0.6666666666666666,
              "#ed7953"
             ],
             [
              0.7777777777777778,
              "#fb9f3a"
             ],
             [
              0.8888888888888888,
              "#fdca26"
             ],
             [
              1,
              "#f0f921"
             ]
            ],
            "type": "contour"
           }
          ],
          "contourcarpet": [
           {
            "colorbar": {
             "outlinewidth": 0,
             "ticks": ""
            },
            "type": "contourcarpet"
           }
          ],
          "heatmap": [
           {
            "colorbar": {
             "outlinewidth": 0,
             "ticks": ""
            },
            "colorscale": [
             [
              0,
              "#0d0887"
             ],
             [
              0.1111111111111111,
              "#46039f"
             ],
             [
              0.2222222222222222,
              "#7201a8"
             ],
             [
              0.3333333333333333,
              "#9c179e"
             ],
             [
              0.4444444444444444,
              "#bd3786"
             ],
             [
              0.5555555555555556,
              "#d8576b"
             ],
             [
              0.6666666666666666,
              "#ed7953"
             ],
             [
              0.7777777777777778,
              "#fb9f3a"
             ],
             [
              0.8888888888888888,
              "#fdca26"
             ],
             [
              1,
              "#f0f921"
             ]
            ],
            "type": "heatmap"
           }
          ],
          "heatmapgl": [
           {
            "colorbar": {
             "outlinewidth": 0,
             "ticks": ""
            },
            "colorscale": [
             [
              0,
              "#0d0887"
             ],
             [
              0.1111111111111111,
              "#46039f"
             ],
             [
              0.2222222222222222,
              "#7201a8"
             ],
             [
              0.3333333333333333,
              "#9c179e"
             ],
             [
              0.4444444444444444,
              "#bd3786"
             ],
             [
              0.5555555555555556,
              "#d8576b"
             ],
             [
              0.6666666666666666,
              "#ed7953"
             ],
             [
              0.7777777777777778,
              "#fb9f3a"
             ],
             [
              0.8888888888888888,
              "#fdca26"
             ],
             [
              1,
              "#f0f921"
             ]
            ],
            "type": "heatmapgl"
           }
          ],
          "histogram": [
           {
            "marker": {
             "pattern": {
              "fillmode": "overlay",
              "size": 10,
              "solidity": 0.2
             }
            },
            "type": "histogram"
           }
          ],
          "histogram2d": [
           {
            "colorbar": {
             "outlinewidth": 0,
             "ticks": ""
            },
            "colorscale": [
             [
              0,
              "#0d0887"
             ],
             [
              0.1111111111111111,
              "#46039f"
             ],
             [
              0.2222222222222222,
              "#7201a8"
             ],
             [
              0.3333333333333333,
              "#9c179e"
             ],
             [
              0.4444444444444444,
              "#bd3786"
             ],
             [
              0.5555555555555556,
              "#d8576b"
             ],
             [
              0.6666666666666666,
              "#ed7953"
             ],
             [
              0.7777777777777778,
              "#fb9f3a"
             ],
             [
              0.8888888888888888,
              "#fdca26"
             ],
             [
              1,
              "#f0f921"
             ]
            ],
            "type": "histogram2d"
           }
          ],
          "histogram2dcontour": [
           {
            "colorbar": {
             "outlinewidth": 0,
             "ticks": ""
            },
            "colorscale": [
             [
              0,
              "#0d0887"
             ],
             [
              0.1111111111111111,
              "#46039f"
             ],
             [
              0.2222222222222222,
              "#7201a8"
             ],
             [
              0.3333333333333333,
              "#9c179e"
             ],
             [
              0.4444444444444444,
              "#bd3786"
             ],
             [
              0.5555555555555556,
              "#d8576b"
             ],
             [
              0.6666666666666666,
              "#ed7953"
             ],
             [
              0.7777777777777778,
              "#fb9f3a"
             ],
             [
              0.8888888888888888,
              "#fdca26"
             ],
             [
              1,
              "#f0f921"
             ]
            ],
            "type": "histogram2dcontour"
           }
          ],
          "mesh3d": [
           {
            "colorbar": {
             "outlinewidth": 0,
             "ticks": ""
            },
            "type": "mesh3d"
           }
          ],
          "parcoords": [
           {
            "line": {
             "colorbar": {
              "outlinewidth": 0,
              "ticks": ""
             }
            },
            "type": "parcoords"
           }
          ],
          "pie": [
           {
            "automargin": true,
            "type": "pie"
           }
          ],
          "scatter": [
           {
            "fillpattern": {
             "fillmode": "overlay",
             "size": 10,
             "solidity": 0.2
            },
            "type": "scatter"
           }
          ],
          "scatter3d": [
           {
            "line": {
             "colorbar": {
              "outlinewidth": 0,
              "ticks": ""
             }
            },
            "marker": {
             "colorbar": {
              "outlinewidth": 0,
              "ticks": ""
             }
            },
            "type": "scatter3d"
           }
          ],
          "scattercarpet": [
           {
            "marker": {
             "colorbar": {
              "outlinewidth": 0,
              "ticks": ""
             }
            },
            "type": "scattercarpet"
           }
          ],
          "scattergeo": [
           {
            "marker": {
             "colorbar": {
              "outlinewidth": 0,
              "ticks": ""
             }
            },
            "type": "scattergeo"
           }
          ],
          "scattergl": [
           {
            "marker": {
             "colorbar": {
              "outlinewidth": 0,
              "ticks": ""
             }
            },
            "type": "scattergl"
           }
          ],
          "scattermapbox": [
           {
            "marker": {
             "colorbar": {
              "outlinewidth": 0,
              "ticks": ""
             }
            },
            "type": "scattermapbox"
           }
          ],
          "scatterpolar": [
           {
            "marker": {
             "colorbar": {
              "outlinewidth": 0,
              "ticks": ""
             }
            },
            "type": "scatterpolar"
           }
          ],
          "scatterpolargl": [
           {
            "marker": {
             "colorbar": {
              "outlinewidth": 0,
              "ticks": ""
             }
            },
            "type": "scatterpolargl"
           }
          ],
          "scatterternary": [
           {
            "marker": {
             "colorbar": {
              "outlinewidth": 0,
              "ticks": ""
             }
            },
            "type": "scatterternary"
           }
          ],
          "surface": [
           {
            "colorbar": {
             "outlinewidth": 0,
             "ticks": ""
            },
            "colorscale": [
             [
              0,
              "#0d0887"
             ],
             [
              0.1111111111111111,
              "#46039f"
             ],
             [
              0.2222222222222222,
              "#7201a8"
             ],
             [
              0.3333333333333333,
              "#9c179e"
             ],
             [
              0.4444444444444444,
              "#bd3786"
             ],
             [
              0.5555555555555556,
              "#d8576b"
             ],
             [
              0.6666666666666666,
              "#ed7953"
             ],
             [
              0.7777777777777778,
              "#fb9f3a"
             ],
             [
              0.8888888888888888,
              "#fdca26"
             ],
             [
              1,
              "#f0f921"
             ]
            ],
            "type": "surface"
           }
          ],
          "table": [
           {
            "cells": {
             "fill": {
              "color": "#EBF0F8"
             },
             "line": {
              "color": "white"
             }
            },
            "header": {
             "fill": {
              "color": "#C8D4E3"
             },
             "line": {
              "color": "white"
             }
            },
            "type": "table"
           }
          ]
         },
         "layout": {
          "annotationdefaults": {
           "arrowcolor": "#2a3f5f",
           "arrowhead": 0,
           "arrowwidth": 1
          },
          "autotypenumbers": "strict",
          "coloraxis": {
           "colorbar": {
            "outlinewidth": 0,
            "ticks": ""
           }
          },
          "colorscale": {
           "diverging": [
            [
             0,
             "#8e0152"
            ],
            [
             0.1,
             "#c51b7d"
            ],
            [
             0.2,
             "#de77ae"
            ],
            [
             0.3,
             "#f1b6da"
            ],
            [
             0.4,
             "#fde0ef"
            ],
            [
             0.5,
             "#f7f7f7"
            ],
            [
             0.6,
             "#e6f5d0"
            ],
            [
             0.7,
             "#b8e186"
            ],
            [
             0.8,
             "#7fbc41"
            ],
            [
             0.9,
             "#4d9221"
            ],
            [
             1,
             "#276419"
            ]
           ],
           "sequential": [
            [
             0,
             "#0d0887"
            ],
            [
             0.1111111111111111,
             "#46039f"
            ],
            [
             0.2222222222222222,
             "#7201a8"
            ],
            [
             0.3333333333333333,
             "#9c179e"
            ],
            [
             0.4444444444444444,
             "#bd3786"
            ],
            [
             0.5555555555555556,
             "#d8576b"
            ],
            [
             0.6666666666666666,
             "#ed7953"
            ],
            [
             0.7777777777777778,
             "#fb9f3a"
            ],
            [
             0.8888888888888888,
             "#fdca26"
            ],
            [
             1,
             "#f0f921"
            ]
           ],
           "sequentialminus": [
            [
             0,
             "#0d0887"
            ],
            [
             0.1111111111111111,
             "#46039f"
            ],
            [
             0.2222222222222222,
             "#7201a8"
            ],
            [
             0.3333333333333333,
             "#9c179e"
            ],
            [
             0.4444444444444444,
             "#bd3786"
            ],
            [
             0.5555555555555556,
             "#d8576b"
            ],
            [
             0.6666666666666666,
             "#ed7953"
            ],
            [
             0.7777777777777778,
             "#fb9f3a"
            ],
            [
             0.8888888888888888,
             "#fdca26"
            ],
            [
             1,
             "#f0f921"
            ]
           ]
          },
          "colorway": [
           "#636efa",
           "#EF553B",
           "#00cc96",
           "#ab63fa",
           "#FFA15A",
           "#19d3f3",
           "#FF6692",
           "#B6E880",
           "#FF97FF",
           "#FECB52"
          ],
          "font": {
           "color": "#2a3f5f"
          },
          "geo": {
           "bgcolor": "white",
           "lakecolor": "white",
           "landcolor": "#E5ECF6",
           "showlakes": true,
           "showland": true,
           "subunitcolor": "white"
          },
          "hoverlabel": {
           "align": "left"
          },
          "hovermode": "closest",
          "mapbox": {
           "style": "light"
          },
          "paper_bgcolor": "white",
          "plot_bgcolor": "#E5ECF6",
          "polar": {
           "angularaxis": {
            "gridcolor": "white",
            "linecolor": "white",
            "ticks": ""
           },
           "bgcolor": "#E5ECF6",
           "radialaxis": {
            "gridcolor": "white",
            "linecolor": "white",
            "ticks": ""
           }
          },
          "scene": {
           "xaxis": {
            "backgroundcolor": "#E5ECF6",
            "gridcolor": "white",
            "gridwidth": 2,
            "linecolor": "white",
            "showbackground": true,
            "ticks": "",
            "zerolinecolor": "white"
           },
           "yaxis": {
            "backgroundcolor": "#E5ECF6",
            "gridcolor": "white",
            "gridwidth": 2,
            "linecolor": "white",
            "showbackground": true,
            "ticks": "",
            "zerolinecolor": "white"
           },
           "zaxis": {
            "backgroundcolor": "#E5ECF6",
            "gridcolor": "white",
            "gridwidth": 2,
            "linecolor": "white",
            "showbackground": true,
            "ticks": "",
            "zerolinecolor": "white"
           }
          },
          "shapedefaults": {
           "line": {
            "color": "#2a3f5f"
           }
          },
          "ternary": {
           "aaxis": {
            "gridcolor": "white",
            "linecolor": "white",
            "ticks": ""
           },
           "baxis": {
            "gridcolor": "white",
            "linecolor": "white",
            "ticks": ""
           },
           "bgcolor": "#E5ECF6",
           "caxis": {
            "gridcolor": "white",
            "linecolor": "white",
            "ticks": ""
           }
          },
          "title": {
           "x": 0.05
          },
          "xaxis": {
           "automargin": true,
           "gridcolor": "white",
           "linecolor": "white",
           "ticks": "",
           "title": {
            "standoff": 15
           },
           "zerolinecolor": "white",
           "zerolinewidth": 2
          },
          "yaxis": {
           "automargin": true,
           "gridcolor": "white",
           "linecolor": "white",
           "ticks": "",
           "title": {
            "standoff": 15
           },
           "zerolinecolor": "white",
           "zerolinewidth": 2
          }
         }
        },
        "title": {
         "text": "Missing values (in %, to 100)"
        },
        "xaxis": {
         "anchor": "y",
         "domain": [
          0,
          1
         ],
         "title": {
          "text": "value"
         }
        },
        "yaxis": {
         "anchor": "x",
         "domain": [
          0,
          1
         ],
         "title": {
          "text": "index"
         }
        }
       }
      }
     },
     "metadata": {},
     "output_type": "display_data"
    }
   ],
   "source": [
    "from plotly.express import bar\n",
    "\n",
    "bar((df.isnull().sum().sort_values(ascending=False) * 100) / len(df), title='Missing values (in %, to 100)', orientation='h', labels={\n",
    "    'x': 'Missing values (to 100%)',\n",
    "    'y': 'Column'\n",
    "})"
   ]
  },
  {
   "cell_type": "code",
   "execution_count": 32,
   "id": "993c77a6af58db4",
   "metadata": {
    "ExecuteTime": {
     "end_time": "2024-02-05T08:52:03.524825100Z",
     "start_time": "2024-02-05T08:52:03.491492500Z"
    },
    "collapsed": false
   },
   "outputs": [],
   "source": [
    "numerical_columns = [column for column in df.columns if str(df[column].dtype) not in ['bool', 'string']]\n",
    "categorical_columns = [column for column in df.columns if str(df[column].dtype) in ['bool', 'string']]"
   ]
  },
  {
   "cell_type": "code",
   "execution_count": 34,
   "id": "6ed683818b863615",
   "metadata": {
    "ExecuteTime": {
     "end_time": "2024-02-05T08:52:03.959871500Z",
     "start_time": "2024-02-05T08:52:03.501812900Z"
    }
   },
   "outputs": [
    {
     "data": {
      "text/html": [
       "\n",
       "        <iframe\n",
       "            width=\"100%\"\n",
       "            height=\"650\"\n",
       "            src=\"http://127.0.0.1:8050/\"\n",
       "            frameborder=\"0\"\n",
       "            allowfullscreen\n",
       "            \n",
       "        ></iframe>\n",
       "        "
      ],
      "text/plain": [
       "<IPython.lib.display.IFrame at 0x21e8314c450>"
      ]
     },
     "metadata": {},
     "output_type": "display_data"
    },
    {
     "name": "stdout",
     "output_type": "stream",
     "text": [
      "\u001b[1;31m---------------------------------------------------------------------------\u001b[0m\n",
      "\u001b[1;31mAttributeError\u001b[0m                            Traceback (most recent call last)\n",
      "File \u001b[1;32mc:\\Users\\tyoma\\miniforge-pypy3\\envs\\magic-env\\Lib\\site-packages\\plotly\\express\\_chart_types.py:66\u001b[0m, in \u001b[0;36mscatter\u001b[1;34m(\n",
      "    data_frame=shape: (37_670_293, 24)\n",
      "┌───────────┬───────────...─┴───────────┴───────────┴───────────┴──────────┘,\n",
      "    x=shape: (37_670_293,)\n",
      "Series: 'date_time' [str]\n",
      "[...-09-15 06:…\n",
      "\t\"2014-09-18 08:…\n",
      "\t\"2014-09-18 08:…\n",
      "],\n",
      "    y=shape: (37_670_293,)\n",
      "Series: 'date_time' [str]\n",
      "[...-09-15 06:…\n",
      "\t\"2014-09-18 08:…\n",
      "\t\"2014-09-18 08:…\n",
      "],\n",
      "    color=None,\n",
      "    symbol=None,\n",
      "    size=None,\n",
      "    hover_name=None,\n",
      "    hover_data=None,\n",
      "    custom_data=None,\n",
      "    text=None,\n",
      "    facet_row=None,\n",
      "    facet_col=None,\n",
      "    facet_col_wrap=0,\n",
      "    facet_row_spacing=None,\n",
      "    facet_col_spacing=None,\n",
      "    error_x=None,\n",
      "    error_x_minus=None,\n",
      "    error_y=None,\n",
      "    error_y_minus=None,\n",
      "    animation_frame=None,\n",
      "    animation_group=None,\n",
      "    category_orders=None,\n",
      "    labels=None,\n",
      "    orientation=None,\n",
      "    color_discrete_sequence=None,\n",
      "    color_discrete_map=None,\n",
      "    color_continuous_scale=None,\n",
      "    range_color=None,\n",
      "    color_continuous_midpoint=None,\n",
      "    symbol_sequence=None,\n",
      "    symbol_map=None,\n",
      "    opacity=None,\n",
      "    size_max=None,\n",
      "    marginal_x=None,\n",
      "    marginal_y=None,\n",
      "    trendline=None,\n",
      "    trendline_options=None,\n",
      "    trendline_color_override=None,\n",
      "    trendline_scope='trace',\n",
      "    log_x=False,\n",
      "    log_y=False,\n",
      "    range_x=None,\n",
      "    range_y=None,\n",
      "    render_mode='webgl',\n",
      "    title=None,\n",
      "    template=None,\n",
      "    width=None,\n",
      "    height=800\n",
      ")\u001b[0m\n",
      "\u001b[0;32m     12\u001b[0m \u001b[38;5;28;01mdef\u001b[39;00m \u001b[38;5;21mscatter\u001b[39m(\n",
      "\u001b[0;32m     13\u001b[0m     data_frame\u001b[38;5;241m=\u001b[39m\u001b[38;5;28;01mNone\u001b[39;00m,\n",
      "\u001b[0;32m     14\u001b[0m     x\u001b[38;5;241m=\u001b[39m\u001b[38;5;28;01mNone\u001b[39;00m,\n",
      "\u001b[1;32m   (...)\u001b[0m\n",
      "\u001b[0;32m     60\u001b[0m     height\u001b[38;5;241m=\u001b[39m\u001b[38;5;28;01mNone\u001b[39;00m,\n",
      "\u001b[0;32m     61\u001b[0m ) \u001b[38;5;241m-\u001b[39m\u001b[38;5;241m>\u001b[39m go\u001b[38;5;241m.\u001b[39mFigure:\n",
      "\u001b[0;32m     62\u001b[0m \u001b[38;5;250m    \u001b[39m\u001b[38;5;124;03m\"\"\"\u001b[39;00m\n",
      "\u001b[0;32m     63\u001b[0m \u001b[38;5;124;03m    In a scatter plot, each row of `data_frame` is represented by a symbol\u001b[39;00m\n",
      "\u001b[0;32m     64\u001b[0m \u001b[38;5;124;03m    mark in 2D space.\u001b[39;00m\n",
      "\u001b[0;32m     65\u001b[0m \u001b[38;5;124;03m    \"\"\"\u001b[39;00m\n",
      "\u001b[1;32m---> 66\u001b[0m     \u001b[38;5;28;01mreturn\u001b[39;00m \u001b[43mmake_figure\u001b[49m\u001b[43m(\u001b[49m\u001b[43margs\u001b[49m\u001b[38;5;241;43m=\u001b[39;49m\u001b[38;5;28;43mlocals\u001b[39;49m\u001b[43m(\u001b[49m\u001b[43m)\u001b[49m\u001b[43m,\u001b[49m\u001b[43m \u001b[49m\u001b[43mconstructor\u001b[49m\u001b[38;5;241;43m=\u001b[39;49m\u001b[43mgo\u001b[49m\u001b[38;5;241;43m.\u001b[39;49m\u001b[43mScatter\u001b[49m\u001b[43m)\u001b[49m\n",
      "        go \u001b[1;34m= <module 'plotly.graph_objs' from 'c:\\\\Users\\\\tyoma\\\\miniforge-pypy3\\\\envs\\\\magic-env\\\\Lib\\\\site-packages\\\\plotly\\\\graph_objs\\\\__init__.py'>\u001b[0m\n",
      "\n",
      "File \u001b[1;32mc:\\Users\\tyoma\\miniforge-pypy3\\envs\\magic-env\\Lib\\site-packages\\plotly\\express\\_core.py:2076\u001b[0m, in \u001b[0;36mmake_figure\u001b[1;34m(\n",
      "    args={'animation_frame': None, 'animation_group': None, 'category_orders': None, 'color': None, 'color_continuous_midpoint': None, 'color_continuous_scale': None, 'color_discrete_map': None, 'color_discrete_sequence': None, 'custom_data': None, 'data_frame': shape: (37_670_293, 24)\n",
      "┌───────────┬───────────...─┴───────────┴───────────┴───────────┴──────────┘, ...},\n",
      "    constructor=<class 'plotly.graph_objs._scatter.Scatter'>,\n",
      "    trace_patch={},\n",
      "    layout_patch={}\n",
      ")\u001b[0m\n",
      "\u001b[0;32m   2073\u001b[0m layout_patch \u001b[38;5;241m=\u001b[39m layout_patch \u001b[38;5;129;01mor\u001b[39;00m {}\n",
      "\u001b[0;32m   2074\u001b[0m apply_default_cascade(args)\n",
      "\u001b[1;32m-> 2076\u001b[0m args \u001b[38;5;241m=\u001b[39m \u001b[43mbuild_dataframe\u001b[49m\u001b[43m(\u001b[49m\u001b[43margs\u001b[49m\u001b[43m,\u001b[49m\u001b[43m \u001b[49m\u001b[43mconstructor\u001b[49m\u001b[43m)\u001b[49m\n",
      "        args \u001b[1;34m= {'data_frame': shape: (37_670_293, 24)\n",
      "┌───────────┬───────────┬───────────┬───────────┬───┬───────────┬───────────┬───────────┬──────────┐\n",
      "│ date_time ┆ site_name ┆ posa_cont ┆ user_loca ┆ … ┆ hotel_con ┆ hotel_cou ┆ hotel_mar ┆ hotel_cl │\n",
      "│ ---       ┆ ---       ┆ inent     ┆ tion_coun ┆   ┆ tinent    ┆ ntry      ┆ ket       ┆ uster    │\n",
      "│ str       ┆ u8        ┆ ---       ┆ try       ┆   ┆ ---       ┆ ---       ┆ ---       ┆ ---      │\n",
      "│           ┆           ┆ u8        ┆ ---       ┆   ┆ u8        ┆ u8        ┆ u16       ┆ u8       │\n",
      "│           ┆           ┆           ┆ u8        ┆   ┆           ┆           ┆           ┆          │\n",
      "╞═══════════╪═══════════╪═══════════╪═══════════╪═══╪═══════════╪═══════════╪═══════════╪══════════╡\n",
      "│ 2014-08-1 ┆ 2         ┆ 3         ┆ 66        ┆ … ┆ 2         ┆ 50        ┆ 628       ┆ 1        │\n",
      "│ 1         ┆           ┆           ┆           ┆   ┆           ┆           ┆           ┆          │\n",
      "│ 07:46:59  ┆           ┆           ┆           ┆   ┆           ┆           ┆           ┆          │\n",
      "│ 2014-08-1 ┆ 2         ┆ 3         ┆ 66        ┆ … ┆ 2         ┆ 50        ┆ 628       ┆ 1        │\n",
      "│ 1         ┆           ┆           ┆           ┆   ┆           ┆           ┆           ┆          │\n",
      "│ 08:22:12  ┆           ┆           ┆           ┆   ┆           ┆           ┆           ┆          │\n",
      "│ 2014-08-1 ┆ 2         ┆ 3         ┆ 66        ┆ … ┆ 2         ┆ 50        ┆ 628       ┆ 1        │\n",
      "│ 1         ┆           ┆           ┆           ┆   ┆           ┆           ┆           ┆          │\n",
      "│ 08:24:33  ┆           ┆           ┆           ┆   ┆           ┆           ┆           ┆          │\n",
      "│ 2014-08-0 ┆ 2         ┆ 3         ┆ 66        ┆ … ┆ 2         ┆ 50        ┆ 1457      ┆ 80       │\n",
      "│ 9         ┆           ┆           ┆           ┆   ┆           ┆           ┆           ┆          │\n",
      "│ 18:05:16  ┆           ┆           ┆           ┆   ┆           ┆           ┆           ┆          │\n",
      "│ 2014-08-0 ┆ 2         ┆ 3         ┆ 66        ┆ … ┆ 2         ┆ 50        ┆ 1457      ┆ 21       │\n",
      "│ 9         ┆           ┆           ┆           ┆   ┆           ┆           ┆           ┆          │\n",
      "│ 18:08:18  ┆           ┆           ┆           ┆   ┆           ┆           ┆           ┆          │\n",
      "│ …         ┆ …         ┆ …         ┆ …         ┆ … ┆ …         ┆ …         ┆ …         ┆ …        │\n",
      "│ 2014-09-0 ┆ 2         ┆ 3         ┆ 66        ┆ … ┆ 2         ┆ 50        ┆ 213       ┆ 26       │\n",
      "│ 2         ┆           ┆           ┆           ┆   ┆           ┆           ┆           ┆          │\n",
      "│ 08:08:28  ┆           ┆           ┆           ┆   ┆           ┆           ┆           ┆          │\n",
      "│ 2014-09-0 ┆ 2         ┆ 3         ┆ 66        ┆ … ┆ 2         ┆ 50        ┆ 663       ┆ 9        │\n",
      "│ 8         ┆           ┆           ┆           ┆   ┆           ┆           ┆           ┆          │\n",
      "│ 14:52:52  ┆           ┆           ┆           ┆   ┆           ┆           ┆           ┆          │\n",
      "│ 2014-09-1 ┆ 2         ┆ 3         ┆ 66        ┆ … ┆ 2         ┆ 50        ┆ 663       ┆ 94       │\n",
      "│ 5         ┆           ┆           ┆           ┆   ┆           ┆           ┆           ┆          │\n",
      "│ 06:56:51  ┆           ┆           ┆           ┆   ┆           ┆           ┆           ┆          │\n",
      "│ 2014-09-1 ┆ 2         ┆ 3         ┆ 66        ┆ … ┆ 2         ┆ 50        ┆ 592       ┆ 42       │\n",
      "│ 8         ┆           ┆           ┆           ┆   ┆           ┆           ┆           ┆          │\n",
      "│ 08:49:33  ┆           ┆           ┆           ┆   ┆           ┆           ┆           ┆          │\n",
      "│ 2014-09-1 ┆ 2         ┆ 3         ┆ 66        ┆ … ┆ 2         ┆ 50        ┆ 592       ┆ 42       │\n",
      "│ 8         ┆           ┆           ┆           ┆   ┆           ┆           ┆           ┆          │\n",
      "│ 08:52:42  ┆           ┆           ┆           ┆   ┆           ┆           ┆           ┆          │\n",
      "└───────────┴───────────┴───────────┴───────────┴───┴───────────┴───────────┴───────────┴──────────┘, 'x': shape: (37_670_293,)\n",
      "Series: 'date_time' [str]\n",
      "[\n",
      "\t\"2014-08-11 07:…\n",
      "\t\"2014-08-11 08:…\n",
      "\t\"2014-08-11 08:…\n",
      "\t\"2014-08-09 18:…\n",
      "\t\"2014-08-09 18:…\n",
      "\t…\n",
      "\t\"2014-09-02 08:…\n",
      "\t\"2014-09-08 14:…\n",
      "\t\"2014-09-15 06:…\n",
      "\t\"2014-09-18 08:…\n",
      "\t\"2014-09-18 08:…\n",
      "], 'y': shape: (37_670_293,)\n",
      "Series: 'date_time' [str]\n",
      "[\n",
      "\t\"2014-08-11 07:…\n",
      "\t\"2014-08-11 08:…\n",
      "\t\"2014-08-11 08:…\n",
      "\t\"2014-08-09 18:…\n",
      "\t\"2014-08-09 18:…\n",
      "\t…\n",
      "\t\"2014-09-02 08:…\n",
      "\t\"2014-09-08 14:…\n",
      "\t\"2014-09-15 06:…\n",
      "\t\"2014-09-18 08:…\n",
      "\t\"2014-09-18 08:…\n",
      "], 'color': None, 'symbol': None, 'size': None, 'hover_name': None, 'hover_data': None, 'custom_data': None, 'text': None, 'facet_row': None, 'facet_col': None, 'facet_col_wrap': 0, 'facet_row_spacing': None, 'facet_col_spacing': None, 'error_x': None, 'error_x_minus': None, 'error_y': None, 'error_y_minus': None, 'animation_frame': None, 'animation_group': None, 'category_orders': None, 'labels': None, 'orientation': None, 'color_discrete_sequence': None, 'color_discrete_map': None, 'color_continuous_scale': None, 'range_color': None, 'color_continuous_midpoint': None, 'symbol_sequence': None, 'symbol_map': None, 'opacity': None, 'size_max': None, 'marginal_x': None, 'marginal_y': None, 'trendline': None, 'trendline_options': None, 'trendline_color_override': None, 'trendline_scope': 'trace', 'log_x': False, 'log_y': False, 'range_x': None, 'range_y': None, 'render_mode': 'webgl', 'title': None, 'template': None, 'width': None, 'height': 800}\u001b[0m\u001b[1;34m\n",
      "        \u001b[0mconstructor \u001b[1;34m= <class 'plotly.graph_objs._scatter.Scatter'>\u001b[0m\n",
      "\u001b[0;32m   2077\u001b[0m \u001b[38;5;28;01mif\u001b[39;00m constructor \u001b[38;5;129;01min\u001b[39;00m [go\u001b[38;5;241m.\u001b[39mTreemap, go\u001b[38;5;241m.\u001b[39mSunburst, go\u001b[38;5;241m.\u001b[39mIcicle] \u001b[38;5;129;01mand\u001b[39;00m args[\u001b[38;5;124m\"\u001b[39m\u001b[38;5;124mpath\u001b[39m\u001b[38;5;124m\"\u001b[39m] \u001b[38;5;129;01mis\u001b[39;00m \u001b[38;5;129;01mnot\u001b[39;00m \u001b[38;5;28;01mNone\u001b[39;00m:\n",
      "\u001b[0;32m   2078\u001b[0m     args \u001b[38;5;241m=\u001b[39m process_dataframe_hierarchy(args)\n",
      "\n",
      "File \u001b[1;32mc:\\Users\\tyoma\\miniforge-pypy3\\envs\\magic-env\\Lib\\site-packages\\plotly\\express\\_core.py:1429\u001b[0m, in \u001b[0;36mbuild_dataframe\u001b[1;34m(\n",
      "    args={'animation_frame': None, 'animation_group': None, 'category_orders': None, 'color': None, 'color_continuous_midpoint': None, 'color_continuous_scale': None, 'color_discrete_map': None, 'color_discrete_sequence': None, 'custom_data': None, 'data_frame': shape: (37_670_293, 24)\n",
      "┌───────────┬───────────...─┴───────────┴───────────┴───────────┴──────────┘, ...},\n",
      "    constructor=<class 'plotly.graph_objs._scatter.Scatter'>\n",
      ")\u001b[0m\n",
      "\u001b[0;32m   1427\u001b[0m                 necessary_columns\u001b[38;5;241m.\u001b[39mupdate(i \u001b[38;5;28;01mfor\u001b[39;00m i \u001b[38;5;129;01min\u001b[39;00m args[field] \u001b[38;5;28;01mif\u001b[39;00m i \u001b[38;5;129;01min\u001b[39;00m columns)\n",
      "\u001b[0;32m   1428\u001b[0m         columns \u001b[38;5;241m=\u001b[39m \u001b[38;5;28mlist\u001b[39m(necessary_columns)\n",
      "\u001b[1;32m-> 1429\u001b[0m         args[\u001b[38;5;124m\"\u001b[39m\u001b[38;5;124mdata_frame\u001b[39m\u001b[38;5;124m\"\u001b[39m] \u001b[38;5;241m=\u001b[39m \u001b[43mpd\u001b[49m\u001b[38;5;241;43m.\u001b[39;49m\u001b[43mapi\u001b[49m\u001b[38;5;241;43m.\u001b[39;49m\u001b[43minterchange\u001b[49m\u001b[38;5;241;43m.\u001b[39;49m\u001b[43mfrom_dataframe\u001b[49m\u001b[43m(\u001b[49m\n",
      "        args \u001b[1;34m= {'data_frame': shape: (37_670_293, 24)\n",
      "┌───────────┬───────────┬───────────┬───────────┬───┬───────────┬───────────┬───────────┬──────────┐\n",
      "│ date_time ┆ site_name ┆ posa_cont ┆ user_loca ┆ … ┆ hotel_con ┆ hotel_cou ┆ hotel_mar ┆ hotel_cl │\n",
      "│ ---       ┆ ---       ┆ inent     ┆ tion_coun ┆   ┆ tinent    ┆ ntry      ┆ ket       ┆ uster    │\n",
      "│ str       ┆ u8        ┆ ---       ┆ try       ┆   ┆ ---       ┆ ---       ┆ ---       ┆ ---      │\n",
      "│           ┆           ┆ u8        ┆ ---       ┆   ┆ u8        ┆ u8        ┆ u16       ┆ u8       │\n",
      "│           ┆           ┆           ┆ u8        ┆   ┆           ┆           ┆           ┆          │\n",
      "╞═══════════╪═══════════╪═══════════╪═══════════╪═══╪═══════════╪═══════════╪═══════════╪══════════╡\n",
      "│ 2014-08-1 ┆ 2         ┆ 3         ┆ 66        ┆ … ┆ 2         ┆ 50        ┆ 628       ┆ 1        │\n",
      "│ 1         ┆           ┆           ┆           ┆   ┆           ┆           ┆           ┆          │\n",
      "│ 07:46:59  ┆           ┆           ┆           ┆   ┆           ┆           ┆           ┆          │\n",
      "│ 2014-08-1 ┆ 2         ┆ 3         ┆ 66        ┆ … ┆ 2         ┆ 50        ┆ 628       ┆ 1        │\n",
      "│ 1         ┆           ┆           ┆           ┆   ┆           ┆           ┆           ┆          │\n",
      "│ 08:22:12  ┆           ┆           ┆           ┆   ┆           ┆           ┆           ┆          │\n",
      "│ 2014-08-1 ┆ 2         ┆ 3         ┆ 66        ┆ … ┆ 2         ┆ 50        ┆ 628       ┆ 1        │\n",
      "│ 1         ┆           ┆           ┆           ┆   ┆           ┆           ┆           ┆          │\n",
      "│ 08:24:33  ┆           ┆           ┆           ┆   ┆           ┆           ┆           ┆          │\n",
      "│ 2014-08-0 ┆ 2         ┆ 3         ┆ 66        ┆ … ┆ 2         ┆ 50        ┆ 1457      ┆ 80       │\n",
      "│ 9         ┆           ┆           ┆           ┆   ┆           ┆           ┆           ┆          │\n",
      "│ 18:05:16  ┆           ┆           ┆           ┆   ┆           ┆           ┆           ┆          │\n",
      "│ 2014-08-0 ┆ 2         ┆ 3         ┆ 66        ┆ … ┆ 2         ┆ 50        ┆ 1457      ┆ 21       │\n",
      "│ 9         ┆           ┆           ┆           ┆   ┆           ┆           ┆           ┆          │\n",
      "│ 18:08:18  ┆           ┆           ┆           ┆   ┆           ┆           ┆           ┆          │\n",
      "│ …         ┆ …         ┆ …         ┆ …         ┆ … ┆ …         ┆ …         ┆ …         ┆ …        │\n",
      "│ 2014-09-0 ┆ 2         ┆ 3         ┆ 66        ┆ … ┆ 2         ┆ 50        ┆ 213       ┆ 26       │\n",
      "│ 2         ┆           ┆           ┆           ┆   ┆           ┆           ┆           ┆          │\n",
      "│ 08:08:28  ┆           ┆           ┆           ┆   ┆           ┆           ┆           ┆          │\n",
      "│ 2014-09-0 ┆ 2         ┆ 3         ┆ 66        ┆ … ┆ 2         ┆ 50        ┆ 663       ┆ 9        │\n",
      "│ 8         ┆           ┆           ┆           ┆   ┆           ┆           ┆           ┆          │\n",
      "│ 14:52:52  ┆           ┆           ┆           ┆   ┆           ┆           ┆           ┆          │\n",
      "│ 2014-09-1 ┆ 2         ┆ 3         ┆ 66        ┆ … ┆ 2         ┆ 50        ┆ 663       ┆ 94       │\n",
      "│ 5         ┆           ┆           ┆           ┆   ┆           ┆           ┆           ┆          │\n",
      "│ 06:56:51  ┆           ┆           ┆           ┆   ┆           ┆           ┆           ┆          │\n",
      "│ 2014-09-1 ┆ 2         ┆ 3         ┆ 66        ┆ … ┆ 2         ┆ 50        ┆ 592       ┆ 42       │\n",
      "│ 8         ┆           ┆           ┆           ┆   ┆           ┆           ┆           ┆          │\n",
      "│ 08:49:33  ┆           ┆           ┆           ┆   ┆           ┆           ┆           ┆          │\n",
      "│ 2014-09-1 ┆ 2         ┆ 3         ┆ 66        ┆ … ┆ 2         ┆ 50        ┆ 592       ┆ 42       │\n",
      "│ 8         ┆           ┆           ┆           ┆   ┆           ┆           ┆           ┆          │\n",
      "│ 08:52:42  ┆           ┆           ┆           ┆   ┆           ┆           ┆           ┆          │\n",
      "└───────────┴───────────┴───────────┴───────────┴───┴───────────┴───────────┴───────────┴──────────┘, 'x': shape: (37_670_293,)\n",
      "Series: 'date_time' [str]\n",
      "[\n",
      "\t\"2014-08-11 07:…\n",
      "\t\"2014-08-11 08:…\n",
      "\t\"2014-08-11 08:…\n",
      "\t\"2014-08-09 18:…\n",
      "\t\"2014-08-09 18:…\n",
      "\t…\n",
      "\t\"2014-09-02 08:…\n",
      "\t\"2014-09-08 14:…\n",
      "\t\"2014-09-15 06:…\n",
      "\t\"2014-09-18 08:…\n",
      "\t\"2014-09-18 08:…\n",
      "], 'y': shape: (37_670_293,)\n",
      "Series: 'date_time' [str]\n",
      "[\n",
      "\t\"2014-08-11 07:…\n",
      "\t\"2014-08-11 08:…\n",
      "\t\"2014-08-11 08:…\n",
      "\t\"2014-08-09 18:…\n",
      "\t\"2014-08-09 18:…\n",
      "\t…\n",
      "\t\"2014-09-02 08:…\n",
      "\t\"2014-09-08 14:…\n",
      "\t\"2014-09-15 06:…\n",
      "\t\"2014-09-18 08:…\n",
      "\t\"2014-09-18 08:…\n",
      "], 'color': None, 'symbol': None, 'size': None, 'hover_name': None, 'hover_data': None, 'custom_data': None, 'text': None, 'facet_row': None, 'facet_col': None, 'facet_col_wrap': 0, 'facet_row_spacing': None, 'facet_col_spacing': None, 'error_x': None, 'error_x_minus': None, 'error_y': None, 'error_y_minus': None, 'animation_frame': None, 'animation_group': None, 'category_orders': None, 'labels': None, 'orientation': None, 'color_discrete_sequence': None, 'color_discrete_map': None, 'color_continuous_scale': None, 'range_color': None, 'color_continuous_midpoint': None, 'symbol_sequence': None, 'symbol_map': None, 'opacity': None, 'size_max': None, 'marginal_x': None, 'marginal_y': None, 'trendline': None, 'trendline_options': None, 'trendline_color_override': None, 'trendline_scope': 'trace', 'log_x': False, 'log_y': False, 'range_x': None, 'range_y': None, 'render_mode': 'webgl', 'title': None, 'template': None, 'width': None, 'height': 800}\u001b[0m\u001b[1;34m\n",
      "        \u001b[0margs[\"data_frame\"] \u001b[1;34m= shape: (37_670_293, 24)\n",
      "┌───────────┬───────────┬───────────┬───────────┬───┬───────────┬───────────┬───────────┬──────────┐\n",
      "│ date_time ┆ site_name ┆ posa_cont ┆ user_loca ┆ … ┆ hotel_con ┆ hotel_cou ┆ hotel_mar ┆ hotel_cl │\n",
      "│ ---       ┆ ---       ┆ inent     ┆ tion_coun ┆   ┆ tinent    ┆ ntry      ┆ ket       ┆ uster    │\n",
      "│ str       ┆ u8        ┆ ---       ┆ try       ┆   ┆ ---       ┆ ---       ┆ ---       ┆ ---      │\n",
      "│           ┆           ┆ u8        ┆ ---       ┆   ┆ u8        ┆ u8        ┆ u16       ┆ u8       │\n",
      "│           ┆           ┆           ┆ u8        ┆   ┆           ┆           ┆           ┆          │\n",
      "╞═══════════╪═══════════╪═══════════╪═══════════╪═══╪═══════════╪═══════════╪═══════════╪══════════╡\n",
      "│ 2014-08-1 ┆ 2         ┆ 3         ┆ 66        ┆ … ┆ 2         ┆ 50        ┆ 628       ┆ 1        │\n",
      "│ 1         ┆           ┆           ┆           ┆   ┆           ┆           ┆           ┆          │\n",
      "│ 07:46:59  ┆           ┆           ┆           ┆   ┆           ┆           ┆           ┆          │\n",
      "│ 2014-08-1 ┆ 2         ┆ 3         ┆ 66        ┆ … ┆ 2         ┆ 50        ┆ 628       ┆ 1        │\n",
      "│ 1         ┆           ┆           ┆           ┆   ┆           ┆           ┆           ┆          │\n",
      "│ 08:22:12  ┆           ┆           ┆           ┆   ┆           ┆           ┆           ┆          │\n",
      "│ 2014-08-1 ┆ 2         ┆ 3         ┆ 66        ┆ … ┆ 2         ┆ 50        ┆ 628       ┆ 1        │\n",
      "│ 1         ┆           ┆           ┆           ┆   ┆           ┆           ┆           ┆          │\n",
      "│ 08:24:33  ┆           ┆           ┆           ┆   ┆           ┆           ┆           ┆          │\n",
      "│ 2014-08-0 ┆ 2         ┆ 3         ┆ 66        ┆ … ┆ 2         ┆ 50        ┆ 1457      ┆ 80       │\n",
      "│ 9         ┆           ┆           ┆           ┆   ┆           ┆           ┆           ┆          │\n",
      "│ 18:05:16  ┆           ┆           ┆           ┆   ┆           ┆           ┆           ┆          │\n",
      "│ 2014-08-0 ┆ 2         ┆ 3         ┆ 66        ┆ … ┆ 2         ┆ 50        ┆ 1457      ┆ 21       │\n",
      "│ 9         ┆           ┆           ┆           ┆   ┆           ┆           ┆           ┆          │\n",
      "│ 18:08:18  ┆           ┆           ┆           ┆   ┆           ┆           ┆           ┆          │\n",
      "│ …         ┆ …         ┆ …         ┆ …         ┆ … ┆ …         ┆ …         ┆ …         ┆ …        │\n",
      "│ 2014-09-0 ┆ 2         ┆ 3         ┆ 66        ┆ … ┆ 2         ┆ 50        ┆ 213       ┆ 26       │\n",
      "│ 2         ┆           ┆           ┆           ┆   ┆           ┆           ┆           ┆          │\n",
      "│ 08:08:28  ┆           ┆           ┆           ┆   ┆           ┆           ┆           ┆          │\n",
      "│ 2014-09-0 ┆ 2         ┆ 3         ┆ 66        ┆ … ┆ 2         ┆ 50        ┆ 663       ┆ 9        │\n",
      "│ 8         ┆           ┆           ┆           ┆   ┆           ┆           ┆           ┆          │\n",
      "│ 14:52:52  ┆           ┆           ┆           ┆   ┆           ┆           ┆           ┆          │\n",
      "│ 2014-09-1 ┆ 2         ┆ 3         ┆ 66        ┆ … ┆ 2         ┆ 50        ┆ 663       ┆ 94       │\n",
      "│ 5         ┆           ┆           ┆           ┆   ┆           ┆           ┆           ┆          │\n",
      "│ 06:56:51  ┆           ┆           ┆           ┆   ┆           ┆           ┆           ┆          │\n",
      "│ 2014-09-1 ┆ 2         ┆ 3         ┆ 66        ┆ … ┆ 2         ┆ 50        ┆ 592       ┆ 42       │\n",
      "│ 8         ┆           ┆           ┆           ┆   ┆           ┆           ┆           ┆          │\n",
      "│ 08:49:33  ┆           ┆           ┆           ┆   ┆           ┆           ┆           ┆          │\n",
      "│ 2014-09-1 ┆ 2         ┆ 3         ┆ 66        ┆ … ┆ 2         ┆ 50        ┆ 592       ┆ 42       │\n",
      "│ 8         ┆           ┆           ┆           ┆   ┆           ┆           ┆           ┆          │\n",
      "│ 08:52:42  ┆           ┆           ┆           ┆   ┆           ┆           ┆           ┆          │\n",
      "└───────────┴───────────┴───────────┴───────────┴───┴───────────┴───────────┴───────────┴──────────┘\u001b[0m\u001b[1;34m\n",
      "        \u001b[0mpd \u001b[1;34m= <module 'pandas' from 'c:\\\\Users\\\\tyoma\\\\miniforge-pypy3\\\\envs\\\\magic-env\\\\Lib\\\\site-packages\\\\pandas\\\\__init__.py'>\u001b[0m\u001b[1;34m\n",
      "        \u001b[0mpd.api.interchange \u001b[1;34m= <module 'pandas.api.interchange' from 'c:\\\\Users\\\\tyoma\\\\miniforge-pypy3\\\\envs\\\\magic-env\\\\Lib\\\\site-packages\\\\pandas\\\\api\\\\interchange\\\\__init__.py'>\u001b[0m\u001b[1;34m\n",
      "        \u001b[0mpd.api \u001b[1;34m= <module 'pandas.api' from 'c:\\\\Users\\\\tyoma\\\\miniforge-pypy3\\\\envs\\\\magic-env\\\\Lib\\\\site-packages\\\\pandas\\\\api\\\\__init__.py'>\u001b[0m\u001b[1;34m\n",
      "        \u001b[0mcolumns \u001b[1;34m= []\u001b[0m\n",
      "\u001b[0;32m   1430\u001b[0m \u001b[43m            \u001b[49m\u001b[43margs\u001b[49m\u001b[43m[\u001b[49m\u001b[38;5;124;43m\"\u001b[39;49m\u001b[38;5;124;43mdata_frame\u001b[39;49m\u001b[38;5;124;43m\"\u001b[39;49m\u001b[43m]\u001b[49m\u001b[38;5;241;43m.\u001b[39;49m\u001b[43mselect_columns_by_name\u001b[49m\u001b[43m(\u001b[49m\u001b[43mcolumns\u001b[49m\u001b[43m)\u001b[49m\n",
      "\u001b[0;32m   1431\u001b[0m \u001b[43m        \u001b[49m\u001b[43m)\u001b[49m\n",
      "\u001b[0;32m   1432\u001b[0m \u001b[38;5;28;01mexcept\u001b[39;00m (\u001b[38;5;167;01mImportError\u001b[39;00m, \u001b[38;5;167;01mNotImplementedError\u001b[39;00m) \u001b[38;5;28;01mas\u001b[39;00m exc:\n",
      "\u001b[0;32m   1433\u001b[0m     \u001b[38;5;66;03m# temporary workaround; developers of third-party libraries themselves\u001b[39;00m\n",
      "\u001b[0;32m   1434\u001b[0m     \u001b[38;5;66;03m# should try a different implementation, if available. For example:\u001b[39;00m\n",
      "\u001b[0;32m   1435\u001b[0m     \u001b[38;5;66;03m# def __dataframe__(self, ...):\u001b[39;00m\n",
      "\u001b[0;32m   1436\u001b[0m     \u001b[38;5;66;03m#   if not some_condition:\u001b[39;00m\n",
      "\u001b[0;32m   1437\u001b[0m     \u001b[38;5;66;03m#     self.to_pandas(...)\u001b[39;00m\n",
      "\u001b[0;32m   1438\u001b[0m     \u001b[38;5;28;01mif\u001b[39;00m \u001b[38;5;28mhasattr\u001b[39m(df_not_pandas, \u001b[38;5;124m\"\u001b[39m\u001b[38;5;124mtoPandas\u001b[39m\u001b[38;5;124m\"\u001b[39m):\n",
      "\n",
      "File \u001b[1;32mc:\\Users\\tyoma\\miniforge-pypy3\\envs\\magic-env\\Lib\\site-packages\\pandas\\core\\interchange\\from_dataframe.py:54\u001b[0m, in \u001b[0;36mfrom_dataframe\u001b[1;34m(\n",
      "    df=<polars.interchange.dataframe.PolarsDataFrame object>,\n",
      "    allow_copy=True\n",
      ")\u001b[0m\n",
      "\u001b[0;32m     51\u001b[0m \u001b[38;5;28;01mif\u001b[39;00m \u001b[38;5;129;01mnot\u001b[39;00m \u001b[38;5;28mhasattr\u001b[39m(df, \u001b[38;5;124m\"\u001b[39m\u001b[38;5;124m__dataframe__\u001b[39m\u001b[38;5;124m\"\u001b[39m):\n",
      "\u001b[0;32m     52\u001b[0m     \u001b[38;5;28;01mraise\u001b[39;00m \u001b[38;5;167;01mValueError\u001b[39;00m(\u001b[38;5;124m\"\u001b[39m\u001b[38;5;124m`df` does not support __dataframe__\u001b[39m\u001b[38;5;124m\"\u001b[39m)\n",
      "\u001b[1;32m---> 54\u001b[0m \u001b[38;5;28;01mreturn\u001b[39;00m \u001b[43m_from_dataframe\u001b[49m\u001b[43m(\u001b[49m\u001b[43mdf\u001b[49m\u001b[38;5;241;43m.\u001b[39;49m\u001b[43m__dataframe__\u001b[49m\u001b[43m(\u001b[49m\u001b[43mallow_copy\u001b[49m\u001b[38;5;241;43m=\u001b[39;49m\u001b[43mallow_copy\u001b[49m\u001b[43m)\u001b[49m\u001b[43m)\u001b[49m\n",
      "        df \u001b[1;34m= <polars.interchange.dataframe.PolarsDataFrame object at 0x0000021E83B7DC90>\u001b[0m\u001b[1;34m\n",
      "        \u001b[0mallow_copy \u001b[1;34m= True\u001b[0m\n",
      "\n",
      "File \u001b[1;32mc:\\Users\\tyoma\\miniforge-pypy3\\envs\\magic-env\\Lib\\site-packages\\pandas\\core\\interchange\\from_dataframe.py:74\u001b[0m, in \u001b[0;36m_from_dataframe\u001b[1;34m(\n",
      "    df=<polars.interchange.dataframe.PolarsDataFrame object>,\n",
      "    allow_copy=True\n",
      ")\u001b[0m\n",
      "\u001b[0;32m     58\u001b[0m \u001b[38;5;250m\u001b[39m\u001b[38;5;124;03m\"\"\"\u001b[39;00m\n",
      "\u001b[0;32m     59\u001b[0m \u001b[38;5;124;03mBuild a ``pd.DataFrame`` from the DataFrame interchange object.\u001b[39;00m\n",
      "\u001b[0;32m     60\u001b[0m \n",
      "\u001b[1;32m   (...)\u001b[0m\n",
      "\u001b[0;32m     71\u001b[0m \u001b[38;5;124;03mpd.DataFrame\u001b[39;00m\n",
      "\u001b[0;32m     72\u001b[0m \u001b[38;5;124;03m\"\"\"\u001b[39;00m\n",
      "\u001b[0;32m     73\u001b[0m pandas_dfs \u001b[38;5;241m=\u001b[39m []\n",
      "\u001b[1;32m---> 74\u001b[0m \u001b[43m\u001b[49m\u001b[38;5;28;43;01mfor\u001b[39;49;00m\u001b[43m \u001b[49m\u001b[43mchunk\u001b[49m\u001b[43m \u001b[49m\u001b[38;5;129;43;01min\u001b[39;49;00m\u001b[43m \u001b[49m\u001b[43mdf\u001b[49m\u001b[38;5;241;43m.\u001b[39;49m\u001b[43mget_chunks\u001b[49m\u001b[43m(\u001b[49m\u001b[43m)\u001b[49m\u001b[43m:\u001b[49m\n",
      "        df \u001b[1;34m= <polars.interchange.dataframe.PolarsDataFrame object at 0x0000021E83B7EBD0>\u001b[0m\n",
      "\u001b[0;32m     75\u001b[0m \u001b[43m    \u001b[49m\u001b[43mpandas_df\u001b[49m\u001b[43m \u001b[49m\u001b[38;5;241;43m=\u001b[39;49m\u001b[43m \u001b[49m\u001b[43mprotocol_df_chunk_to_pandas\u001b[49m\u001b[43m(\u001b[49m\u001b[43mchunk\u001b[49m\u001b[43m)\u001b[49m\n",
      "\u001b[0;32m     76\u001b[0m \u001b[43m    \u001b[49m\u001b[43mpandas_dfs\u001b[49m\u001b[38;5;241;43m.\u001b[39;49m\u001b[43mappend\u001b[49m\u001b[43m(\u001b[49m\u001b[43mpandas_df\u001b[49m\u001b[43m)\u001b[49m\n",
      "\n",
      "File \u001b[1;32mc:\\Users\\tyoma\\miniforge-pypy3\\envs\\magic-env\\Lib\\site-packages\\polars\\interchange\\dataframe.py:186\u001b[0m, in \u001b[0;36mPolarsDataFrame.get_chunks\u001b[1;34m(\n",
      "    self=<polars.interchange.dataframe.PolarsDataFrame object>,\n",
      "    n_chunks=None\n",
      ")\u001b[0m\n",
      "\u001b[0;32m    183\u001b[0m chunks \u001b[38;5;241m=\u001b[39m \u001b[38;5;28mself\u001b[39m\u001b[38;5;241m.\u001b[39m_get_chunks_from_col_chunks()\n",
      "\u001b[0;32m    185\u001b[0m \u001b[38;5;28;01mif\u001b[39;00m (n_chunks \u001b[38;5;129;01mis\u001b[39;00m \u001b[38;5;28;01mNone\u001b[39;00m) \u001b[38;5;129;01mor\u001b[39;00m (n_chunks \u001b[38;5;241m==\u001b[39m total_n_chunks):\n",
      "\u001b[1;32m--> 186\u001b[0m \u001b[43m    \u001b[49m\u001b[38;5;28;43;01mfor\u001b[39;49;00m\u001b[43m \u001b[49m\u001b[43mchunk\u001b[49m\u001b[43m \u001b[49m\u001b[38;5;129;43;01min\u001b[39;49;00m\u001b[43m \u001b[49m\u001b[43mchunks\u001b[49m\u001b[43m:\u001b[49m\n",
      "        chunks \u001b[1;34m= <generator object PolarsDataFrame._get_chunks_from_col_chunks at 0x0000021E82B61DF0>\u001b[0m\n",
      "\u001b[0;32m    187\u001b[0m \u001b[43m        \u001b[49m\u001b[38;5;28;43;01myield\u001b[39;49;00m\u001b[43m \u001b[49m\u001b[43mPolarsDataFrame\u001b[49m\u001b[43m(\u001b[49m\u001b[43mchunk\u001b[49m\u001b[43m,\u001b[49m\u001b[43m \u001b[49m\u001b[43mallow_copy\u001b[49m\u001b[38;5;241;43m=\u001b[39;49m\u001b[38;5;28;43mself\u001b[39;49m\u001b[38;5;241;43m.\u001b[39;49m\u001b[43m_allow_copy\u001b[49m\u001b[43m)\u001b[49m\n",
      "\u001b[0;32m    189\u001b[0m \u001b[38;5;28;01melif\u001b[39;00m (n_chunks \u001b[38;5;241m<\u001b[39m\u001b[38;5;241m=\u001b[39m \u001b[38;5;241m0\u001b[39m) \u001b[38;5;129;01mor\u001b[39;00m (n_chunks \u001b[38;5;241m%\u001b[39m total_n_chunks \u001b[38;5;241m!=\u001b[39m \u001b[38;5;241m0\u001b[39m):\n",
      "\n",
      "File \u001b[1;32mc:\\Users\\tyoma\\miniforge-pypy3\\envs\\magic-env\\Lib\\site-packages\\polars\\interchange\\dataframe.py:217\u001b[0m, in \u001b[0;36mPolarsDataFrame._get_chunks_from_col_chunks\u001b[1;34m(\n",
      "    self=<polars.interchange.dataframe.PolarsDataFrame object>\n",
      ")\u001b[0m\n",
      "\u001b[0;32m    210\u001b[0m \u001b[38;5;250m\u001b[39m\u001b[38;5;124;03m\"\"\"\u001b[39;00m\n",
      "\u001b[0;32m    211\u001b[0m \u001b[38;5;124;03mReturn chunks of this dataframe according to the chunks of the first column.\u001b[39;00m\n",
      "\u001b[0;32m    212\u001b[0m \n",
      "\u001b[0;32m    213\u001b[0m \u001b[38;5;124;03mIf columns are not all chunked identically, they will be rechunked like the\u001b[39;00m\n",
      "\u001b[0;32m    214\u001b[0m \u001b[38;5;124;03mfirst column. If copy is not allowed, this raises a RuntimeError.\u001b[39;00m\n",
      "\u001b[0;32m    215\u001b[0m \u001b[38;5;124;03m\"\"\"\u001b[39;00m\n",
      "\u001b[0;32m    216\u001b[0m col_chunks \u001b[38;5;241m=\u001b[39m \u001b[38;5;28mself\u001b[39m\u001b[38;5;241m.\u001b[39mget_column(\u001b[38;5;241m0\u001b[39m)\u001b[38;5;241m.\u001b[39mget_chunks()\n",
      "\u001b[1;32m--> 217\u001b[0m chunk_sizes \u001b[38;5;241m=\u001b[39m \u001b[43m[\u001b[49m\u001b[43mchunk\u001b[49m\u001b[38;5;241;43m.\u001b[39;49m\u001b[43msize\u001b[49m\u001b[43m(\u001b[49m\u001b[43m)\u001b[49m\u001b[43m \u001b[49m\u001b[38;5;28;43;01mfor\u001b[39;49;00m\u001b[43m \u001b[49m\u001b[43mchunk\u001b[49m\u001b[43m \u001b[49m\u001b[38;5;129;43;01min\u001b[39;49;00m\u001b[43m \u001b[49m\u001b[43mcol_chunks\u001b[49m\u001b[43m]\u001b[49m\n",
      "        col_chunks \u001b[1;34m= <generator object PolarsColumn.get_chunks at 0x0000021E83BB7D80>\u001b[0m\n",
      "\u001b[0;32m    218\u001b[0m starts \u001b[38;5;241m=\u001b[39m [\u001b[38;5;241m0\u001b[39m] \u001b[38;5;241m+\u001b[39m \u001b[38;5;28mlist\u001b[39m(accumulate(chunk_sizes))\n",
      "\u001b[0;32m    220\u001b[0m \u001b[38;5;28;01mfor\u001b[39;00m i \u001b[38;5;129;01min\u001b[39;00m \u001b[38;5;28mrange\u001b[39m(\u001b[38;5;28mlen\u001b[39m(starts) \u001b[38;5;241m-\u001b[39m \u001b[38;5;241m1\u001b[39m):\n",
      "\n",
      "File \u001b[1;32mc:\\Users\\tyoma\\miniforge-pypy3\\envs\\magic-env\\Lib\\site-packages\\polars\\interchange\\dataframe.py:217\u001b[0m, in \u001b[0;36m<listcomp>\u001b[1;34m(\n",
      "    .0=<generator object PolarsColumn.get_chunks>\n",
      ")\u001b[0m\n",
      "\u001b[0;32m    210\u001b[0m \u001b[38;5;250m\u001b[39m\u001b[38;5;124;03m\"\"\"\u001b[39;00m\n",
      "\u001b[0;32m    211\u001b[0m \u001b[38;5;124;03mReturn chunks of this dataframe according to the chunks of the first column.\u001b[39;00m\n",
      "\u001b[0;32m    212\u001b[0m \n",
      "\u001b[0;32m    213\u001b[0m \u001b[38;5;124;03mIf columns are not all chunked identically, they will be rechunked like the\u001b[39;00m\n",
      "\u001b[0;32m    214\u001b[0m \u001b[38;5;124;03mfirst column. If copy is not allowed, this raises a RuntimeError.\u001b[39;00m\n",
      "\u001b[0;32m    215\u001b[0m \u001b[38;5;124;03m\"\"\"\u001b[39;00m\n",
      "\u001b[0;32m    216\u001b[0m col_chunks \u001b[38;5;241m=\u001b[39m \u001b[38;5;28mself\u001b[39m\u001b[38;5;241m.\u001b[39mget_column(\u001b[38;5;241m0\u001b[39m)\u001b[38;5;241m.\u001b[39mget_chunks()\n",
      "\u001b[1;32m--> 217\u001b[0m chunk_sizes \u001b[38;5;241m=\u001b[39m \u001b[43m[\u001b[49m\u001b[43mchunk\u001b[49m\u001b[38;5;241;43m.\u001b[39;49m\u001b[43msize\u001b[49m\u001b[43m(\u001b[49m\u001b[43m)\u001b[49m\u001b[43m \u001b[49m\u001b[38;5;28;43;01mfor\u001b[39;49;00m\u001b[43m \u001b[49m\u001b[43mchunk\u001b[49m\u001b[43m \u001b[49m\u001b[38;5;129;43;01min\u001b[39;49;00m\u001b[43m \u001b[49m\u001b[43mcol_chunks\u001b[49m\u001b[43m]\u001b[49m\n",
      "\u001b[0;32m    218\u001b[0m starts \u001b[38;5;241m=\u001b[39m [\u001b[38;5;241m0\u001b[39m] \u001b[38;5;241m+\u001b[39m \u001b[38;5;28mlist\u001b[39m(accumulate(chunk_sizes))\n",
      "\u001b[0;32m    220\u001b[0m \u001b[38;5;28;01mfor\u001b[39;00m i \u001b[38;5;129;01min\u001b[39;00m \u001b[38;5;28mrange\u001b[39m(\u001b[38;5;28mlen\u001b[39m(starts) \u001b[38;5;241m-\u001b[39m \u001b[38;5;241m1\u001b[39m):\n",
      "\n",
      "File \u001b[1;32mc:\\Users\\tyoma\\miniforge-pypy3\\envs\\magic-env\\Lib\\site-packages\\polars\\interchange\\column.py:125\u001b[0m, in \u001b[0;36mPolarsColumn.get_chunks\u001b[1;34m(\n",
      "    self=<polars.interchange.column.PolarsColumn object>,\n",
      "    n_chunks=None\n",
      ")\u001b[0m\n",
      "\u001b[0;32m    108\u001b[0m \u001b[38;5;28;01mdef\u001b[39;00m \u001b[38;5;21mget_chunks\u001b[39m(\u001b[38;5;28mself\u001b[39m, n_chunks: \u001b[38;5;28mint\u001b[39m \u001b[38;5;241m|\u001b[39m \u001b[38;5;28;01mNone\u001b[39;00m \u001b[38;5;241m=\u001b[39m \u001b[38;5;28;01mNone\u001b[39;00m) \u001b[38;5;241m-\u001b[39m\u001b[38;5;241m>\u001b[39m Iterator[PolarsColumn]:\n",
      "\u001b[0;32m    109\u001b[0m \u001b[38;5;250m    \u001b[39m\u001b[38;5;124;03m\"\"\"\u001b[39;00m\n",
      "\u001b[0;32m    110\u001b[0m \u001b[38;5;124;03m    Return an iterator yielding the column chunks.\u001b[39;00m\n",
      "\u001b[0;32m    111\u001b[0m \n",
      "\u001b[1;32m   (...)\u001b[0m\n",
      "\u001b[0;32m    123\u001b[0m \u001b[38;5;124;03m    boolean.\u001b[39;00m\n",
      "\u001b[0;32m    124\u001b[0m \u001b[38;5;124;03m    \"\"\"\u001b[39;00m\n",
      "\u001b[1;32m--> 125\u001b[0m     total_n_chunks \u001b[38;5;241m=\u001b[39m \u001b[38;5;28;43mself\u001b[39;49m\u001b[38;5;241;43m.\u001b[39;49m\u001b[43mnum_chunks\u001b[49m\u001b[43m(\u001b[49m\u001b[43m)\u001b[49m\n",
      "        self \u001b[1;34m= <polars.interchange.column.PolarsColumn object at 0x0000021E83B7C790>\u001b[0m\n",
      "\u001b[0;32m    126\u001b[0m     chunks \u001b[38;5;241m=\u001b[39m \u001b[38;5;28mself\u001b[39m\u001b[38;5;241m.\u001b[39m_col\u001b[38;5;241m.\u001b[39mget_chunks()\n",
      "\u001b[0;32m    128\u001b[0m     \u001b[38;5;28;01mif\u001b[39;00m (n_chunks \u001b[38;5;129;01mis\u001b[39;00m \u001b[38;5;28;01mNone\u001b[39;00m) \u001b[38;5;129;01mor\u001b[39;00m (n_chunks \u001b[38;5;241m==\u001b[39m total_n_chunks):\n",
      "\n",
      "File \u001b[1;32mc:\\Users\\tyoma\\miniforge-pypy3\\envs\\magic-env\\Lib\\site-packages\\polars\\interchange\\column.py:106\u001b[0m, in \u001b[0;36mPolarsColumn.num_chunks\u001b[1;34m(\n",
      "    self=<polars.interchange.column.PolarsColumn object>\n",
      ")\u001b[0m\n",
      "\u001b[0;32m    104\u001b[0m \u001b[38;5;28;01mdef\u001b[39;00m \u001b[38;5;21mnum_chunks\u001b[39m(\u001b[38;5;28mself\u001b[39m) \u001b[38;5;241m-\u001b[39m\u001b[38;5;241m>\u001b[39m \u001b[38;5;28mint\u001b[39m:\n",
      "\u001b[0;32m    105\u001b[0m \u001b[38;5;250m    \u001b[39m\u001b[38;5;124;03m\"\"\"Return the number of chunks the column consists of.\"\"\"\u001b[39;00m\n",
      "\u001b[1;32m--> 106\u001b[0m     \u001b[38;5;28;01mreturn\u001b[39;00m \u001b[38;5;28;43mself\u001b[39;49m\u001b[38;5;241;43m.\u001b[39;49m\u001b[43m_col\u001b[49m\u001b[38;5;241;43m.\u001b[39;49m\u001b[43mn_chunks\u001b[49m\u001b[43m(\u001b[49m\u001b[43m)\u001b[49m\n",
      "        Exception trying to inspect frame. No more locals available.\n",
      "\n",
      "File \u001b[1;32mc:\\Users\\tyoma\\miniforge-pypy3\\envs\\magic-env\\Lib\\site-packages\\polars\\series\\series.py:2945\u001b[0m, in \u001b[0;36mSeries.n_chunks\u001b[1;34m(\n",
      "    self=<class 'polars.series.series.Series'> instance\n",
      ")\u001b[0m\n",
      "\u001b[0;32m   2924\u001b[0m \u001b[38;5;28;01mdef\u001b[39;00m \u001b[38;5;21mn_chunks\u001b[39m(\u001b[38;5;28mself\u001b[39m) \u001b[38;5;241m-\u001b[39m\u001b[38;5;241m>\u001b[39m \u001b[38;5;28mint\u001b[39m:\n",
      "\u001b[0;32m   2925\u001b[0m \u001b[38;5;250m    \u001b[39m\u001b[38;5;124;03m\"\"\"\u001b[39;00m\n",
      "\u001b[0;32m   2926\u001b[0m \u001b[38;5;124;03m    Get the number of chunks that this Series contains.\u001b[39;00m\n",
      "\u001b[0;32m   2927\u001b[0m \n",
      "\u001b[1;32m   (...)\u001b[0m\n",
      "\u001b[0;32m   2943\u001b[0m \u001b[38;5;124;03m    2\u001b[39;00m\n",
      "\u001b[0;32m   2944\u001b[0m \u001b[38;5;124;03m    \"\"\"\u001b[39;00m\n",
      "\u001b[1;32m-> 2945\u001b[0m     \u001b[38;5;28;01mreturn\u001b[39;00m \u001b[38;5;28;43mself\u001b[39;49m\u001b[38;5;241;43m.\u001b[39;49m\u001b[43m_s\u001b[49m\u001b[38;5;241;43m.\u001b[39;49m\u001b[43mn_chunks\u001b[49m()\n",
      "        self._s \u001b[1;34m= None\u001b[0m\u001b[1;34m\n",
      "        \u001b[0mException trying to inspect frame. No more locals available.\n",
      "\n",
      "\u001b[1;31mAttributeError\u001b[0m: 'NoneType' object has no attribute 'n_chunks'\n",
      "\n",
      "\u001b[1;31m---------------------------------------------------------------------------\u001b[0m\n",
      "\u001b[1;31mAttributeError\u001b[0m                            Traceback (most recent call last)\n",
      "File \u001b[1;32mc:\\Users\\tyoma\\miniforge-pypy3\\envs\\magic-env\\Lib\\site-packages\\plotly\\express\\_chart_types.py:66\u001b[0m, in \u001b[0;36mscatter\u001b[1;34m(\n",
      "    data_frame=shape: (37_670_293, 24)\n",
      "┌───────────┬───────────...─┴───────────┴───────────┴───────────┴──────────┘,\n",
      "    x=shape: (37_670_293,)\n",
      "Series: 'date_time' [str]\n",
      "[...-09-15 06:…\n",
      "\t\"2014-09-18 08:…\n",
      "\t\"2014-09-18 08:…\n",
      "],\n",
      "    y=shape: (37_670_293,)\n",
      "Series: 'date_time' [str]\n",
      "[...-09-15 06:…\n",
      "\t\"2014-09-18 08:…\n",
      "\t\"2014-09-18 08:…\n",
      "],\n",
      "    color=None,\n",
      "    symbol=None,\n",
      "    size=None,\n",
      "    hover_name=None,\n",
      "    hover_data=None,\n",
      "    custom_data=None,\n",
      "    text=None,\n",
      "    facet_row=None,\n",
      "    facet_col=None,\n",
      "    facet_col_wrap=0,\n",
      "    facet_row_spacing=None,\n",
      "    facet_col_spacing=None,\n",
      "    error_x=None,\n",
      "    error_x_minus=None,\n",
      "    error_y=None,\n",
      "    error_y_minus=None,\n",
      "    animation_frame=None,\n",
      "    animation_group=None,\n",
      "    category_orders=None,\n",
      "    labels=None,\n",
      "    orientation=None,\n",
      "    color_discrete_sequence=None,\n",
      "    color_discrete_map=None,\n",
      "    color_continuous_scale=None,\n",
      "    range_color=None,\n",
      "    color_continuous_midpoint=None,\n",
      "    symbol_sequence=None,\n",
      "    symbol_map=None,\n",
      "    opacity=None,\n",
      "    size_max=None,\n",
      "    marginal_x=None,\n",
      "    marginal_y=None,\n",
      "    trendline=None,\n",
      "    trendline_options=None,\n",
      "    trendline_color_override=None,\n",
      "    trendline_scope='trace',\n",
      "    log_x=False,\n",
      "    log_y=False,\n",
      "    range_x=None,\n",
      "    range_y=None,\n",
      "    render_mode='webgl',\n",
      "    title=None,\n",
      "    template=None,\n",
      "    width=None,\n",
      "    height=800\n",
      ")\u001b[0m\n",
      "\u001b[0;32m     12\u001b[0m \u001b[38;5;28;01mdef\u001b[39;00m \u001b[38;5;21mscatter\u001b[39m(\n",
      "\u001b[0;32m     13\u001b[0m     data_frame\u001b[38;5;241m=\u001b[39m\u001b[38;5;28;01mNone\u001b[39;00m,\n",
      "\u001b[0;32m     14\u001b[0m     x\u001b[38;5;241m=\u001b[39m\u001b[38;5;28;01mNone\u001b[39;00m,\n",
      "\u001b[1;32m   (...)\u001b[0m\n",
      "\u001b[0;32m     60\u001b[0m     height\u001b[38;5;241m=\u001b[39m\u001b[38;5;28;01mNone\u001b[39;00m,\n",
      "\u001b[0;32m     61\u001b[0m ) \u001b[38;5;241m-\u001b[39m\u001b[38;5;241m>\u001b[39m go\u001b[38;5;241m.\u001b[39mFigure:\n",
      "\u001b[0;32m     62\u001b[0m \u001b[38;5;250m    \u001b[39m\u001b[38;5;124;03m\"\"\"\u001b[39;00m\n",
      "\u001b[0;32m     63\u001b[0m \u001b[38;5;124;03m    In a scatter plot, each row of `data_frame` is represented by a symbol\u001b[39;00m\n",
      "\u001b[0;32m     64\u001b[0m \u001b[38;5;124;03m    mark in 2D space.\u001b[39;00m\n",
      "\u001b[0;32m     65\u001b[0m \u001b[38;5;124;03m    \"\"\"\u001b[39;00m\n",
      "\u001b[1;32m---> 66\u001b[0m     \u001b[38;5;28;01mreturn\u001b[39;00m \u001b[43mmake_figure\u001b[49m\u001b[43m(\u001b[49m\u001b[43margs\u001b[49m\u001b[38;5;241;43m=\u001b[39;49m\u001b[38;5;28;43mlocals\u001b[39;49m\u001b[43m(\u001b[49m\u001b[43m)\u001b[49m\u001b[43m,\u001b[49m\u001b[43m \u001b[49m\u001b[43mconstructor\u001b[49m\u001b[38;5;241;43m=\u001b[39;49m\u001b[43mgo\u001b[49m\u001b[38;5;241;43m.\u001b[39;49m\u001b[43mScatter\u001b[49m\u001b[43m)\u001b[49m\n",
      "        go \u001b[1;34m= <module 'plotly.graph_objs' from 'c:\\\\Users\\\\tyoma\\\\miniforge-pypy3\\\\envs\\\\magic-env\\\\Lib\\\\site-packages\\\\plotly\\\\graph_objs\\\\__init__.py'>\u001b[0m\n",
      "\n",
      "File \u001b[1;32mc:\\Users\\tyoma\\miniforge-pypy3\\envs\\magic-env\\Lib\\site-packages\\plotly\\express\\_core.py:2076\u001b[0m, in \u001b[0;36mmake_figure\u001b[1;34m(\n",
      "    args={'animation_frame': None, 'animation_group': None, 'category_orders': None, 'color': None, 'color_continuous_midpoint': None, 'color_continuous_scale': None, 'color_discrete_map': None, 'color_discrete_sequence': None, 'custom_data': None, 'data_frame': shape: (37_670_293, 24)\n",
      "┌───────────┬───────────...─┴───────────┴───────────┴───────────┴──────────┘, ...},\n",
      "    constructor=<class 'plotly.graph_objs._scatter.Scatter'>,\n",
      "    trace_patch={},\n",
      "    layout_patch={}\n",
      ")\u001b[0m\n",
      "\u001b[0;32m   2073\u001b[0m layout_patch \u001b[38;5;241m=\u001b[39m layout_patch \u001b[38;5;129;01mor\u001b[39;00m {}\n",
      "\u001b[0;32m   2074\u001b[0m apply_default_cascade(args)\n",
      "\u001b[1;32m-> 2076\u001b[0m args \u001b[38;5;241m=\u001b[39m \u001b[43mbuild_dataframe\u001b[49m\u001b[43m(\u001b[49m\u001b[43margs\u001b[49m\u001b[43m,\u001b[49m\u001b[43m \u001b[49m\u001b[43mconstructor\u001b[49m\u001b[43m)\u001b[49m\n",
      "        args \u001b[1;34m= {'data_frame': shape: (37_670_293, 24)\n",
      "┌───────────┬───────────┬───────────┬───────────┬───┬───────────┬───────────┬───────────┬──────────┐\n",
      "│ date_time ┆ site_name ┆ posa_cont ┆ user_loca ┆ … ┆ hotel_con ┆ hotel_cou ┆ hotel_mar ┆ hotel_cl │\n",
      "│ ---       ┆ ---       ┆ inent     ┆ tion_coun ┆   ┆ tinent    ┆ ntry      ┆ ket       ┆ uster    │\n",
      "│ str       ┆ u8        ┆ ---       ┆ try       ┆   ┆ ---       ┆ ---       ┆ ---       ┆ ---      │\n",
      "│           ┆           ┆ u8        ┆ ---       ┆   ┆ u8        ┆ u8        ┆ u16       ┆ u8       │\n",
      "│           ┆           ┆           ┆ u8        ┆   ┆           ┆           ┆           ┆          │\n",
      "╞═══════════╪═══════════╪═══════════╪═══════════╪═══╪═══════════╪═══════════╪═══════════╪══════════╡\n",
      "│ 2014-08-1 ┆ 2         ┆ 3         ┆ 66        ┆ … ┆ 2         ┆ 50        ┆ 628       ┆ 1        │\n",
      "│ 1         ┆           ┆           ┆           ┆   ┆           ┆           ┆           ┆          │\n",
      "│ 07:46:59  ┆           ┆           ┆           ┆   ┆           ┆           ┆           ┆          │\n",
      "│ 2014-08-1 ┆ 2         ┆ 3         ┆ 66        ┆ … ┆ 2         ┆ 50        ┆ 628       ┆ 1        │\n",
      "│ 1         ┆           ┆           ┆           ┆   ┆           ┆           ┆           ┆          │\n",
      "│ 08:22:12  ┆           ┆           ┆           ┆   ┆           ┆           ┆           ┆          │\n",
      "│ 2014-08-1 ┆ 2         ┆ 3         ┆ 66        ┆ … ┆ 2         ┆ 50        ┆ 628       ┆ 1        │\n",
      "│ 1         ┆           ┆           ┆           ┆   ┆           ┆           ┆           ┆          │\n",
      "│ 08:24:33  ┆           ┆           ┆           ┆   ┆           ┆           ┆           ┆          │\n",
      "│ 2014-08-0 ┆ 2         ┆ 3         ┆ 66        ┆ … ┆ 2         ┆ 50        ┆ 1457      ┆ 80       │\n",
      "│ 9         ┆           ┆           ┆           ┆   ┆           ┆           ┆           ┆          │\n",
      "│ 18:05:16  ┆           ┆           ┆           ┆   ┆           ┆           ┆           ┆          │\n",
      "│ 2014-08-0 ┆ 2         ┆ 3         ┆ 66        ┆ … ┆ 2         ┆ 50        ┆ 1457      ┆ 21       │\n",
      "│ 9         ┆           ┆           ┆           ┆   ┆           ┆           ┆           ┆          │\n",
      "│ 18:08:18  ┆           ┆           ┆           ┆   ┆           ┆           ┆           ┆          │\n",
      "│ …         ┆ …         ┆ …         ┆ …         ┆ … ┆ …         ┆ …         ┆ …         ┆ …        │\n",
      "│ 2014-09-0 ┆ 2         ┆ 3         ┆ 66        ┆ … ┆ 2         ┆ 50        ┆ 213       ┆ 26       │\n",
      "│ 2         ┆           ┆           ┆           ┆   ┆           ┆           ┆           ┆          │\n",
      "│ 08:08:28  ┆           ┆           ┆           ┆   ┆           ┆           ┆           ┆          │\n",
      "│ 2014-09-0 ┆ 2         ┆ 3         ┆ 66        ┆ … ┆ 2         ┆ 50        ┆ 663       ┆ 9        │\n",
      "│ 8         ┆           ┆           ┆           ┆   ┆           ┆           ┆           ┆          │\n",
      "│ 14:52:52  ┆           ┆           ┆           ┆   ┆           ┆           ┆           ┆          │\n",
      "│ 2014-09-1 ┆ 2         ┆ 3         ┆ 66        ┆ … ┆ 2         ┆ 50        ┆ 663       ┆ 94       │\n",
      "│ 5         ┆           ┆           ┆           ┆   ┆           ┆           ┆           ┆          │\n",
      "│ 06:56:51  ┆           ┆           ┆           ┆   ┆           ┆           ┆           ┆          │\n",
      "│ 2014-09-1 ┆ 2         ┆ 3         ┆ 66        ┆ … ┆ 2         ┆ 50        ┆ 592       ┆ 42       │\n",
      "│ 8         ┆           ┆           ┆           ┆   ┆           ┆           ┆           ┆          │\n",
      "│ 08:49:33  ┆           ┆           ┆           ┆   ┆           ┆           ┆           ┆          │\n",
      "│ 2014-09-1 ┆ 2         ┆ 3         ┆ 66        ┆ … ┆ 2         ┆ 50        ┆ 592       ┆ 42       │\n",
      "│ 8         ┆           ┆           ┆           ┆   ┆           ┆           ┆           ┆          │\n",
      "│ 08:52:42  ┆           ┆           ┆           ┆   ┆           ┆           ┆           ┆          │\n",
      "└───────────┴───────────┴───────────┴───────────┴───┴───────────┴───────────┴───────────┴──────────┘, 'x': shape: (37_670_293,)\n",
      "Series: 'date_time' [str]\n",
      "[\n",
      "\t\"2014-08-11 07:…\n",
      "\t\"2014-08-11 08:…\n",
      "\t\"2014-08-11 08:…\n",
      "\t\"2014-08-09 18:…\n",
      "\t\"2014-08-09 18:…\n",
      "\t…\n",
      "\t\"2014-09-02 08:…\n",
      "\t\"2014-09-08 14:…\n",
      "\t\"2014-09-15 06:…\n",
      "\t\"2014-09-18 08:…\n",
      "\t\"2014-09-18 08:…\n",
      "], 'y': shape: (37_670_293,)\n",
      "Series: 'date_time' [str]\n",
      "[\n",
      "\t\"2014-08-11 07:…\n",
      "\t\"2014-08-11 08:…\n",
      "\t\"2014-08-11 08:…\n",
      "\t\"2014-08-09 18:…\n",
      "\t\"2014-08-09 18:…\n",
      "\t…\n",
      "\t\"2014-09-02 08:…\n",
      "\t\"2014-09-08 14:…\n",
      "\t\"2014-09-15 06:…\n",
      "\t\"2014-09-18 08:…\n",
      "\t\"2014-09-18 08:…\n",
      "], 'color': None, 'symbol': None, 'size': None, 'hover_name': None, 'hover_data': None, 'custom_data': None, 'text': None, 'facet_row': None, 'facet_col': None, 'facet_col_wrap': 0, 'facet_row_spacing': None, 'facet_col_spacing': None, 'error_x': None, 'error_x_minus': None, 'error_y': None, 'error_y_minus': None, 'animation_frame': None, 'animation_group': None, 'category_orders': None, 'labels': None, 'orientation': None, 'color_discrete_sequence': None, 'color_discrete_map': None, 'color_continuous_scale': None, 'range_color': None, 'color_continuous_midpoint': None, 'symbol_sequence': None, 'symbol_map': None, 'opacity': None, 'size_max': None, 'marginal_x': None, 'marginal_y': None, 'trendline': None, 'trendline_options': None, 'trendline_color_override': None, 'trendline_scope': 'trace', 'log_x': False, 'log_y': False, 'range_x': None, 'range_y': None, 'render_mode': 'webgl', 'title': None, 'template': None, 'width': None, 'height': 800}\u001b[0m\u001b[1;34m\n",
      "        \u001b[0mconstructor \u001b[1;34m= <class 'plotly.graph_objs._scatter.Scatter'>\u001b[0m\n",
      "\u001b[0;32m   2077\u001b[0m \u001b[38;5;28;01mif\u001b[39;00m constructor \u001b[38;5;129;01min\u001b[39;00m [go\u001b[38;5;241m.\u001b[39mTreemap, go\u001b[38;5;241m.\u001b[39mSunburst, go\u001b[38;5;241m.\u001b[39mIcicle] \u001b[38;5;129;01mand\u001b[39;00m args[\u001b[38;5;124m\"\u001b[39m\u001b[38;5;124mpath\u001b[39m\u001b[38;5;124m\"\u001b[39m] \u001b[38;5;129;01mis\u001b[39;00m \u001b[38;5;129;01mnot\u001b[39;00m \u001b[38;5;28;01mNone\u001b[39;00m:\n",
      "\u001b[0;32m   2078\u001b[0m     args \u001b[38;5;241m=\u001b[39m process_dataframe_hierarchy(args)\n",
      "\n",
      "File \u001b[1;32mc:\\Users\\tyoma\\miniforge-pypy3\\envs\\magic-env\\Lib\\site-packages\\plotly\\express\\_core.py:1429\u001b[0m, in \u001b[0;36mbuild_dataframe\u001b[1;34m(\n",
      "    args={'animation_frame': None, 'animation_group': None, 'category_orders': None, 'color': None, 'color_continuous_midpoint': None, 'color_continuous_scale': None, 'color_discrete_map': None, 'color_discrete_sequence': None, 'custom_data': None, 'data_frame': shape: (37_670_293, 24)\n",
      "┌───────────┬───────────...─┴───────────┴───────────┴───────────┴──────────┘, ...},\n",
      "    constructor=<class 'plotly.graph_objs._scatter.Scatter'>\n",
      ")\u001b[0m\n",
      "\u001b[0;32m   1427\u001b[0m                 necessary_columns\u001b[38;5;241m.\u001b[39mupdate(i \u001b[38;5;28;01mfor\u001b[39;00m i \u001b[38;5;129;01min\u001b[39;00m args[field] \u001b[38;5;28;01mif\u001b[39;00m i \u001b[38;5;129;01min\u001b[39;00m columns)\n",
      "\u001b[0;32m   1428\u001b[0m         columns \u001b[38;5;241m=\u001b[39m \u001b[38;5;28mlist\u001b[39m(necessary_columns)\n",
      "\u001b[1;32m-> 1429\u001b[0m         args[\u001b[38;5;124m\"\u001b[39m\u001b[38;5;124mdata_frame\u001b[39m\u001b[38;5;124m\"\u001b[39m] \u001b[38;5;241m=\u001b[39m \u001b[43mpd\u001b[49m\u001b[38;5;241;43m.\u001b[39;49m\u001b[43mapi\u001b[49m\u001b[38;5;241;43m.\u001b[39;49m\u001b[43minterchange\u001b[49m\u001b[38;5;241;43m.\u001b[39;49m\u001b[43mfrom_dataframe\u001b[49m\u001b[43m(\u001b[49m\n",
      "        args \u001b[1;34m= {'data_frame': shape: (37_670_293, 24)\n",
      "┌───────────┬───────────┬───────────┬───────────┬───┬───────────┬───────────┬───────────┬──────────┐\n",
      "│ date_time ┆ site_name ┆ posa_cont ┆ user_loca ┆ … ┆ hotel_con ┆ hotel_cou ┆ hotel_mar ┆ hotel_cl │\n",
      "│ ---       ┆ ---       ┆ inent     ┆ tion_coun ┆   ┆ tinent    ┆ ntry      ┆ ket       ┆ uster    │\n",
      "│ str       ┆ u8        ┆ ---       ┆ try       ┆   ┆ ---       ┆ ---       ┆ ---       ┆ ---      │\n",
      "│           ┆           ┆ u8        ┆ ---       ┆   ┆ u8        ┆ u8        ┆ u16       ┆ u8       │\n",
      "│           ┆           ┆           ┆ u8        ┆   ┆           ┆           ┆           ┆          │\n",
      "╞═══════════╪═══════════╪═══════════╪═══════════╪═══╪═══════════╪═══════════╪═══════════╪══════════╡\n",
      "│ 2014-08-1 ┆ 2         ┆ 3         ┆ 66        ┆ … ┆ 2         ┆ 50        ┆ 628       ┆ 1        │\n",
      "│ 1         ┆           ┆           ┆           ┆   ┆           ┆           ┆           ┆          │\n",
      "│ 07:46:59  ┆           ┆           ┆           ┆   ┆           ┆           ┆           ┆          │\n",
      "│ 2014-08-1 ┆ 2         ┆ 3         ┆ 66        ┆ … ┆ 2         ┆ 50        ┆ 628       ┆ 1        │\n",
      "│ 1         ┆           ┆           ┆           ┆   ┆           ┆           ┆           ┆          │\n",
      "│ 08:22:12  ┆           ┆           ┆           ┆   ┆           ┆           ┆           ┆          │\n",
      "│ 2014-08-1 ┆ 2         ┆ 3         ┆ 66        ┆ … ┆ 2         ┆ 50        ┆ 628       ┆ 1        │\n",
      "│ 1         ┆           ┆           ┆           ┆   ┆           ┆           ┆           ┆          │\n",
      "│ 08:24:33  ┆           ┆           ┆           ┆   ┆           ┆           ┆           ┆          │\n",
      "│ 2014-08-0 ┆ 2         ┆ 3         ┆ 66        ┆ … ┆ 2         ┆ 50        ┆ 1457      ┆ 80       │\n",
      "│ 9         ┆           ┆           ┆           ┆   ┆           ┆           ┆           ┆          │\n",
      "│ 18:05:16  ┆           ┆           ┆           ┆   ┆           ┆           ┆           ┆          │\n",
      "│ 2014-08-0 ┆ 2         ┆ 3         ┆ 66        ┆ … ┆ 2         ┆ 50        ┆ 1457      ┆ 21       │\n",
      "│ 9         ┆           ┆           ┆           ┆   ┆           ┆           ┆           ┆          │\n",
      "│ 18:08:18  ┆           ┆           ┆           ┆   ┆           ┆           ┆           ┆          │\n",
      "│ …         ┆ …         ┆ …         ┆ …         ┆ … ┆ …         ┆ …         ┆ …         ┆ …        │\n",
      "│ 2014-09-0 ┆ 2         ┆ 3         ┆ 66        ┆ … ┆ 2         ┆ 50        ┆ 213       ┆ 26       │\n",
      "│ 2         ┆           ┆           ┆           ┆   ┆           ┆           ┆           ┆          │\n",
      "│ 08:08:28  ┆           ┆           ┆           ┆   ┆           ┆           ┆           ┆          │\n",
      "│ 2014-09-0 ┆ 2         ┆ 3         ┆ 66        ┆ … ┆ 2         ┆ 50        ┆ 663       ┆ 9        │\n",
      "│ 8         ┆           ┆           ┆           ┆   ┆           ┆           ┆           ┆          │\n",
      "│ 14:52:52  ┆           ┆           ┆           ┆   ┆           ┆           ┆           ┆          │\n",
      "│ 2014-09-1 ┆ 2         ┆ 3         ┆ 66        ┆ … ┆ 2         ┆ 50        ┆ 663       ┆ 94       │\n",
      "│ 5         ┆           ┆           ┆           ┆   ┆           ┆           ┆           ┆          │\n",
      "│ 06:56:51  ┆           ┆           ┆           ┆   ┆           ┆           ┆           ┆          │\n",
      "│ 2014-09-1 ┆ 2         ┆ 3         ┆ 66        ┆ … ┆ 2         ┆ 50        ┆ 592       ┆ 42       │\n",
      "│ 8         ┆           ┆           ┆           ┆   ┆           ┆           ┆           ┆          │\n",
      "│ 08:49:33  ┆           ┆           ┆           ┆   ┆           ┆           ┆           ┆          │\n",
      "│ 2014-09-1 ┆ 2         ┆ 3         ┆ 66        ┆ … ┆ 2         ┆ 50        ┆ 592       ┆ 42       │\n",
      "│ 8         ┆           ┆           ┆           ┆   ┆           ┆           ┆           ┆          │\n",
      "│ 08:52:42  ┆           ┆           ┆           ┆   ┆           ┆           ┆           ┆          │\n",
      "└───────────┴───────────┴───────────┴───────────┴───┴───────────┴───────────┴───────────┴──────────┘, 'x': shape: (37_670_293,)\n",
      "Series: 'date_time' [str]\n",
      "[\n",
      "\t\"2014-08-11 07:…\n",
      "\t\"2014-08-11 08:…\n",
      "\t\"2014-08-11 08:…\n",
      "\t\"2014-08-09 18:…\n",
      "\t\"2014-08-09 18:…\n",
      "\t…\n",
      "\t\"2014-09-02 08:…\n",
      "\t\"2014-09-08 14:…\n",
      "\t\"2014-09-15 06:…\n",
      "\t\"2014-09-18 08:…\n",
      "\t\"2014-09-18 08:…\n",
      "], 'y': shape: (37_670_293,)\n",
      "Series: 'date_time' [str]\n",
      "[\n",
      "\t\"2014-08-11 07:…\n",
      "\t\"2014-08-11 08:…\n",
      "\t\"2014-08-11 08:…\n",
      "\t\"2014-08-09 18:…\n",
      "\t\"2014-08-09 18:…\n",
      "\t…\n",
      "\t\"2014-09-02 08:…\n",
      "\t\"2014-09-08 14:…\n",
      "\t\"2014-09-15 06:…\n",
      "\t\"2014-09-18 08:…\n",
      "\t\"2014-09-18 08:…\n",
      "], 'color': None, 'symbol': None, 'size': None, 'hover_name': None, 'hover_data': None, 'custom_data': None, 'text': None, 'facet_row': None, 'facet_col': None, 'facet_col_wrap': 0, 'facet_row_spacing': None, 'facet_col_spacing': None, 'error_x': None, 'error_x_minus': None, 'error_y': None, 'error_y_minus': None, 'animation_frame': None, 'animation_group': None, 'category_orders': None, 'labels': None, 'orientation': None, 'color_discrete_sequence': None, 'color_discrete_map': None, 'color_continuous_scale': None, 'range_color': None, 'color_continuous_midpoint': None, 'symbol_sequence': None, 'symbol_map': None, 'opacity': None, 'size_max': None, 'marginal_x': None, 'marginal_y': None, 'trendline': None, 'trendline_options': None, 'trendline_color_override': None, 'trendline_scope': 'trace', 'log_x': False, 'log_y': False, 'range_x': None, 'range_y': None, 'render_mode': 'webgl', 'title': None, 'template': None, 'width': None, 'height': 800}\u001b[0m\u001b[1;34m\n",
      "        \u001b[0margs[\"data_frame\"] \u001b[1;34m= shape: (37_670_293, 24)\n",
      "┌───────────┬───────────┬───────────┬───────────┬───┬───────────┬───────────┬───────────┬──────────┐\n",
      "│ date_time ┆ site_name ┆ posa_cont ┆ user_loca ┆ … ┆ hotel_con ┆ hotel_cou ┆ hotel_mar ┆ hotel_cl │\n",
      "│ ---       ┆ ---       ┆ inent     ┆ tion_coun ┆   ┆ tinent    ┆ ntry      ┆ ket       ┆ uster    │\n",
      "│ str       ┆ u8        ┆ ---       ┆ try       ┆   ┆ ---       ┆ ---       ┆ ---       ┆ ---      │\n",
      "│           ┆           ┆ u8        ┆ ---       ┆   ┆ u8        ┆ u8        ┆ u16       ┆ u8       │\n",
      "│           ┆           ┆           ┆ u8        ┆   ┆           ┆           ┆           ┆          │\n",
      "╞═══════════╪═══════════╪═══════════╪═══════════╪═══╪═══════════╪═══════════╪═══════════╪══════════╡\n",
      "│ 2014-08-1 ┆ 2         ┆ 3         ┆ 66        ┆ … ┆ 2         ┆ 50        ┆ 628       ┆ 1        │\n",
      "│ 1         ┆           ┆           ┆           ┆   ┆           ┆           ┆           ┆          │\n",
      "│ 07:46:59  ┆           ┆           ┆           ┆   ┆           ┆           ┆           ┆          │\n",
      "│ 2014-08-1 ┆ 2         ┆ 3         ┆ 66        ┆ … ┆ 2         ┆ 50        ┆ 628       ┆ 1        │\n",
      "│ 1         ┆           ┆           ┆           ┆   ┆           ┆           ┆           ┆          │\n",
      "│ 08:22:12  ┆           ┆           ┆           ┆   ┆           ┆           ┆           ┆          │\n",
      "│ 2014-08-1 ┆ 2         ┆ 3         ┆ 66        ┆ … ┆ 2         ┆ 50        ┆ 628       ┆ 1        │\n",
      "│ 1         ┆           ┆           ┆           ┆   ┆           ┆           ┆           ┆          │\n",
      "│ 08:24:33  ┆           ┆           ┆           ┆   ┆           ┆           ┆           ┆          │\n",
      "│ 2014-08-0 ┆ 2         ┆ 3         ┆ 66        ┆ … ┆ 2         ┆ 50        ┆ 1457      ┆ 80       │\n",
      "│ 9         ┆           ┆           ┆           ┆   ┆           ┆           ┆           ┆          │\n",
      "│ 18:05:16  ┆           ┆           ┆           ┆   ┆           ┆           ┆           ┆          │\n",
      "│ 2014-08-0 ┆ 2         ┆ 3         ┆ 66        ┆ … ┆ 2         ┆ 50        ┆ 1457      ┆ 21       │\n",
      "│ 9         ┆           ┆           ┆           ┆   ┆           ┆           ┆           ┆          │\n",
      "│ 18:08:18  ┆           ┆           ┆           ┆   ┆           ┆           ┆           ┆          │\n",
      "│ …         ┆ …         ┆ …         ┆ …         ┆ … ┆ …         ┆ …         ┆ …         ┆ …        │\n",
      "│ 2014-09-0 ┆ 2         ┆ 3         ┆ 66        ┆ … ┆ 2         ┆ 50        ┆ 213       ┆ 26       │\n",
      "│ 2         ┆           ┆           ┆           ┆   ┆           ┆           ┆           ┆          │\n",
      "│ 08:08:28  ┆           ┆           ┆           ┆   ┆           ┆           ┆           ┆          │\n",
      "│ 2014-09-0 ┆ 2         ┆ 3         ┆ 66        ┆ … ┆ 2         ┆ 50        ┆ 663       ┆ 9        │\n",
      "│ 8         ┆           ┆           ┆           ┆   ┆           ┆           ┆           ┆          │\n",
      "│ 14:52:52  ┆           ┆           ┆           ┆   ┆           ┆           ┆           ┆          │\n",
      "│ 2014-09-1 ┆ 2         ┆ 3         ┆ 66        ┆ … ┆ 2         ┆ 50        ┆ 663       ┆ 94       │\n",
      "│ 5         ┆           ┆           ┆           ┆   ┆           ┆           ┆           ┆          │\n",
      "│ 06:56:51  ┆           ┆           ┆           ┆   ┆           ┆           ┆           ┆          │\n",
      "│ 2014-09-1 ┆ 2         ┆ 3         ┆ 66        ┆ … ┆ 2         ┆ 50        ┆ 592       ┆ 42       │\n",
      "│ 8         ┆           ┆           ┆           ┆   ┆           ┆           ┆           ┆          │\n",
      "│ 08:49:33  ┆           ┆           ┆           ┆   ┆           ┆           ┆           ┆          │\n",
      "│ 2014-09-1 ┆ 2         ┆ 3         ┆ 66        ┆ … ┆ 2         ┆ 50        ┆ 592       ┆ 42       │\n",
      "│ 8         ┆           ┆           ┆           ┆   ┆           ┆           ┆           ┆          │\n",
      "│ 08:52:42  ┆           ┆           ┆           ┆   ┆           ┆           ┆           ┆          │\n",
      "└───────────┴───────────┴───────────┴───────────┴───┴───────────┴───────────┴───────────┴──────────┘\u001b[0m\u001b[1;34m\n",
      "        \u001b[0mpd \u001b[1;34m= <module 'pandas' from 'c:\\\\Users\\\\tyoma\\\\miniforge-pypy3\\\\envs\\\\magic-env\\\\Lib\\\\site-packages\\\\pandas\\\\__init__.py'>\u001b[0m\u001b[1;34m\n",
      "        \u001b[0mpd.api.interchange \u001b[1;34m= <module 'pandas.api.interchange' from 'c:\\\\Users\\\\tyoma\\\\miniforge-pypy3\\\\envs\\\\magic-env\\\\Lib\\\\site-packages\\\\pandas\\\\api\\\\interchange\\\\__init__.py'>\u001b[0m\u001b[1;34m\n",
      "        \u001b[0mpd.api \u001b[1;34m= <module 'pandas.api' from 'c:\\\\Users\\\\tyoma\\\\miniforge-pypy3\\\\envs\\\\magic-env\\\\Lib\\\\site-packages\\\\pandas\\\\api\\\\__init__.py'>\u001b[0m\u001b[1;34m\n",
      "        \u001b[0mcolumns \u001b[1;34m= []\u001b[0m\n",
      "\u001b[0;32m   1430\u001b[0m \u001b[43m            \u001b[49m\u001b[43margs\u001b[49m\u001b[43m[\u001b[49m\u001b[38;5;124;43m\"\u001b[39;49m\u001b[38;5;124;43mdata_frame\u001b[39;49m\u001b[38;5;124;43m\"\u001b[39;49m\u001b[43m]\u001b[49m\u001b[38;5;241;43m.\u001b[39;49m\u001b[43mselect_columns_by_name\u001b[49m\u001b[43m(\u001b[49m\u001b[43mcolumns\u001b[49m\u001b[43m)\u001b[49m\n",
      "\u001b[0;32m   1431\u001b[0m \u001b[43m        \u001b[49m\u001b[43m)\u001b[49m\n",
      "\u001b[0;32m   1432\u001b[0m \u001b[38;5;28;01mexcept\u001b[39;00m (\u001b[38;5;167;01mImportError\u001b[39;00m, \u001b[38;5;167;01mNotImplementedError\u001b[39;00m) \u001b[38;5;28;01mas\u001b[39;00m exc:\n",
      "\u001b[0;32m   1433\u001b[0m     \u001b[38;5;66;03m# temporary workaround; developers of third-party libraries themselves\u001b[39;00m\n",
      "\u001b[0;32m   1434\u001b[0m     \u001b[38;5;66;03m# should try a different implementation, if available. For example:\u001b[39;00m\n",
      "\u001b[0;32m   1435\u001b[0m     \u001b[38;5;66;03m# def __dataframe__(self, ...):\u001b[39;00m\n",
      "\u001b[0;32m   1436\u001b[0m     \u001b[38;5;66;03m#   if not some_condition:\u001b[39;00m\n",
      "\u001b[0;32m   1437\u001b[0m     \u001b[38;5;66;03m#     self.to_pandas(...)\u001b[39;00m\n",
      "\u001b[0;32m   1438\u001b[0m     \u001b[38;5;28;01mif\u001b[39;00m \u001b[38;5;28mhasattr\u001b[39m(df_not_pandas, \u001b[38;5;124m\"\u001b[39m\u001b[38;5;124mtoPandas\u001b[39m\u001b[38;5;124m\"\u001b[39m):\n",
      "\n",
      "File \u001b[1;32mc:\\Users\\tyoma\\miniforge-pypy3\\envs\\magic-env\\Lib\\site-packages\\pandas\\core\\interchange\\from_dataframe.py:54\u001b[0m, in \u001b[0;36mfrom_dataframe\u001b[1;34m(\n",
      "    df=<polars.interchange.dataframe.PolarsDataFrame object>,\n",
      "    allow_copy=True\n",
      ")\u001b[0m\n",
      "\u001b[0;32m     51\u001b[0m \u001b[38;5;28;01mif\u001b[39;00m \u001b[38;5;129;01mnot\u001b[39;00m \u001b[38;5;28mhasattr\u001b[39m(df, \u001b[38;5;124m\"\u001b[39m\u001b[38;5;124m__dataframe__\u001b[39m\u001b[38;5;124m\"\u001b[39m):\n",
      "\u001b[0;32m     52\u001b[0m     \u001b[38;5;28;01mraise\u001b[39;00m \u001b[38;5;167;01mValueError\u001b[39;00m(\u001b[38;5;124m\"\u001b[39m\u001b[38;5;124m`df` does not support __dataframe__\u001b[39m\u001b[38;5;124m\"\u001b[39m)\n",
      "\u001b[1;32m---> 54\u001b[0m \u001b[38;5;28;01mreturn\u001b[39;00m \u001b[43m_from_dataframe\u001b[49m\u001b[43m(\u001b[49m\u001b[43mdf\u001b[49m\u001b[38;5;241;43m.\u001b[39;49m\u001b[43m__dataframe__\u001b[49m\u001b[43m(\u001b[49m\u001b[43mallow_copy\u001b[49m\u001b[38;5;241;43m=\u001b[39;49m\u001b[43mallow_copy\u001b[49m\u001b[43m)\u001b[49m\u001b[43m)\u001b[49m\n",
      "        df \u001b[1;34m= <polars.interchange.dataframe.PolarsDataFrame object at 0x0000021E84371A90>\u001b[0m\u001b[1;34m\n",
      "        \u001b[0mallow_copy \u001b[1;34m= True\u001b[0m\n",
      "\n",
      "File \u001b[1;32mc:\\Users\\tyoma\\miniforge-pypy3\\envs\\magic-env\\Lib\\site-packages\\pandas\\core\\interchange\\from_dataframe.py:74\u001b[0m, in \u001b[0;36m_from_dataframe\u001b[1;34m(\n",
      "    df=<polars.interchange.dataframe.PolarsDataFrame object>,\n",
      "    allow_copy=True\n",
      ")\u001b[0m\n",
      "\u001b[0;32m     58\u001b[0m \u001b[38;5;250m\u001b[39m\u001b[38;5;124;03m\"\"\"\u001b[39;00m\n",
      "\u001b[0;32m     59\u001b[0m \u001b[38;5;124;03mBuild a ``pd.DataFrame`` from the DataFrame interchange object.\u001b[39;00m\n",
      "\u001b[0;32m     60\u001b[0m \n",
      "\u001b[1;32m   (...)\u001b[0m\n",
      "\u001b[0;32m     71\u001b[0m \u001b[38;5;124;03mpd.DataFrame\u001b[39;00m\n",
      "\u001b[0;32m     72\u001b[0m \u001b[38;5;124;03m\"\"\"\u001b[39;00m\n",
      "\u001b[0;32m     73\u001b[0m pandas_dfs \u001b[38;5;241m=\u001b[39m []\n",
      "\u001b[1;32m---> 74\u001b[0m \u001b[43m\u001b[49m\u001b[38;5;28;43;01mfor\u001b[39;49;00m\u001b[43m \u001b[49m\u001b[43mchunk\u001b[49m\u001b[43m \u001b[49m\u001b[38;5;129;43;01min\u001b[39;49;00m\u001b[43m \u001b[49m\u001b[43mdf\u001b[49m\u001b[38;5;241;43m.\u001b[39;49m\u001b[43mget_chunks\u001b[49m\u001b[43m(\u001b[49m\u001b[43m)\u001b[49m\u001b[43m:\u001b[49m\n",
      "        df \u001b[1;34m= <polars.interchange.dataframe.PolarsDataFrame object at 0x0000021E84373290>\u001b[0m\n",
      "\u001b[0;32m     75\u001b[0m \u001b[43m    \u001b[49m\u001b[43mpandas_df\u001b[49m\u001b[43m \u001b[49m\u001b[38;5;241;43m=\u001b[39;49m\u001b[43m \u001b[49m\u001b[43mprotocol_df_chunk_to_pandas\u001b[49m\u001b[43m(\u001b[49m\u001b[43mchunk\u001b[49m\u001b[43m)\u001b[49m\n",
      "\u001b[0;32m     76\u001b[0m \u001b[43m    \u001b[49m\u001b[43mpandas_dfs\u001b[49m\u001b[38;5;241;43m.\u001b[39;49m\u001b[43mappend\u001b[49m\u001b[43m(\u001b[49m\u001b[43mpandas_df\u001b[49m\u001b[43m)\u001b[49m\n",
      "\n",
      "File \u001b[1;32mc:\\Users\\tyoma\\miniforge-pypy3\\envs\\magic-env\\Lib\\site-packages\\polars\\interchange\\dataframe.py:186\u001b[0m, in \u001b[0;36mPolarsDataFrame.get_chunks\u001b[1;34m(\n",
      "    self=<polars.interchange.dataframe.PolarsDataFrame object>,\n",
      "    n_chunks=None\n",
      ")\u001b[0m\n",
      "\u001b[0;32m    183\u001b[0m chunks \u001b[38;5;241m=\u001b[39m \u001b[38;5;28mself\u001b[39m\u001b[38;5;241m.\u001b[39m_get_chunks_from_col_chunks()\n",
      "\u001b[0;32m    185\u001b[0m \u001b[38;5;28;01mif\u001b[39;00m (n_chunks \u001b[38;5;129;01mis\u001b[39;00m \u001b[38;5;28;01mNone\u001b[39;00m) \u001b[38;5;129;01mor\u001b[39;00m (n_chunks \u001b[38;5;241m==\u001b[39m total_n_chunks):\n",
      "\u001b[1;32m--> 186\u001b[0m \u001b[43m    \u001b[49m\u001b[38;5;28;43;01mfor\u001b[39;49;00m\u001b[43m \u001b[49m\u001b[43mchunk\u001b[49m\u001b[43m \u001b[49m\u001b[38;5;129;43;01min\u001b[39;49;00m\u001b[43m \u001b[49m\u001b[43mchunks\u001b[49m\u001b[43m:\u001b[49m\n",
      "        chunks \u001b[1;34m= <generator object PolarsDataFrame._get_chunks_from_col_chunks at 0x0000021E82B62FC0>\u001b[0m\n",
      "\u001b[0;32m    187\u001b[0m \u001b[43m        \u001b[49m\u001b[38;5;28;43;01myield\u001b[39;49;00m\u001b[43m \u001b[49m\u001b[43mPolarsDataFrame\u001b[49m\u001b[43m(\u001b[49m\u001b[43mchunk\u001b[49m\u001b[43m,\u001b[49m\u001b[43m \u001b[49m\u001b[43mallow_copy\u001b[49m\u001b[38;5;241;43m=\u001b[39;49m\u001b[38;5;28;43mself\u001b[39;49m\u001b[38;5;241;43m.\u001b[39;49m\u001b[43m_allow_copy\u001b[49m\u001b[43m)\u001b[49m\n",
      "\u001b[0;32m    189\u001b[0m \u001b[38;5;28;01melif\u001b[39;00m (n_chunks \u001b[38;5;241m<\u001b[39m\u001b[38;5;241m=\u001b[39m \u001b[38;5;241m0\u001b[39m) \u001b[38;5;129;01mor\u001b[39;00m (n_chunks \u001b[38;5;241m%\u001b[39m total_n_chunks \u001b[38;5;241m!=\u001b[39m \u001b[38;5;241m0\u001b[39m):\n",
      "\n",
      "File \u001b[1;32mc:\\Users\\tyoma\\miniforge-pypy3\\envs\\magic-env\\Lib\\site-packages\\polars\\interchange\\dataframe.py:217\u001b[0m, in \u001b[0;36mPolarsDataFrame._get_chunks_from_col_chunks\u001b[1;34m(\n",
      "    self=<polars.interchange.dataframe.PolarsDataFrame object>\n",
      ")\u001b[0m\n",
      "\u001b[0;32m    210\u001b[0m \u001b[38;5;250m\u001b[39m\u001b[38;5;124;03m\"\"\"\u001b[39;00m\n",
      "\u001b[0;32m    211\u001b[0m \u001b[38;5;124;03mReturn chunks of this dataframe according to the chunks of the first column.\u001b[39;00m\n",
      "\u001b[0;32m    212\u001b[0m \n",
      "\u001b[0;32m    213\u001b[0m \u001b[38;5;124;03mIf columns are not all chunked identically, they will be rechunked like the\u001b[39;00m\n",
      "\u001b[0;32m    214\u001b[0m \u001b[38;5;124;03mfirst column. If copy is not allowed, this raises a RuntimeError.\u001b[39;00m\n",
      "\u001b[0;32m    215\u001b[0m \u001b[38;5;124;03m\"\"\"\u001b[39;00m\n",
      "\u001b[0;32m    216\u001b[0m col_chunks \u001b[38;5;241m=\u001b[39m \u001b[38;5;28mself\u001b[39m\u001b[38;5;241m.\u001b[39mget_column(\u001b[38;5;241m0\u001b[39m)\u001b[38;5;241m.\u001b[39mget_chunks()\n",
      "\u001b[1;32m--> 217\u001b[0m chunk_sizes \u001b[38;5;241m=\u001b[39m \u001b[43m[\u001b[49m\u001b[43mchunk\u001b[49m\u001b[38;5;241;43m.\u001b[39;49m\u001b[43msize\u001b[49m\u001b[43m(\u001b[49m\u001b[43m)\u001b[49m\u001b[43m \u001b[49m\u001b[38;5;28;43;01mfor\u001b[39;49;00m\u001b[43m \u001b[49m\u001b[43mchunk\u001b[49m\u001b[43m \u001b[49m\u001b[38;5;129;43;01min\u001b[39;49;00m\u001b[43m \u001b[49m\u001b[43mcol_chunks\u001b[49m\u001b[43m]\u001b[49m\n",
      "        col_chunks \u001b[1;34m= <generator object PolarsColumn.get_chunks at 0x0000021E84507600>\u001b[0m\n",
      "\u001b[0;32m    218\u001b[0m starts \u001b[38;5;241m=\u001b[39m [\u001b[38;5;241m0\u001b[39m] \u001b[38;5;241m+\u001b[39m \u001b[38;5;28mlist\u001b[39m(accumulate(chunk_sizes))\n",
      "\u001b[0;32m    220\u001b[0m \u001b[38;5;28;01mfor\u001b[39;00m i \u001b[38;5;129;01min\u001b[39;00m \u001b[38;5;28mrange\u001b[39m(\u001b[38;5;28mlen\u001b[39m(starts) \u001b[38;5;241m-\u001b[39m \u001b[38;5;241m1\u001b[39m):\n",
      "\n",
      "File \u001b[1;32mc:\\Users\\tyoma\\miniforge-pypy3\\envs\\magic-env\\Lib\\site-packages\\polars\\interchange\\dataframe.py:217\u001b[0m, in \u001b[0;36m<listcomp>\u001b[1;34m(\n",
      "    .0=<generator object PolarsColumn.get_chunks>\n",
      ")\u001b[0m\n",
      "\u001b[0;32m    210\u001b[0m \u001b[38;5;250m\u001b[39m\u001b[38;5;124;03m\"\"\"\u001b[39;00m\n",
      "\u001b[0;32m    211\u001b[0m \u001b[38;5;124;03mReturn chunks of this dataframe according to the chunks of the first column.\u001b[39;00m\n",
      "\u001b[0;32m    212\u001b[0m \n",
      "\u001b[0;32m    213\u001b[0m \u001b[38;5;124;03mIf columns are not all chunked identically, they will be rechunked like the\u001b[39;00m\n",
      "\u001b[0;32m    214\u001b[0m \u001b[38;5;124;03mfirst column. If copy is not allowed, this raises a RuntimeError.\u001b[39;00m\n",
      "\u001b[0;32m    215\u001b[0m \u001b[38;5;124;03m\"\"\"\u001b[39;00m\n",
      "\u001b[0;32m    216\u001b[0m col_chunks \u001b[38;5;241m=\u001b[39m \u001b[38;5;28mself\u001b[39m\u001b[38;5;241m.\u001b[39mget_column(\u001b[38;5;241m0\u001b[39m)\u001b[38;5;241m.\u001b[39mget_chunks()\n",
      "\u001b[1;32m--> 217\u001b[0m chunk_sizes \u001b[38;5;241m=\u001b[39m \u001b[43m[\u001b[49m\u001b[43mchunk\u001b[49m\u001b[38;5;241;43m.\u001b[39;49m\u001b[43msize\u001b[49m\u001b[43m(\u001b[49m\u001b[43m)\u001b[49m\u001b[43m \u001b[49m\u001b[38;5;28;43;01mfor\u001b[39;49;00m\u001b[43m \u001b[49m\u001b[43mchunk\u001b[49m\u001b[43m \u001b[49m\u001b[38;5;129;43;01min\u001b[39;49;00m\u001b[43m \u001b[49m\u001b[43mcol_chunks\u001b[49m\u001b[43m]\u001b[49m\n",
      "\u001b[0;32m    218\u001b[0m starts \u001b[38;5;241m=\u001b[39m [\u001b[38;5;241m0\u001b[39m] \u001b[38;5;241m+\u001b[39m \u001b[38;5;28mlist\u001b[39m(accumulate(chunk_sizes))\n",
      "\u001b[0;32m    220\u001b[0m \u001b[38;5;28;01mfor\u001b[39;00m i \u001b[38;5;129;01min\u001b[39;00m \u001b[38;5;28mrange\u001b[39m(\u001b[38;5;28mlen\u001b[39m(starts) \u001b[38;5;241m-\u001b[39m \u001b[38;5;241m1\u001b[39m):\n",
      "\n",
      "File \u001b[1;32mc:\\Users\\tyoma\\miniforge-pypy3\\envs\\magic-env\\Lib\\site-packages\\polars\\interchange\\column.py:125\u001b[0m, in \u001b[0;36mPolarsColumn.get_chunks\u001b[1;34m(\n",
      "    self=<polars.interchange.column.PolarsColumn object>,\n",
      "    n_chunks=None\n",
      ")\u001b[0m\n",
      "\u001b[0;32m    108\u001b[0m \u001b[38;5;28;01mdef\u001b[39;00m \u001b[38;5;21mget_chunks\u001b[39m(\u001b[38;5;28mself\u001b[39m, n_chunks: \u001b[38;5;28mint\u001b[39m \u001b[38;5;241m|\u001b[39m \u001b[38;5;28;01mNone\u001b[39;00m \u001b[38;5;241m=\u001b[39m \u001b[38;5;28;01mNone\u001b[39;00m) \u001b[38;5;241m-\u001b[39m\u001b[38;5;241m>\u001b[39m Iterator[PolarsColumn]:\n",
      "\u001b[0;32m    109\u001b[0m \u001b[38;5;250m    \u001b[39m\u001b[38;5;124;03m\"\"\"\u001b[39;00m\n",
      "\u001b[0;32m    110\u001b[0m \u001b[38;5;124;03m    Return an iterator yielding the column chunks.\u001b[39;00m\n",
      "\u001b[0;32m    111\u001b[0m \n",
      "\u001b[1;32m   (...)\u001b[0m\n",
      "\u001b[0;32m    123\u001b[0m \u001b[38;5;124;03m    boolean.\u001b[39;00m\n",
      "\u001b[0;32m    124\u001b[0m \u001b[38;5;124;03m    \"\"\"\u001b[39;00m\n",
      "\u001b[1;32m--> 125\u001b[0m     total_n_chunks \u001b[38;5;241m=\u001b[39m \u001b[38;5;28;43mself\u001b[39;49m\u001b[38;5;241;43m.\u001b[39;49m\u001b[43mnum_chunks\u001b[49m\u001b[43m(\u001b[49m\u001b[43m)\u001b[49m\n",
      "        self \u001b[1;34m= <polars.interchange.column.PolarsColumn object at 0x0000021E84372CD0>\u001b[0m\n",
      "\u001b[0;32m    126\u001b[0m     chunks \u001b[38;5;241m=\u001b[39m \u001b[38;5;28mself\u001b[39m\u001b[38;5;241m.\u001b[39m_col\u001b[38;5;241m.\u001b[39mget_chunks()\n",
      "\u001b[0;32m    128\u001b[0m     \u001b[38;5;28;01mif\u001b[39;00m (n_chunks \u001b[38;5;129;01mis\u001b[39;00m \u001b[38;5;28;01mNone\u001b[39;00m) \u001b[38;5;129;01mor\u001b[39;00m (n_chunks \u001b[38;5;241m==\u001b[39m total_n_chunks):\n",
      "\n",
      "File \u001b[1;32mc:\\Users\\tyoma\\miniforge-pypy3\\envs\\magic-env\\Lib\\site-packages\\polars\\interchange\\column.py:106\u001b[0m, in \u001b[0;36mPolarsColumn.num_chunks\u001b[1;34m(\n",
      "    self=<polars.interchange.column.PolarsColumn object>\n",
      ")\u001b[0m\n",
      "\u001b[0;32m    104\u001b[0m \u001b[38;5;28;01mdef\u001b[39;00m \u001b[38;5;21mnum_chunks\u001b[39m(\u001b[38;5;28mself\u001b[39m) \u001b[38;5;241m-\u001b[39m\u001b[38;5;241m>\u001b[39m \u001b[38;5;28mint\u001b[39m:\n",
      "\u001b[0;32m    105\u001b[0m \u001b[38;5;250m    \u001b[39m\u001b[38;5;124;03m\"\"\"Return the number of chunks the column consists of.\"\"\"\u001b[39;00m\n",
      "\u001b[1;32m--> 106\u001b[0m     \u001b[38;5;28;01mreturn\u001b[39;00m \u001b[38;5;28;43mself\u001b[39;49m\u001b[38;5;241;43m.\u001b[39;49m\u001b[43m_col\u001b[49m\u001b[38;5;241;43m.\u001b[39;49m\u001b[43mn_chunks\u001b[49m\u001b[43m(\u001b[49m\u001b[43m)\u001b[49m\n",
      "        Exception trying to inspect frame. No more locals available.\n",
      "\n",
      "File \u001b[1;32mc:\\Users\\tyoma\\miniforge-pypy3\\envs\\magic-env\\Lib\\site-packages\\polars\\series\\series.py:2945\u001b[0m, in \u001b[0;36mSeries.n_chunks\u001b[1;34m(\n",
      "    self=<class 'polars.series.series.Series'> instance\n",
      ")\u001b[0m\n",
      "\u001b[0;32m   2924\u001b[0m \u001b[38;5;28;01mdef\u001b[39;00m \u001b[38;5;21mn_chunks\u001b[39m(\u001b[38;5;28mself\u001b[39m) \u001b[38;5;241m-\u001b[39m\u001b[38;5;241m>\u001b[39m \u001b[38;5;28mint\u001b[39m:\n",
      "\u001b[0;32m   2925\u001b[0m \u001b[38;5;250m    \u001b[39m\u001b[38;5;124;03m\"\"\"\u001b[39;00m\n",
      "\u001b[0;32m   2926\u001b[0m \u001b[38;5;124;03m    Get the number of chunks that this Series contains.\u001b[39;00m\n",
      "\u001b[0;32m   2927\u001b[0m \n",
      "\u001b[1;32m   (...)\u001b[0m\n",
      "\u001b[0;32m   2943\u001b[0m \u001b[38;5;124;03m    2\u001b[39;00m\n",
      "\u001b[0;32m   2944\u001b[0m \u001b[38;5;124;03m    \"\"\"\u001b[39;00m\n",
      "\u001b[1;32m-> 2945\u001b[0m     \u001b[38;5;28;01mreturn\u001b[39;00m \u001b[38;5;28;43mself\u001b[39;49m\u001b[38;5;241;43m.\u001b[39;49m\u001b[43m_s\u001b[49m\u001b[38;5;241;43m.\u001b[39;49m\u001b[43mn_chunks\u001b[49m()\n",
      "        self._s \u001b[1;34m= None\u001b[0m\u001b[1;34m\n",
      "        \u001b[0mException trying to inspect frame. No more locals available.\n",
      "\n",
      "\u001b[1;31mAttributeError\u001b[0m: 'NoneType' object has no attribute 'n_chunks'\n",
      "\n",
      "\u001b[1;31m---------------------------------------------------------------------------\u001b[0m\n",
      "\u001b[1;31mAttributeError\u001b[0m                            Traceback (most recent call last)\n",
      "File \u001b[1;32mc:\\Users\\tyoma\\miniforge-pypy3\\envs\\magic-env\\Lib\\site-packages\\plotly\\express\\_chart_types.py:66\u001b[0m, in \u001b[0;36mscatter\u001b[1;34m(\n",
      "    data_frame=shape: (37_670_293, 24)\n",
      "┌───────────┬───────────...─┴───────────┴───────────┴───────────┴──────────┘,\n",
      "    x=shape: (37_670_293,)\n",
      "Series: 'date_time' [str]\n",
      "[...-09-15 06:…\n",
      "\t\"2014-09-18 08:…\n",
      "\t\"2014-09-18 08:…\n",
      "],\n",
      "    y=shape: (37_670_293,)\n",
      "Series: 'date_time' [str]\n",
      "[...-09-15 06:…\n",
      "\t\"2014-09-18 08:…\n",
      "\t\"2014-09-18 08:…\n",
      "],\n",
      "    color=None,\n",
      "    symbol=None,\n",
      "    size=None,\n",
      "    hover_name=None,\n",
      "    hover_data=None,\n",
      "    custom_data=None,\n",
      "    text=None,\n",
      "    facet_row=None,\n",
      "    facet_col=None,\n",
      "    facet_col_wrap=0,\n",
      "    facet_row_spacing=None,\n",
      "    facet_col_spacing=None,\n",
      "    error_x=None,\n",
      "    error_x_minus=None,\n",
      "    error_y=None,\n",
      "    error_y_minus=None,\n",
      "    animation_frame=None,\n",
      "    animation_group=None,\n",
      "    category_orders=None,\n",
      "    labels=None,\n",
      "    orientation=None,\n",
      "    color_discrete_sequence=None,\n",
      "    color_discrete_map=None,\n",
      "    color_continuous_scale=None,\n",
      "    range_color=None,\n",
      "    color_continuous_midpoint=None,\n",
      "    symbol_sequence=None,\n",
      "    symbol_map=None,\n",
      "    opacity=None,\n",
      "    size_max=None,\n",
      "    marginal_x=None,\n",
      "    marginal_y=None,\n",
      "    trendline=None,\n",
      "    trendline_options=None,\n",
      "    trendline_color_override=None,\n",
      "    trendline_scope='trace',\n",
      "    log_x=False,\n",
      "    log_y=False,\n",
      "    range_x=None,\n",
      "    range_y=None,\n",
      "    render_mode='webgl',\n",
      "    title=None,\n",
      "    template=None,\n",
      "    width=None,\n",
      "    height=800\n",
      ")\u001b[0m\n",
      "\u001b[0;32m     12\u001b[0m \u001b[38;5;28;01mdef\u001b[39;00m \u001b[38;5;21mscatter\u001b[39m(\n",
      "\u001b[0;32m     13\u001b[0m     data_frame\u001b[38;5;241m=\u001b[39m\u001b[38;5;28;01mNone\u001b[39;00m,\n",
      "\u001b[0;32m     14\u001b[0m     x\u001b[38;5;241m=\u001b[39m\u001b[38;5;28;01mNone\u001b[39;00m,\n",
      "\u001b[1;32m   (...)\u001b[0m\n",
      "\u001b[0;32m     60\u001b[0m     height\u001b[38;5;241m=\u001b[39m\u001b[38;5;28;01mNone\u001b[39;00m,\n",
      "\u001b[0;32m     61\u001b[0m ) \u001b[38;5;241m-\u001b[39m\u001b[38;5;241m>\u001b[39m go\u001b[38;5;241m.\u001b[39mFigure:\n",
      "\u001b[0;32m     62\u001b[0m \u001b[38;5;250m    \u001b[39m\u001b[38;5;124;03m\"\"\"\u001b[39;00m\n",
      "\u001b[0;32m     63\u001b[0m \u001b[38;5;124;03m    In a scatter plot, each row of `data_frame` is represented by a symbol\u001b[39;00m\n",
      "\u001b[0;32m     64\u001b[0m \u001b[38;5;124;03m    mark in 2D space.\u001b[39;00m\n",
      "\u001b[0;32m     65\u001b[0m \u001b[38;5;124;03m    \"\"\"\u001b[39;00m\n",
      "\u001b[1;32m---> 66\u001b[0m     \u001b[38;5;28;01mreturn\u001b[39;00m \u001b[43mmake_figure\u001b[49m\u001b[43m(\u001b[49m\u001b[43margs\u001b[49m\u001b[38;5;241;43m=\u001b[39;49m\u001b[38;5;28;43mlocals\u001b[39;49m\u001b[43m(\u001b[49m\u001b[43m)\u001b[49m\u001b[43m,\u001b[49m\u001b[43m \u001b[49m\u001b[43mconstructor\u001b[49m\u001b[38;5;241;43m=\u001b[39;49m\u001b[43mgo\u001b[49m\u001b[38;5;241;43m.\u001b[39;49m\u001b[43mScatter\u001b[49m\u001b[43m)\u001b[49m\n",
      "        go \u001b[1;34m= <module 'plotly.graph_objs' from 'c:\\\\Users\\\\tyoma\\\\miniforge-pypy3\\\\envs\\\\magic-env\\\\Lib\\\\site-packages\\\\plotly\\\\graph_objs\\\\__init__.py'>\u001b[0m\n",
      "\n",
      "File \u001b[1;32mc:\\Users\\tyoma\\miniforge-pypy3\\envs\\magic-env\\Lib\\site-packages\\plotly\\express\\_core.py:2076\u001b[0m, in \u001b[0;36mmake_figure\u001b[1;34m(\n",
      "    args={'animation_frame': None, 'animation_group': None, 'category_orders': None, 'color': None, 'color_continuous_midpoint': None, 'color_continuous_scale': None, 'color_discrete_map': None, 'color_discrete_sequence': None, 'custom_data': None, 'data_frame': shape: (37_670_293, 24)\n",
      "┌───────────┬───────────...─┴───────────┴───────────┴───────────┴──────────┘, ...},\n",
      "    constructor=<class 'plotly.graph_objs._scatter.Scatter'>,\n",
      "    trace_patch={},\n",
      "    layout_patch={}\n",
      ")\u001b[0m\n",
      "\u001b[0;32m   2073\u001b[0m layout_patch \u001b[38;5;241m=\u001b[39m layout_patch \u001b[38;5;129;01mor\u001b[39;00m {}\n",
      "\u001b[0;32m   2074\u001b[0m apply_default_cascade(args)\n",
      "\u001b[1;32m-> 2076\u001b[0m args \u001b[38;5;241m=\u001b[39m \u001b[43mbuild_dataframe\u001b[49m\u001b[43m(\u001b[49m\u001b[43margs\u001b[49m\u001b[43m,\u001b[49m\u001b[43m \u001b[49m\u001b[43mconstructor\u001b[49m\u001b[43m)\u001b[49m\n",
      "        args \u001b[1;34m= {'data_frame': shape: (37_670_293, 24)\n",
      "┌───────────┬───────────┬───────────┬───────────┬───┬───────────┬───────────┬───────────┬──────────┐\n",
      "│ date_time ┆ site_name ┆ posa_cont ┆ user_loca ┆ … ┆ hotel_con ┆ hotel_cou ┆ hotel_mar ┆ hotel_cl │\n",
      "│ ---       ┆ ---       ┆ inent     ┆ tion_coun ┆   ┆ tinent    ┆ ntry      ┆ ket       ┆ uster    │\n",
      "│ str       ┆ u8        ┆ ---       ┆ try       ┆   ┆ ---       ┆ ---       ┆ ---       ┆ ---      │\n",
      "│           ┆           ┆ u8        ┆ ---       ┆   ┆ u8        ┆ u8        ┆ u16       ┆ u8       │\n",
      "│           ┆           ┆           ┆ u8        ┆   ┆           ┆           ┆           ┆          │\n",
      "╞═══════════╪═══════════╪═══════════╪═══════════╪═══╪═══════════╪═══════════╪═══════════╪══════════╡\n",
      "│ 2014-08-1 ┆ 2         ┆ 3         ┆ 66        ┆ … ┆ 2         ┆ 50        ┆ 628       ┆ 1        │\n",
      "│ 1         ┆           ┆           ┆           ┆   ┆           ┆           ┆           ┆          │\n",
      "│ 07:46:59  ┆           ┆           ┆           ┆   ┆           ┆           ┆           ┆          │\n",
      "│ 2014-08-1 ┆ 2         ┆ 3         ┆ 66        ┆ … ┆ 2         ┆ 50        ┆ 628       ┆ 1        │\n",
      "│ 1         ┆           ┆           ┆           ┆   ┆           ┆           ┆           ┆          │\n",
      "│ 08:22:12  ┆           ┆           ┆           ┆   ┆           ┆           ┆           ┆          │\n",
      "│ 2014-08-1 ┆ 2         ┆ 3         ┆ 66        ┆ … ┆ 2         ┆ 50        ┆ 628       ┆ 1        │\n",
      "│ 1         ┆           ┆           ┆           ┆   ┆           ┆           ┆           ┆          │\n",
      "│ 08:24:33  ┆           ┆           ┆           ┆   ┆           ┆           ┆           ┆          │\n",
      "│ 2014-08-0 ┆ 2         ┆ 3         ┆ 66        ┆ … ┆ 2         ┆ 50        ┆ 1457      ┆ 80       │\n",
      "│ 9         ┆           ┆           ┆           ┆   ┆           ┆           ┆           ┆          │\n",
      "│ 18:05:16  ┆           ┆           ┆           ┆   ┆           ┆           ┆           ┆          │\n",
      "│ 2014-08-0 ┆ 2         ┆ 3         ┆ 66        ┆ … ┆ 2         ┆ 50        ┆ 1457      ┆ 21       │\n",
      "│ 9         ┆           ┆           ┆           ┆   ┆           ┆           ┆           ┆          │\n",
      "│ 18:08:18  ┆           ┆           ┆           ┆   ┆           ┆           ┆           ┆          │\n",
      "│ …         ┆ …         ┆ …         ┆ …         ┆ … ┆ …         ┆ …         ┆ …         ┆ …        │\n",
      "│ 2014-09-0 ┆ 2         ┆ 3         ┆ 66        ┆ … ┆ 2         ┆ 50        ┆ 213       ┆ 26       │\n",
      "│ 2         ┆           ┆           ┆           ┆   ┆           ┆           ┆           ┆          │\n",
      "│ 08:08:28  ┆           ┆           ┆           ┆   ┆           ┆           ┆           ┆          │\n",
      "│ 2014-09-0 ┆ 2         ┆ 3         ┆ 66        ┆ … ┆ 2         ┆ 50        ┆ 663       ┆ 9        │\n",
      "│ 8         ┆           ┆           ┆           ┆   ┆           ┆           ┆           ┆          │\n",
      "│ 14:52:52  ┆           ┆           ┆           ┆   ┆           ┆           ┆           ┆          │\n",
      "│ 2014-09-1 ┆ 2         ┆ 3         ┆ 66        ┆ … ┆ 2         ┆ 50        ┆ 663       ┆ 94       │\n",
      "│ 5         ┆           ┆           ┆           ┆   ┆           ┆           ┆           ┆          │\n",
      "│ 06:56:51  ┆           ┆           ┆           ┆   ┆           ┆           ┆           ┆          │\n",
      "│ 2014-09-1 ┆ 2         ┆ 3         ┆ 66        ┆ … ┆ 2         ┆ 50        ┆ 592       ┆ 42       │\n",
      "│ 8         ┆           ┆           ┆           ┆   ┆           ┆           ┆           ┆          │\n",
      "│ 08:49:33  ┆           ┆           ┆           ┆   ┆           ┆           ┆           ┆          │\n",
      "│ 2014-09-1 ┆ 2         ┆ 3         ┆ 66        ┆ … ┆ 2         ┆ 50        ┆ 592       ┆ 42       │\n",
      "│ 8         ┆           ┆           ┆           ┆   ┆           ┆           ┆           ┆          │\n",
      "│ 08:52:42  ┆           ┆           ┆           ┆   ┆           ┆           ┆           ┆          │\n",
      "└───────────┴───────────┴───────────┴───────────┴───┴───────────┴───────────┴───────────┴──────────┘, 'x': shape: (37_670_293,)\n",
      "Series: 'date_time' [str]\n",
      "[\n",
      "\t\"2014-08-11 07:…\n",
      "\t\"2014-08-11 08:…\n",
      "\t\"2014-08-11 08:…\n",
      "\t\"2014-08-09 18:…\n",
      "\t\"2014-08-09 18:…\n",
      "\t…\n",
      "\t\"2014-09-02 08:…\n",
      "\t\"2014-09-08 14:…\n",
      "\t\"2014-09-15 06:…\n",
      "\t\"2014-09-18 08:…\n",
      "\t\"2014-09-18 08:…\n",
      "], 'y': shape: (37_670_293,)\n",
      "Series: 'date_time' [str]\n",
      "[\n",
      "\t\"2014-08-11 07:…\n",
      "\t\"2014-08-11 08:…\n",
      "\t\"2014-08-11 08:…\n",
      "\t\"2014-08-09 18:…\n",
      "\t\"2014-08-09 18:…\n",
      "\t…\n",
      "\t\"2014-09-02 08:…\n",
      "\t\"2014-09-08 14:…\n",
      "\t\"2014-09-15 06:…\n",
      "\t\"2014-09-18 08:…\n",
      "\t\"2014-09-18 08:…\n",
      "], 'color': None, 'symbol': None, 'size': None, 'hover_name': None, 'hover_data': None, 'custom_data': None, 'text': None, 'facet_row': None, 'facet_col': None, 'facet_col_wrap': 0, 'facet_row_spacing': None, 'facet_col_spacing': None, 'error_x': None, 'error_x_minus': None, 'error_y': None, 'error_y_minus': None, 'animation_frame': None, 'animation_group': None, 'category_orders': None, 'labels': None, 'orientation': None, 'color_discrete_sequence': None, 'color_discrete_map': None, 'color_continuous_scale': None, 'range_color': None, 'color_continuous_midpoint': None, 'symbol_sequence': None, 'symbol_map': None, 'opacity': None, 'size_max': None, 'marginal_x': None, 'marginal_y': None, 'trendline': None, 'trendline_options': None, 'trendline_color_override': None, 'trendline_scope': 'trace', 'log_x': False, 'log_y': False, 'range_x': None, 'range_y': None, 'render_mode': 'webgl', 'title': None, 'template': None, 'width': None, 'height': 800}\u001b[0m\u001b[1;34m\n",
      "        \u001b[0mconstructor \u001b[1;34m= <class 'plotly.graph_objs._scatter.Scatter'>\u001b[0m\n",
      "\u001b[0;32m   2077\u001b[0m \u001b[38;5;28;01mif\u001b[39;00m constructor \u001b[38;5;129;01min\u001b[39;00m [go\u001b[38;5;241m.\u001b[39mTreemap, go\u001b[38;5;241m.\u001b[39mSunburst, go\u001b[38;5;241m.\u001b[39mIcicle] \u001b[38;5;129;01mand\u001b[39;00m args[\u001b[38;5;124m\"\u001b[39m\u001b[38;5;124mpath\u001b[39m\u001b[38;5;124m\"\u001b[39m] \u001b[38;5;129;01mis\u001b[39;00m \u001b[38;5;129;01mnot\u001b[39;00m \u001b[38;5;28;01mNone\u001b[39;00m:\n",
      "\u001b[0;32m   2078\u001b[0m     args \u001b[38;5;241m=\u001b[39m process_dataframe_hierarchy(args)\n",
      "\n",
      "File \u001b[1;32mc:\\Users\\tyoma\\miniforge-pypy3\\envs\\magic-env\\Lib\\site-packages\\plotly\\express\\_core.py:1429\u001b[0m, in \u001b[0;36mbuild_dataframe\u001b[1;34m(\n",
      "    args={'animation_frame': None, 'animation_group': None, 'category_orders': None, 'color': None, 'color_continuous_midpoint': None, 'color_continuous_scale': None, 'color_discrete_map': None, 'color_discrete_sequence': None, 'custom_data': None, 'data_frame': shape: (37_670_293, 24)\n",
      "┌───────────┬───────────...─┴───────────┴───────────┴───────────┴──────────┘, ...},\n",
      "    constructor=<class 'plotly.graph_objs._scatter.Scatter'>\n",
      ")\u001b[0m\n",
      "\u001b[0;32m   1427\u001b[0m                 necessary_columns\u001b[38;5;241m.\u001b[39mupdate(i \u001b[38;5;28;01mfor\u001b[39;00m i \u001b[38;5;129;01min\u001b[39;00m args[field] \u001b[38;5;28;01mif\u001b[39;00m i \u001b[38;5;129;01min\u001b[39;00m columns)\n",
      "\u001b[0;32m   1428\u001b[0m         columns \u001b[38;5;241m=\u001b[39m \u001b[38;5;28mlist\u001b[39m(necessary_columns)\n",
      "\u001b[1;32m-> 1429\u001b[0m         args[\u001b[38;5;124m\"\u001b[39m\u001b[38;5;124mdata_frame\u001b[39m\u001b[38;5;124m\"\u001b[39m] \u001b[38;5;241m=\u001b[39m \u001b[43mpd\u001b[49m\u001b[38;5;241;43m.\u001b[39;49m\u001b[43mapi\u001b[49m\u001b[38;5;241;43m.\u001b[39;49m\u001b[43minterchange\u001b[49m\u001b[38;5;241;43m.\u001b[39;49m\u001b[43mfrom_dataframe\u001b[49m\u001b[43m(\u001b[49m\n",
      "        args \u001b[1;34m= {'data_frame': shape: (37_670_293, 24)\n",
      "┌───────────┬───────────┬───────────┬───────────┬───┬───────────┬───────────┬───────────┬──────────┐\n",
      "│ date_time ┆ site_name ┆ posa_cont ┆ user_loca ┆ … ┆ hotel_con ┆ hotel_cou ┆ hotel_mar ┆ hotel_cl │\n",
      "│ ---       ┆ ---       ┆ inent     ┆ tion_coun ┆   ┆ tinent    ┆ ntry      ┆ ket       ┆ uster    │\n",
      "│ str       ┆ u8        ┆ ---       ┆ try       ┆   ┆ ---       ┆ ---       ┆ ---       ┆ ---      │\n",
      "│           ┆           ┆ u8        ┆ ---       ┆   ┆ u8        ┆ u8        ┆ u16       ┆ u8       │\n",
      "│           ┆           ┆           ┆ u8        ┆   ┆           ┆           ┆           ┆          │\n",
      "╞═══════════╪═══════════╪═══════════╪═══════════╪═══╪═══════════╪═══════════╪═══════════╪══════════╡\n",
      "│ 2014-08-1 ┆ 2         ┆ 3         ┆ 66        ┆ … ┆ 2         ┆ 50        ┆ 628       ┆ 1        │\n",
      "│ 1         ┆           ┆           ┆           ┆   ┆           ┆           ┆           ┆          │\n",
      "│ 07:46:59  ┆           ┆           ┆           ┆   ┆           ┆           ┆           ┆          │\n",
      "│ 2014-08-1 ┆ 2         ┆ 3         ┆ 66        ┆ … ┆ 2         ┆ 50        ┆ 628       ┆ 1        │\n",
      "│ 1         ┆           ┆           ┆           ┆   ┆           ┆           ┆           ┆          │\n",
      "│ 08:22:12  ┆           ┆           ┆           ┆   ┆           ┆           ┆           ┆          │\n",
      "│ 2014-08-1 ┆ 2         ┆ 3         ┆ 66        ┆ … ┆ 2         ┆ 50        ┆ 628       ┆ 1        │\n",
      "│ 1         ┆           ┆           ┆           ┆   ┆           ┆           ┆           ┆          │\n",
      "│ 08:24:33  ┆           ┆           ┆           ┆   ┆           ┆           ┆           ┆          │\n",
      "│ 2014-08-0 ┆ 2         ┆ 3         ┆ 66        ┆ … ┆ 2         ┆ 50        ┆ 1457      ┆ 80       │\n",
      "│ 9         ┆           ┆           ┆           ┆   ┆           ┆           ┆           ┆          │\n",
      "│ 18:05:16  ┆           ┆           ┆           ┆   ┆           ┆           ┆           ┆          │\n",
      "│ 2014-08-0 ┆ 2         ┆ 3         ┆ 66        ┆ … ┆ 2         ┆ 50        ┆ 1457      ┆ 21       │\n",
      "│ 9         ┆           ┆           ┆           ┆   ┆           ┆           ┆           ┆          │\n",
      "│ 18:08:18  ┆           ┆           ┆           ┆   ┆           ┆           ┆           ┆          │\n",
      "│ …         ┆ …         ┆ …         ┆ …         ┆ … ┆ …         ┆ …         ┆ …         ┆ …        │\n",
      "│ 2014-09-0 ┆ 2         ┆ 3         ┆ 66        ┆ … ┆ 2         ┆ 50        ┆ 213       ┆ 26       │\n",
      "│ 2         ┆           ┆           ┆           ┆   ┆           ┆           ┆           ┆          │\n",
      "│ 08:08:28  ┆           ┆           ┆           ┆   ┆           ┆           ┆           ┆          │\n",
      "│ 2014-09-0 ┆ 2         ┆ 3         ┆ 66        ┆ … ┆ 2         ┆ 50        ┆ 663       ┆ 9        │\n",
      "│ 8         ┆           ┆           ┆           ┆   ┆           ┆           ┆           ┆          │\n",
      "│ 14:52:52  ┆           ┆           ┆           ┆   ┆           ┆           ┆           ┆          │\n",
      "│ 2014-09-1 ┆ 2         ┆ 3         ┆ 66        ┆ … ┆ 2         ┆ 50        ┆ 663       ┆ 94       │\n",
      "│ 5         ┆           ┆           ┆           ┆   ┆           ┆           ┆           ┆          │\n",
      "│ 06:56:51  ┆           ┆           ┆           ┆   ┆           ┆           ┆           ┆          │\n",
      "│ 2014-09-1 ┆ 2         ┆ 3         ┆ 66        ┆ … ┆ 2         ┆ 50        ┆ 592       ┆ 42       │\n",
      "│ 8         ┆           ┆           ┆           ┆   ┆           ┆           ┆           ┆          │\n",
      "│ 08:49:33  ┆           ┆           ┆           ┆   ┆           ┆           ┆           ┆          │\n",
      "│ 2014-09-1 ┆ 2         ┆ 3         ┆ 66        ┆ … ┆ 2         ┆ 50        ┆ 592       ┆ 42       │\n",
      "│ 8         ┆           ┆           ┆           ┆   ┆           ┆           ┆           ┆          │\n",
      "│ 08:52:42  ┆           ┆           ┆           ┆   ┆           ┆           ┆           ┆          │\n",
      "└───────────┴───────────┴───────────┴───────────┴───┴───────────┴───────────┴───────────┴──────────┘, 'x': shape: (37_670_293,)\n",
      "Series: 'date_time' [str]\n",
      "[\n",
      "\t\"2014-08-11 07:…\n",
      "\t\"2014-08-11 08:…\n",
      "\t\"2014-08-11 08:…\n",
      "\t\"2014-08-09 18:…\n",
      "\t\"2014-08-09 18:…\n",
      "\t…\n",
      "\t\"2014-09-02 08:…\n",
      "\t\"2014-09-08 14:…\n",
      "\t\"2014-09-15 06:…\n",
      "\t\"2014-09-18 08:…\n",
      "\t\"2014-09-18 08:…\n",
      "], 'y': shape: (37_670_293,)\n",
      "Series: 'date_time' [str]\n",
      "[\n",
      "\t\"2014-08-11 07:…\n",
      "\t\"2014-08-11 08:…\n",
      "\t\"2014-08-11 08:…\n",
      "\t\"2014-08-09 18:…\n",
      "\t\"2014-08-09 18:…\n",
      "\t…\n",
      "\t\"2014-09-02 08:…\n",
      "\t\"2014-09-08 14:…\n",
      "\t\"2014-09-15 06:…\n",
      "\t\"2014-09-18 08:…\n",
      "\t\"2014-09-18 08:…\n",
      "], 'color': None, 'symbol': None, 'size': None, 'hover_name': None, 'hover_data': None, 'custom_data': None, 'text': None, 'facet_row': None, 'facet_col': None, 'facet_col_wrap': 0, 'facet_row_spacing': None, 'facet_col_spacing': None, 'error_x': None, 'error_x_minus': None, 'error_y': None, 'error_y_minus': None, 'animation_frame': None, 'animation_group': None, 'category_orders': None, 'labels': None, 'orientation': None, 'color_discrete_sequence': None, 'color_discrete_map': None, 'color_continuous_scale': None, 'range_color': None, 'color_continuous_midpoint': None, 'symbol_sequence': None, 'symbol_map': None, 'opacity': None, 'size_max': None, 'marginal_x': None, 'marginal_y': None, 'trendline': None, 'trendline_options': None, 'trendline_color_override': None, 'trendline_scope': 'trace', 'log_x': False, 'log_y': False, 'range_x': None, 'range_y': None, 'render_mode': 'webgl', 'title': None, 'template': None, 'width': None, 'height': 800}\u001b[0m\u001b[1;34m\n",
      "        \u001b[0margs[\"data_frame\"] \u001b[1;34m= shape: (37_670_293, 24)\n",
      "┌───────────┬───────────┬───────────┬───────────┬───┬───────────┬───────────┬───────────┬──────────┐\n",
      "│ date_time ┆ site_name ┆ posa_cont ┆ user_loca ┆ … ┆ hotel_con ┆ hotel_cou ┆ hotel_mar ┆ hotel_cl │\n",
      "│ ---       ┆ ---       ┆ inent     ┆ tion_coun ┆   ┆ tinent    ┆ ntry      ┆ ket       ┆ uster    │\n",
      "│ str       ┆ u8        ┆ ---       ┆ try       ┆   ┆ ---       ┆ ---       ┆ ---       ┆ ---      │\n",
      "│           ┆           ┆ u8        ┆ ---       ┆   ┆ u8        ┆ u8        ┆ u16       ┆ u8       │\n",
      "│           ┆           ┆           ┆ u8        ┆   ┆           ┆           ┆           ┆          │\n",
      "╞═══════════╪═══════════╪═══════════╪═══════════╪═══╪═══════════╪═══════════╪═══════════╪══════════╡\n",
      "│ 2014-08-1 ┆ 2         ┆ 3         ┆ 66        ┆ … ┆ 2         ┆ 50        ┆ 628       ┆ 1        │\n",
      "│ 1         ┆           ┆           ┆           ┆   ┆           ┆           ┆           ┆          │\n",
      "│ 07:46:59  ┆           ┆           ┆           ┆   ┆           ┆           ┆           ┆          │\n",
      "│ 2014-08-1 ┆ 2         ┆ 3         ┆ 66        ┆ … ┆ 2         ┆ 50        ┆ 628       ┆ 1        │\n",
      "│ 1         ┆           ┆           ┆           ┆   ┆           ┆           ┆           ┆          │\n",
      "│ 08:22:12  ┆           ┆           ┆           ┆   ┆           ┆           ┆           ┆          │\n",
      "│ 2014-08-1 ┆ 2         ┆ 3         ┆ 66        ┆ … ┆ 2         ┆ 50        ┆ 628       ┆ 1        │\n",
      "│ 1         ┆           ┆           ┆           ┆   ┆           ┆           ┆           ┆          │\n",
      "│ 08:24:33  ┆           ┆           ┆           ┆   ┆           ┆           ┆           ┆          │\n",
      "│ 2014-08-0 ┆ 2         ┆ 3         ┆ 66        ┆ … ┆ 2         ┆ 50        ┆ 1457      ┆ 80       │\n",
      "│ 9         ┆           ┆           ┆           ┆   ┆           ┆           ┆           ┆          │\n",
      "│ 18:05:16  ┆           ┆           ┆           ┆   ┆           ┆           ┆           ┆          │\n",
      "│ 2014-08-0 ┆ 2         ┆ 3         ┆ 66        ┆ … ┆ 2         ┆ 50        ┆ 1457      ┆ 21       │\n",
      "│ 9         ┆           ┆           ┆           ┆   ┆           ┆           ┆           ┆          │\n",
      "│ 18:08:18  ┆           ┆           ┆           ┆   ┆           ┆           ┆           ┆          │\n",
      "│ …         ┆ …         ┆ …         ┆ …         ┆ … ┆ …         ┆ …         ┆ …         ┆ …        │\n",
      "│ 2014-09-0 ┆ 2         ┆ 3         ┆ 66        ┆ … ┆ 2         ┆ 50        ┆ 213       ┆ 26       │\n",
      "│ 2         ┆           ┆           ┆           ┆   ┆           ┆           ┆           ┆          │\n",
      "│ 08:08:28  ┆           ┆           ┆           ┆   ┆           ┆           ┆           ┆          │\n",
      "│ 2014-09-0 ┆ 2         ┆ 3         ┆ 66        ┆ … ┆ 2         ┆ 50        ┆ 663       ┆ 9        │\n",
      "│ 8         ┆           ┆           ┆           ┆   ┆           ┆           ┆           ┆          │\n",
      "│ 14:52:52  ┆           ┆           ┆           ┆   ┆           ┆           ┆           ┆          │\n",
      "│ 2014-09-1 ┆ 2         ┆ 3         ┆ 66        ┆ … ┆ 2         ┆ 50        ┆ 663       ┆ 94       │\n",
      "│ 5         ┆           ┆           ┆           ┆   ┆           ┆           ┆           ┆          │\n",
      "│ 06:56:51  ┆           ┆           ┆           ┆   ┆           ┆           ┆           ┆          │\n",
      "│ 2014-09-1 ┆ 2         ┆ 3         ┆ 66        ┆ … ┆ 2         ┆ 50        ┆ 592       ┆ 42       │\n",
      "│ 8         ┆           ┆           ┆           ┆   ┆           ┆           ┆           ┆          │\n",
      "│ 08:49:33  ┆           ┆           ┆           ┆   ┆           ┆           ┆           ┆          │\n",
      "│ 2014-09-1 ┆ 2         ┆ 3         ┆ 66        ┆ … ┆ 2         ┆ 50        ┆ 592       ┆ 42       │\n",
      "│ 8         ┆           ┆           ┆           ┆   ┆           ┆           ┆           ┆          │\n",
      "│ 08:52:42  ┆           ┆           ┆           ┆   ┆           ┆           ┆           ┆          │\n",
      "└───────────┴───────────┴───────────┴───────────┴───┴───────────┴───────────┴───────────┴──────────┘\u001b[0m\u001b[1;34m\n",
      "        \u001b[0mpd \u001b[1;34m= <module 'pandas' from 'c:\\\\Users\\\\tyoma\\\\miniforge-pypy3\\\\envs\\\\magic-env\\\\Lib\\\\site-packages\\\\pandas\\\\__init__.py'>\u001b[0m\u001b[1;34m\n",
      "        \u001b[0mpd.api.interchange \u001b[1;34m= <module 'pandas.api.interchange' from 'c:\\\\Users\\\\tyoma\\\\miniforge-pypy3\\\\envs\\\\magic-env\\\\Lib\\\\site-packages\\\\pandas\\\\api\\\\interchange\\\\__init__.py'>\u001b[0m\u001b[1;34m\n",
      "        \u001b[0mpd.api \u001b[1;34m= <module 'pandas.api' from 'c:\\\\Users\\\\tyoma\\\\miniforge-pypy3\\\\envs\\\\magic-env\\\\Lib\\\\site-packages\\\\pandas\\\\api\\\\__init__.py'>\u001b[0m\u001b[1;34m\n",
      "        \u001b[0mcolumns \u001b[1;34m= []\u001b[0m\n",
      "\u001b[0;32m   1430\u001b[0m \u001b[43m            \u001b[49m\u001b[43margs\u001b[49m\u001b[43m[\u001b[49m\u001b[38;5;124;43m\"\u001b[39;49m\u001b[38;5;124;43mdata_frame\u001b[39;49m\u001b[38;5;124;43m\"\u001b[39;49m\u001b[43m]\u001b[49m\u001b[38;5;241;43m.\u001b[39;49m\u001b[43mselect_columns_by_name\u001b[49m\u001b[43m(\u001b[49m\u001b[43mcolumns\u001b[49m\u001b[43m)\u001b[49m\n",
      "\u001b[0;32m   1431\u001b[0m \u001b[43m        \u001b[49m\u001b[43m)\u001b[49m\n",
      "\u001b[0;32m   1432\u001b[0m \u001b[38;5;28;01mexcept\u001b[39;00m (\u001b[38;5;167;01mImportError\u001b[39;00m, \u001b[38;5;167;01mNotImplementedError\u001b[39;00m) \u001b[38;5;28;01mas\u001b[39;00m exc:\n",
      "\u001b[0;32m   1433\u001b[0m     \u001b[38;5;66;03m# temporary workaround; developers of third-party libraries themselves\u001b[39;00m\n",
      "\u001b[0;32m   1434\u001b[0m     \u001b[38;5;66;03m# should try a different implementation, if available. For example:\u001b[39;00m\n",
      "\u001b[0;32m   1435\u001b[0m     \u001b[38;5;66;03m# def __dataframe__(self, ...):\u001b[39;00m\n",
      "\u001b[0;32m   1436\u001b[0m     \u001b[38;5;66;03m#   if not some_condition:\u001b[39;00m\n",
      "\u001b[0;32m   1437\u001b[0m     \u001b[38;5;66;03m#     self.to_pandas(...)\u001b[39;00m\n",
      "\u001b[0;32m   1438\u001b[0m     \u001b[38;5;28;01mif\u001b[39;00m \u001b[38;5;28mhasattr\u001b[39m(df_not_pandas, \u001b[38;5;124m\"\u001b[39m\u001b[38;5;124mtoPandas\u001b[39m\u001b[38;5;124m\"\u001b[39m):\n",
      "\n",
      "File \u001b[1;32mc:\\Users\\tyoma\\miniforge-pypy3\\envs\\magic-env\\Lib\\site-packages\\pandas\\core\\interchange\\from_dataframe.py:54\u001b[0m, in \u001b[0;36mfrom_dataframe\u001b[1;34m(\n",
      "    df=<polars.interchange.dataframe.PolarsDataFrame object>,\n",
      "    allow_copy=True\n",
      ")\u001b[0m\n",
      "\u001b[0;32m     51\u001b[0m \u001b[38;5;28;01mif\u001b[39;00m \u001b[38;5;129;01mnot\u001b[39;00m \u001b[38;5;28mhasattr\u001b[39m(df, \u001b[38;5;124m\"\u001b[39m\u001b[38;5;124m__dataframe__\u001b[39m\u001b[38;5;124m\"\u001b[39m):\n",
      "\u001b[0;32m     52\u001b[0m     \u001b[38;5;28;01mraise\u001b[39;00m \u001b[38;5;167;01mValueError\u001b[39;00m(\u001b[38;5;124m\"\u001b[39m\u001b[38;5;124m`df` does not support __dataframe__\u001b[39m\u001b[38;5;124m\"\u001b[39m)\n",
      "\u001b[1;32m---> 54\u001b[0m \u001b[38;5;28;01mreturn\u001b[39;00m \u001b[43m_from_dataframe\u001b[49m\u001b[43m(\u001b[49m\u001b[43mdf\u001b[49m\u001b[38;5;241;43m.\u001b[39;49m\u001b[43m__dataframe__\u001b[49m\u001b[43m(\u001b[49m\u001b[43mallow_copy\u001b[49m\u001b[38;5;241;43m=\u001b[39;49m\u001b[43mallow_copy\u001b[49m\u001b[43m)\u001b[49m\u001b[43m)\u001b[49m\n",
      "        df \u001b[1;34m= <polars.interchange.dataframe.PolarsDataFrame object at 0x0000021E84533B90>\u001b[0m\u001b[1;34m\n",
      "        \u001b[0mallow_copy \u001b[1;34m= True\u001b[0m\n",
      "\n",
      "File \u001b[1;32mc:\\Users\\tyoma\\miniforge-pypy3\\envs\\magic-env\\Lib\\site-packages\\pandas\\core\\interchange\\from_dataframe.py:74\u001b[0m, in \u001b[0;36m_from_dataframe\u001b[1;34m(\n",
      "    df=<polars.interchange.dataframe.PolarsDataFrame object>,\n",
      "    allow_copy=True\n",
      ")\u001b[0m\n",
      "\u001b[0;32m     58\u001b[0m \u001b[38;5;250m\u001b[39m\u001b[38;5;124;03m\"\"\"\u001b[39;00m\n",
      "\u001b[0;32m     59\u001b[0m \u001b[38;5;124;03mBuild a ``pd.DataFrame`` from the DataFrame interchange object.\u001b[39;00m\n",
      "\u001b[0;32m     60\u001b[0m \n",
      "\u001b[1;32m   (...)\u001b[0m\n",
      "\u001b[0;32m     71\u001b[0m \u001b[38;5;124;03mpd.DataFrame\u001b[39;00m\n",
      "\u001b[0;32m     72\u001b[0m \u001b[38;5;124;03m\"\"\"\u001b[39;00m\n",
      "\u001b[0;32m     73\u001b[0m pandas_dfs \u001b[38;5;241m=\u001b[39m []\n",
      "\u001b[1;32m---> 74\u001b[0m \u001b[43m\u001b[49m\u001b[38;5;28;43;01mfor\u001b[39;49;00m\u001b[43m \u001b[49m\u001b[43mchunk\u001b[49m\u001b[43m \u001b[49m\u001b[38;5;129;43;01min\u001b[39;49;00m\u001b[43m \u001b[49m\u001b[43mdf\u001b[49m\u001b[38;5;241;43m.\u001b[39;49m\u001b[43mget_chunks\u001b[49m\u001b[43m(\u001b[49m\u001b[43m)\u001b[49m\u001b[43m:\u001b[49m\n",
      "        df \u001b[1;34m= <polars.interchange.dataframe.PolarsDataFrame object at 0x0000021E84566150>\u001b[0m\n",
      "\u001b[0;32m     75\u001b[0m \u001b[43m    \u001b[49m\u001b[43mpandas_df\u001b[49m\u001b[43m \u001b[49m\u001b[38;5;241;43m=\u001b[39;49m\u001b[43m \u001b[49m\u001b[43mprotocol_df_chunk_to_pandas\u001b[49m\u001b[43m(\u001b[49m\u001b[43mchunk\u001b[49m\u001b[43m)\u001b[49m\n",
      "\u001b[0;32m     76\u001b[0m \u001b[43m    \u001b[49m\u001b[43mpandas_dfs\u001b[49m\u001b[38;5;241;43m.\u001b[39;49m\u001b[43mappend\u001b[49m\u001b[43m(\u001b[49m\u001b[43mpandas_df\u001b[49m\u001b[43m)\u001b[49m\n",
      "\n",
      "File \u001b[1;32mc:\\Users\\tyoma\\miniforge-pypy3\\envs\\magic-env\\Lib\\site-packages\\polars\\interchange\\dataframe.py:186\u001b[0m, in \u001b[0;36mPolarsDataFrame.get_chunks\u001b[1;34m(\n",
      "    self=<polars.interchange.dataframe.PolarsDataFrame object>,\n",
      "    n_chunks=None\n",
      ")\u001b[0m\n",
      "\u001b[0;32m    183\u001b[0m chunks \u001b[38;5;241m=\u001b[39m \u001b[38;5;28mself\u001b[39m\u001b[38;5;241m.\u001b[39m_get_chunks_from_col_chunks()\n",
      "\u001b[0;32m    185\u001b[0m \u001b[38;5;28;01mif\u001b[39;00m (n_chunks \u001b[38;5;129;01mis\u001b[39;00m \u001b[38;5;28;01mNone\u001b[39;00m) \u001b[38;5;129;01mor\u001b[39;00m (n_chunks \u001b[38;5;241m==\u001b[39m total_n_chunks):\n",
      "\u001b[1;32m--> 186\u001b[0m \u001b[43m    \u001b[49m\u001b[38;5;28;43;01mfor\u001b[39;49;00m\u001b[43m \u001b[49m\u001b[43mchunk\u001b[49m\u001b[43m \u001b[49m\u001b[38;5;129;43;01min\u001b[39;49;00m\u001b[43m \u001b[49m\u001b[43mchunks\u001b[49m\u001b[43m:\u001b[49m\n",
      "        chunks \u001b[1;34m= <generator object PolarsDataFrame._get_chunks_from_col_chunks at 0x0000021E84580040>\u001b[0m\n",
      "\u001b[0;32m    187\u001b[0m \u001b[43m        \u001b[49m\u001b[38;5;28;43;01myield\u001b[39;49;00m\u001b[43m \u001b[49m\u001b[43mPolarsDataFrame\u001b[49m\u001b[43m(\u001b[49m\u001b[43mchunk\u001b[49m\u001b[43m,\u001b[49m\u001b[43m \u001b[49m\u001b[43mallow_copy\u001b[49m\u001b[38;5;241;43m=\u001b[39;49m\u001b[38;5;28;43mself\u001b[39;49m\u001b[38;5;241;43m.\u001b[39;49m\u001b[43m_allow_copy\u001b[49m\u001b[43m)\u001b[49m\n",
      "\u001b[0;32m    189\u001b[0m \u001b[38;5;28;01melif\u001b[39;00m (n_chunks \u001b[38;5;241m<\u001b[39m\u001b[38;5;241m=\u001b[39m \u001b[38;5;241m0\u001b[39m) \u001b[38;5;129;01mor\u001b[39;00m (n_chunks \u001b[38;5;241m%\u001b[39m total_n_chunks \u001b[38;5;241m!=\u001b[39m \u001b[38;5;241m0\u001b[39m):\n",
      "\n",
      "File \u001b[1;32mc:\\Users\\tyoma\\miniforge-pypy3\\envs\\magic-env\\Lib\\site-packages\\polars\\interchange\\dataframe.py:217\u001b[0m, in \u001b[0;36mPolarsDataFrame._get_chunks_from_col_chunks\u001b[1;34m(\n",
      "    self=<polars.interchange.dataframe.PolarsDataFrame object>\n",
      ")\u001b[0m\n",
      "\u001b[0;32m    210\u001b[0m \u001b[38;5;250m\u001b[39m\u001b[38;5;124;03m\"\"\"\u001b[39;00m\n",
      "\u001b[0;32m    211\u001b[0m \u001b[38;5;124;03mReturn chunks of this dataframe according to the chunks of the first column.\u001b[39;00m\n",
      "\u001b[0;32m    212\u001b[0m \n",
      "\u001b[0;32m    213\u001b[0m \u001b[38;5;124;03mIf columns are not all chunked identically, they will be rechunked like the\u001b[39;00m\n",
      "\u001b[0;32m    214\u001b[0m \u001b[38;5;124;03mfirst column. If copy is not allowed, this raises a RuntimeError.\u001b[39;00m\n",
      "\u001b[0;32m    215\u001b[0m \u001b[38;5;124;03m\"\"\"\u001b[39;00m\n",
      "\u001b[0;32m    216\u001b[0m col_chunks \u001b[38;5;241m=\u001b[39m \u001b[38;5;28mself\u001b[39m\u001b[38;5;241m.\u001b[39mget_column(\u001b[38;5;241m0\u001b[39m)\u001b[38;5;241m.\u001b[39mget_chunks()\n",
      "\u001b[1;32m--> 217\u001b[0m chunk_sizes \u001b[38;5;241m=\u001b[39m \u001b[43m[\u001b[49m\u001b[43mchunk\u001b[49m\u001b[38;5;241;43m.\u001b[39;49m\u001b[43msize\u001b[49m\u001b[43m(\u001b[49m\u001b[43m)\u001b[49m\u001b[43m \u001b[49m\u001b[38;5;28;43;01mfor\u001b[39;49;00m\u001b[43m \u001b[49m\u001b[43mchunk\u001b[49m\u001b[43m \u001b[49m\u001b[38;5;129;43;01min\u001b[39;49;00m\u001b[43m \u001b[49m\u001b[43mcol_chunks\u001b[49m\u001b[43m]\u001b[49m\n",
      "        col_chunks \u001b[1;34m= <generator object PolarsColumn.get_chunks at 0x0000021E845A8680>\u001b[0m\n",
      "\u001b[0;32m    218\u001b[0m starts \u001b[38;5;241m=\u001b[39m [\u001b[38;5;241m0\u001b[39m] \u001b[38;5;241m+\u001b[39m \u001b[38;5;28mlist\u001b[39m(accumulate(chunk_sizes))\n",
      "\u001b[0;32m    220\u001b[0m \u001b[38;5;28;01mfor\u001b[39;00m i \u001b[38;5;129;01min\u001b[39;00m \u001b[38;5;28mrange\u001b[39m(\u001b[38;5;28mlen\u001b[39m(starts) \u001b[38;5;241m-\u001b[39m \u001b[38;5;241m1\u001b[39m):\n",
      "\n",
      "File \u001b[1;32mc:\\Users\\tyoma\\miniforge-pypy3\\envs\\magic-env\\Lib\\site-packages\\polars\\interchange\\dataframe.py:217\u001b[0m, in \u001b[0;36m<listcomp>\u001b[1;34m(\n",
      "    .0=<generator object PolarsColumn.get_chunks>\n",
      ")\u001b[0m\n",
      "\u001b[0;32m    210\u001b[0m \u001b[38;5;250m\u001b[39m\u001b[38;5;124;03m\"\"\"\u001b[39;00m\n",
      "\u001b[0;32m    211\u001b[0m \u001b[38;5;124;03mReturn chunks of this dataframe according to the chunks of the first column.\u001b[39;00m\n",
      "\u001b[0;32m    212\u001b[0m \n",
      "\u001b[0;32m    213\u001b[0m \u001b[38;5;124;03mIf columns are not all chunked identically, they will be rechunked like the\u001b[39;00m\n",
      "\u001b[0;32m    214\u001b[0m \u001b[38;5;124;03mfirst column. If copy is not allowed, this raises a RuntimeError.\u001b[39;00m\n",
      "\u001b[0;32m    215\u001b[0m \u001b[38;5;124;03m\"\"\"\u001b[39;00m\n",
      "\u001b[0;32m    216\u001b[0m col_chunks \u001b[38;5;241m=\u001b[39m \u001b[38;5;28mself\u001b[39m\u001b[38;5;241m.\u001b[39mget_column(\u001b[38;5;241m0\u001b[39m)\u001b[38;5;241m.\u001b[39mget_chunks()\n",
      "\u001b[1;32m--> 217\u001b[0m chunk_sizes \u001b[38;5;241m=\u001b[39m \u001b[43m[\u001b[49m\u001b[43mchunk\u001b[49m\u001b[38;5;241;43m.\u001b[39;49m\u001b[43msize\u001b[49m\u001b[43m(\u001b[49m\u001b[43m)\u001b[49m\u001b[43m \u001b[49m\u001b[38;5;28;43;01mfor\u001b[39;49;00m\u001b[43m \u001b[49m\u001b[43mchunk\u001b[49m\u001b[43m \u001b[49m\u001b[38;5;129;43;01min\u001b[39;49;00m\u001b[43m \u001b[49m\u001b[43mcol_chunks\u001b[49m\u001b[43m]\u001b[49m\n",
      "\u001b[0;32m    218\u001b[0m starts \u001b[38;5;241m=\u001b[39m [\u001b[38;5;241m0\u001b[39m] \u001b[38;5;241m+\u001b[39m \u001b[38;5;28mlist\u001b[39m(accumulate(chunk_sizes))\n",
      "\u001b[0;32m    220\u001b[0m \u001b[38;5;28;01mfor\u001b[39;00m i \u001b[38;5;129;01min\u001b[39;00m \u001b[38;5;28mrange\u001b[39m(\u001b[38;5;28mlen\u001b[39m(starts) \u001b[38;5;241m-\u001b[39m \u001b[38;5;241m1\u001b[39m):\n",
      "\n",
      "File \u001b[1;32mc:\\Users\\tyoma\\miniforge-pypy3\\envs\\magic-env\\Lib\\site-packages\\polars\\interchange\\column.py:125\u001b[0m, in \u001b[0;36mPolarsColumn.get_chunks\u001b[1;34m(\n",
      "    self=<polars.interchange.column.PolarsColumn object>,\n",
      "    n_chunks=None\n",
      ")\u001b[0m\n",
      "\u001b[0;32m    108\u001b[0m \u001b[38;5;28;01mdef\u001b[39;00m \u001b[38;5;21mget_chunks\u001b[39m(\u001b[38;5;28mself\u001b[39m, n_chunks: \u001b[38;5;28mint\u001b[39m \u001b[38;5;241m|\u001b[39m \u001b[38;5;28;01mNone\u001b[39;00m \u001b[38;5;241m=\u001b[39m \u001b[38;5;28;01mNone\u001b[39;00m) \u001b[38;5;241m-\u001b[39m\u001b[38;5;241m>\u001b[39m Iterator[PolarsColumn]:\n",
      "\u001b[0;32m    109\u001b[0m \u001b[38;5;250m    \u001b[39m\u001b[38;5;124;03m\"\"\"\u001b[39;00m\n",
      "\u001b[0;32m    110\u001b[0m \u001b[38;5;124;03m    Return an iterator yielding the column chunks.\u001b[39;00m\n",
      "\u001b[0;32m    111\u001b[0m \n",
      "\u001b[1;32m   (...)\u001b[0m\n",
      "\u001b[0;32m    123\u001b[0m \u001b[38;5;124;03m    boolean.\u001b[39;00m\n",
      "\u001b[0;32m    124\u001b[0m \u001b[38;5;124;03m    \"\"\"\u001b[39;00m\n",
      "\u001b[1;32m--> 125\u001b[0m     total_n_chunks \u001b[38;5;241m=\u001b[39m \u001b[38;5;28;43mself\u001b[39;49m\u001b[38;5;241;43m.\u001b[39;49m\u001b[43mnum_chunks\u001b[49m\u001b[43m(\u001b[49m\u001b[43m)\u001b[49m\n",
      "        self \u001b[1;34m= <polars.interchange.column.PolarsColumn object at 0x0000021E8454D390>\u001b[0m\n",
      "\u001b[0;32m    126\u001b[0m     chunks \u001b[38;5;241m=\u001b[39m \u001b[38;5;28mself\u001b[39m\u001b[38;5;241m.\u001b[39m_col\u001b[38;5;241m.\u001b[39mget_chunks()\n",
      "\u001b[0;32m    128\u001b[0m     \u001b[38;5;28;01mif\u001b[39;00m (n_chunks \u001b[38;5;129;01mis\u001b[39;00m \u001b[38;5;28;01mNone\u001b[39;00m) \u001b[38;5;129;01mor\u001b[39;00m (n_chunks \u001b[38;5;241m==\u001b[39m total_n_chunks):\n",
      "\n",
      "File \u001b[1;32mc:\\Users\\tyoma\\miniforge-pypy3\\envs\\magic-env\\Lib\\site-packages\\polars\\interchange\\column.py:106\u001b[0m, in \u001b[0;36mPolarsColumn.num_chunks\u001b[1;34m(\n",
      "    self=<polars.interchange.column.PolarsColumn object>\n",
      ")\u001b[0m\n",
      "\u001b[0;32m    104\u001b[0m \u001b[38;5;28;01mdef\u001b[39;00m \u001b[38;5;21mnum_chunks\u001b[39m(\u001b[38;5;28mself\u001b[39m) \u001b[38;5;241m-\u001b[39m\u001b[38;5;241m>\u001b[39m \u001b[38;5;28mint\u001b[39m:\n",
      "\u001b[0;32m    105\u001b[0m \u001b[38;5;250m    \u001b[39m\u001b[38;5;124;03m\"\"\"Return the number of chunks the column consists of.\"\"\"\u001b[39;00m\n",
      "\u001b[1;32m--> 106\u001b[0m     \u001b[38;5;28;01mreturn\u001b[39;00m \u001b[38;5;28;43mself\u001b[39;49m\u001b[38;5;241;43m.\u001b[39;49m\u001b[43m_col\u001b[49m\u001b[38;5;241;43m.\u001b[39;49m\u001b[43mn_chunks\u001b[49m\u001b[43m(\u001b[49m\u001b[43m)\u001b[49m\n",
      "        Exception trying to inspect frame. No more locals available.\n",
      "\n",
      "File \u001b[1;32mc:\\Users\\tyoma\\miniforge-pypy3\\envs\\magic-env\\Lib\\site-packages\\polars\\series\\series.py:2945\u001b[0m, in \u001b[0;36mSeries.n_chunks\u001b[1;34m(\n",
      "    self=<class 'polars.series.series.Series'> instance\n",
      ")\u001b[0m\n",
      "\u001b[0;32m   2924\u001b[0m \u001b[38;5;28;01mdef\u001b[39;00m \u001b[38;5;21mn_chunks\u001b[39m(\u001b[38;5;28mself\u001b[39m) \u001b[38;5;241m-\u001b[39m\u001b[38;5;241m>\u001b[39m \u001b[38;5;28mint\u001b[39m:\n",
      "\u001b[0;32m   2925\u001b[0m \u001b[38;5;250m    \u001b[39m\u001b[38;5;124;03m\"\"\"\u001b[39;00m\n",
      "\u001b[0;32m   2926\u001b[0m \u001b[38;5;124;03m    Get the number of chunks that this Series contains.\u001b[39;00m\n",
      "\u001b[0;32m   2927\u001b[0m \n",
      "\u001b[1;32m   (...)\u001b[0m\n",
      "\u001b[0;32m   2943\u001b[0m \u001b[38;5;124;03m    2\u001b[39;00m\n",
      "\u001b[0;32m   2944\u001b[0m \u001b[38;5;124;03m    \"\"\"\u001b[39;00m\n",
      "\u001b[1;32m-> 2945\u001b[0m     \u001b[38;5;28;01mreturn\u001b[39;00m \u001b[38;5;28;43mself\u001b[39;49m\u001b[38;5;241;43m.\u001b[39;49m\u001b[43m_s\u001b[49m\u001b[38;5;241;43m.\u001b[39;49m\u001b[43mn_chunks\u001b[49m()\n",
      "        self._s \u001b[1;34m= None\u001b[0m\u001b[1;34m\n",
      "        \u001b[0mException trying to inspect frame. No more locals available.\n",
      "\n",
      "\u001b[1;31mAttributeError\u001b[0m: 'NoneType' object has no attribute 'n_chunks'\n",
      "\n"
     ]
    }
   ],
   "source": [
    "from enum import Enum\n",
    "from functools import partial\n",
    "\n",
    "from dash import Dash, dcc, html, Input, Output\n",
    "from pandas import DataFrame\n",
    "from plotly.graph_objects import Figure\n",
    "\n",
    "import plotly.express as px\n",
    "\n",
    "DASH_PORT = 8050\n",
    "FIGURE_HEIGHT = 800\n",
    "\n",
    "\n",
    "class FeatureType(Enum):\n",
    "    NUMERICAL = 'numerical'\n",
    "    CATEGORICAL = 'categorical'\n",
    "\n",
    "\n",
    "def get_feature_type(feature: str) -> FeatureType:\n",
    "    return FeatureType.NUMERICAL if feature in numerical_columns else FeatureType.CATEGORICAL\n",
    "\n",
    "\n",
    "def make_interactive_plot(x_columns: list[str], y_columns: list[str], title: str | None = None,\n",
    "                          *, df: DataFrame = df) -> Dash:\n",
    "    \"\"\"\n",
    "    Creates interactive plot for given x and y columns\n",
    "    :param x_columns: x columns to display\n",
    "    :param y_columns: y columns to display\n",
    "    :param title: title of the plot\n",
    "    :param df: dataframe, default is data\n",
    "    :return: Dash with interactive plot\n",
    "    \"\"\"\n",
    "    assert set(x_columns).issubset(set(df.columns)), 'x_columns must be in data.columns'\n",
    "    assert set(y_columns).issubset(set(df.columns)), 'y_columns must be in data.columns'\n",
    "    assert len(x_columns) > 0\n",
    "    assert len(y_columns) > 0\n",
    "\n",
    "    if title is None:\n",
    "        title = ', '.join(x_columns) + ' to ' + ', '.join(y_columns)\n",
    "\n",
    "    app = Dash(__name__)\n",
    "    display_types = {\n",
    "        (FeatureType.NUMERICAL, FeatureType.NUMERICAL): partial(px.scatter, render_mode='webgl'),\n",
    "        (FeatureType.NUMERICAL, FeatureType.CATEGORICAL): px.box,\n",
    "        (FeatureType.CATEGORICAL, FeatureType.NUMERICAL): px.box,\n",
    "        (FeatureType.CATEGORICAL, FeatureType.CATEGORICAL): px.bar\n",
    "    }\n",
    "    app.layout = html.Div([\n",
    "        html.H5(title),\n",
    "        html.A('Open in browser', href=f'http://localhost:{DASH_PORT}'),\n",
    "        html.P('x-axis:'),\n",
    "        dcc.RadioItems(\n",
    "            id='x-axis',\n",
    "            options=x_columns,\n",
    "            value=x_columns[0],\n",
    "            inline=True,\n",
    "        ),\n",
    "        html.P('y-axis:'),\n",
    "        dcc.RadioItems(\n",
    "            id='y-axis',\n",
    "            options=y_columns,\n",
    "            value=y_columns[0],\n",
    "            inline=True,\n",
    "        ),\n",
    "        dcc.Graph(id='graph')\n",
    "    ], style={\"height\": \"1300px\", \"overflowY\": \"auto\"},)\n",
    "\n",
    "    @app.callback(\n",
    "        Output('graph', 'figure'),\n",
    "        Input('x-axis', 'value'),\n",
    "        Input('y-axis', 'value')\n",
    "    )\n",
    "    def generate_chart(x_value: str, y_value: str) -> Figure:\n",
    "        x_type = get_feature_type(x_value)\n",
    "        y_type = get_feature_type(y_value)\n",
    "        if x_type == y_type == FeatureType.CATEGORICAL:\n",
    "            return px.histogram(df, x=x_value, color=y_value, height=FIGURE_HEIGHT, histnorm='probability density')\n",
    "        return display_types[x_type, y_type](df.as, x=df[x_value], y=df[y_value], height=FIGURE_HEIGHT)\n",
    "\n",
    "    return app\n",
    "\n",
    "\n",
    "app = make_interactive_plot(df.columns, df.columns, 'Title')\n",
    "app.run_server(port=DASH_PORT, debug=True)"
   ]
  }
 ],
 "metadata": {
  "kernelspec": {
   "display_name": "Python 3 (ipykernel)",
   "language": "python",
   "name": "python3"
  },
  "language_info": {
   "codemirror_mode": {
    "name": "ipython",
    "version": 3
   },
   "file_extension": ".py",
   "mimetype": "text/x-python",
   "name": "python",
   "nbconvert_exporter": "python",
   "pygments_lexer": "ipython3",
   "version": "3.11.7"
  }
 },
 "nbformat": 4,
 "nbformat_minor": 5
}
