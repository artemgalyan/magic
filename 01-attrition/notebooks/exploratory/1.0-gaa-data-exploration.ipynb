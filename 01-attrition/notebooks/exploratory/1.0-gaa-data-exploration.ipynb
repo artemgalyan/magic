{
 "cells": [
  {
   "cell_type": "code",
   "execution_count": 1,
   "id": "3f00a10bf18e0905",
   "metadata": {
    "collapsed": false,
    "ExecuteTime": {
     "end_time": "2024-02-02T12:42:15.875700700Z",
     "start_time": "2024-02-02T12:42:14.417294200Z"
    }
   },
   "outputs": [],
   "source": [
    "from pandas import read_csv\n",
    "\n",
    "data = read_csv('../../data/interim/data.csv')"
   ]
  },
  {
   "cell_type": "code",
   "execution_count": 2,
   "id": "95b902973304c969",
   "metadata": {
    "collapsed": false,
    "ExecuteTime": {
     "end_time": "2024-01-31T10:41:00.418118400Z",
     "start_time": "2024-01-31T10:41:00.314920800Z"
    }
   },
   "outputs": [],
   "source": [
    "ID_COLUMN = 'EmployeeID'"
   ]
  },
  {
   "cell_type": "code",
   "execution_count": 3,
   "id": "9bae72b53491ae50",
   "metadata": {
    "collapsed": false,
    "ExecuteTime": {
     "end_time": "2024-01-31T10:41:06.833059500Z",
     "start_time": "2024-01-31T10:41:06.561713300Z"
    }
   },
   "outputs": [
    {
     "data": {
      "text/plain": "        Unnamed: 0          Age  DistanceFromHome  EmployeeCount   EmployeeID  \\\ncount  4410.000000  4410.000000       4410.000000         4410.0  4410.000000   \nmean   2204.500000    36.923810          9.192517            1.0  2205.500000   \nstd    1273.201673     9.133301          8.105026            0.0  1273.201673   \nmin       0.000000    18.000000          1.000000            1.0     1.000000   \n25%    1102.250000    30.000000          2.000000            1.0  1103.250000   \n50%    2204.500000    36.000000          7.000000            1.0  2205.500000   \n75%    3306.750000    43.000000         14.000000            1.0  3307.750000   \nmax    4409.000000    60.000000         29.000000            1.0  4410.000000   \n\n          JobLevel  MonthlyIncome  NumCompaniesWorked  PercentSalaryHike  \\\ncount  4410.000000    4410.000000         4391.000000        4410.000000   \nmean      2.063946   65029.312925            2.694830          15.209524   \nstd       1.106689   47068.888559            2.498887           3.659108   \nmin       1.000000   10090.000000            0.000000          11.000000   \n25%       1.000000   29110.000000            1.000000          12.000000   \n50%       2.000000   49190.000000            2.000000          14.000000   \n75%       3.000000   83800.000000            4.000000          18.000000   \nmax       5.000000  199990.000000            9.000000          25.000000   \n\n       StandardHours  StockOptionLevel  TotalWorkingYears  \\\ncount         4410.0       4410.000000        4401.000000   \nmean             8.0          0.793878          11.279936   \nstd              0.0          0.851883           7.782222   \nmin              8.0          0.000000           0.000000   \n25%              8.0          0.000000           6.000000   \n50%              8.0          1.000000          10.000000   \n75%              8.0          1.000000          15.000000   \nmax              8.0          3.000000          40.000000   \n\n       TrainingTimesLastYear  YearsAtCompany  YearsSinceLastPromotion  \\\ncount            4410.000000     4410.000000              4410.000000   \nmean                2.799320        7.008163                 2.187755   \nstd                 1.288978        6.125135                 3.221699   \nmin                 0.000000        0.000000                 0.000000   \n25%                 2.000000        3.000000                 0.000000   \n50%                 3.000000        5.000000                 1.000000   \n75%                 3.000000        9.000000                 3.000000   \nmax                 6.000000       40.000000                15.000000   \n\n       YearsWithCurrManager  MeanWorkingTime  SkewWorkingTime  \ncount           4410.000000      4409.000000      4409.000000  \nmean               4.123129         7.700866         0.000892  \nstd                3.567327         1.340361         0.156875  \nmin                0.000000         5.950504        -0.546444  \n25%                2.000000         6.673017        -0.107794  \n50%                3.000000         7.406965         0.000228  \n75%                7.000000         8.369604         0.104997  \nmax               17.000000        11.030960         0.608680  ",
      "text/html": "<div>\n<style scoped>\n    .dataframe tbody tr th:only-of-type {\n        vertical-align: middle;\n    }\n\n    .dataframe tbody tr th {\n        vertical-align: top;\n    }\n\n    .dataframe thead th {\n        text-align: right;\n    }\n</style>\n<table border=\"1\" class=\"dataframe\">\n  <thead>\n    <tr style=\"text-align: right;\">\n      <th></th>\n      <th>Unnamed: 0</th>\n      <th>Age</th>\n      <th>DistanceFromHome</th>\n      <th>EmployeeCount</th>\n      <th>EmployeeID</th>\n      <th>JobLevel</th>\n      <th>MonthlyIncome</th>\n      <th>NumCompaniesWorked</th>\n      <th>PercentSalaryHike</th>\n      <th>StandardHours</th>\n      <th>StockOptionLevel</th>\n      <th>TotalWorkingYears</th>\n      <th>TrainingTimesLastYear</th>\n      <th>YearsAtCompany</th>\n      <th>YearsSinceLastPromotion</th>\n      <th>YearsWithCurrManager</th>\n      <th>MeanWorkingTime</th>\n      <th>SkewWorkingTime</th>\n    </tr>\n  </thead>\n  <tbody>\n    <tr>\n      <th>count</th>\n      <td>4410.000000</td>\n      <td>4410.000000</td>\n      <td>4410.000000</td>\n      <td>4410.0</td>\n      <td>4410.000000</td>\n      <td>4410.000000</td>\n      <td>4410.000000</td>\n      <td>4391.000000</td>\n      <td>4410.000000</td>\n      <td>4410.0</td>\n      <td>4410.000000</td>\n      <td>4401.000000</td>\n      <td>4410.000000</td>\n      <td>4410.000000</td>\n      <td>4410.000000</td>\n      <td>4410.000000</td>\n      <td>4409.000000</td>\n      <td>4409.000000</td>\n    </tr>\n    <tr>\n      <th>mean</th>\n      <td>2204.500000</td>\n      <td>36.923810</td>\n      <td>9.192517</td>\n      <td>1.0</td>\n      <td>2205.500000</td>\n      <td>2.063946</td>\n      <td>65029.312925</td>\n      <td>2.694830</td>\n      <td>15.209524</td>\n      <td>8.0</td>\n      <td>0.793878</td>\n      <td>11.279936</td>\n      <td>2.799320</td>\n      <td>7.008163</td>\n      <td>2.187755</td>\n      <td>4.123129</td>\n      <td>7.700866</td>\n      <td>0.000892</td>\n    </tr>\n    <tr>\n      <th>std</th>\n      <td>1273.201673</td>\n      <td>9.133301</td>\n      <td>8.105026</td>\n      <td>0.0</td>\n      <td>1273.201673</td>\n      <td>1.106689</td>\n      <td>47068.888559</td>\n      <td>2.498887</td>\n      <td>3.659108</td>\n      <td>0.0</td>\n      <td>0.851883</td>\n      <td>7.782222</td>\n      <td>1.288978</td>\n      <td>6.125135</td>\n      <td>3.221699</td>\n      <td>3.567327</td>\n      <td>1.340361</td>\n      <td>0.156875</td>\n    </tr>\n    <tr>\n      <th>min</th>\n      <td>0.000000</td>\n      <td>18.000000</td>\n      <td>1.000000</td>\n      <td>1.0</td>\n      <td>1.000000</td>\n      <td>1.000000</td>\n      <td>10090.000000</td>\n      <td>0.000000</td>\n      <td>11.000000</td>\n      <td>8.0</td>\n      <td>0.000000</td>\n      <td>0.000000</td>\n      <td>0.000000</td>\n      <td>0.000000</td>\n      <td>0.000000</td>\n      <td>0.000000</td>\n      <td>5.950504</td>\n      <td>-0.546444</td>\n    </tr>\n    <tr>\n      <th>25%</th>\n      <td>1102.250000</td>\n      <td>30.000000</td>\n      <td>2.000000</td>\n      <td>1.0</td>\n      <td>1103.250000</td>\n      <td>1.000000</td>\n      <td>29110.000000</td>\n      <td>1.000000</td>\n      <td>12.000000</td>\n      <td>8.0</td>\n      <td>0.000000</td>\n      <td>6.000000</td>\n      <td>2.000000</td>\n      <td>3.000000</td>\n      <td>0.000000</td>\n      <td>2.000000</td>\n      <td>6.673017</td>\n      <td>-0.107794</td>\n    </tr>\n    <tr>\n      <th>50%</th>\n      <td>2204.500000</td>\n      <td>36.000000</td>\n      <td>7.000000</td>\n      <td>1.0</td>\n      <td>2205.500000</td>\n      <td>2.000000</td>\n      <td>49190.000000</td>\n      <td>2.000000</td>\n      <td>14.000000</td>\n      <td>8.0</td>\n      <td>1.000000</td>\n      <td>10.000000</td>\n      <td>3.000000</td>\n      <td>5.000000</td>\n      <td>1.000000</td>\n      <td>3.000000</td>\n      <td>7.406965</td>\n      <td>0.000228</td>\n    </tr>\n    <tr>\n      <th>75%</th>\n      <td>3306.750000</td>\n      <td>43.000000</td>\n      <td>14.000000</td>\n      <td>1.0</td>\n      <td>3307.750000</td>\n      <td>3.000000</td>\n      <td>83800.000000</td>\n      <td>4.000000</td>\n      <td>18.000000</td>\n      <td>8.0</td>\n      <td>1.000000</td>\n      <td>15.000000</td>\n      <td>3.000000</td>\n      <td>9.000000</td>\n      <td>3.000000</td>\n      <td>7.000000</td>\n      <td>8.369604</td>\n      <td>0.104997</td>\n    </tr>\n    <tr>\n      <th>max</th>\n      <td>4409.000000</td>\n      <td>60.000000</td>\n      <td>29.000000</td>\n      <td>1.0</td>\n      <td>4410.000000</td>\n      <td>5.000000</td>\n      <td>199990.000000</td>\n      <td>9.000000</td>\n      <td>25.000000</td>\n      <td>8.0</td>\n      <td>3.000000</td>\n      <td>40.000000</td>\n      <td>6.000000</td>\n      <td>40.000000</td>\n      <td>15.000000</td>\n      <td>17.000000</td>\n      <td>11.030960</td>\n      <td>0.608680</td>\n    </tr>\n  </tbody>\n</table>\n</div>"
     },
     "execution_count": 3,
     "metadata": {},
     "output_type": "execute_result"
    }
   ],
   "source": [
    "data.describe()"
   ]
  },
  {
   "cell_type": "code",
   "execution_count": 22,
   "id": "32b1ba9c85bada28",
   "metadata": {
    "collapsed": false,
    "ExecuteTime": {
     "end_time": "2024-02-02T12:55:32.399921300Z",
     "start_time": "2024-02-02T12:55:32.314551500Z"
    }
   },
   "outputs": [
    {
     "data": {
      "application/vnd.plotly.v1+json": {
       "data": [
        {
         "alignmentgroup": "True",
         "hovertemplate": "variable=0<br>value=%{x}<br>index=%{y}<extra></extra>",
         "legendgroup": "0",
         "marker": {
          "color": "#636efa",
          "pattern": {
           "shape": ""
          }
         },
         "name": "0",
         "offsetgroup": "0",
         "orientation": "h",
         "showlegend": true,
         "textposition": "auto",
         "x": [
          0.0,
          0.0,
          0.0,
          0.0,
          0.0,
          0.0,
          0.0,
          0.0,
          0.0,
          0.0,
          0.0,
          0.0,
          0.0,
          0.0,
          0.0,
          0.0,
          0.0,
          0.0,
          0.0,
          0.0,
          0.0,
          0.0,
          0.0,
          0.022675736961451247,
          0.022675736961451247,
          0.022675736961451247,
          0.022675736961451247,
          0.022675736961451247,
          0.20408163265306123,
          0.4308390022675737,
          0.47619047619047616,
          0.5895691609977324,
          0.8843537414965986
         ],
         "xaxis": "x",
         "y": [
          "Unnamed: 0",
          "YearsWithCurrManager",
          "YearsSinceLastPromotion",
          "YearsAtCompany",
          "TrainingTimesLastYear",
          "StockOptionLevel",
          "StandardHours",
          "PercentSalaryHike",
          "MonthlyIncome",
          "MaritalStatus",
          "JobRole",
          "Over18",
          "Gender",
          "Age",
          "Attrition",
          "JobLevel",
          "Department",
          "DistanceFromHome",
          "BusinessTravel",
          "EducationField",
          "EmployeeCount",
          "EmployeeID",
          "Education",
          "MedianWorkingTime",
          "JobInvolvement",
          "PerformanceRating",
          "MeanWorkingTime",
          "SkewWorkingTime",
          "TotalWorkingYears",
          "NumCompaniesWorked",
          "JobSatisfaction",
          "EnvironmentSatisfaction",
          "WorkLifeBalance"
         ],
         "yaxis": "y",
         "type": "bar"
        }
       ],
       "layout": {
        "template": {
         "data": {
          "histogram2dcontour": [
           {
            "type": "histogram2dcontour",
            "colorbar": {
             "outlinewidth": 0,
             "ticks": ""
            },
            "colorscale": [
             [
              0.0,
              "#0d0887"
             ],
             [
              0.1111111111111111,
              "#46039f"
             ],
             [
              0.2222222222222222,
              "#7201a8"
             ],
             [
              0.3333333333333333,
              "#9c179e"
             ],
             [
              0.4444444444444444,
              "#bd3786"
             ],
             [
              0.5555555555555556,
              "#d8576b"
             ],
             [
              0.6666666666666666,
              "#ed7953"
             ],
             [
              0.7777777777777778,
              "#fb9f3a"
             ],
             [
              0.8888888888888888,
              "#fdca26"
             ],
             [
              1.0,
              "#f0f921"
             ]
            ]
           }
          ],
          "choropleth": [
           {
            "type": "choropleth",
            "colorbar": {
             "outlinewidth": 0,
             "ticks": ""
            }
           }
          ],
          "histogram2d": [
           {
            "type": "histogram2d",
            "colorbar": {
             "outlinewidth": 0,
             "ticks": ""
            },
            "colorscale": [
             [
              0.0,
              "#0d0887"
             ],
             [
              0.1111111111111111,
              "#46039f"
             ],
             [
              0.2222222222222222,
              "#7201a8"
             ],
             [
              0.3333333333333333,
              "#9c179e"
             ],
             [
              0.4444444444444444,
              "#bd3786"
             ],
             [
              0.5555555555555556,
              "#d8576b"
             ],
             [
              0.6666666666666666,
              "#ed7953"
             ],
             [
              0.7777777777777778,
              "#fb9f3a"
             ],
             [
              0.8888888888888888,
              "#fdca26"
             ],
             [
              1.0,
              "#f0f921"
             ]
            ]
           }
          ],
          "heatmap": [
           {
            "type": "heatmap",
            "colorbar": {
             "outlinewidth": 0,
             "ticks": ""
            },
            "colorscale": [
             [
              0.0,
              "#0d0887"
             ],
             [
              0.1111111111111111,
              "#46039f"
             ],
             [
              0.2222222222222222,
              "#7201a8"
             ],
             [
              0.3333333333333333,
              "#9c179e"
             ],
             [
              0.4444444444444444,
              "#bd3786"
             ],
             [
              0.5555555555555556,
              "#d8576b"
             ],
             [
              0.6666666666666666,
              "#ed7953"
             ],
             [
              0.7777777777777778,
              "#fb9f3a"
             ],
             [
              0.8888888888888888,
              "#fdca26"
             ],
             [
              1.0,
              "#f0f921"
             ]
            ]
           }
          ],
          "heatmapgl": [
           {
            "type": "heatmapgl",
            "colorbar": {
             "outlinewidth": 0,
             "ticks": ""
            },
            "colorscale": [
             [
              0.0,
              "#0d0887"
             ],
             [
              0.1111111111111111,
              "#46039f"
             ],
             [
              0.2222222222222222,
              "#7201a8"
             ],
             [
              0.3333333333333333,
              "#9c179e"
             ],
             [
              0.4444444444444444,
              "#bd3786"
             ],
             [
              0.5555555555555556,
              "#d8576b"
             ],
             [
              0.6666666666666666,
              "#ed7953"
             ],
             [
              0.7777777777777778,
              "#fb9f3a"
             ],
             [
              0.8888888888888888,
              "#fdca26"
             ],
             [
              1.0,
              "#f0f921"
             ]
            ]
           }
          ],
          "contourcarpet": [
           {
            "type": "contourcarpet",
            "colorbar": {
             "outlinewidth": 0,
             "ticks": ""
            }
           }
          ],
          "contour": [
           {
            "type": "contour",
            "colorbar": {
             "outlinewidth": 0,
             "ticks": ""
            },
            "colorscale": [
             [
              0.0,
              "#0d0887"
             ],
             [
              0.1111111111111111,
              "#46039f"
             ],
             [
              0.2222222222222222,
              "#7201a8"
             ],
             [
              0.3333333333333333,
              "#9c179e"
             ],
             [
              0.4444444444444444,
              "#bd3786"
             ],
             [
              0.5555555555555556,
              "#d8576b"
             ],
             [
              0.6666666666666666,
              "#ed7953"
             ],
             [
              0.7777777777777778,
              "#fb9f3a"
             ],
             [
              0.8888888888888888,
              "#fdca26"
             ],
             [
              1.0,
              "#f0f921"
             ]
            ]
           }
          ],
          "surface": [
           {
            "type": "surface",
            "colorbar": {
             "outlinewidth": 0,
             "ticks": ""
            },
            "colorscale": [
             [
              0.0,
              "#0d0887"
             ],
             [
              0.1111111111111111,
              "#46039f"
             ],
             [
              0.2222222222222222,
              "#7201a8"
             ],
             [
              0.3333333333333333,
              "#9c179e"
             ],
             [
              0.4444444444444444,
              "#bd3786"
             ],
             [
              0.5555555555555556,
              "#d8576b"
             ],
             [
              0.6666666666666666,
              "#ed7953"
             ],
             [
              0.7777777777777778,
              "#fb9f3a"
             ],
             [
              0.8888888888888888,
              "#fdca26"
             ],
             [
              1.0,
              "#f0f921"
             ]
            ]
           }
          ],
          "mesh3d": [
           {
            "type": "mesh3d",
            "colorbar": {
             "outlinewidth": 0,
             "ticks": ""
            }
           }
          ],
          "scatter": [
           {
            "fillpattern": {
             "fillmode": "overlay",
             "size": 10,
             "solidity": 0.2
            },
            "type": "scatter"
           }
          ],
          "parcoords": [
           {
            "type": "parcoords",
            "line": {
             "colorbar": {
              "outlinewidth": 0,
              "ticks": ""
             }
            }
           }
          ],
          "scatterpolargl": [
           {
            "type": "scatterpolargl",
            "marker": {
             "colorbar": {
              "outlinewidth": 0,
              "ticks": ""
             }
            }
           }
          ],
          "bar": [
           {
            "error_x": {
             "color": "#2a3f5f"
            },
            "error_y": {
             "color": "#2a3f5f"
            },
            "marker": {
             "line": {
              "color": "#E5ECF6",
              "width": 0.5
             },
             "pattern": {
              "fillmode": "overlay",
              "size": 10,
              "solidity": 0.2
             }
            },
            "type": "bar"
           }
          ],
          "scattergeo": [
           {
            "type": "scattergeo",
            "marker": {
             "colorbar": {
              "outlinewidth": 0,
              "ticks": ""
             }
            }
           }
          ],
          "scatterpolar": [
           {
            "type": "scatterpolar",
            "marker": {
             "colorbar": {
              "outlinewidth": 0,
              "ticks": ""
             }
            }
           }
          ],
          "histogram": [
           {
            "marker": {
             "pattern": {
              "fillmode": "overlay",
              "size": 10,
              "solidity": 0.2
             }
            },
            "type": "histogram"
           }
          ],
          "scattergl": [
           {
            "type": "scattergl",
            "marker": {
             "colorbar": {
              "outlinewidth": 0,
              "ticks": ""
             }
            }
           }
          ],
          "scatter3d": [
           {
            "type": "scatter3d",
            "line": {
             "colorbar": {
              "outlinewidth": 0,
              "ticks": ""
             }
            },
            "marker": {
             "colorbar": {
              "outlinewidth": 0,
              "ticks": ""
             }
            }
           }
          ],
          "scattermapbox": [
           {
            "type": "scattermapbox",
            "marker": {
             "colorbar": {
              "outlinewidth": 0,
              "ticks": ""
             }
            }
           }
          ],
          "scatterternary": [
           {
            "type": "scatterternary",
            "marker": {
             "colorbar": {
              "outlinewidth": 0,
              "ticks": ""
             }
            }
           }
          ],
          "scattercarpet": [
           {
            "type": "scattercarpet",
            "marker": {
             "colorbar": {
              "outlinewidth": 0,
              "ticks": ""
             }
            }
           }
          ],
          "carpet": [
           {
            "aaxis": {
             "endlinecolor": "#2a3f5f",
             "gridcolor": "white",
             "linecolor": "white",
             "minorgridcolor": "white",
             "startlinecolor": "#2a3f5f"
            },
            "baxis": {
             "endlinecolor": "#2a3f5f",
             "gridcolor": "white",
             "linecolor": "white",
             "minorgridcolor": "white",
             "startlinecolor": "#2a3f5f"
            },
            "type": "carpet"
           }
          ],
          "table": [
           {
            "cells": {
             "fill": {
              "color": "#EBF0F8"
             },
             "line": {
              "color": "white"
             }
            },
            "header": {
             "fill": {
              "color": "#C8D4E3"
             },
             "line": {
              "color": "white"
             }
            },
            "type": "table"
           }
          ],
          "barpolar": [
           {
            "marker": {
             "line": {
              "color": "#E5ECF6",
              "width": 0.5
             },
             "pattern": {
              "fillmode": "overlay",
              "size": 10,
              "solidity": 0.2
             }
            },
            "type": "barpolar"
           }
          ],
          "pie": [
           {
            "automargin": true,
            "type": "pie"
           }
          ]
         },
         "layout": {
          "autotypenumbers": "strict",
          "colorway": [
           "#636efa",
           "#EF553B",
           "#00cc96",
           "#ab63fa",
           "#FFA15A",
           "#19d3f3",
           "#FF6692",
           "#B6E880",
           "#FF97FF",
           "#FECB52"
          ],
          "font": {
           "color": "#2a3f5f"
          },
          "hovermode": "closest",
          "hoverlabel": {
           "align": "left"
          },
          "paper_bgcolor": "white",
          "plot_bgcolor": "#E5ECF6",
          "polar": {
           "bgcolor": "#E5ECF6",
           "angularaxis": {
            "gridcolor": "white",
            "linecolor": "white",
            "ticks": ""
           },
           "radialaxis": {
            "gridcolor": "white",
            "linecolor": "white",
            "ticks": ""
           }
          },
          "ternary": {
           "bgcolor": "#E5ECF6",
           "aaxis": {
            "gridcolor": "white",
            "linecolor": "white",
            "ticks": ""
           },
           "baxis": {
            "gridcolor": "white",
            "linecolor": "white",
            "ticks": ""
           },
           "caxis": {
            "gridcolor": "white",
            "linecolor": "white",
            "ticks": ""
           }
          },
          "coloraxis": {
           "colorbar": {
            "outlinewidth": 0,
            "ticks": ""
           }
          },
          "colorscale": {
           "sequential": [
            [
             0.0,
             "#0d0887"
            ],
            [
             0.1111111111111111,
             "#46039f"
            ],
            [
             0.2222222222222222,
             "#7201a8"
            ],
            [
             0.3333333333333333,
             "#9c179e"
            ],
            [
             0.4444444444444444,
             "#bd3786"
            ],
            [
             0.5555555555555556,
             "#d8576b"
            ],
            [
             0.6666666666666666,
             "#ed7953"
            ],
            [
             0.7777777777777778,
             "#fb9f3a"
            ],
            [
             0.8888888888888888,
             "#fdca26"
            ],
            [
             1.0,
             "#f0f921"
            ]
           ],
           "sequentialminus": [
            [
             0.0,
             "#0d0887"
            ],
            [
             0.1111111111111111,
             "#46039f"
            ],
            [
             0.2222222222222222,
             "#7201a8"
            ],
            [
             0.3333333333333333,
             "#9c179e"
            ],
            [
             0.4444444444444444,
             "#bd3786"
            ],
            [
             0.5555555555555556,
             "#d8576b"
            ],
            [
             0.6666666666666666,
             "#ed7953"
            ],
            [
             0.7777777777777778,
             "#fb9f3a"
            ],
            [
             0.8888888888888888,
             "#fdca26"
            ],
            [
             1.0,
             "#f0f921"
            ]
           ],
           "diverging": [
            [
             0,
             "#8e0152"
            ],
            [
             0.1,
             "#c51b7d"
            ],
            [
             0.2,
             "#de77ae"
            ],
            [
             0.3,
             "#f1b6da"
            ],
            [
             0.4,
             "#fde0ef"
            ],
            [
             0.5,
             "#f7f7f7"
            ],
            [
             0.6,
             "#e6f5d0"
            ],
            [
             0.7,
             "#b8e186"
            ],
            [
             0.8,
             "#7fbc41"
            ],
            [
             0.9,
             "#4d9221"
            ],
            [
             1,
             "#276419"
            ]
           ]
          },
          "xaxis": {
           "gridcolor": "white",
           "linecolor": "white",
           "ticks": "",
           "title": {
            "standoff": 15
           },
           "zerolinecolor": "white",
           "automargin": true,
           "zerolinewidth": 2
          },
          "yaxis": {
           "gridcolor": "white",
           "linecolor": "white",
           "ticks": "",
           "title": {
            "standoff": 15
           },
           "zerolinecolor": "white",
           "automargin": true,
           "zerolinewidth": 2
          },
          "scene": {
           "xaxis": {
            "backgroundcolor": "#E5ECF6",
            "gridcolor": "white",
            "linecolor": "white",
            "showbackground": true,
            "ticks": "",
            "zerolinecolor": "white",
            "gridwidth": 2
           },
           "yaxis": {
            "backgroundcolor": "#E5ECF6",
            "gridcolor": "white",
            "linecolor": "white",
            "showbackground": true,
            "ticks": "",
            "zerolinecolor": "white",
            "gridwidth": 2
           },
           "zaxis": {
            "backgroundcolor": "#E5ECF6",
            "gridcolor": "white",
            "linecolor": "white",
            "showbackground": true,
            "ticks": "",
            "zerolinecolor": "white",
            "gridwidth": 2
           }
          },
          "shapedefaults": {
           "line": {
            "color": "#2a3f5f"
           }
          },
          "annotationdefaults": {
           "arrowcolor": "#2a3f5f",
           "arrowhead": 0,
           "arrowwidth": 1
          },
          "geo": {
           "bgcolor": "white",
           "landcolor": "#E5ECF6",
           "subunitcolor": "white",
           "showland": true,
           "showlakes": true,
           "lakecolor": "white"
          },
          "title": {
           "x": 0.05
          },
          "mapbox": {
           "style": "light"
          }
         }
        },
        "xaxis": {
         "anchor": "y",
         "domain": [
          0.0,
          1.0
         ],
         "title": {
          "text": "value"
         }
        },
        "yaxis": {
         "anchor": "x",
         "domain": [
          0.0,
          1.0
         ],
         "title": {
          "text": "index"
         }
        },
        "legend": {
         "title": {
          "text": "variable"
         },
         "tracegroupgap": 0
        },
        "title": {
         "text": "Missing values (in %, to 100)"
        },
        "barmode": "relative"
       },
       "config": {
        "plotlyServerURL": "https://plot.ly"
       }
      },
      "text/html": "<div>                            <div id=\"d80e5350-cf01-4c29-be81-075359718f52\" class=\"plotly-graph-div\" style=\"height:525px; width:100%;\"></div>            <script type=\"text/javascript\">                require([\"plotly\"], function(Plotly) {                    window.PLOTLYENV=window.PLOTLYENV || {};                                    if (document.getElementById(\"d80e5350-cf01-4c29-be81-075359718f52\")) {                    Plotly.newPlot(                        \"d80e5350-cf01-4c29-be81-075359718f52\",                        [{\"alignmentgroup\":\"True\",\"hovertemplate\":\"variable=0\\u003cbr\\u003evalue=%{x}\\u003cbr\\u003eindex=%{y}\\u003cextra\\u003e\\u003c\\u002fextra\\u003e\",\"legendgroup\":\"0\",\"marker\":{\"color\":\"#636efa\",\"pattern\":{\"shape\":\"\"}},\"name\":\"0\",\"offsetgroup\":\"0\",\"orientation\":\"h\",\"showlegend\":true,\"textposition\":\"auto\",\"x\":[0.0,0.0,0.0,0.0,0.0,0.0,0.0,0.0,0.0,0.0,0.0,0.0,0.0,0.0,0.0,0.0,0.0,0.0,0.0,0.0,0.0,0.0,0.0,0.022675736961451247,0.022675736961451247,0.022675736961451247,0.022675736961451247,0.022675736961451247,0.20408163265306123,0.4308390022675737,0.47619047619047616,0.5895691609977324,0.8843537414965986],\"xaxis\":\"x\",\"y\":[\"Unnamed: 0\",\"YearsWithCurrManager\",\"YearsSinceLastPromotion\",\"YearsAtCompany\",\"TrainingTimesLastYear\",\"StockOptionLevel\",\"StandardHours\",\"PercentSalaryHike\",\"MonthlyIncome\",\"MaritalStatus\",\"JobRole\",\"Over18\",\"Gender\",\"Age\",\"Attrition\",\"JobLevel\",\"Department\",\"DistanceFromHome\",\"BusinessTravel\",\"EducationField\",\"EmployeeCount\",\"EmployeeID\",\"Education\",\"MedianWorkingTime\",\"JobInvolvement\",\"PerformanceRating\",\"MeanWorkingTime\",\"SkewWorkingTime\",\"TotalWorkingYears\",\"NumCompaniesWorked\",\"JobSatisfaction\",\"EnvironmentSatisfaction\",\"WorkLifeBalance\"],\"yaxis\":\"y\",\"type\":\"bar\"}],                        {\"template\":{\"data\":{\"histogram2dcontour\":[{\"type\":\"histogram2dcontour\",\"colorbar\":{\"outlinewidth\":0,\"ticks\":\"\"},\"colorscale\":[[0.0,\"#0d0887\"],[0.1111111111111111,\"#46039f\"],[0.2222222222222222,\"#7201a8\"],[0.3333333333333333,\"#9c179e\"],[0.4444444444444444,\"#bd3786\"],[0.5555555555555556,\"#d8576b\"],[0.6666666666666666,\"#ed7953\"],[0.7777777777777778,\"#fb9f3a\"],[0.8888888888888888,\"#fdca26\"],[1.0,\"#f0f921\"]]}],\"choropleth\":[{\"type\":\"choropleth\",\"colorbar\":{\"outlinewidth\":0,\"ticks\":\"\"}}],\"histogram2d\":[{\"type\":\"histogram2d\",\"colorbar\":{\"outlinewidth\":0,\"ticks\":\"\"},\"colorscale\":[[0.0,\"#0d0887\"],[0.1111111111111111,\"#46039f\"],[0.2222222222222222,\"#7201a8\"],[0.3333333333333333,\"#9c179e\"],[0.4444444444444444,\"#bd3786\"],[0.5555555555555556,\"#d8576b\"],[0.6666666666666666,\"#ed7953\"],[0.7777777777777778,\"#fb9f3a\"],[0.8888888888888888,\"#fdca26\"],[1.0,\"#f0f921\"]]}],\"heatmap\":[{\"type\":\"heatmap\",\"colorbar\":{\"outlinewidth\":0,\"ticks\":\"\"},\"colorscale\":[[0.0,\"#0d0887\"],[0.1111111111111111,\"#46039f\"],[0.2222222222222222,\"#7201a8\"],[0.3333333333333333,\"#9c179e\"],[0.4444444444444444,\"#bd3786\"],[0.5555555555555556,\"#d8576b\"],[0.6666666666666666,\"#ed7953\"],[0.7777777777777778,\"#fb9f3a\"],[0.8888888888888888,\"#fdca26\"],[1.0,\"#f0f921\"]]}],\"heatmapgl\":[{\"type\":\"heatmapgl\",\"colorbar\":{\"outlinewidth\":0,\"ticks\":\"\"},\"colorscale\":[[0.0,\"#0d0887\"],[0.1111111111111111,\"#46039f\"],[0.2222222222222222,\"#7201a8\"],[0.3333333333333333,\"#9c179e\"],[0.4444444444444444,\"#bd3786\"],[0.5555555555555556,\"#d8576b\"],[0.6666666666666666,\"#ed7953\"],[0.7777777777777778,\"#fb9f3a\"],[0.8888888888888888,\"#fdca26\"],[1.0,\"#f0f921\"]]}],\"contourcarpet\":[{\"type\":\"contourcarpet\",\"colorbar\":{\"outlinewidth\":0,\"ticks\":\"\"}}],\"contour\":[{\"type\":\"contour\",\"colorbar\":{\"outlinewidth\":0,\"ticks\":\"\"},\"colorscale\":[[0.0,\"#0d0887\"],[0.1111111111111111,\"#46039f\"],[0.2222222222222222,\"#7201a8\"],[0.3333333333333333,\"#9c179e\"],[0.4444444444444444,\"#bd3786\"],[0.5555555555555556,\"#d8576b\"],[0.6666666666666666,\"#ed7953\"],[0.7777777777777778,\"#fb9f3a\"],[0.8888888888888888,\"#fdca26\"],[1.0,\"#f0f921\"]]}],\"surface\":[{\"type\":\"surface\",\"colorbar\":{\"outlinewidth\":0,\"ticks\":\"\"},\"colorscale\":[[0.0,\"#0d0887\"],[0.1111111111111111,\"#46039f\"],[0.2222222222222222,\"#7201a8\"],[0.3333333333333333,\"#9c179e\"],[0.4444444444444444,\"#bd3786\"],[0.5555555555555556,\"#d8576b\"],[0.6666666666666666,\"#ed7953\"],[0.7777777777777778,\"#fb9f3a\"],[0.8888888888888888,\"#fdca26\"],[1.0,\"#f0f921\"]]}],\"mesh3d\":[{\"type\":\"mesh3d\",\"colorbar\":{\"outlinewidth\":0,\"ticks\":\"\"}}],\"scatter\":[{\"fillpattern\":{\"fillmode\":\"overlay\",\"size\":10,\"solidity\":0.2},\"type\":\"scatter\"}],\"parcoords\":[{\"type\":\"parcoords\",\"line\":{\"colorbar\":{\"outlinewidth\":0,\"ticks\":\"\"}}}],\"scatterpolargl\":[{\"type\":\"scatterpolargl\",\"marker\":{\"colorbar\":{\"outlinewidth\":0,\"ticks\":\"\"}}}],\"bar\":[{\"error_x\":{\"color\":\"#2a3f5f\"},\"error_y\":{\"color\":\"#2a3f5f\"},\"marker\":{\"line\":{\"color\":\"#E5ECF6\",\"width\":0.5},\"pattern\":{\"fillmode\":\"overlay\",\"size\":10,\"solidity\":0.2}},\"type\":\"bar\"}],\"scattergeo\":[{\"type\":\"scattergeo\",\"marker\":{\"colorbar\":{\"outlinewidth\":0,\"ticks\":\"\"}}}],\"scatterpolar\":[{\"type\":\"scatterpolar\",\"marker\":{\"colorbar\":{\"outlinewidth\":0,\"ticks\":\"\"}}}],\"histogram\":[{\"marker\":{\"pattern\":{\"fillmode\":\"overlay\",\"size\":10,\"solidity\":0.2}},\"type\":\"histogram\"}],\"scattergl\":[{\"type\":\"scattergl\",\"marker\":{\"colorbar\":{\"outlinewidth\":0,\"ticks\":\"\"}}}],\"scatter3d\":[{\"type\":\"scatter3d\",\"line\":{\"colorbar\":{\"outlinewidth\":0,\"ticks\":\"\"}},\"marker\":{\"colorbar\":{\"outlinewidth\":0,\"ticks\":\"\"}}}],\"scattermapbox\":[{\"type\":\"scattermapbox\",\"marker\":{\"colorbar\":{\"outlinewidth\":0,\"ticks\":\"\"}}}],\"scatterternary\":[{\"type\":\"scatterternary\",\"marker\":{\"colorbar\":{\"outlinewidth\":0,\"ticks\":\"\"}}}],\"scattercarpet\":[{\"type\":\"scattercarpet\",\"marker\":{\"colorbar\":{\"outlinewidth\":0,\"ticks\":\"\"}}}],\"carpet\":[{\"aaxis\":{\"endlinecolor\":\"#2a3f5f\",\"gridcolor\":\"white\",\"linecolor\":\"white\",\"minorgridcolor\":\"white\",\"startlinecolor\":\"#2a3f5f\"},\"baxis\":{\"endlinecolor\":\"#2a3f5f\",\"gridcolor\":\"white\",\"linecolor\":\"white\",\"minorgridcolor\":\"white\",\"startlinecolor\":\"#2a3f5f\"},\"type\":\"carpet\"}],\"table\":[{\"cells\":{\"fill\":{\"color\":\"#EBF0F8\"},\"line\":{\"color\":\"white\"}},\"header\":{\"fill\":{\"color\":\"#C8D4E3\"},\"line\":{\"color\":\"white\"}},\"type\":\"table\"}],\"barpolar\":[{\"marker\":{\"line\":{\"color\":\"#E5ECF6\",\"width\":0.5},\"pattern\":{\"fillmode\":\"overlay\",\"size\":10,\"solidity\":0.2}},\"type\":\"barpolar\"}],\"pie\":[{\"automargin\":true,\"type\":\"pie\"}]},\"layout\":{\"autotypenumbers\":\"strict\",\"colorway\":[\"#636efa\",\"#EF553B\",\"#00cc96\",\"#ab63fa\",\"#FFA15A\",\"#19d3f3\",\"#FF6692\",\"#B6E880\",\"#FF97FF\",\"#FECB52\"],\"font\":{\"color\":\"#2a3f5f\"},\"hovermode\":\"closest\",\"hoverlabel\":{\"align\":\"left\"},\"paper_bgcolor\":\"white\",\"plot_bgcolor\":\"#E5ECF6\",\"polar\":{\"bgcolor\":\"#E5ECF6\",\"angularaxis\":{\"gridcolor\":\"white\",\"linecolor\":\"white\",\"ticks\":\"\"},\"radialaxis\":{\"gridcolor\":\"white\",\"linecolor\":\"white\",\"ticks\":\"\"}},\"ternary\":{\"bgcolor\":\"#E5ECF6\",\"aaxis\":{\"gridcolor\":\"white\",\"linecolor\":\"white\",\"ticks\":\"\"},\"baxis\":{\"gridcolor\":\"white\",\"linecolor\":\"white\",\"ticks\":\"\"},\"caxis\":{\"gridcolor\":\"white\",\"linecolor\":\"white\",\"ticks\":\"\"}},\"coloraxis\":{\"colorbar\":{\"outlinewidth\":0,\"ticks\":\"\"}},\"colorscale\":{\"sequential\":[[0.0,\"#0d0887\"],[0.1111111111111111,\"#46039f\"],[0.2222222222222222,\"#7201a8\"],[0.3333333333333333,\"#9c179e\"],[0.4444444444444444,\"#bd3786\"],[0.5555555555555556,\"#d8576b\"],[0.6666666666666666,\"#ed7953\"],[0.7777777777777778,\"#fb9f3a\"],[0.8888888888888888,\"#fdca26\"],[1.0,\"#f0f921\"]],\"sequentialminus\":[[0.0,\"#0d0887\"],[0.1111111111111111,\"#46039f\"],[0.2222222222222222,\"#7201a8\"],[0.3333333333333333,\"#9c179e\"],[0.4444444444444444,\"#bd3786\"],[0.5555555555555556,\"#d8576b\"],[0.6666666666666666,\"#ed7953\"],[0.7777777777777778,\"#fb9f3a\"],[0.8888888888888888,\"#fdca26\"],[1.0,\"#f0f921\"]],\"diverging\":[[0,\"#8e0152\"],[0.1,\"#c51b7d\"],[0.2,\"#de77ae\"],[0.3,\"#f1b6da\"],[0.4,\"#fde0ef\"],[0.5,\"#f7f7f7\"],[0.6,\"#e6f5d0\"],[0.7,\"#b8e186\"],[0.8,\"#7fbc41\"],[0.9,\"#4d9221\"],[1,\"#276419\"]]},\"xaxis\":{\"gridcolor\":\"white\",\"linecolor\":\"white\",\"ticks\":\"\",\"title\":{\"standoff\":15},\"zerolinecolor\":\"white\",\"automargin\":true,\"zerolinewidth\":2},\"yaxis\":{\"gridcolor\":\"white\",\"linecolor\":\"white\",\"ticks\":\"\",\"title\":{\"standoff\":15},\"zerolinecolor\":\"white\",\"automargin\":true,\"zerolinewidth\":2},\"scene\":{\"xaxis\":{\"backgroundcolor\":\"#E5ECF6\",\"gridcolor\":\"white\",\"linecolor\":\"white\",\"showbackground\":true,\"ticks\":\"\",\"zerolinecolor\":\"white\",\"gridwidth\":2},\"yaxis\":{\"backgroundcolor\":\"#E5ECF6\",\"gridcolor\":\"white\",\"linecolor\":\"white\",\"showbackground\":true,\"ticks\":\"\",\"zerolinecolor\":\"white\",\"gridwidth\":2},\"zaxis\":{\"backgroundcolor\":\"#E5ECF6\",\"gridcolor\":\"white\",\"linecolor\":\"white\",\"showbackground\":true,\"ticks\":\"\",\"zerolinecolor\":\"white\",\"gridwidth\":2}},\"shapedefaults\":{\"line\":{\"color\":\"#2a3f5f\"}},\"annotationdefaults\":{\"arrowcolor\":\"#2a3f5f\",\"arrowhead\":0,\"arrowwidth\":1},\"geo\":{\"bgcolor\":\"white\",\"landcolor\":\"#E5ECF6\",\"subunitcolor\":\"white\",\"showland\":true,\"showlakes\":true,\"lakecolor\":\"white\"},\"title\":{\"x\":0.05},\"mapbox\":{\"style\":\"light\"}}},\"xaxis\":{\"anchor\":\"y\",\"domain\":[0.0,1.0],\"title\":{\"text\":\"value\"}},\"yaxis\":{\"anchor\":\"x\",\"domain\":[0.0,1.0],\"title\":{\"text\":\"index\"}},\"legend\":{\"title\":{\"text\":\"variable\"},\"tracegroupgap\":0},\"title\":{\"text\":\"Missing values (in %, to 100)\"},\"barmode\":\"relative\"},                        {\"responsive\": true}                    ).then(function(){\n                            \nvar gd = document.getElementById('d80e5350-cf01-4c29-be81-075359718f52');\nvar x = new MutationObserver(function (mutations, observer) {{\n        var display = window.getComputedStyle(gd).display;\n        if (!display || display === 'none') {{\n            console.log([gd, 'removed!']);\n            Plotly.purge(gd);\n            observer.disconnect();\n        }}\n}});\n\n// Listen for the removal of the full notebook cells\nvar notebookContainer = gd.closest('#notebook-container');\nif (notebookContainer) {{\n    x.observe(notebookContainer, {childList: true});\n}}\n\n// Listen for the clearing of the current output cell\nvar outputEl = gd.closest('.output');\nif (outputEl) {{\n    x.observe(outputEl, {childList: true});\n}}\n\n                        })                };                });            </script>        </div>"
     },
     "metadata": {},
     "output_type": "display_data"
    }
   ],
   "source": [
    "from plotly.express import bar\n",
    "\n",
    "bar((data.isnull().sum().sort_values() * 100) / len(data), title='Missing values (in %, to 100)', orientation='h', labels={\n",
    "    'x': 'Missing values (to 100%)',\n",
    "    'y': 'Column'\n",
    "})"
   ]
  },
  {
   "cell_type": "code",
   "execution_count": 10,
   "id": "7e1e6e35fe145af7",
   "metadata": {
    "ExecuteTime": {
     "end_time": "2024-01-30T09:58:00.297682900Z",
     "start_time": "2024-01-30T09:57:58.170249200Z"
    },
    "collapsed": false
   },
   "outputs": [],
   "source": [
    "from ydata_profiling import ProfileReport\n",
    "\n",
    "profile_report = ProfileReport(data, title='Data profile report')"
   ]
  },
  {
   "cell_type": "code",
   "execution_count": 11,
   "id": "55026c8c9dc5cb6",
   "metadata": {
    "ExecuteTime": {
     "end_time": "2024-01-30T09:58:55.111879500Z",
     "start_time": "2024-01-30T09:58:06.016027300Z"
    },
    "collapsed": false
   },
   "outputs": [
    {
     "data": {
      "application/vnd.jupyter.widget-view+json": {
       "model_id": "d78ee585d7d7438d8d9338c0dab4a240",
       "version_major": 2,
       "version_minor": 0
      },
      "text/plain": [
       "Summarize dataset:   0%|          | 0/5 [00:00<?, ?it/s]"
      ]
     },
     "metadata": {},
     "output_type": "display_data"
    },
    {
     "data": {
      "application/vnd.jupyter.widget-view+json": {
       "model_id": "0d5f566b9ba74c3297fd7af5ee2602d2",
       "version_major": 2,
       "version_minor": 0
      },
      "text/plain": [
       "Generate report structure:   0%|          | 0/1 [00:00<?, ?it/s]"
      ]
     },
     "metadata": {},
     "output_type": "display_data"
    },
    {
     "data": {
      "application/vnd.jupyter.widget-view+json": {
       "model_id": "6613aac6a7044c568b955218e0f0d1a4",
       "version_major": 2,
       "version_minor": 0
      },
      "text/plain": [
       "Render HTML:   0%|          | 0/1 [00:00<?, ?it/s]"
      ]
     },
     "metadata": {},
     "output_type": "display_data"
    },
    {
     "data": {
      "application/vnd.jupyter.widget-view+json": {
       "model_id": "d3fef2584be54c4fb99b781d5be00cd6",
       "version_major": 2,
       "version_minor": 0
      },
      "text/plain": [
       "Export report to file:   0%|          | 0/1 [00:00<?, ?it/s]"
      ]
     },
     "metadata": {},
     "output_type": "display_data"
    }
   ],
   "source": [
    "profile_report.to_file('report.html')"
   ]
  },
  {
   "cell_type": "code",
   "execution_count": 13,
   "id": "993c77a6af58db4",
   "metadata": {
    "collapsed": false,
    "ExecuteTime": {
     "end_time": "2024-02-02T12:44:25.944969500Z",
     "start_time": "2024-02-02T12:44:25.938486600Z"
    }
   },
   "outputs": [],
   "source": [
    "numerical_columns = [column for column in data.columns if data[column].dtype != object]\n",
    "categorical_columns = [column for column in data.columns if data[column].dtype == object]"
   ]
  },
  {
   "cell_type": "code",
   "execution_count": 20,
   "id": "6ed683818b863615",
   "metadata": {
    "ExecuteTime": {
     "end_time": "2024-02-02T12:54:08.513951200Z",
     "start_time": "2024-02-02T12:54:08.207511400Z"
    }
   },
   "outputs": [
    {
     "data": {
      "text/plain": "<IPython.lib.display.IFrame at 0x1de1f366cd0>",
      "text/html": "\n        <iframe\n            width=\"100%\"\n            height=\"650\"\n            src=\"http://127.0.0.1:8050/\"\n            frameborder=\"0\"\n            allowfullscreen\n            \n        ></iframe>\n        "
     },
     "metadata": {},
     "output_type": "display_data"
    }
   ],
   "source": [
    "from enum import Enum\n",
    "\n",
    "from dash import Dash, dcc, html, Input, Output\n",
    "from pandas import DataFrame\n",
    "from plotly.graph_objects import Figure\n",
    "\n",
    "import plotly.express as px\n",
    "\n",
    "DASH_PORT = 8050\n",
    "FIGURE_HEIGHT = 800\n",
    "\n",
    "\n",
    "class FeatureType(Enum):\n",
    "    NUMERICAL = 'numerical'\n",
    "    CATEGORICAL = 'categorical'\n",
    "\n",
    "\n",
    "def get_feature_type(feature: str) -> FeatureType:\n",
    "    return FeatureType.NUMERICAL if feature in numerical_columns else FeatureType.CATEGORICAL\n",
    "\n",
    "\n",
    "def make_interactive_plot(x_columns: list[str], y_columns: list[str], title: str | None = None,\n",
    "                          *, df: DataFrame = data, heatmap_scale: str = 'viridis') -> Dash:\n",
    "    \"\"\"\n",
    "    Creates interactive plot for given x and y columns\n",
    "    :param x_columns: x columns to display\n",
    "    :param y_columns: y columns to display\n",
    "    :param title: title of the plot\n",
    "    :param df: dataframe, default is data\n",
    "    :return: Dash with interactive plot\n",
    "    \"\"\"\n",
    "    assert set(x_columns).issubset(set(df.columns)), 'x_columns must be in data.columns'\n",
    "    assert set(y_columns).issubset(set(df.columns)), 'y_columns must be in data.columns'\n",
    "    assert len(x_columns) > 0\n",
    "    assert len(y_columns) > 0\n",
    "\n",
    "    if title is None:\n",
    "        title = ', '.join(x_columns) + ' to ' + ', '.join(y_columns)\n",
    "\n",
    "    app = Dash(__name__)\n",
    "    display_types = {\n",
    "        (FeatureType.NUMERICAL, FeatureType.NUMERICAL): px.scatter,\n",
    "        (FeatureType.NUMERICAL, FeatureType.CATEGORICAL): px.box,\n",
    "        (FeatureType.CATEGORICAL, FeatureType.NUMERICAL): px.box,\n",
    "        (FeatureType.CATEGORICAL, FeatureType.CATEGORICAL): px.bar\n",
    "    }\n",
    "    app.layout = html.Div([\n",
    "        html.H5(title),\n",
    "        html.A('Open in browser', href=f'http://localhost:{DASH_PORT}'),\n",
    "        html.P('x-axis:'),\n",
    "        dcc.RadioItems(\n",
    "            id='x-axis',\n",
    "            options=x_columns,\n",
    "            value=x_columns[0],\n",
    "            inline=True,\n",
    "        ),\n",
    "        html.P('y-axis:'),\n",
    "        dcc.RadioItems(\n",
    "            id='y-axis',\n",
    "            options=y_columns,\n",
    "            value=y_columns[0],\n",
    "            inline=True,\n",
    "        ),\n",
    "        dcc.Graph(id='graph')\n",
    "    ], style={\"height\": \"1300px\", \"overflowY\": \"auto\"},)\n",
    "\n",
    "    @app.callback(\n",
    "        Output('graph', 'figure'),\n",
    "        Input('x-axis', 'value'),\n",
    "        Input('y-axis', 'value')\n",
    "    )\n",
    "    def generate_chart(x_value: str, y_value: str) -> Figure:\n",
    "        x_type = get_feature_type(x_value)\n",
    "        y_type = get_feature_type(y_value)\n",
    "        if x_type == y_type == FeatureType.CATEGORICAL:\n",
    "            return px.histogram(data, x=x_value, color=y_value, height=FIGURE_HEIGHT, histnorm='probability density')\n",
    "        return display_types[x_type, y_type](data, x=x_value, y=y_value, height=FIGURE_HEIGHT)\n",
    "\n",
    "    return app\n",
    "\n",
    "\n",
    "app = make_interactive_plot(data.columns, data.columns, 'Title', heatmap_scale='viridis')\n",
    "app.run_server(port=DASH_PORT, debug=True)"
   ]
  },
  {
   "cell_type": "code",
   "execution_count": 18,
   "id": "bd855efd2b885884",
   "metadata": {
    "collapsed": false,
    "ExecuteTime": {
     "end_time": "2024-01-30T10:47:51.070110Z",
     "start_time": "2024-01-30T10:47:51.064878200Z"
    }
   },
   "outputs": [
    {
     "data": {
      "text/plain": "<IPython.core.display.Javascript object>",
      "application/javascript": "IPython.OutputArea.prototype._should_scroll = function(lines) {\n    return false;\n}\n"
     },
     "metadata": {},
     "output_type": "display_data"
    }
   ],
   "source": [
    "%%javascript\n",
    "IPython.OutputArea.prototype._should_scroll = function(lines) {\n",
    "    return false;\n",
    "}"
   ]
  },
  {
   "cell_type": "code",
   "execution_count": 22,
   "id": "e54dc6b8-38d4-4a6f-8b95-23042aae3400",
   "metadata": {},
   "outputs": [
    {
     "data": {
      "text/plain": [
       "Div([H5('Title'), P('x-axis:'), RadioItems(options=Index(['Age', 'Attrition', 'BusinessTravel', 'Department', 'DistanceFromHome',\n",
       "       'Education', 'EducationField', 'EmployeeCount', 'EmployeeID', 'Gender',\n",
       "       'JobLevel', 'JobRole', 'MaritalStatus', 'MonthlyIncome',\n",
       "       'NumCompaniesWorked', 'Over18', 'PercentSalaryHike', 'StandardHours',\n",
       "       'StockOptionLevel', 'TotalWorkingYears', 'TrainingTimesLastYear',\n",
       "       'YearsAtCompany', 'YearsSinceLastPromotion', 'YearsWithCurrManager',\n",
       "       'JobInvolvement', 'PerformanceRating', 'EnvironmentSatisfaction',\n",
       "       'JobSatisfaction', 'WorkLifeBalance', 'MeanWorkingTime',\n",
       "       'MedianWorkingTime', 'SkewWorkingTime'],\n",
       "      dtype='object'), value='Age', inline=True, id='x-axis'), P('y-axis:'), RadioItems(options=Index(['Age', 'Attrition', 'BusinessTravel', 'Department', 'DistanceFromHome',\n",
       "       'Education', 'EducationField', 'EmployeeCount', 'EmployeeID', 'Gender',\n",
       "       'JobLevel', 'JobRole', 'MaritalStatus', 'MonthlyIncome',\n",
       "       'NumCompaniesWorked', 'Over18', 'PercentSalaryHike', 'StandardHours',\n",
       "       'StockOptionLevel', 'TotalWorkingYears', 'TrainingTimesLastYear',\n",
       "       'YearsAtCompany', 'YearsSinceLastPromotion', 'YearsWithCurrManager',\n",
       "       'JobInvolvement', 'PerformanceRating', 'EnvironmentSatisfaction',\n",
       "       'JobSatisfaction', 'WorkLifeBalance', 'MeanWorkingTime',\n",
       "       'MedianWorkingTime', 'SkewWorkingTime'],\n",
       "      dtype='object'), value='Age', inline=True, id='y-axis'), Graph(id='graph')])"
      ]
     },
     "execution_count": 22,
     "metadata": {},
     "output_type": "execute_result"
    }
   ],
   "source": [
    "app.layout"
   ]
  }
 ],
 "metadata": {
  "kernelspec": {
   "display_name": "Python 3 (ipykernel)",
   "language": "python",
   "name": "python3"
  },
  "language_info": {
   "codemirror_mode": {
    "name": "ipython",
    "version": 3
   },
   "file_extension": ".py",
   "mimetype": "text/x-python",
   "name": "python",
   "nbconvert_exporter": "python",
   "pygments_lexer": "ipython3",
   "version": "3.11.7"
  }
 },
 "nbformat": 4,
 "nbformat_minor": 5
}
