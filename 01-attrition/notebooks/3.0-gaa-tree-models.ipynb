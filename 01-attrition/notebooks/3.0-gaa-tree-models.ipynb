{
 "cells": [
  {
   "cell_type": "code",
   "execution_count": 6,
   "id": "initial_id",
   "metadata": {
    "collapsed": true,
    "ExecuteTime": {
     "end_time": "2024-02-01T14:35:54.183634900Z",
     "start_time": "2024-02-01T14:35:54.137917Z"
    }
   },
   "outputs": [],
   "source": [
    "from pandas import read_csv\n",
    "\n",
    "\n",
    "data = read_csv('../data/processed/data.csv')"
   ]
  },
  {
   "cell_type": "code",
   "execution_count": 8,
   "outputs": [],
   "source": [
    "TARGET = 'Attrition_Yes'\n",
    "TEST_SPLIT = 0.2\n",
    "TRAIN_SPLIT = 1 - TEST_SPLIT"
   ],
   "metadata": {
    "collapsed": false,
    "ExecuteTime": {
     "end_time": "2024-02-01T14:35:56.689484Z",
     "start_time": "2024-02-01T14:35:56.683907900Z"
    }
   },
   "id": "9210cd3daae66667"
  },
  {
   "cell_type": "code",
   "execution_count": 9,
   "outputs": [],
   "source": [
    "x, y = data.drop(columns=[TARGET]), data[TARGET]\n",
    "train_data_len = int(len(x) * TRAIN_SPLIT)\n",
    "x_train, y_train = x[:train_data_len], y[:train_data_len]\n",
    "x_test, y_test = x[train_data_len:], y[train_data_len:]"
   ],
   "metadata": {
    "collapsed": false,
    "ExecuteTime": {
     "end_time": "2024-02-01T14:35:57.548679500Z",
     "start_time": "2024-02-01T14:35:57.539542700Z"
    }
   },
   "id": "57e46b7a0d4ebf32"
  },
  {
   "cell_type": "code",
   "execution_count": 21,
   "outputs": [],
   "source": [
    "import numpy as np\n",
    "\n",
    "from catboost import CatBoostClassifier\n",
    "from sklearn.impute import SimpleImputer\n",
    "from sklearn.ensemble import AdaBoostClassifier, RandomForestClassifier\n",
    "from sklearn.model_selection import GridSearchCV\n",
    "from sklearn.tree import DecisionTreeClassifier\n",
    "from sklearn.pipeline import Pipeline\n",
    "\n",
    "MAX_DEPTH = 30\n",
    "\n",
    "preprocessing_pipeline = Pipeline(steps=[\n",
    "    (\n",
    "        'Fill missing values',\n",
    "        SimpleImputer(strategy='median')  # can use median as there are no missing categorical features\n",
    "    ),\n",
    "])\n",
    "\n",
    "models = [\n",
    "    GridSearchCV(DecisionTreeClassifier(), param_grid={\n",
    "        'criterion': ['gini', 'entropy', 'log_loss'],\n",
    "        'max_depth': list(range(5, MAX_DEPTH + 1, 5))\n",
    "    }),\n",
    "    GridSearchCV(AdaBoostClassifier(), param_grid={\n",
    "        'n_estimators': list(range(10, 101, 10)),\n",
    "        'learning_rate': np.logspace(-3, -1, 5)\n",
    "    }),\n",
    "    GridSearchCV(RandomForestClassifier(n_jobs=-1), param_grid={\n",
    "        'n_estimators': list(range(10, 100, 20)),\n",
    "        'max_depth': list(range(3, MAX_DEPTH + 1, 5)),\n",
    "        'criterion': ['gini', 'entropy', 'log_loss'],\n",
    "    }),\n",
    "    GridSearchCV(CatBoostClassifier(loss_function='Logloss', verbose=False), param_grid={\n",
    "        'iterations': list(range(10, 101, 10)),\n",
    "        'depth': list(range(1, 5)),\n",
    "        'learning_rate': np.logspace(-3, -1, 5)\n",
    "    })\n",
    "]"
   ],
   "metadata": {
    "collapsed": false,
    "ExecuteTime": {
     "end_time": "2024-02-01T16:06:13.187351200Z",
     "start_time": "2024-02-01T16:06:13.175990600Z"
    }
   },
   "id": "cb3a76caafe0c59f"
  },
  {
   "cell_type": "code",
   "execution_count": 22,
   "outputs": [
    {
     "name": "stdout",
     "output_type": "stream",
     "text": [
      "GridSearchCV(estimator=DecisionTreeClassifier(),\n",
      "             param_grid={'criterion': ['gini', 'entropy', 'log_loss'],\n",
      "                         'max_depth': [5, 10, 15, 20, 25, 30]})\n",
      "GridSearchCV(estimator=AdaBoostClassifier(),\n",
      "             param_grid={'learning_rate': array([0.001     , 0.00316228, 0.01      , 0.03162278, 0.1       ]),\n",
      "                         'n_estimators': [10, 20, 30, 40, 50, 60, 70, 80, 90,\n",
      "                                          100]})\n",
      "GridSearchCV(estimator=RandomForestClassifier(n_jobs=-1),\n",
      "             param_grid={'criterion': ['gini', 'entropy', 'log_loss'],\n",
      "                         'max_depth': [3, 8, 13, 18, 23, 28],\n",
      "                         'n_estimators': [10, 30, 50, 70, 90]})\n",
      "GridSearchCV(estimator=<catboost.core.CatBoostClassifier object at 0x000001CACE347E10>,\n",
      "             param_grid={'depth': [1, 2, 3, 4],\n",
      "                         'iterations': [10, 20, 30, 40, 50, 60, 70, 80, 90,\n",
      "                                        100],\n",
      "                         'l2_leaf_reg': array([1.00000000e-20, 3.16227766e-20, 1.00000000e-19]),\n",
      "                         'learning_rate': array([0.001     , 0.00316228, 0.01      , 0.03162278, 0.1       ])})\n"
     ]
    },
    {
     "name": "stderr",
     "output_type": "stream",
     "text": [
      "C:\\Users\\tyoma\\miniforge-pypy3\\envs\\magic-env\\Lib\\site-packages\\sklearn\\model_selection\\_validation.py:824: UserWarning: Scoring failed. The score on this train-test partition for these parameters will be set to nan. Details: \n",
      "Traceback (most recent call last):\n",
      "  File \"C:\\Users\\tyoma\\miniforge-pypy3\\envs\\magic-env\\Lib\\site-packages\\sklearn\\model_selection\\_validation.py\", line 813, in _score\n",
      "    scores = scorer(estimator, X_test, y_test)\n",
      "             ^^^^^^^^^^^^^^^^^^^^^^^^^^^^^^^^^\n",
      "  File \"C:\\Users\\tyoma\\miniforge-pypy3\\envs\\magic-env\\Lib\\site-packages\\sklearn\\metrics\\_scorer.py\", line 527, in __call__\n",
      "    return estimator.score(*args, **kwargs)\n",
      "           ^^^^^^^^^^^^^^^^^^^^^^^^^^^^^^^^\n",
      "  File \"C:\\Users\\tyoma\\miniforge-pypy3\\envs\\magic-env\\Lib\\site-packages\\catboost\\core.py\", line 5418, in score\n",
      "    raise CatBoostError('predicted classes have string type but specified y is boolean')\n",
      "_catboost.CatBoostError: predicted classes have string type but specified y is boolean\n",
      "\n",
      "  warnings.warn(\n",
      "C:\\Users\\tyoma\\miniforge-pypy3\\envs\\magic-env\\Lib\\site-packages\\sklearn\\model_selection\\_search.py:976: UserWarning: One or more of the test scores are non-finite: [nan nan nan nan nan nan nan nan nan nan nan nan nan nan nan nan nan nan\n",
      " nan nan nan nan nan nan nan nan nan nan nan nan nan nan nan nan nan nan\n",
      " nan nan nan nan nan nan nan nan nan nan nan nan nan nan nan nan nan nan\n",
      " nan nan nan nan nan nan nan nan nan nan nan nan nan nan nan nan nan nan\n",
      " nan nan nan nan nan nan nan nan nan nan nan nan nan nan nan nan nan nan\n",
      " nan nan nan nan nan nan nan nan nan nan nan nan nan nan nan nan nan nan\n",
      " nan nan nan nan nan nan nan nan nan nan nan nan nan nan nan nan nan nan\n",
      " nan nan nan nan nan nan nan nan nan nan nan nan nan nan nan nan nan nan\n",
      " nan nan nan nan nan nan nan nan nan nan nan nan nan nan nan nan nan nan\n",
      " nan nan nan nan nan nan nan nan nan nan nan nan nan nan nan nan nan nan\n",
      " nan nan nan nan nan nan nan nan nan nan nan nan nan nan nan nan nan nan\n",
      " nan nan nan nan nan nan nan nan nan nan nan nan nan nan nan nan nan nan\n",
      " nan nan nan nan nan nan nan nan nan nan nan nan nan nan nan nan nan nan\n",
      " nan nan nan nan nan nan nan nan nan nan nan nan nan nan nan nan nan nan\n",
      " nan nan nan nan nan nan nan nan nan nan nan nan nan nan nan nan nan nan\n",
      " nan nan nan nan nan nan nan nan nan nan nan nan nan nan nan nan nan nan\n",
      " nan nan nan nan nan nan nan nan nan nan nan nan nan nan nan nan nan nan\n",
      " nan nan nan nan nan nan nan nan nan nan nan nan nan nan nan nan nan nan\n",
      " nan nan nan nan nan nan nan nan nan nan nan nan nan nan nan nan nan nan\n",
      " nan nan nan nan nan nan nan nan nan nan nan nan nan nan nan nan nan nan\n",
      " nan nan nan nan nan nan nan nan nan nan nan nan nan nan nan nan nan nan\n",
      " nan nan nan nan nan nan nan nan nan nan nan nan nan nan nan nan nan nan\n",
      " nan nan nan nan nan nan nan nan nan nan nan nan nan nan nan nan nan nan\n",
      " nan nan nan nan nan nan nan nan nan nan nan nan nan nan nan nan nan nan\n",
      " nan nan nan nan nan nan nan nan nan nan nan nan nan nan nan nan nan nan\n",
      " nan nan nan nan nan nan nan nan nan nan nan nan nan nan nan nan nan nan\n",
      " nan nan nan nan nan nan nan nan nan nan nan nan nan nan nan nan nan nan\n",
      " nan nan nan nan nan nan nan nan nan nan nan nan nan nan nan nan nan nan\n",
      " nan nan nan nan nan nan nan nan nan nan nan nan nan nan nan nan nan nan\n",
      " nan nan nan nan nan nan nan nan nan nan nan nan nan nan nan nan nan nan\n",
      " nan nan nan nan nan nan nan nan nan nan nan nan nan nan nan nan nan nan\n",
      " nan nan nan nan nan nan nan nan nan nan nan nan nan nan nan nan nan nan\n",
      " nan nan nan nan nan nan nan nan nan nan nan nan nan nan nan nan nan nan\n",
      " nan nan nan nan nan nan]\n",
      "  warnings.warn(\n"
     ]
    }
   ],
   "source": [
    "x_train_transformed = preprocessing_pipeline.fit_transform(x_train)\n",
    "\n",
    "for search in models[:-1]:  # CatBoost doesn't wanna work with True/False\n",
    "    print(search)\n",
    "    search.fit(x_train_transformed, y_train)"
   ],
   "metadata": {
    "collapsed": false,
    "ExecuteTime": {
     "end_time": "2024-02-01T16:19:41.973024900Z",
     "start_time": "2024-02-01T16:06:14.143954700Z"
    }
   },
   "id": "dec8ebf5f5a30c64"
  },
  {
   "cell_type": "code",
   "execution_count": 93,
   "outputs": [
    {
     "data": {
      "text/plain": "GridSearchCV(estimator=<catboost.core.CatBoostClassifier object at 0x000001CAD7216410>,\n             param_grid={'depth': [1, 2, 3, 4],\n                         'iterations': [10, 20, 30, 40, 50, 60, 70, 80, 90,\n                                        100],\n                         'learning_rate': array([0.001     , 0.00316228, 0.01      , 0.03162278, 0.1       ])})",
      "text/html": "<style>#sk-container-id-1 {color: black;}#sk-container-id-1 pre{padding: 0;}#sk-container-id-1 div.sk-toggleable {background-color: white;}#sk-container-id-1 label.sk-toggleable__label {cursor: pointer;display: block;width: 100%;margin-bottom: 0;padding: 0.3em;box-sizing: border-box;text-align: center;}#sk-container-id-1 label.sk-toggleable__label-arrow:before {content: \"▸\";float: left;margin-right: 0.25em;color: #696969;}#sk-container-id-1 label.sk-toggleable__label-arrow:hover:before {color: black;}#sk-container-id-1 div.sk-estimator:hover label.sk-toggleable__label-arrow:before {color: black;}#sk-container-id-1 div.sk-toggleable__content {max-height: 0;max-width: 0;overflow: hidden;text-align: left;background-color: #f0f8ff;}#sk-container-id-1 div.sk-toggleable__content pre {margin: 0.2em;color: black;border-radius: 0.25em;background-color: #f0f8ff;}#sk-container-id-1 input.sk-toggleable__control:checked~div.sk-toggleable__content {max-height: 200px;max-width: 100%;overflow: auto;}#sk-container-id-1 input.sk-toggleable__control:checked~label.sk-toggleable__label-arrow:before {content: \"▾\";}#sk-container-id-1 div.sk-estimator input.sk-toggleable__control:checked~label.sk-toggleable__label {background-color: #d4ebff;}#sk-container-id-1 div.sk-label input.sk-toggleable__control:checked~label.sk-toggleable__label {background-color: #d4ebff;}#sk-container-id-1 input.sk-hidden--visually {border: 0;clip: rect(1px 1px 1px 1px);clip: rect(1px, 1px, 1px, 1px);height: 1px;margin: -1px;overflow: hidden;padding: 0;position: absolute;width: 1px;}#sk-container-id-1 div.sk-estimator {font-family: monospace;background-color: #f0f8ff;border: 1px dotted black;border-radius: 0.25em;box-sizing: border-box;margin-bottom: 0.5em;}#sk-container-id-1 div.sk-estimator:hover {background-color: #d4ebff;}#sk-container-id-1 div.sk-parallel-item::after {content: \"\";width: 100%;border-bottom: 1px solid gray;flex-grow: 1;}#sk-container-id-1 div.sk-label:hover label.sk-toggleable__label {background-color: #d4ebff;}#sk-container-id-1 div.sk-serial::before {content: \"\";position: absolute;border-left: 1px solid gray;box-sizing: border-box;top: 0;bottom: 0;left: 50%;z-index: 0;}#sk-container-id-1 div.sk-serial {display: flex;flex-direction: column;align-items: center;background-color: white;padding-right: 0.2em;padding-left: 0.2em;position: relative;}#sk-container-id-1 div.sk-item {position: relative;z-index: 1;}#sk-container-id-1 div.sk-parallel {display: flex;align-items: stretch;justify-content: center;background-color: white;position: relative;}#sk-container-id-1 div.sk-item::before, #sk-container-id-1 div.sk-parallel-item::before {content: \"\";position: absolute;border-left: 1px solid gray;box-sizing: border-box;top: 0;bottom: 0;left: 50%;z-index: -1;}#sk-container-id-1 div.sk-parallel-item {display: flex;flex-direction: column;z-index: 1;position: relative;background-color: white;}#sk-container-id-1 div.sk-parallel-item:first-child::after {align-self: flex-end;width: 50%;}#sk-container-id-1 div.sk-parallel-item:last-child::after {align-self: flex-start;width: 50%;}#sk-container-id-1 div.sk-parallel-item:only-child::after {width: 0;}#sk-container-id-1 div.sk-dashed-wrapped {border: 1px dashed gray;margin: 0 0.4em 0.5em 0.4em;box-sizing: border-box;padding-bottom: 0.4em;background-color: white;}#sk-container-id-1 div.sk-label label {font-family: monospace;font-weight: bold;display: inline-block;line-height: 1.2em;}#sk-container-id-1 div.sk-label-container {text-align: center;}#sk-container-id-1 div.sk-container {/* jupyter's `normalize.less` sets `[hidden] { display: none; }` but bootstrap.min.css set `[hidden] { display: none !important; }` so we also need the `!important` here to be able to override the default hidden behavior on the sphinx rendered scikit-learn.org. See: https://github.com/scikit-learn/scikit-learn/issues/21755 */display: inline-block !important;position: relative;}#sk-container-id-1 div.sk-text-repr-fallback {display: none;}</style><div id=\"sk-container-id-1\" class=\"sk-top-container\"><div class=\"sk-text-repr-fallback\"><pre>GridSearchCV(estimator=&lt;catboost.core.CatBoostClassifier object at 0x000001CAD7216410&gt;,\n             param_grid={&#x27;depth&#x27;: [1, 2, 3, 4],\n                         &#x27;iterations&#x27;: [10, 20, 30, 40, 50, 60, 70, 80, 90,\n                                        100],\n                         &#x27;learning_rate&#x27;: array([0.001     , 0.00316228, 0.01      , 0.03162278, 0.1       ])})</pre><b>In a Jupyter environment, please rerun this cell to show the HTML representation or trust the notebook. <br />On GitHub, the HTML representation is unable to render, please try loading this page with nbviewer.org.</b></div><div class=\"sk-container\" hidden><div class=\"sk-item sk-dashed-wrapped\"><div class=\"sk-label-container\"><div class=\"sk-label sk-toggleable\"><input class=\"sk-toggleable__control sk-hidden--visually\" id=\"sk-estimator-id-1\" type=\"checkbox\" ><label for=\"sk-estimator-id-1\" class=\"sk-toggleable__label sk-toggleable__label-arrow\">GridSearchCV</label><div class=\"sk-toggleable__content\"><pre>GridSearchCV(estimator=&lt;catboost.core.CatBoostClassifier object at 0x000001CAD7216410&gt;,\n             param_grid={&#x27;depth&#x27;: [1, 2, 3, 4],\n                         &#x27;iterations&#x27;: [10, 20, 30, 40, 50, 60, 70, 80, 90,\n                                        100],\n                         &#x27;learning_rate&#x27;: array([0.001     , 0.00316228, 0.01      , 0.03162278, 0.1       ])})</pre></div></div></div><div class=\"sk-parallel\"><div class=\"sk-parallel-item\"><div class=\"sk-item\"><div class=\"sk-label-container\"><div class=\"sk-label sk-toggleable\"><input class=\"sk-toggleable__control sk-hidden--visually\" id=\"sk-estimator-id-2\" type=\"checkbox\" ><label for=\"sk-estimator-id-2\" class=\"sk-toggleable__label sk-toggleable__label-arrow\">estimator: CatBoostClassifier</label><div class=\"sk-toggleable__content\"><pre>&lt;catboost.core.CatBoostClassifier object at 0x000001CAD7216410&gt;</pre></div></div></div><div class=\"sk-serial\"><div class=\"sk-item\"><div class=\"sk-estimator sk-toggleable\"><input class=\"sk-toggleable__control sk-hidden--visually\" id=\"sk-estimator-id-3\" type=\"checkbox\" ><label for=\"sk-estimator-id-3\" class=\"sk-toggleable__label sk-toggleable__label-arrow\">CatBoostClassifier</label><div class=\"sk-toggleable__content\"><pre>&lt;catboost.core.CatBoostClassifier object at 0x000001CAD7216410&gt;</pre></div></div></div></div></div></div></div></div></div></div>"
     },
     "execution_count": 93,
     "metadata": {},
     "output_type": "execute_result"
    }
   ],
   "source": [
    "models[-1].fit(x_train_transformed, y_train.astype('int'))"
   ],
   "metadata": {
    "collapsed": false,
    "ExecuteTime": {
     "end_time": "2024-02-01T16:52:31.582660700Z",
     "start_time": "2024-02-01T16:49:02.154261300Z"
    }
   },
   "id": "488d29290ffed95a"
  },
  {
   "cell_type": "code",
   "execution_count": 94,
   "outputs": [
    {
     "data": {
      "application/vnd.plotly.v1+json": {
       "data": [
        {
         "name": "DecisionTreeClassifier",
         "x": [
          0.0,
          0.001336898395721925,
          1.0
         ],
         "y": [
          0.0,
          0.9925373134328358,
          1.0
         ],
         "type": "scatter",
         "xaxis": "x",
         "yaxis": "y"
        },
        {
         "name": "AdaBoostClassifier",
         "x": [
          0.0,
          0.0,
          0.0,
          0.001336898395721925,
          0.001336898395721925,
          0.009358288770053475,
          0.009358288770053475,
          0.012032085561497326,
          0.012032085561497326,
          0.012032085561497326,
          0.014705882352941176,
          0.014705882352941176,
          0.016042780748663103,
          0.020053475935828877,
          0.02540106951871658,
          0.03342245989304813,
          0.034759358288770054,
          0.0481283422459893,
          0.0481283422459893,
          0.05080213903743316,
          0.053475935828877004,
          0.05614973262032086,
          0.05614973262032086,
          0.05748663101604278,
          0.05748663101604278,
          0.06149732620320856,
          0.06283422459893048,
          0.06283422459893048,
          0.06417112299465241,
          0.06550802139037433,
          0.06550802139037433,
          0.07085561497326204,
          0.07352941176470588,
          0.0748663101604278,
          0.0748663101604278,
          0.07754010695187166,
          0.08021390374331551,
          0.08288770053475936,
          0.08288770053475936,
          0.08422459893048129,
          0.0855614973262032,
          0.0855614973262032,
          0.08689839572192513,
          0.08957219251336898,
          0.09090909090909091,
          0.09893048128342247,
          0.10160427807486631,
          0.10160427807486631,
          0.10294117647058823,
          0.10427807486631016,
          0.11096256684491979,
          0.11363636363636363,
          0.1163101604278075,
          0.12032085561497326,
          0.12433155080213903,
          0.12834224598930483,
          0.1323529411764706,
          0.13770053475935828,
          0.14171122994652408,
          0.1443850267379679,
          0.14572192513368984,
          0.1497326203208556,
          0.1497326203208556,
          0.1497326203208556,
          0.15240641711229946,
          0.15508021390374332,
          0.15775401069518716,
          0.16042780748663102,
          0.16042780748663102,
          0.16310160427807488,
          0.16443850267379678,
          0.17914438502673796,
          0.1804812834224599,
          0.1804812834224599,
          0.18181818181818182,
          0.18315508021390375,
          0.1858288770053476,
          0.18716577540106952,
          0.18983957219251338,
          0.1925133689839572,
          0.19786096256684493,
          0.2018716577540107,
          0.20320855614973263,
          0.21122994652406418,
          0.21657754010695188,
          0.2192513368983957,
          0.22192513368983957,
          0.22459893048128343,
          0.22593582887700533,
          0.24064171122994651,
          0.24732620320855614,
          0.24866310160427807,
          0.25267379679144386,
          0.2553475935828877,
          0.2580213903743315,
          0.2606951871657754,
          0.26336898395721925,
          0.26737967914438504,
          0.2713903743315508,
          0.2727272727272727,
          0.2767379679144385,
          0.2887700534759358,
          0.2914438502673797,
          0.29411764705882354,
          0.29411764705882354,
          0.29545454545454547,
          0.2967914438502674,
          0.30614973262032086,
          0.30614973262032086,
          0.3088235294117647,
          0.31016042780748665,
          0.3195187165775401,
          0.32219251336898397,
          0.3355614973262032,
          0.33689839572192515,
          0.3409090909090909,
          0.34358288770053474,
          0.3449197860962567,
          0.35561497326203206,
          0.356951871657754,
          0.3649732620320856,
          0.37566844919786097,
          0.39572192513368987,
          0.39705882352941174,
          0.3997326203208556,
          0.4037433155080214,
          0.4090909090909091,
          0.4144385026737968,
          0.4157754010695187,
          0.42112299465240643,
          0.4532085561497326,
          0.45454545454545453,
          0.4612299465240642,
          0.4625668449197861,
          0.48128342245989303,
          0.4919786096256685,
          0.4946524064171123,
          0.5106951871657754,
          0.5133689839572193,
          0.5133689839572193,
          0.5147058823529411,
          0.517379679144385,
          0.5200534759358288,
          0.5240641711229946,
          0.5254010695187166,
          0.5641711229946524,
          0.5681818181818182,
          0.5721925133689839,
          0.5762032085561497,
          0.5775401069518716,
          0.6136363636363636,
          0.6149732620320856,
          0.6283422459893048,
          0.6296791443850267,
          0.6443850267379679,
          0.6577540106951871,
          0.6657754010695187,
          0.6671122994652406,
          0.6697860962566845,
          0.6724598930481284,
          0.7058823529411765,
          0.7072192513368984,
          0.713903743315508,
          0.7406417112299465,
          0.7540106951871658,
          0.7566844919786097,
          0.7593582887700535,
          0.7807486631016043,
          0.7820855614973262,
          0.8088235294117647,
          0.8101604278074866,
          0.8596256684491979,
          0.8609625668449198,
          0.8649732620320856,
          0.8663101604278075,
          0.8716577540106952,
          0.9879679144385026,
          0.9893048128342246,
          0.9919786096256684,
          0.9933155080213903,
          1.0
         ],
         "y": [
          0.0,
          0.029850746268656716,
          0.05223880597014925,
          0.05970149253731343,
          0.06716417910447761,
          0.1044776119402985,
          0.11194029850746269,
          0.13432835820895522,
          0.14925373134328357,
          0.17164179104477612,
          0.17164179104477612,
          0.1791044776119403,
          0.1791044776119403,
          0.20149253731343283,
          0.20149253731343283,
          0.20149253731343283,
          0.20149253731343283,
          0.20149253731343283,
          0.208955223880597,
          0.208955223880597,
          0.22388059701492538,
          0.22388059701492538,
          0.23880597014925373,
          0.2462686567164179,
          0.2537313432835821,
          0.26119402985074625,
          0.26119402985074625,
          0.2835820895522388,
          0.2835820895522388,
          0.291044776119403,
          0.29850746268656714,
          0.29850746268656714,
          0.29850746268656714,
          0.30597014925373134,
          0.31343283582089554,
          0.31343283582089554,
          0.31343283582089554,
          0.31343283582089554,
          0.3208955223880597,
          0.3208955223880597,
          0.3358208955223881,
          0.34328358208955223,
          0.35074626865671643,
          0.35074626865671643,
          0.35074626865671643,
          0.35074626865671643,
          0.35074626865671643,
          0.3582089552238806,
          0.3582089552238806,
          0.3656716417910448,
          0.373134328358209,
          0.3805970149253731,
          0.3805970149253731,
          0.3805970149253731,
          0.3805970149253731,
          0.39552238805970147,
          0.40298507462686567,
          0.41044776119402987,
          0.4253731343283582,
          0.43283582089552236,
          0.43283582089552236,
          0.44029850746268656,
          0.44776119402985076,
          0.4626865671641791,
          0.4626865671641791,
          0.4626865671641791,
          0.4626865671641791,
          0.4626865671641791,
          0.4701492537313433,
          0.4701492537313433,
          0.47761194029850745,
          0.48507462686567165,
          0.48507462686567165,
          0.4925373134328358,
          0.5,
          0.5,
          0.5074626865671642,
          0.5074626865671642,
          0.5149253731343284,
          0.5149253731343284,
          0.5149253731343284,
          0.5223880597014925,
          0.5223880597014925,
          0.5298507462686567,
          0.5298507462686567,
          0.5298507462686567,
          0.5298507462686567,
          0.5447761194029851,
          0.5447761194029851,
          0.5447761194029851,
          0.5522388059701493,
          0.5522388059701493,
          0.5522388059701493,
          0.5597014925373134,
          0.5597014925373134,
          0.5597014925373134,
          0.5597014925373134,
          0.5671641791044776,
          0.582089552238806,
          0.582089552238806,
          0.582089552238806,
          0.5970149253731343,
          0.5970149253731343,
          0.5970149253731343,
          0.6044776119402985,
          0.6119402985074627,
          0.6119402985074627,
          0.6194029850746269,
          0.6268656716417911,
          0.6268656716417911,
          0.6343283582089553,
          0.6417910447761194,
          0.6417910447761194,
          0.6567164179104478,
          0.6567164179104478,
          0.664179104477612,
          0.664179104477612,
          0.664179104477612,
          0.6791044776119403,
          0.6865671641791045,
          0.6940298507462687,
          0.6940298507462687,
          0.7014925373134329,
          0.7014925373134329,
          0.7089552238805971,
          0.7089552238805971,
          0.7238805970149254,
          0.7388059701492538,
          0.7388059701492538,
          0.753731343283582,
          0.753731343283582,
          0.753731343283582,
          0.7611940298507462,
          0.7611940298507462,
          0.7761194029850746,
          0.7761194029850746,
          0.7835820895522388,
          0.8208955223880597,
          0.8208955223880597,
          0.8283582089552238,
          0.8283582089552238,
          0.8283582089552238,
          0.835820895522388,
          0.835820895522388,
          0.835820895522388,
          0.8582089552238806,
          0.8582089552238806,
          0.8582089552238806,
          0.8656716417910447,
          0.8656716417910447,
          0.8805970149253731,
          0.8805970149253731,
          0.8880597014925373,
          0.8880597014925373,
          0.8880597014925373,
          0.8955223880597015,
          0.8955223880597015,
          0.8955223880597015,
          0.9029850746268657,
          0.9029850746268657,
          0.9104477611940298,
          0.9104477611940298,
          0.9104477611940298,
          0.9253731343283582,
          0.9402985074626866,
          0.9402985074626866,
          0.9402985074626866,
          0.9477611940298507,
          0.9477611940298507,
          0.9552238805970149,
          0.9552238805970149,
          0.9701492537313433,
          0.9701492537313433,
          0.9701492537313433,
          0.9701492537313433,
          0.9701492537313433,
          1.0,
          1.0,
          1.0,
          1.0,
          1.0
         ],
         "type": "scatter",
         "xaxis": "x",
         "yaxis": "y"
        },
        {
         "name": "RandomForestClassifier",
         "x": [
          0.0,
          0.0,
          0.0,
          0.0,
          0.0,
          0.0,
          0.0,
          0.0,
          0.0,
          0.0,
          0.0,
          0.0,
          0.0,
          0.0,
          0.0,
          0.0,
          0.0,
          0.0,
          0.0,
          0.0,
          0.0,
          0.0,
          0.00267379679144385,
          0.008021390374331552,
          0.0106951871657754,
          0.026737967914438502,
          0.03877005347593583,
          0.04946524064171123,
          0.06818181818181818,
          0.1163101604278075,
          0.16310160427807488,
          0.2807486631016043,
          0.4117647058823529,
          0.5655080213903744,
          0.7352941176470589,
          0.8609625668449198,
          0.9545454545454546,
          0.9919786096256684,
          1.0
         ],
         "y": [
          0.0,
          0.007462686567164179,
          0.022388059701492536,
          0.04477611940298507,
          0.05970149253731343,
          0.08955223880597014,
          0.13432835820895522,
          0.16417910447761194,
          0.23880597014925373,
          0.3283582089552239,
          0.40298507462686567,
          0.48507462686567165,
          0.5298507462686567,
          0.6492537313432836,
          0.746268656716418,
          0.7761194029850746,
          0.8507462686567164,
          0.8880597014925373,
          0.9328358208955224,
          0.9552238805970149,
          0.9850746268656716,
          1.0,
          1.0,
          1.0,
          1.0,
          1.0,
          1.0,
          1.0,
          1.0,
          1.0,
          1.0,
          1.0,
          1.0,
          1.0,
          1.0,
          1.0,
          1.0,
          1.0,
          1.0
         ],
         "type": "scatter",
         "xaxis": "x",
         "yaxis": "y"
        },
        {
         "name": "CatBoostClassifier",
         "x": [
          0.0,
          0.0,
          0.0,
          0.001336898395721925,
          0.001336898395721925,
          0.00267379679144385,
          0.00267379679144385,
          0.004010695187165776,
          0.004010695187165776,
          0.0053475935828877,
          0.0053475935828877,
          0.0066844919786096255,
          0.0066844919786096255,
          0.008021390374331552,
          0.008021390374331552,
          0.0106951871657754,
          0.0106951871657754,
          0.012032085561497326,
          0.012032085561497326,
          0.013368983957219251,
          0.013368983957219251,
          0.014705882352941176,
          0.014705882352941176,
          0.01871657754010695,
          0.01871657754010695,
          0.020053475935828877,
          0.020053475935828877,
          0.02406417112299465,
          0.02406417112299465,
          0.02540106951871658,
          0.02540106951871658,
          0.026737967914438502,
          0.026737967914438502,
          0.02807486631016043,
          0.02807486631016043,
          0.03074866310160428,
          0.03074866310160428,
          0.03208556149732621,
          0.03208556149732621,
          0.03609625668449198,
          0.03609625668449198,
          0.0374331550802139,
          0.0374331550802139,
          0.0427807486631016,
          0.0427807486631016,
          0.04411764705882353,
          0.04411764705882353,
          0.045454545454545456,
          0.045454545454545456,
          0.0481283422459893,
          0.0481283422459893,
          0.05213903743315508,
          0.05213903743315508,
          0.053475935828877004,
          0.053475935828877004,
          0.05748663101604278,
          0.05748663101604278,
          0.06016042780748663,
          0.06016042780748663,
          0.06417112299465241,
          0.06417112299465241,
          0.06550802139037433,
          0.06550802139037433,
          0.07620320855614973,
          0.07620320855614973,
          0.08021390374331551,
          0.08021390374331551,
          0.0855614973262032,
          0.0855614973262032,
          0.08823529411764706,
          0.08823529411764706,
          0.09358288770053476,
          0.09358288770053476,
          0.09759358288770054,
          0.09759358288770054,
          0.10026737967914438,
          0.10026737967914438,
          0.10294117647058823,
          0.10294117647058823,
          0.10828877005347594,
          0.10828877005347594,
          0.1163101604278075,
          0.1163101604278075,
          0.11764705882352941,
          0.11764705882352941,
          0.11898395721925134,
          0.11898395721925134,
          0.13101604278074866,
          0.13101604278074866,
          0.13502673796791445,
          0.13502673796791445,
          0.13636363636363635,
          0.13636363636363635,
          0.13770053475935828,
          0.13770053475935828,
          0.13903743315508021,
          0.13903743315508021,
          0.1483957219251337,
          0.1483957219251337,
          0.1497326203208556,
          0.1497326203208556,
          0.15240641711229946,
          0.15240641711229946,
          0.15508021390374332,
          0.15508021390374332,
          0.18315508021390375,
          0.18315508021390375,
          0.20320855614973263,
          0.20320855614973263,
          0.20454545454545456,
          0.20454545454545456,
          0.20588235294117646,
          0.20588235294117646,
          0.20855614973262032,
          0.20855614973262032,
          0.22459893048128343,
          0.22459893048128343,
          0.26871657754010697,
          0.26871657754010697,
          0.2713903743315508,
          0.2713903743315508,
          0.29411764705882354,
          0.29411764705882354,
          0.29812834224598933,
          0.29812834224598933,
          0.31684491978609625,
          0.31684491978609625,
          0.32887700534759357,
          0.32887700534759357,
          0.35561497326203206,
          0.35561497326203206,
          0.4050802139037433,
          0.4050802139037433,
          0.45187165775401067,
          0.45187165775401067,
          0.4852941176470588,
          0.4852941176470588,
          0.49866310160427807,
          0.49866310160427807,
          0.5748663101604278,
          0.5748663101604278,
          0.5949197860962567,
          0.5949197860962567,
          0.6189839572192514,
          0.6189839572192514,
          0.7152406417112299,
          0.7152406417112299,
          1.0
         ],
         "y": [
          0.0,
          0.007462686567164179,
          0.15671641791044777,
          0.15671641791044777,
          0.16417910447761194,
          0.16417910447761194,
          0.1791044776119403,
          0.1791044776119403,
          0.23134328358208955,
          0.23134328358208955,
          0.26865671641791045,
          0.26865671641791045,
          0.27611940298507465,
          0.27611940298507465,
          0.29850746268656714,
          0.29850746268656714,
          0.31343283582089554,
          0.31343283582089554,
          0.3208955223880597,
          0.3208955223880597,
          0.3283582089552239,
          0.3283582089552239,
          0.3358208955223881,
          0.3358208955223881,
          0.34328358208955223,
          0.34328358208955223,
          0.3656716417910448,
          0.3656716417910448,
          0.373134328358209,
          0.373134328358209,
          0.3805970149253731,
          0.3805970149253731,
          0.39552238805970147,
          0.39552238805970147,
          0.40298507462686567,
          0.40298507462686567,
          0.4253731343283582,
          0.4253731343283582,
          0.44029850746268656,
          0.44029850746268656,
          0.4552238805970149,
          0.4552238805970149,
          0.4626865671641791,
          0.4626865671641791,
          0.4701492537313433,
          0.4701492537313433,
          0.47761194029850745,
          0.47761194029850745,
          0.4925373134328358,
          0.4925373134328358,
          0.5298507462686567,
          0.5298507462686567,
          0.5373134328358209,
          0.5373134328358209,
          0.5447761194029851,
          0.5447761194029851,
          0.5671641791044776,
          0.5671641791044776,
          0.5895522388059702,
          0.5895522388059702,
          0.6044776119402985,
          0.6044776119402985,
          0.6268656716417911,
          0.6268656716417911,
          0.6343283582089553,
          0.6343283582089553,
          0.6567164179104478,
          0.6567164179104478,
          0.664179104477612,
          0.664179104477612,
          0.6716417910447762,
          0.6716417910447762,
          0.6791044776119403,
          0.6791044776119403,
          0.6865671641791045,
          0.6865671641791045,
          0.6940298507462687,
          0.6940298507462687,
          0.7089552238805971,
          0.7089552238805971,
          0.7164179104477612,
          0.7164179104477612,
          0.7238805970149254,
          0.7238805970149254,
          0.7313432835820896,
          0.7313432835820896,
          0.7388059701492538,
          0.7388059701492538,
          0.753731343283582,
          0.753731343283582,
          0.7686567164179104,
          0.7686567164179104,
          0.7761194029850746,
          0.7761194029850746,
          0.7835820895522388,
          0.7835820895522388,
          0.7985074626865671,
          0.7985074626865671,
          0.8059701492537313,
          0.8059701492537313,
          0.8134328358208955,
          0.8134328358208955,
          0.8208955223880597,
          0.8208955223880597,
          0.8283582089552238,
          0.8283582089552238,
          0.835820895522388,
          0.835820895522388,
          0.8432835820895522,
          0.8432835820895522,
          0.8507462686567164,
          0.8507462686567164,
          0.8582089552238806,
          0.8582089552238806,
          0.8656716417910447,
          0.8656716417910447,
          0.8731343283582089,
          0.8731343283582089,
          0.8805970149253731,
          0.8805970149253731,
          0.8880597014925373,
          0.8880597014925373,
          0.9104477611940298,
          0.9104477611940298,
          0.917910447761194,
          0.917910447761194,
          0.9253731343283582,
          0.9253731343283582,
          0.9328358208955224,
          0.9328358208955224,
          0.9402985074626866,
          0.9402985074626866,
          0.9477611940298507,
          0.9477611940298507,
          0.9552238805970149,
          0.9552238805970149,
          0.9626865671641791,
          0.9626865671641791,
          0.9701492537313433,
          0.9701492537313433,
          0.9776119402985075,
          0.9776119402985075,
          0.9850746268656716,
          0.9850746268656716,
          0.9925373134328358,
          0.9925373134328358,
          1.0,
          1.0
         ],
         "type": "scatter",
         "xaxis": "x",
         "yaxis": "y"
        },
        {
         "alignmentgroup": "True",
         "hovertemplate": "x=%{x}<br>y=%{y}<extra></extra>",
         "legendgroup": "",
         "marker": {
          "color": "#636efa",
          "pattern": {
           "shape": ""
          }
         },
         "name": "",
         "offsetgroup": "",
         "orientation": "v",
         "showlegend": false,
         "textposition": "auto",
         "x": [
          "DecisionTreeClassifier",
          "AdaBoostClassifier",
          "RandomForestClassifier",
          "CatBoostClassifier"
         ],
         "xaxis": "x2",
         "y": [
          0.9977324263038548,
          0.8560090702947846,
          0.9988662131519275,
          0.8866213151927438
         ],
         "yaxis": "y2",
         "type": "bar"
        },
        {
         "alignmentgroup": "True",
         "hovertemplate": "x=%{x}<br>y=%{y}<extra></extra>",
         "legendgroup": "",
         "marker": {
          "color": "#636efa",
          "pattern": {
           "shape": ""
          }
         },
         "name": "",
         "offsetgroup": "",
         "orientation": "v",
         "showlegend": false,
         "textposition": "auto",
         "x": [
          "DecisionTreeClassifier",
          "AdaBoostClassifier",
          "RandomForestClassifier",
          "CatBoostClassifier"
         ],
         "xaxis": "x3",
         "y": [
          0.9925373134328358,
          0.05223880597014925,
          0.9925373134328358,
          0.29850746268656714
         ],
         "yaxis": "y3",
         "type": "bar"
        },
        {
         "alignmentgroup": "True",
         "hovertemplate": "x=%{x}<br>y=%{y}<extra></extra>",
         "legendgroup": "",
         "marker": {
          "color": "#636efa",
          "pattern": {
           "shape": ""
          }
         },
         "name": "",
         "offsetgroup": "",
         "orientation": "v",
         "showlegend": false,
         "textposition": "auto",
         "x": [
          "DecisionTreeClassifier",
          "AdaBoostClassifier",
          "RandomForestClassifier",
          "CatBoostClassifier"
         ],
         "xaxis": "x4",
         "y": [
          0.9956002075185568,
          0.7290186766701254,
          1.0,
          0.9009897038869822
         ],
         "yaxis": "y4",
         "type": "bar"
        }
       ],
       "layout": {
        "template": {
         "data": {
          "histogram2dcontour": [
           {
            "type": "histogram2dcontour",
            "colorbar": {
             "outlinewidth": 0,
             "ticks": ""
            },
            "colorscale": [
             [
              0.0,
              "#0d0887"
             ],
             [
              0.1111111111111111,
              "#46039f"
             ],
             [
              0.2222222222222222,
              "#7201a8"
             ],
             [
              0.3333333333333333,
              "#9c179e"
             ],
             [
              0.4444444444444444,
              "#bd3786"
             ],
             [
              0.5555555555555556,
              "#d8576b"
             ],
             [
              0.6666666666666666,
              "#ed7953"
             ],
             [
              0.7777777777777778,
              "#fb9f3a"
             ],
             [
              0.8888888888888888,
              "#fdca26"
             ],
             [
              1.0,
              "#f0f921"
             ]
            ]
           }
          ],
          "choropleth": [
           {
            "type": "choropleth",
            "colorbar": {
             "outlinewidth": 0,
             "ticks": ""
            }
           }
          ],
          "histogram2d": [
           {
            "type": "histogram2d",
            "colorbar": {
             "outlinewidth": 0,
             "ticks": ""
            },
            "colorscale": [
             [
              0.0,
              "#0d0887"
             ],
             [
              0.1111111111111111,
              "#46039f"
             ],
             [
              0.2222222222222222,
              "#7201a8"
             ],
             [
              0.3333333333333333,
              "#9c179e"
             ],
             [
              0.4444444444444444,
              "#bd3786"
             ],
             [
              0.5555555555555556,
              "#d8576b"
             ],
             [
              0.6666666666666666,
              "#ed7953"
             ],
             [
              0.7777777777777778,
              "#fb9f3a"
             ],
             [
              0.8888888888888888,
              "#fdca26"
             ],
             [
              1.0,
              "#f0f921"
             ]
            ]
           }
          ],
          "heatmap": [
           {
            "type": "heatmap",
            "colorbar": {
             "outlinewidth": 0,
             "ticks": ""
            },
            "colorscale": [
             [
              0.0,
              "#0d0887"
             ],
             [
              0.1111111111111111,
              "#46039f"
             ],
             [
              0.2222222222222222,
              "#7201a8"
             ],
             [
              0.3333333333333333,
              "#9c179e"
             ],
             [
              0.4444444444444444,
              "#bd3786"
             ],
             [
              0.5555555555555556,
              "#d8576b"
             ],
             [
              0.6666666666666666,
              "#ed7953"
             ],
             [
              0.7777777777777778,
              "#fb9f3a"
             ],
             [
              0.8888888888888888,
              "#fdca26"
             ],
             [
              1.0,
              "#f0f921"
             ]
            ]
           }
          ],
          "heatmapgl": [
           {
            "type": "heatmapgl",
            "colorbar": {
             "outlinewidth": 0,
             "ticks": ""
            },
            "colorscale": [
             [
              0.0,
              "#0d0887"
             ],
             [
              0.1111111111111111,
              "#46039f"
             ],
             [
              0.2222222222222222,
              "#7201a8"
             ],
             [
              0.3333333333333333,
              "#9c179e"
             ],
             [
              0.4444444444444444,
              "#bd3786"
             ],
             [
              0.5555555555555556,
              "#d8576b"
             ],
             [
              0.6666666666666666,
              "#ed7953"
             ],
             [
              0.7777777777777778,
              "#fb9f3a"
             ],
             [
              0.8888888888888888,
              "#fdca26"
             ],
             [
              1.0,
              "#f0f921"
             ]
            ]
           }
          ],
          "contourcarpet": [
           {
            "type": "contourcarpet",
            "colorbar": {
             "outlinewidth": 0,
             "ticks": ""
            }
           }
          ],
          "contour": [
           {
            "type": "contour",
            "colorbar": {
             "outlinewidth": 0,
             "ticks": ""
            },
            "colorscale": [
             [
              0.0,
              "#0d0887"
             ],
             [
              0.1111111111111111,
              "#46039f"
             ],
             [
              0.2222222222222222,
              "#7201a8"
             ],
             [
              0.3333333333333333,
              "#9c179e"
             ],
             [
              0.4444444444444444,
              "#bd3786"
             ],
             [
              0.5555555555555556,
              "#d8576b"
             ],
             [
              0.6666666666666666,
              "#ed7953"
             ],
             [
              0.7777777777777778,
              "#fb9f3a"
             ],
             [
              0.8888888888888888,
              "#fdca26"
             ],
             [
              1.0,
              "#f0f921"
             ]
            ]
           }
          ],
          "surface": [
           {
            "type": "surface",
            "colorbar": {
             "outlinewidth": 0,
             "ticks": ""
            },
            "colorscale": [
             [
              0.0,
              "#0d0887"
             ],
             [
              0.1111111111111111,
              "#46039f"
             ],
             [
              0.2222222222222222,
              "#7201a8"
             ],
             [
              0.3333333333333333,
              "#9c179e"
             ],
             [
              0.4444444444444444,
              "#bd3786"
             ],
             [
              0.5555555555555556,
              "#d8576b"
             ],
             [
              0.6666666666666666,
              "#ed7953"
             ],
             [
              0.7777777777777778,
              "#fb9f3a"
             ],
             [
              0.8888888888888888,
              "#fdca26"
             ],
             [
              1.0,
              "#f0f921"
             ]
            ]
           }
          ],
          "mesh3d": [
           {
            "type": "mesh3d",
            "colorbar": {
             "outlinewidth": 0,
             "ticks": ""
            }
           }
          ],
          "scatter": [
           {
            "fillpattern": {
             "fillmode": "overlay",
             "size": 10,
             "solidity": 0.2
            },
            "type": "scatter"
           }
          ],
          "parcoords": [
           {
            "type": "parcoords",
            "line": {
             "colorbar": {
              "outlinewidth": 0,
              "ticks": ""
             }
            }
           }
          ],
          "scatterpolargl": [
           {
            "type": "scatterpolargl",
            "marker": {
             "colorbar": {
              "outlinewidth": 0,
              "ticks": ""
             }
            }
           }
          ],
          "bar": [
           {
            "error_x": {
             "color": "#2a3f5f"
            },
            "error_y": {
             "color": "#2a3f5f"
            },
            "marker": {
             "line": {
              "color": "#E5ECF6",
              "width": 0.5
             },
             "pattern": {
              "fillmode": "overlay",
              "size": 10,
              "solidity": 0.2
             }
            },
            "type": "bar"
           }
          ],
          "scattergeo": [
           {
            "type": "scattergeo",
            "marker": {
             "colorbar": {
              "outlinewidth": 0,
              "ticks": ""
             }
            }
           }
          ],
          "scatterpolar": [
           {
            "type": "scatterpolar",
            "marker": {
             "colorbar": {
              "outlinewidth": 0,
              "ticks": ""
             }
            }
           }
          ],
          "histogram": [
           {
            "marker": {
             "pattern": {
              "fillmode": "overlay",
              "size": 10,
              "solidity": 0.2
             }
            },
            "type": "histogram"
           }
          ],
          "scattergl": [
           {
            "type": "scattergl",
            "marker": {
             "colorbar": {
              "outlinewidth": 0,
              "ticks": ""
             }
            }
           }
          ],
          "scatter3d": [
           {
            "type": "scatter3d",
            "line": {
             "colorbar": {
              "outlinewidth": 0,
              "ticks": ""
             }
            },
            "marker": {
             "colorbar": {
              "outlinewidth": 0,
              "ticks": ""
             }
            }
           }
          ],
          "scattermapbox": [
           {
            "type": "scattermapbox",
            "marker": {
             "colorbar": {
              "outlinewidth": 0,
              "ticks": ""
             }
            }
           }
          ],
          "scatterternary": [
           {
            "type": "scatterternary",
            "marker": {
             "colorbar": {
              "outlinewidth": 0,
              "ticks": ""
             }
            }
           }
          ],
          "scattercarpet": [
           {
            "type": "scattercarpet",
            "marker": {
             "colorbar": {
              "outlinewidth": 0,
              "ticks": ""
             }
            }
           }
          ],
          "carpet": [
           {
            "aaxis": {
             "endlinecolor": "#2a3f5f",
             "gridcolor": "white",
             "linecolor": "white",
             "minorgridcolor": "white",
             "startlinecolor": "#2a3f5f"
            },
            "baxis": {
             "endlinecolor": "#2a3f5f",
             "gridcolor": "white",
             "linecolor": "white",
             "minorgridcolor": "white",
             "startlinecolor": "#2a3f5f"
            },
            "type": "carpet"
           }
          ],
          "table": [
           {
            "cells": {
             "fill": {
              "color": "#EBF0F8"
             },
             "line": {
              "color": "white"
             }
            },
            "header": {
             "fill": {
              "color": "#C8D4E3"
             },
             "line": {
              "color": "white"
             }
            },
            "type": "table"
           }
          ],
          "barpolar": [
           {
            "marker": {
             "line": {
              "color": "#E5ECF6",
              "width": 0.5
             },
             "pattern": {
              "fillmode": "overlay",
              "size": 10,
              "solidity": 0.2
             }
            },
            "type": "barpolar"
           }
          ],
          "pie": [
           {
            "automargin": true,
            "type": "pie"
           }
          ]
         },
         "layout": {
          "autotypenumbers": "strict",
          "colorway": [
           "#636efa",
           "#EF553B",
           "#00cc96",
           "#ab63fa",
           "#FFA15A",
           "#19d3f3",
           "#FF6692",
           "#B6E880",
           "#FF97FF",
           "#FECB52"
          ],
          "font": {
           "color": "#2a3f5f"
          },
          "hovermode": "closest",
          "hoverlabel": {
           "align": "left"
          },
          "paper_bgcolor": "white",
          "plot_bgcolor": "#E5ECF6",
          "polar": {
           "bgcolor": "#E5ECF6",
           "angularaxis": {
            "gridcolor": "white",
            "linecolor": "white",
            "ticks": ""
           },
           "radialaxis": {
            "gridcolor": "white",
            "linecolor": "white",
            "ticks": ""
           }
          },
          "ternary": {
           "bgcolor": "#E5ECF6",
           "aaxis": {
            "gridcolor": "white",
            "linecolor": "white",
            "ticks": ""
           },
           "baxis": {
            "gridcolor": "white",
            "linecolor": "white",
            "ticks": ""
           },
           "caxis": {
            "gridcolor": "white",
            "linecolor": "white",
            "ticks": ""
           }
          },
          "coloraxis": {
           "colorbar": {
            "outlinewidth": 0,
            "ticks": ""
           }
          },
          "colorscale": {
           "sequential": [
            [
             0.0,
             "#0d0887"
            ],
            [
             0.1111111111111111,
             "#46039f"
            ],
            [
             0.2222222222222222,
             "#7201a8"
            ],
            [
             0.3333333333333333,
             "#9c179e"
            ],
            [
             0.4444444444444444,
             "#bd3786"
            ],
            [
             0.5555555555555556,
             "#d8576b"
            ],
            [
             0.6666666666666666,
             "#ed7953"
            ],
            [
             0.7777777777777778,
             "#fb9f3a"
            ],
            [
             0.8888888888888888,
             "#fdca26"
            ],
            [
             1.0,
             "#f0f921"
            ]
           ],
           "sequentialminus": [
            [
             0.0,
             "#0d0887"
            ],
            [
             0.1111111111111111,
             "#46039f"
            ],
            [
             0.2222222222222222,
             "#7201a8"
            ],
            [
             0.3333333333333333,
             "#9c179e"
            ],
            [
             0.4444444444444444,
             "#bd3786"
            ],
            [
             0.5555555555555556,
             "#d8576b"
            ],
            [
             0.6666666666666666,
             "#ed7953"
            ],
            [
             0.7777777777777778,
             "#fb9f3a"
            ],
            [
             0.8888888888888888,
             "#fdca26"
            ],
            [
             1.0,
             "#f0f921"
            ]
           ],
           "diverging": [
            [
             0,
             "#8e0152"
            ],
            [
             0.1,
             "#c51b7d"
            ],
            [
             0.2,
             "#de77ae"
            ],
            [
             0.3,
             "#f1b6da"
            ],
            [
             0.4,
             "#fde0ef"
            ],
            [
             0.5,
             "#f7f7f7"
            ],
            [
             0.6,
             "#e6f5d0"
            ],
            [
             0.7,
             "#b8e186"
            ],
            [
             0.8,
             "#7fbc41"
            ],
            [
             0.9,
             "#4d9221"
            ],
            [
             1,
             "#276419"
            ]
           ]
          },
          "xaxis": {
           "gridcolor": "white",
           "linecolor": "white",
           "ticks": "",
           "title": {
            "standoff": 15
           },
           "zerolinecolor": "white",
           "automargin": true,
           "zerolinewidth": 2
          },
          "yaxis": {
           "gridcolor": "white",
           "linecolor": "white",
           "ticks": "",
           "title": {
            "standoff": 15
           },
           "zerolinecolor": "white",
           "automargin": true,
           "zerolinewidth": 2
          },
          "scene": {
           "xaxis": {
            "backgroundcolor": "#E5ECF6",
            "gridcolor": "white",
            "linecolor": "white",
            "showbackground": true,
            "ticks": "",
            "zerolinecolor": "white",
            "gridwidth": 2
           },
           "yaxis": {
            "backgroundcolor": "#E5ECF6",
            "gridcolor": "white",
            "linecolor": "white",
            "showbackground": true,
            "ticks": "",
            "zerolinecolor": "white",
            "gridwidth": 2
           },
           "zaxis": {
            "backgroundcolor": "#E5ECF6",
            "gridcolor": "white",
            "linecolor": "white",
            "showbackground": true,
            "ticks": "",
            "zerolinecolor": "white",
            "gridwidth": 2
           }
          },
          "shapedefaults": {
           "line": {
            "color": "#2a3f5f"
           }
          },
          "annotationdefaults": {
           "arrowcolor": "#2a3f5f",
           "arrowhead": 0,
           "arrowwidth": 1
          },
          "geo": {
           "bgcolor": "white",
           "landcolor": "#E5ECF6",
           "subunitcolor": "white",
           "showland": true,
           "showlakes": true,
           "lakecolor": "white"
          },
          "title": {
           "x": 0.05
          },
          "mapbox": {
           "style": "light"
          }
         }
        },
        "xaxis": {
         "anchor": "y",
         "domain": [
          0.0,
          0.45
         ]
        },
        "yaxis": {
         "anchor": "x",
         "domain": [
          0.625,
          1.0
         ]
        },
        "xaxis2": {
         "anchor": "y2",
         "domain": [
          0.55,
          1.0
         ]
        },
        "yaxis2": {
         "anchor": "x2",
         "domain": [
          0.625,
          1.0
         ]
        },
        "xaxis3": {
         "anchor": "y3",
         "domain": [
          0.0,
          0.45
         ]
        },
        "yaxis3": {
         "anchor": "x3",
         "domain": [
          0.0,
          0.375
         ]
        },
        "xaxis4": {
         "anchor": "y4",
         "domain": [
          0.55,
          1.0
         ]
        },
        "yaxis4": {
         "anchor": "x4",
         "domain": [
          0.0,
          0.375
         ]
        },
        "annotations": [
         {
          "font": {
           "size": 16
          },
          "showarrow": false,
          "text": "ROC Curves",
          "x": 0.225,
          "xanchor": "center",
          "xref": "paper",
          "y": 1.0,
          "yanchor": "bottom",
          "yref": "paper"
         },
         {
          "font": {
           "size": 16
          },
          "showarrow": false,
          "text": "Accuracy",
          "x": 0.775,
          "xanchor": "center",
          "xref": "paper",
          "y": 1.0,
          "yanchor": "bottom",
          "yref": "paper"
         },
         {
          "font": {
           "size": 16
          },
          "showarrow": false,
          "text": "Recall",
          "x": 0.225,
          "xanchor": "center",
          "xref": "paper",
          "y": 0.375,
          "yanchor": "bottom",
          "yref": "paper"
         },
         {
          "font": {
           "size": 16
          },
          "showarrow": false,
          "text": "ROC AUC",
          "x": 0.775,
          "xanchor": "center",
          "xref": "paper",
          "y": 0.375,
          "yanchor": "bottom",
          "yref": "paper"
         }
        ],
        "height": 1000,
        "width": 1000
       },
       "config": {
        "plotlyServerURL": "https://plot.ly"
       }
      },
      "text/html": "<div>                            <div id=\"b9898a26-5c07-410b-ac1b-fbf8bb9d7f9a\" class=\"plotly-graph-div\" style=\"height:1000px; width:1000px;\"></div>            <script type=\"text/javascript\">                require([\"plotly\"], function(Plotly) {                    window.PLOTLYENV=window.PLOTLYENV || {};                                    if (document.getElementById(\"b9898a26-5c07-410b-ac1b-fbf8bb9d7f9a\")) {                    Plotly.newPlot(                        \"b9898a26-5c07-410b-ac1b-fbf8bb9d7f9a\",                        [{\"name\":\"DecisionTreeClassifier\",\"x\":[0.0,0.001336898395721925,1.0],\"y\":[0.0,0.9925373134328358,1.0],\"type\":\"scatter\",\"xaxis\":\"x\",\"yaxis\":\"y\"},{\"name\":\"AdaBoostClassifier\",\"x\":[0.0,0.0,0.0,0.001336898395721925,0.001336898395721925,0.009358288770053475,0.009358288770053475,0.012032085561497326,0.012032085561497326,0.012032085561497326,0.014705882352941176,0.014705882352941176,0.016042780748663103,0.020053475935828877,0.02540106951871658,0.03342245989304813,0.034759358288770054,0.0481283422459893,0.0481283422459893,0.05080213903743316,0.053475935828877004,0.05614973262032086,0.05614973262032086,0.05748663101604278,0.05748663101604278,0.06149732620320856,0.06283422459893048,0.06283422459893048,0.06417112299465241,0.06550802139037433,0.06550802139037433,0.07085561497326204,0.07352941176470588,0.0748663101604278,0.0748663101604278,0.07754010695187166,0.08021390374331551,0.08288770053475936,0.08288770053475936,0.08422459893048129,0.0855614973262032,0.0855614973262032,0.08689839572192513,0.08957219251336898,0.09090909090909091,0.09893048128342247,0.10160427807486631,0.10160427807486631,0.10294117647058823,0.10427807486631016,0.11096256684491979,0.11363636363636363,0.1163101604278075,0.12032085561497326,0.12433155080213903,0.12834224598930483,0.1323529411764706,0.13770053475935828,0.14171122994652408,0.1443850267379679,0.14572192513368984,0.1497326203208556,0.1497326203208556,0.1497326203208556,0.15240641711229946,0.15508021390374332,0.15775401069518716,0.16042780748663102,0.16042780748663102,0.16310160427807488,0.16443850267379678,0.17914438502673796,0.1804812834224599,0.1804812834224599,0.18181818181818182,0.18315508021390375,0.1858288770053476,0.18716577540106952,0.18983957219251338,0.1925133689839572,0.19786096256684493,0.2018716577540107,0.20320855614973263,0.21122994652406418,0.21657754010695188,0.2192513368983957,0.22192513368983957,0.22459893048128343,0.22593582887700533,0.24064171122994651,0.24732620320855614,0.24866310160427807,0.25267379679144386,0.2553475935828877,0.2580213903743315,0.2606951871657754,0.26336898395721925,0.26737967914438504,0.2713903743315508,0.2727272727272727,0.2767379679144385,0.2887700534759358,0.2914438502673797,0.29411764705882354,0.29411764705882354,0.29545454545454547,0.2967914438502674,0.30614973262032086,0.30614973262032086,0.3088235294117647,0.31016042780748665,0.3195187165775401,0.32219251336898397,0.3355614973262032,0.33689839572192515,0.3409090909090909,0.34358288770053474,0.3449197860962567,0.35561497326203206,0.356951871657754,0.3649732620320856,0.37566844919786097,0.39572192513368987,0.39705882352941174,0.3997326203208556,0.4037433155080214,0.4090909090909091,0.4144385026737968,0.4157754010695187,0.42112299465240643,0.4532085561497326,0.45454545454545453,0.4612299465240642,0.4625668449197861,0.48128342245989303,0.4919786096256685,0.4946524064171123,0.5106951871657754,0.5133689839572193,0.5133689839572193,0.5147058823529411,0.517379679144385,0.5200534759358288,0.5240641711229946,0.5254010695187166,0.5641711229946524,0.5681818181818182,0.5721925133689839,0.5762032085561497,0.5775401069518716,0.6136363636363636,0.6149732620320856,0.6283422459893048,0.6296791443850267,0.6443850267379679,0.6577540106951871,0.6657754010695187,0.6671122994652406,0.6697860962566845,0.6724598930481284,0.7058823529411765,0.7072192513368984,0.713903743315508,0.7406417112299465,0.7540106951871658,0.7566844919786097,0.7593582887700535,0.7807486631016043,0.7820855614973262,0.8088235294117647,0.8101604278074866,0.8596256684491979,0.8609625668449198,0.8649732620320856,0.8663101604278075,0.8716577540106952,0.9879679144385026,0.9893048128342246,0.9919786096256684,0.9933155080213903,1.0],\"y\":[0.0,0.029850746268656716,0.05223880597014925,0.05970149253731343,0.06716417910447761,0.1044776119402985,0.11194029850746269,0.13432835820895522,0.14925373134328357,0.17164179104477612,0.17164179104477612,0.1791044776119403,0.1791044776119403,0.20149253731343283,0.20149253731343283,0.20149253731343283,0.20149253731343283,0.20149253731343283,0.208955223880597,0.208955223880597,0.22388059701492538,0.22388059701492538,0.23880597014925373,0.2462686567164179,0.2537313432835821,0.26119402985074625,0.26119402985074625,0.2835820895522388,0.2835820895522388,0.291044776119403,0.29850746268656714,0.29850746268656714,0.29850746268656714,0.30597014925373134,0.31343283582089554,0.31343283582089554,0.31343283582089554,0.31343283582089554,0.3208955223880597,0.3208955223880597,0.3358208955223881,0.34328358208955223,0.35074626865671643,0.35074626865671643,0.35074626865671643,0.35074626865671643,0.35074626865671643,0.3582089552238806,0.3582089552238806,0.3656716417910448,0.373134328358209,0.3805970149253731,0.3805970149253731,0.3805970149253731,0.3805970149253731,0.39552238805970147,0.40298507462686567,0.41044776119402987,0.4253731343283582,0.43283582089552236,0.43283582089552236,0.44029850746268656,0.44776119402985076,0.4626865671641791,0.4626865671641791,0.4626865671641791,0.4626865671641791,0.4626865671641791,0.4701492537313433,0.4701492537313433,0.47761194029850745,0.48507462686567165,0.48507462686567165,0.4925373134328358,0.5,0.5,0.5074626865671642,0.5074626865671642,0.5149253731343284,0.5149253731343284,0.5149253731343284,0.5223880597014925,0.5223880597014925,0.5298507462686567,0.5298507462686567,0.5298507462686567,0.5298507462686567,0.5447761194029851,0.5447761194029851,0.5447761194029851,0.5522388059701493,0.5522388059701493,0.5522388059701493,0.5597014925373134,0.5597014925373134,0.5597014925373134,0.5597014925373134,0.5671641791044776,0.582089552238806,0.582089552238806,0.582089552238806,0.5970149253731343,0.5970149253731343,0.5970149253731343,0.6044776119402985,0.6119402985074627,0.6119402985074627,0.6194029850746269,0.6268656716417911,0.6268656716417911,0.6343283582089553,0.6417910447761194,0.6417910447761194,0.6567164179104478,0.6567164179104478,0.664179104477612,0.664179104477612,0.664179104477612,0.6791044776119403,0.6865671641791045,0.6940298507462687,0.6940298507462687,0.7014925373134329,0.7014925373134329,0.7089552238805971,0.7089552238805971,0.7238805970149254,0.7388059701492538,0.7388059701492538,0.753731343283582,0.753731343283582,0.753731343283582,0.7611940298507462,0.7611940298507462,0.7761194029850746,0.7761194029850746,0.7835820895522388,0.8208955223880597,0.8208955223880597,0.8283582089552238,0.8283582089552238,0.8283582089552238,0.835820895522388,0.835820895522388,0.835820895522388,0.8582089552238806,0.8582089552238806,0.8582089552238806,0.8656716417910447,0.8656716417910447,0.8805970149253731,0.8805970149253731,0.8880597014925373,0.8880597014925373,0.8880597014925373,0.8955223880597015,0.8955223880597015,0.8955223880597015,0.9029850746268657,0.9029850746268657,0.9104477611940298,0.9104477611940298,0.9104477611940298,0.9253731343283582,0.9402985074626866,0.9402985074626866,0.9402985074626866,0.9477611940298507,0.9477611940298507,0.9552238805970149,0.9552238805970149,0.9701492537313433,0.9701492537313433,0.9701492537313433,0.9701492537313433,0.9701492537313433,1.0,1.0,1.0,1.0,1.0],\"type\":\"scatter\",\"xaxis\":\"x\",\"yaxis\":\"y\"},{\"name\":\"RandomForestClassifier\",\"x\":[0.0,0.0,0.0,0.0,0.0,0.0,0.0,0.0,0.0,0.0,0.0,0.0,0.0,0.0,0.0,0.0,0.0,0.0,0.0,0.0,0.0,0.0,0.00267379679144385,0.008021390374331552,0.0106951871657754,0.026737967914438502,0.03877005347593583,0.04946524064171123,0.06818181818181818,0.1163101604278075,0.16310160427807488,0.2807486631016043,0.4117647058823529,0.5655080213903744,0.7352941176470589,0.8609625668449198,0.9545454545454546,0.9919786096256684,1.0],\"y\":[0.0,0.007462686567164179,0.022388059701492536,0.04477611940298507,0.05970149253731343,0.08955223880597014,0.13432835820895522,0.16417910447761194,0.23880597014925373,0.3283582089552239,0.40298507462686567,0.48507462686567165,0.5298507462686567,0.6492537313432836,0.746268656716418,0.7761194029850746,0.8507462686567164,0.8880597014925373,0.9328358208955224,0.9552238805970149,0.9850746268656716,1.0,1.0,1.0,1.0,1.0,1.0,1.0,1.0,1.0,1.0,1.0,1.0,1.0,1.0,1.0,1.0,1.0,1.0],\"type\":\"scatter\",\"xaxis\":\"x\",\"yaxis\":\"y\"},{\"name\":\"CatBoostClassifier\",\"x\":[0.0,0.0,0.0,0.001336898395721925,0.001336898395721925,0.00267379679144385,0.00267379679144385,0.004010695187165776,0.004010695187165776,0.0053475935828877,0.0053475935828877,0.0066844919786096255,0.0066844919786096255,0.008021390374331552,0.008021390374331552,0.0106951871657754,0.0106951871657754,0.012032085561497326,0.012032085561497326,0.013368983957219251,0.013368983957219251,0.014705882352941176,0.014705882352941176,0.01871657754010695,0.01871657754010695,0.020053475935828877,0.020053475935828877,0.02406417112299465,0.02406417112299465,0.02540106951871658,0.02540106951871658,0.026737967914438502,0.026737967914438502,0.02807486631016043,0.02807486631016043,0.03074866310160428,0.03074866310160428,0.03208556149732621,0.03208556149732621,0.03609625668449198,0.03609625668449198,0.0374331550802139,0.0374331550802139,0.0427807486631016,0.0427807486631016,0.04411764705882353,0.04411764705882353,0.045454545454545456,0.045454545454545456,0.0481283422459893,0.0481283422459893,0.05213903743315508,0.05213903743315508,0.053475935828877004,0.053475935828877004,0.05748663101604278,0.05748663101604278,0.06016042780748663,0.06016042780748663,0.06417112299465241,0.06417112299465241,0.06550802139037433,0.06550802139037433,0.07620320855614973,0.07620320855614973,0.08021390374331551,0.08021390374331551,0.0855614973262032,0.0855614973262032,0.08823529411764706,0.08823529411764706,0.09358288770053476,0.09358288770053476,0.09759358288770054,0.09759358288770054,0.10026737967914438,0.10026737967914438,0.10294117647058823,0.10294117647058823,0.10828877005347594,0.10828877005347594,0.1163101604278075,0.1163101604278075,0.11764705882352941,0.11764705882352941,0.11898395721925134,0.11898395721925134,0.13101604278074866,0.13101604278074866,0.13502673796791445,0.13502673796791445,0.13636363636363635,0.13636363636363635,0.13770053475935828,0.13770053475935828,0.13903743315508021,0.13903743315508021,0.1483957219251337,0.1483957219251337,0.1497326203208556,0.1497326203208556,0.15240641711229946,0.15240641711229946,0.15508021390374332,0.15508021390374332,0.18315508021390375,0.18315508021390375,0.20320855614973263,0.20320855614973263,0.20454545454545456,0.20454545454545456,0.20588235294117646,0.20588235294117646,0.20855614973262032,0.20855614973262032,0.22459893048128343,0.22459893048128343,0.26871657754010697,0.26871657754010697,0.2713903743315508,0.2713903743315508,0.29411764705882354,0.29411764705882354,0.29812834224598933,0.29812834224598933,0.31684491978609625,0.31684491978609625,0.32887700534759357,0.32887700534759357,0.35561497326203206,0.35561497326203206,0.4050802139037433,0.4050802139037433,0.45187165775401067,0.45187165775401067,0.4852941176470588,0.4852941176470588,0.49866310160427807,0.49866310160427807,0.5748663101604278,0.5748663101604278,0.5949197860962567,0.5949197860962567,0.6189839572192514,0.6189839572192514,0.7152406417112299,0.7152406417112299,1.0],\"y\":[0.0,0.007462686567164179,0.15671641791044777,0.15671641791044777,0.16417910447761194,0.16417910447761194,0.1791044776119403,0.1791044776119403,0.23134328358208955,0.23134328358208955,0.26865671641791045,0.26865671641791045,0.27611940298507465,0.27611940298507465,0.29850746268656714,0.29850746268656714,0.31343283582089554,0.31343283582089554,0.3208955223880597,0.3208955223880597,0.3283582089552239,0.3283582089552239,0.3358208955223881,0.3358208955223881,0.34328358208955223,0.34328358208955223,0.3656716417910448,0.3656716417910448,0.373134328358209,0.373134328358209,0.3805970149253731,0.3805970149253731,0.39552238805970147,0.39552238805970147,0.40298507462686567,0.40298507462686567,0.4253731343283582,0.4253731343283582,0.44029850746268656,0.44029850746268656,0.4552238805970149,0.4552238805970149,0.4626865671641791,0.4626865671641791,0.4701492537313433,0.4701492537313433,0.47761194029850745,0.47761194029850745,0.4925373134328358,0.4925373134328358,0.5298507462686567,0.5298507462686567,0.5373134328358209,0.5373134328358209,0.5447761194029851,0.5447761194029851,0.5671641791044776,0.5671641791044776,0.5895522388059702,0.5895522388059702,0.6044776119402985,0.6044776119402985,0.6268656716417911,0.6268656716417911,0.6343283582089553,0.6343283582089553,0.6567164179104478,0.6567164179104478,0.664179104477612,0.664179104477612,0.6716417910447762,0.6716417910447762,0.6791044776119403,0.6791044776119403,0.6865671641791045,0.6865671641791045,0.6940298507462687,0.6940298507462687,0.7089552238805971,0.7089552238805971,0.7164179104477612,0.7164179104477612,0.7238805970149254,0.7238805970149254,0.7313432835820896,0.7313432835820896,0.7388059701492538,0.7388059701492538,0.753731343283582,0.753731343283582,0.7686567164179104,0.7686567164179104,0.7761194029850746,0.7761194029850746,0.7835820895522388,0.7835820895522388,0.7985074626865671,0.7985074626865671,0.8059701492537313,0.8059701492537313,0.8134328358208955,0.8134328358208955,0.8208955223880597,0.8208955223880597,0.8283582089552238,0.8283582089552238,0.835820895522388,0.835820895522388,0.8432835820895522,0.8432835820895522,0.8507462686567164,0.8507462686567164,0.8582089552238806,0.8582089552238806,0.8656716417910447,0.8656716417910447,0.8731343283582089,0.8731343283582089,0.8805970149253731,0.8805970149253731,0.8880597014925373,0.8880597014925373,0.9104477611940298,0.9104477611940298,0.917910447761194,0.917910447761194,0.9253731343283582,0.9253731343283582,0.9328358208955224,0.9328358208955224,0.9402985074626866,0.9402985074626866,0.9477611940298507,0.9477611940298507,0.9552238805970149,0.9552238805970149,0.9626865671641791,0.9626865671641791,0.9701492537313433,0.9701492537313433,0.9776119402985075,0.9776119402985075,0.9850746268656716,0.9850746268656716,0.9925373134328358,0.9925373134328358,1.0,1.0],\"type\":\"scatter\",\"xaxis\":\"x\",\"yaxis\":\"y\"},{\"alignmentgroup\":\"True\",\"hovertemplate\":\"x=%{x}\\u003cbr\\u003ey=%{y}\\u003cextra\\u003e\\u003c\\u002fextra\\u003e\",\"legendgroup\":\"\",\"marker\":{\"color\":\"#636efa\",\"pattern\":{\"shape\":\"\"}},\"name\":\"\",\"offsetgroup\":\"\",\"orientation\":\"v\",\"showlegend\":false,\"textposition\":\"auto\",\"x\":[\"DecisionTreeClassifier\",\"AdaBoostClassifier\",\"RandomForestClassifier\",\"CatBoostClassifier\"],\"xaxis\":\"x2\",\"y\":[0.9977324263038548,0.8560090702947846,0.9988662131519275,0.8866213151927438],\"yaxis\":\"y2\",\"type\":\"bar\"},{\"alignmentgroup\":\"True\",\"hovertemplate\":\"x=%{x}\\u003cbr\\u003ey=%{y}\\u003cextra\\u003e\\u003c\\u002fextra\\u003e\",\"legendgroup\":\"\",\"marker\":{\"color\":\"#636efa\",\"pattern\":{\"shape\":\"\"}},\"name\":\"\",\"offsetgroup\":\"\",\"orientation\":\"v\",\"showlegend\":false,\"textposition\":\"auto\",\"x\":[\"DecisionTreeClassifier\",\"AdaBoostClassifier\",\"RandomForestClassifier\",\"CatBoostClassifier\"],\"xaxis\":\"x3\",\"y\":[0.9925373134328358,0.05223880597014925,0.9925373134328358,0.29850746268656714],\"yaxis\":\"y3\",\"type\":\"bar\"},{\"alignmentgroup\":\"True\",\"hovertemplate\":\"x=%{x}\\u003cbr\\u003ey=%{y}\\u003cextra\\u003e\\u003c\\u002fextra\\u003e\",\"legendgroup\":\"\",\"marker\":{\"color\":\"#636efa\",\"pattern\":{\"shape\":\"\"}},\"name\":\"\",\"offsetgroup\":\"\",\"orientation\":\"v\",\"showlegend\":false,\"textposition\":\"auto\",\"x\":[\"DecisionTreeClassifier\",\"AdaBoostClassifier\",\"RandomForestClassifier\",\"CatBoostClassifier\"],\"xaxis\":\"x4\",\"y\":[0.9956002075185568,0.7290186766701254,1.0,0.9009897038869822],\"yaxis\":\"y4\",\"type\":\"bar\"}],                        {\"template\":{\"data\":{\"histogram2dcontour\":[{\"type\":\"histogram2dcontour\",\"colorbar\":{\"outlinewidth\":0,\"ticks\":\"\"},\"colorscale\":[[0.0,\"#0d0887\"],[0.1111111111111111,\"#46039f\"],[0.2222222222222222,\"#7201a8\"],[0.3333333333333333,\"#9c179e\"],[0.4444444444444444,\"#bd3786\"],[0.5555555555555556,\"#d8576b\"],[0.6666666666666666,\"#ed7953\"],[0.7777777777777778,\"#fb9f3a\"],[0.8888888888888888,\"#fdca26\"],[1.0,\"#f0f921\"]]}],\"choropleth\":[{\"type\":\"choropleth\",\"colorbar\":{\"outlinewidth\":0,\"ticks\":\"\"}}],\"histogram2d\":[{\"type\":\"histogram2d\",\"colorbar\":{\"outlinewidth\":0,\"ticks\":\"\"},\"colorscale\":[[0.0,\"#0d0887\"],[0.1111111111111111,\"#46039f\"],[0.2222222222222222,\"#7201a8\"],[0.3333333333333333,\"#9c179e\"],[0.4444444444444444,\"#bd3786\"],[0.5555555555555556,\"#d8576b\"],[0.6666666666666666,\"#ed7953\"],[0.7777777777777778,\"#fb9f3a\"],[0.8888888888888888,\"#fdca26\"],[1.0,\"#f0f921\"]]}],\"heatmap\":[{\"type\":\"heatmap\",\"colorbar\":{\"outlinewidth\":0,\"ticks\":\"\"},\"colorscale\":[[0.0,\"#0d0887\"],[0.1111111111111111,\"#46039f\"],[0.2222222222222222,\"#7201a8\"],[0.3333333333333333,\"#9c179e\"],[0.4444444444444444,\"#bd3786\"],[0.5555555555555556,\"#d8576b\"],[0.6666666666666666,\"#ed7953\"],[0.7777777777777778,\"#fb9f3a\"],[0.8888888888888888,\"#fdca26\"],[1.0,\"#f0f921\"]]}],\"heatmapgl\":[{\"type\":\"heatmapgl\",\"colorbar\":{\"outlinewidth\":0,\"ticks\":\"\"},\"colorscale\":[[0.0,\"#0d0887\"],[0.1111111111111111,\"#46039f\"],[0.2222222222222222,\"#7201a8\"],[0.3333333333333333,\"#9c179e\"],[0.4444444444444444,\"#bd3786\"],[0.5555555555555556,\"#d8576b\"],[0.6666666666666666,\"#ed7953\"],[0.7777777777777778,\"#fb9f3a\"],[0.8888888888888888,\"#fdca26\"],[1.0,\"#f0f921\"]]}],\"contourcarpet\":[{\"type\":\"contourcarpet\",\"colorbar\":{\"outlinewidth\":0,\"ticks\":\"\"}}],\"contour\":[{\"type\":\"contour\",\"colorbar\":{\"outlinewidth\":0,\"ticks\":\"\"},\"colorscale\":[[0.0,\"#0d0887\"],[0.1111111111111111,\"#46039f\"],[0.2222222222222222,\"#7201a8\"],[0.3333333333333333,\"#9c179e\"],[0.4444444444444444,\"#bd3786\"],[0.5555555555555556,\"#d8576b\"],[0.6666666666666666,\"#ed7953\"],[0.7777777777777778,\"#fb9f3a\"],[0.8888888888888888,\"#fdca26\"],[1.0,\"#f0f921\"]]}],\"surface\":[{\"type\":\"surface\",\"colorbar\":{\"outlinewidth\":0,\"ticks\":\"\"},\"colorscale\":[[0.0,\"#0d0887\"],[0.1111111111111111,\"#46039f\"],[0.2222222222222222,\"#7201a8\"],[0.3333333333333333,\"#9c179e\"],[0.4444444444444444,\"#bd3786\"],[0.5555555555555556,\"#d8576b\"],[0.6666666666666666,\"#ed7953\"],[0.7777777777777778,\"#fb9f3a\"],[0.8888888888888888,\"#fdca26\"],[1.0,\"#f0f921\"]]}],\"mesh3d\":[{\"type\":\"mesh3d\",\"colorbar\":{\"outlinewidth\":0,\"ticks\":\"\"}}],\"scatter\":[{\"fillpattern\":{\"fillmode\":\"overlay\",\"size\":10,\"solidity\":0.2},\"type\":\"scatter\"}],\"parcoords\":[{\"type\":\"parcoords\",\"line\":{\"colorbar\":{\"outlinewidth\":0,\"ticks\":\"\"}}}],\"scatterpolargl\":[{\"type\":\"scatterpolargl\",\"marker\":{\"colorbar\":{\"outlinewidth\":0,\"ticks\":\"\"}}}],\"bar\":[{\"error_x\":{\"color\":\"#2a3f5f\"},\"error_y\":{\"color\":\"#2a3f5f\"},\"marker\":{\"line\":{\"color\":\"#E5ECF6\",\"width\":0.5},\"pattern\":{\"fillmode\":\"overlay\",\"size\":10,\"solidity\":0.2}},\"type\":\"bar\"}],\"scattergeo\":[{\"type\":\"scattergeo\",\"marker\":{\"colorbar\":{\"outlinewidth\":0,\"ticks\":\"\"}}}],\"scatterpolar\":[{\"type\":\"scatterpolar\",\"marker\":{\"colorbar\":{\"outlinewidth\":0,\"ticks\":\"\"}}}],\"histogram\":[{\"marker\":{\"pattern\":{\"fillmode\":\"overlay\",\"size\":10,\"solidity\":0.2}},\"type\":\"histogram\"}],\"scattergl\":[{\"type\":\"scattergl\",\"marker\":{\"colorbar\":{\"outlinewidth\":0,\"ticks\":\"\"}}}],\"scatter3d\":[{\"type\":\"scatter3d\",\"line\":{\"colorbar\":{\"outlinewidth\":0,\"ticks\":\"\"}},\"marker\":{\"colorbar\":{\"outlinewidth\":0,\"ticks\":\"\"}}}],\"scattermapbox\":[{\"type\":\"scattermapbox\",\"marker\":{\"colorbar\":{\"outlinewidth\":0,\"ticks\":\"\"}}}],\"scatterternary\":[{\"type\":\"scatterternary\",\"marker\":{\"colorbar\":{\"outlinewidth\":0,\"ticks\":\"\"}}}],\"scattercarpet\":[{\"type\":\"scattercarpet\",\"marker\":{\"colorbar\":{\"outlinewidth\":0,\"ticks\":\"\"}}}],\"carpet\":[{\"aaxis\":{\"endlinecolor\":\"#2a3f5f\",\"gridcolor\":\"white\",\"linecolor\":\"white\",\"minorgridcolor\":\"white\",\"startlinecolor\":\"#2a3f5f\"},\"baxis\":{\"endlinecolor\":\"#2a3f5f\",\"gridcolor\":\"white\",\"linecolor\":\"white\",\"minorgridcolor\":\"white\",\"startlinecolor\":\"#2a3f5f\"},\"type\":\"carpet\"}],\"table\":[{\"cells\":{\"fill\":{\"color\":\"#EBF0F8\"},\"line\":{\"color\":\"white\"}},\"header\":{\"fill\":{\"color\":\"#C8D4E3\"},\"line\":{\"color\":\"white\"}},\"type\":\"table\"}],\"barpolar\":[{\"marker\":{\"line\":{\"color\":\"#E5ECF6\",\"width\":0.5},\"pattern\":{\"fillmode\":\"overlay\",\"size\":10,\"solidity\":0.2}},\"type\":\"barpolar\"}],\"pie\":[{\"automargin\":true,\"type\":\"pie\"}]},\"layout\":{\"autotypenumbers\":\"strict\",\"colorway\":[\"#636efa\",\"#EF553B\",\"#00cc96\",\"#ab63fa\",\"#FFA15A\",\"#19d3f3\",\"#FF6692\",\"#B6E880\",\"#FF97FF\",\"#FECB52\"],\"font\":{\"color\":\"#2a3f5f\"},\"hovermode\":\"closest\",\"hoverlabel\":{\"align\":\"left\"},\"paper_bgcolor\":\"white\",\"plot_bgcolor\":\"#E5ECF6\",\"polar\":{\"bgcolor\":\"#E5ECF6\",\"angularaxis\":{\"gridcolor\":\"white\",\"linecolor\":\"white\",\"ticks\":\"\"},\"radialaxis\":{\"gridcolor\":\"white\",\"linecolor\":\"white\",\"ticks\":\"\"}},\"ternary\":{\"bgcolor\":\"#E5ECF6\",\"aaxis\":{\"gridcolor\":\"white\",\"linecolor\":\"white\",\"ticks\":\"\"},\"baxis\":{\"gridcolor\":\"white\",\"linecolor\":\"white\",\"ticks\":\"\"},\"caxis\":{\"gridcolor\":\"white\",\"linecolor\":\"white\",\"ticks\":\"\"}},\"coloraxis\":{\"colorbar\":{\"outlinewidth\":0,\"ticks\":\"\"}},\"colorscale\":{\"sequential\":[[0.0,\"#0d0887\"],[0.1111111111111111,\"#46039f\"],[0.2222222222222222,\"#7201a8\"],[0.3333333333333333,\"#9c179e\"],[0.4444444444444444,\"#bd3786\"],[0.5555555555555556,\"#d8576b\"],[0.6666666666666666,\"#ed7953\"],[0.7777777777777778,\"#fb9f3a\"],[0.8888888888888888,\"#fdca26\"],[1.0,\"#f0f921\"]],\"sequentialminus\":[[0.0,\"#0d0887\"],[0.1111111111111111,\"#46039f\"],[0.2222222222222222,\"#7201a8\"],[0.3333333333333333,\"#9c179e\"],[0.4444444444444444,\"#bd3786\"],[0.5555555555555556,\"#d8576b\"],[0.6666666666666666,\"#ed7953\"],[0.7777777777777778,\"#fb9f3a\"],[0.8888888888888888,\"#fdca26\"],[1.0,\"#f0f921\"]],\"diverging\":[[0,\"#8e0152\"],[0.1,\"#c51b7d\"],[0.2,\"#de77ae\"],[0.3,\"#f1b6da\"],[0.4,\"#fde0ef\"],[0.5,\"#f7f7f7\"],[0.6,\"#e6f5d0\"],[0.7,\"#b8e186\"],[0.8,\"#7fbc41\"],[0.9,\"#4d9221\"],[1,\"#276419\"]]},\"xaxis\":{\"gridcolor\":\"white\",\"linecolor\":\"white\",\"ticks\":\"\",\"title\":{\"standoff\":15},\"zerolinecolor\":\"white\",\"automargin\":true,\"zerolinewidth\":2},\"yaxis\":{\"gridcolor\":\"white\",\"linecolor\":\"white\",\"ticks\":\"\",\"title\":{\"standoff\":15},\"zerolinecolor\":\"white\",\"automargin\":true,\"zerolinewidth\":2},\"scene\":{\"xaxis\":{\"backgroundcolor\":\"#E5ECF6\",\"gridcolor\":\"white\",\"linecolor\":\"white\",\"showbackground\":true,\"ticks\":\"\",\"zerolinecolor\":\"white\",\"gridwidth\":2},\"yaxis\":{\"backgroundcolor\":\"#E5ECF6\",\"gridcolor\":\"white\",\"linecolor\":\"white\",\"showbackground\":true,\"ticks\":\"\",\"zerolinecolor\":\"white\",\"gridwidth\":2},\"zaxis\":{\"backgroundcolor\":\"#E5ECF6\",\"gridcolor\":\"white\",\"linecolor\":\"white\",\"showbackground\":true,\"ticks\":\"\",\"zerolinecolor\":\"white\",\"gridwidth\":2}},\"shapedefaults\":{\"line\":{\"color\":\"#2a3f5f\"}},\"annotationdefaults\":{\"arrowcolor\":\"#2a3f5f\",\"arrowhead\":0,\"arrowwidth\":1},\"geo\":{\"bgcolor\":\"white\",\"landcolor\":\"#E5ECF6\",\"subunitcolor\":\"white\",\"showland\":true,\"showlakes\":true,\"lakecolor\":\"white\"},\"title\":{\"x\":0.05},\"mapbox\":{\"style\":\"light\"}}},\"xaxis\":{\"anchor\":\"y\",\"domain\":[0.0,0.45]},\"yaxis\":{\"anchor\":\"x\",\"domain\":[0.625,1.0]},\"xaxis2\":{\"anchor\":\"y2\",\"domain\":[0.55,1.0]},\"yaxis2\":{\"anchor\":\"x2\",\"domain\":[0.625,1.0]},\"xaxis3\":{\"anchor\":\"y3\",\"domain\":[0.0,0.45]},\"yaxis3\":{\"anchor\":\"x3\",\"domain\":[0.0,0.375]},\"xaxis4\":{\"anchor\":\"y4\",\"domain\":[0.55,1.0]},\"yaxis4\":{\"anchor\":\"x4\",\"domain\":[0.0,0.375]},\"annotations\":[{\"font\":{\"size\":16},\"showarrow\":false,\"text\":\"ROC Curves\",\"x\":0.225,\"xanchor\":\"center\",\"xref\":\"paper\",\"y\":1.0,\"yanchor\":\"bottom\",\"yref\":\"paper\"},{\"font\":{\"size\":16},\"showarrow\":false,\"text\":\"Accuracy\",\"x\":0.775,\"xanchor\":\"center\",\"xref\":\"paper\",\"y\":1.0,\"yanchor\":\"bottom\",\"yref\":\"paper\"},{\"font\":{\"size\":16},\"showarrow\":false,\"text\":\"Recall\",\"x\":0.225,\"xanchor\":\"center\",\"xref\":\"paper\",\"y\":0.375,\"yanchor\":\"bottom\",\"yref\":\"paper\"},{\"font\":{\"size\":16},\"showarrow\":false,\"text\":\"ROC AUC\",\"x\":0.775,\"xanchor\":\"center\",\"xref\":\"paper\",\"y\":0.375,\"yanchor\":\"bottom\",\"yref\":\"paper\"}],\"height\":1000,\"width\":1000},                        {\"responsive\": true}                    ).then(function(){\n                            \nvar gd = document.getElementById('b9898a26-5c07-410b-ac1b-fbf8bb9d7f9a');\nvar x = new MutationObserver(function (mutations, observer) {{\n        var display = window.getComputedStyle(gd).display;\n        if (!display || display === 'none') {{\n            console.log([gd, 'removed!']);\n            Plotly.purge(gd);\n            observer.disconnect();\n        }}\n}});\n\n// Listen for the removal of the full notebook cells\nvar notebookContainer = gd.closest('#notebook-container');\nif (notebookContainer) {{\n    x.observe(notebookContainer, {childList: true});\n}}\n\n// Listen for the clearing of the current output cell\nvar outputEl = gd.closest('.output');\nif (outputEl) {{\n    x.observe(outputEl, {childList: true});\n}}\n\n                        })                };                });            </script>        </div>"
     },
     "metadata": {},
     "output_type": "display_data"
    }
   ],
   "source": [
    "from plotly.graph_objects import Scatter\n",
    "from plotly.express import bar\n",
    "from plotly.subplots import make_subplots\n",
    "\n",
    "from sklearn.metrics import accuracy_score, recall_score, roc_auc_score, roc_curve\n",
    "\n",
    "x_test_ = preprocessing_pipeline.transform(x_test)\n",
    "\n",
    "figure = make_subplots(rows=2, cols=2, subplot_titles=['ROC Curves', 'Accuracy', 'Recall', 'ROC AUC'])\n",
    "\n",
    "accuracies = dict()\n",
    "recalls = dict()\n",
    "rocauc = dict()\n",
    "\n",
    "for clf in map(lambda z: z.best_estimator_, models):\n",
    "    classifier_name = str(type(clf)).split('.')[-1][:-2]\n",
    "    labels = clf.predict(x_test_).astype('bool')\n",
    "    probas = clf.predict_proba(x_test_)[:, 1]\n",
    "\n",
    "    fpr, tpr, thresholds = roc_curve(y_test, probas)\n",
    "    figure.add_trace(Scatter(x=fpr, y=tpr, name=classifier_name), row=1, col=1)\n",
    "    accuracies[classifier_name] = accuracy_score(y_test, labels)\n",
    "    recalls[classifier_name] = recall_score(y_test, labels)\n",
    "    rocauc[classifier_name] = roc_auc_score(y_test, probas)\n",
    "\n",
    "figure.add_trace(bar(x=list(accuracies.keys()), y=list(accuracies.values())).data[0], row=1, col=2)\n",
    "figure.add_trace(bar(x=list(recalls.keys()), y=list(recalls.values())).data[0], row=2, col=1)\n",
    "figure.add_trace(bar(x=list(rocauc.keys()), y=list(rocauc.values())).data[0], row=2, col=2)\n",
    "\n",
    "figure.update_layout(height=1000, width=1000)\n",
    "figure.show()"
   ],
   "metadata": {
    "collapsed": false,
    "ExecuteTime": {
     "end_time": "2024-02-01T16:52:38.380707700Z",
     "start_time": "2024-02-01T16:52:38.127406600Z"
    }
   },
   "id": "b496d3e8d4f8f8f"
  },
  {
   "cell_type": "code",
   "execution_count": 95,
   "outputs": [],
   "source": [
    "import pickle\n",
    "\n",
    "for clf in map(lambda z: z.best_estimator_, models):\n",
    "    classifier_name = str(type(clf)).split('.')[-1][:-2]\n",
    "    with open(f'../models/{classifier_name}.pkl', 'wb') as file:\n",
    "        pickle.dump(clf, file)"
   ],
   "metadata": {
    "collapsed": false,
    "ExecuteTime": {
     "end_time": "2024-02-01T16:53:44.880673400Z",
     "start_time": "2024-02-01T16:53:44.852547200Z"
    }
   },
   "id": "1214d7dd31f2b6bd"
  }
 ],
 "metadata": {
  "kernelspec": {
   "display_name": "Python 3",
   "language": "python",
   "name": "python3"
  },
  "language_info": {
   "codemirror_mode": {
    "name": "ipython",
    "version": 2
   },
   "file_extension": ".py",
   "mimetype": "text/x-python",
   "name": "python",
   "nbconvert_exporter": "python",
   "pygments_lexer": "ipython2",
   "version": "2.7.6"
  }
 },
 "nbformat": 4,
 "nbformat_minor": 5
}
