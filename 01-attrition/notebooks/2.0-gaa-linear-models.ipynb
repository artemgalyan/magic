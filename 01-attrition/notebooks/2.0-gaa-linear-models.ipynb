{
 "cells": [
  {
   "cell_type": "code",
   "execution_count": 2,
   "outputs": [],
   "source": [
    "from pandas import read_csv\n",
    "\n",
    "data = read_csv('../data/processed/data.csv')"
   ],
   "metadata": {
    "collapsed": false,
    "ExecuteTime": {
     "end_time": "2024-02-02T13:36:07.694428300Z",
     "start_time": "2024-02-02T13:36:07.649223600Z"
    }
   },
   "id": "6bb9496e5ae5a264"
  },
  {
   "cell_type": "code",
   "execution_count": 3,
   "outputs": [],
   "source": [
    "TARGET = 'Attrition_Yes'\n",
    "TEST_SPLIT = 0.2\n",
    "TRAIN_SPLIT = 1 - TEST_SPLIT"
   ],
   "metadata": {
    "collapsed": false,
    "ExecuteTime": {
     "end_time": "2024-02-02T13:36:08.384432900Z",
     "start_time": "2024-02-02T13:36:08.373638100Z"
    }
   },
   "id": "1903cb5fe3786d59"
  },
  {
   "cell_type": "code",
   "execution_count": 4,
   "outputs": [],
   "source": [
    "x, y = data.drop(columns=[TARGET]), data[TARGET]\n",
    "train_data_len = int(len(x) * TRAIN_SPLIT)\n",
    "x_train, y_train = x[:train_data_len], y[:train_data_len]\n",
    "x_test, y_test = x[train_data_len:], y[train_data_len:]"
   ],
   "metadata": {
    "collapsed": false,
    "ExecuteTime": {
     "end_time": "2024-02-02T13:36:08.843665600Z",
     "start_time": "2024-02-02T13:36:08.834010Z"
    }
   },
   "id": "c9c1cd8fde8d57b2"
  },
  {
   "cell_type": "code",
   "execution_count": 6,
   "outputs": [
    {
     "data": {
      "text/plain": "<Axes: >"
     },
     "execution_count": 6,
     "metadata": {},
     "output_type": "execute_result"
    },
    {
     "data": {
      "text/plain": "<Figure size 640x480 with 1 Axes>",
      "image/png": "[encoded data removed]"
     },
     "metadata": {},
     "output_type": "display_data"
    }
   ],
   "source": [
    "y_test.astype('int').hist()"
   ],
   "metadata": {
    "collapsed": false,
    "ExecuteTime": {
     "end_time": "2024-02-02T13:36:28.060951Z",
     "start_time": "2024-02-02T13:36:27.891094600Z"
    }
   },
   "id": "e2e16ba5bbc84faa"
  },
  {
   "cell_type": "code",
   "execution_count": 37,
   "outputs": [
    {
     "data": {
      "text/plain": "Unnamed: 0.1                          0\nUnnamed: 0                            0\nAge                                   0\nDistanceFromHome                      0\nJobLevel                              0\nMonthlyIncome                         0\nNumCompaniesWorked                   19\nPercentSalaryHike                     0\nStockOptionLevel                      0\nTotalWorkingYears                     9\nTrainingTimesLastYear                 0\nYearsAtCompany                        0\nYearsSinceLastPromotion               0\nYearsWithCurrManager                  0\nMeanWorkingTime                       1\nMedianWorkingTime                     1\nSkewWorkingTime                       1\nAttrition_Yes                         0\nBusinessTravel_Travel_Frequently      0\nBusinessTravel_Travel_Rarely          0\nDepartment_Research & Development     0\nDepartment_Sales                      0\nEducation_Below College               0\nEducation_College                     0\nEducation_Doctor                      0\nEducation_Master                      0\nEducationField_Life Sciences          0\nEducationField_Marketing              0\nEducationField_Medical                0\nEducationField_Other                  0\nEducationField_Technical Degree       0\nGender_Male                           0\nJobRole_Human Resources               0\nJobRole_Laboratory Technician         0\nJobRole_Manager                       0\nJobRole_Manufacturing Director        0\nJobRole_Research Director             0\nJobRole_Research Scientist            0\nJobRole_Sales Executive               0\nJobRole_Sales Representative          0\nMaritalStatus_Married                 0\nMaritalStatus_Single                  0\nJobInvolvement_Low                    0\nJobInvolvement_Medium                 0\nJobInvolvement_Very High              0\nPerformanceRating_Very High           0\nEnvironmentSatisfaction_Low           0\nEnvironmentSatisfaction_Medium        0\nEnvironmentSatisfaction_Very High     0\nJobSatisfaction_Low                   0\nJobSatisfaction_Medium                0\nJobSatisfaction_Very High             0\nWorkLifeBalance_Best                  0\nWorkLifeBalance_Better                0\nWorkLifeBalance_Good                  0\ndtype: int64"
     },
     "execution_count": 37,
     "metadata": {},
     "output_type": "execute_result"
    }
   ],
   "source": [
    "data.isnull().sum()"
   ],
   "metadata": {
    "collapsed": false,
    "ExecuteTime": {
     "end_time": "2024-02-01T13:37:24.790323300Z",
     "start_time": "2024-02-01T13:37:24.723801400Z"
    }
   },
   "id": "a5a6763d1ddc0e0d"
  },
  {
   "cell_type": "code",
   "execution_count": 38,
   "outputs": [],
   "source": [
    "from sklearn.impute import SimpleImputer\n",
    "from sklearn.pipeline import Pipeline\n",
    "from sklearn.preprocessing import StandardScaler\n",
    "\n",
    "preprocessing_pipeline = Pipeline(steps=[\n",
    "    (\n",
    "        'Fill missing values',\n",
    "        SimpleImputer(strategy='median')  # can use median as there are no missing categorical features\n",
    "    ),\n",
    "    (\n",
    "        'Scaling',\n",
    "        StandardScaler()\n",
    "    )\n",
    "])"
   ],
   "metadata": {
    "collapsed": false,
    "ExecuteTime": {
     "end_time": "2024-02-01T13:37:25.954455900Z",
     "start_time": "2024-02-01T13:37:25.946039Z"
    }
   },
   "id": "dd6306ce924da2f8"
  },
  {
   "cell_type": "code",
   "execution_count": 103,
   "outputs": [],
   "source": [
    "import numpy as np\n",
    "\n",
    "from sklearn.linear_model import LogisticRegression\n",
    "from sklearn.model_selection import GridSearchCV\n",
    "\n",
    "logreg = LogisticRegression(solver='liblinear')\n",
    "grid_search_logreg = GridSearchCV(logreg, param_grid={\n",
    "    'C': np.linspace(1e-6, 10, 100),\n",
    "    'penalty': ['l1', 'l2']\n",
    "})"
   ],
   "metadata": {
    "collapsed": false,
    "ExecuteTime": {
     "end_time": "2024-02-01T14:09:38.904476600Z",
     "start_time": "2024-02-01T14:09:38.898107300Z"
    }
   },
   "id": "b90a1e2def09f45d"
  },
  {
   "cell_type": "code",
   "execution_count": 104,
   "outputs": [],
   "source": [
    "grid_search_logreg = grid_search_logreg.fit(preprocessing_pipeline.fit_transform(x_train), y_train)"
   ],
   "metadata": {
    "collapsed": false,
    "ExecuteTime": {
     "end_time": "2024-02-01T14:10:27.144450400Z",
     "start_time": "2024-02-01T14:09:39.915187200Z"
    }
   },
   "id": "947dac12b8e50003"
  },
  {
   "cell_type": "code",
   "execution_count": 105,
   "outputs": [],
   "source": [
    "best_logreg = grid_search_logreg.best_estimator_"
   ],
   "metadata": {
    "collapsed": false,
    "ExecuteTime": {
     "end_time": "2024-02-01T14:10:27.163611600Z",
     "start_time": "2024-02-01T14:10:27.144849300Z"
    }
   },
   "id": "6e56ca6539097f6c"
  },
  {
   "cell_type": "code",
   "execution_count": 106,
   "outputs": [],
   "source": [
    "from plotly.express import area\n",
    "from plotly.graph_objects import Figure\n",
    "from sklearn.metrics import accuracy_score, recall_score, roc_auc_score, roc_curve\n",
    "\n",
    "\n",
    "def evaluate_classifier(clf) -> tuple[float, float, float, Figure]:\n",
    "    x_test_ = preprocessing_pipeline.transform(x_test)\n",
    "    labels = clf.predict(x_test_)\n",
    "    probas = clf.predict_proba(x_test_)[:, 1]\n",
    "\n",
    "    fpr, tpr, thresholds = roc_curve(y_test, probas)\n",
    "    \n",
    "\n",
    "    figure = area(x=fpr, y=tpr, title=f'ROC curve of {str(type(clf)).split(\".\")[-1][:-2]}',\n",
    "                  labels={'x': 'False Positive Rate', 'y': 'True Positive Rate'},\n",
    "                  width=500, height=500)\n",
    "    figure.add_shape(type='line', line={'dash': 'dash'}, x0=0, x1=1, y0=0, y1=1)\n",
    "    return accuracy_score(y_test, labels), recall_score(y_test, labels), roc_auc_score(y_test, probas), figure\n"
   ],
   "metadata": {
    "collapsed": false,
    "ExecuteTime": {
     "end_time": "2024-02-01T14:10:27.163611600Z",
     "start_time": "2024-02-01T14:10:27.149462800Z"
    }
   },
   "id": "b738c62cb376042b"
  },
  {
   "cell_type": "code",
   "execution_count": 107,
   "outputs": [],
   "source": [
    "*logreg_scores, logreg_figure = evaluate_classifier(best_logreg)"
   ],
   "metadata": {
    "collapsed": false,
    "ExecuteTime": {
     "end_time": "2024-02-01T14:10:27.214658700Z",
     "start_time": "2024-02-01T14:10:27.162418300Z"
    }
   },
   "id": "8feb4db9ce55018c"
  },
  {
   "cell_type": "code",
   "execution_count": 1,
   "outputs": [
    {
     "ename": "NameError",
     "evalue": "name 'x' is not defined",
     "output_type": "error",
     "traceback": [
      "\u001B[1;31m---------------------------------------------------------------------------\u001B[0m",
      "\u001B[1;31mNameError\u001B[0m                                 Traceback (most recent call last)",
      "Cell \u001B[1;32mIn[1], line 7\u001B[0m\n\u001B[0;32m      3\u001B[0m \u001B[38;5;28;01mfrom\u001B[39;00m \u001B[38;5;21;01mpandas\u001B[39;00m \u001B[38;5;28;01mimport\u001B[39;00m DataFrame\n\u001B[0;32m      4\u001B[0m \u001B[38;5;28;01mfrom\u001B[39;00m \u001B[38;5;21;01mplotly\u001B[39;00m\u001B[38;5;21;01m.\u001B[39;00m\u001B[38;5;21;01mexpress\u001B[39;00m \u001B[38;5;28;01mimport\u001B[39;00m bar\n\u001B[0;32m      6\u001B[0m bar(DataFrame({\n\u001B[1;32m----> 7\u001B[0m     \u001B[38;5;124m'\u001B[39m\u001B[38;5;124mx\u001B[39m\u001B[38;5;124m'\u001B[39m: \u001B[43mx\u001B[49m\u001B[38;5;241m.\u001B[39mcolumns,\n\u001B[0;32m      8\u001B[0m     \u001B[38;5;124m'\u001B[39m\u001B[38;5;124my\u001B[39m\u001B[38;5;124m'\u001B[39m: np\u001B[38;5;241m.\u001B[39mabs(best_logreg\u001B[38;5;241m.\u001B[39mcoef_\u001B[38;5;241m.\u001B[39mreshape(\u001B[38;5;241m-\u001B[39m\u001B[38;5;241m1\u001B[39m))\n\u001B[0;32m      9\u001B[0m }), x\u001B[38;5;241m=\u001B[39m\u001B[38;5;124m'\u001B[39m\u001B[38;5;124mx\u001B[39m\u001B[38;5;124m'\u001B[39m, y\u001B[38;5;241m=\u001B[39m\u001B[38;5;124m'\u001B[39m\u001B[38;5;124my\u001B[39m\u001B[38;5;124m'\u001B[39m)\n",
      "\u001B[1;31mNameError\u001B[0m: name 'x' is not defined"
     ]
    }
   ],
   "source": [
    "import numpy as np\n",
    "\n",
    "from pandas import DataFrame\n",
    "from plotly.express import bar\n",
    "\n",
    "bar(DataFrame({\n",
    "    'x': x.columns,\n",
    "    'y': np.abs(best_logreg.coef_.reshape(-1))\n",
    "}), x='x', y='y')"
   ],
   "metadata": {
    "collapsed": false,
    "ExecuteTime": {
     "end_time": "2024-02-02T12:58:46.305014500Z",
     "start_time": "2024-02-02T12:58:44.951744700Z"
    }
   },
   "id": "fea35e2a3d7630a5"
  },
  {
   "cell_type": "code",
   "execution_count": 109,
   "outputs": [
    {
     "name": "stdout",
     "output_type": "stream",
     "text": [
      "Accuracy: 0.8514739229024944\n",
      "Recall: 0.11940298507462686\n",
      "ROC AUC Score: 0.7478649533083246\n"
     ]
    }
   ],
   "source": [
    "for name, score in zip(['Accuracy', 'Recall', 'ROC AUC Score'], logreg_scores):\n",
    "    print(f'{name}: {score}')"
   ],
   "metadata": {
    "collapsed": false,
    "ExecuteTime": {
     "end_time": "2024-02-01T14:10:27.274498400Z",
     "start_time": "2024-02-01T14:10:27.260748600Z"
    }
   },
   "id": "7b5d4a7c0b6a3fce"
  },
  {
   "cell_type": "code",
   "execution_count": 110,
   "outputs": [
    {
     "data": {
      "application/vnd.plotly.v1+json": {
       "data": [
        {
         "fillpattern": {
          "shape": ""
         },
         "hovertemplate": "False Positive Rate=%{x}<br>True Positive Rate=%{y}<extra></extra>",
         "legendgroup": "",
         "line": {
          "color": "#636efa"
         },
         "marker": {
          "symbol": "circle"
         },
         "mode": "lines",
         "name": "",
         "orientation": "v",
         "showlegend": false,
         "stackgroup": "1",
         "x": [
          0.0,
          0.0,
          0.0,
          0.001336898395721925,
          0.001336898395721925,
          0.004010695187165776,
          0.004010695187165776,
          0.0053475935828877,
          0.0053475935828877,
          0.0106951871657754,
          0.0106951871657754,
          0.012032085561497326,
          0.012032085561497326,
          0.013368983957219251,
          0.013368983957219251,
          0.014705882352941176,
          0.014705882352941176,
          0.017379679144385027,
          0.017379679144385027,
          0.020053475935828877,
          0.020053475935828877,
          0.022727272727272728,
          0.022727272727272728,
          0.02540106951871658,
          0.02540106951871658,
          0.034759358288770054,
          0.034759358288770054,
          0.03609625668449198,
          0.03609625668449198,
          0.0374331550802139,
          0.0374331550802139,
          0.04144385026737968,
          0.04144385026737968,
          0.04411764705882353,
          0.04411764705882353,
          0.045454545454545456,
          0.045454545454545456,
          0.053475935828877004,
          0.053475935828877004,
          0.06149732620320856,
          0.06149732620320856,
          0.06417112299465241,
          0.06417112299465241,
          0.06550802139037433,
          0.06550802139037433,
          0.06684491978609626,
          0.06684491978609626,
          0.07085561497326204,
          0.07085561497326204,
          0.07219251336898395,
          0.07219251336898395,
          0.08823529411764706,
          0.08823529411764706,
          0.08957219251336898,
          0.08957219251336898,
          0.09358288770053476,
          0.09358288770053476,
          0.10294117647058823,
          0.10294117647058823,
          0.10828877005347594,
          0.10828877005347594,
          0.11764705882352941,
          0.11764705882352941,
          0.12165775401069519,
          0.12165775401069519,
          0.12834224598930483,
          0.12834224598930483,
          0.12967914438502673,
          0.12967914438502673,
          0.13903743315508021,
          0.13903743315508021,
          0.1483957219251337,
          0.1483957219251337,
          0.1497326203208556,
          0.1497326203208556,
          0.1537433155080214,
          0.1537433155080214,
          0.15508021390374332,
          0.15508021390374332,
          0.15641711229946523,
          0.15641711229946523,
          0.1590909090909091,
          0.1590909090909091,
          0.16711229946524064,
          0.16711229946524064,
          0.16844919786096257,
          0.16844919786096257,
          0.17245989304812834,
          0.17245989304812834,
          0.18850267379679145,
          0.18850267379679145,
          0.19117647058823528,
          0.19117647058823528,
          0.19385026737967914,
          0.19385026737967914,
          0.21256684491978609,
          0.21256684491978609,
          0.21390374331550802,
          0.21390374331550802,
          0.21524064171122995,
          0.21524064171122995,
          0.22593582887700533,
          0.22593582887700533,
          0.22994652406417113,
          0.22994652406417113,
          0.23796791443850268,
          0.23796791443850268,
          0.24331550802139038,
          0.24331550802139038,
          0.24598930481283424,
          0.24598930481283424,
          0.24866310160427807,
          0.24866310160427807,
          0.27807486631016043,
          0.27807486631016043,
          0.27941176470588236,
          0.27941176470588236,
          0.28609625668449196,
          0.28609625668449196,
          0.29010695187165775,
          0.29010695187165775,
          0.2967914438502674,
          0.2967914438502674,
          0.29812834224598933,
          0.29812834224598933,
          0.31016042780748665,
          0.31016042780748665,
          0.32887700534759357,
          0.32887700534759357,
          0.3382352941176471,
          0.3382352941176471,
          0.34358288770053474,
          0.34358288770053474,
          0.3689839572192513,
          0.3689839572192513,
          0.4050802139037433,
          0.4050802139037433,
          0.410427807486631,
          0.410427807486631,
          0.41711229946524064,
          0.41711229946524064,
          0.42780748663101603,
          0.42780748663101603,
          0.44786096256684493,
          0.44786096256684493,
          0.46524064171123,
          0.46524064171123,
          0.47058823529411764,
          0.47058823529411764,
          0.47459893048128343,
          0.47459893048128343,
          0.47593582887700536,
          0.47593582887700536,
          0.4799465240641711,
          0.4799465240641711,
          0.5040106951871658,
          0.5040106951871658,
          0.5227272727272727,
          0.5227272727272727,
          0.5280748663101604,
          0.5280748663101604,
          0.5320855614973262,
          0.5320855614973262,
          0.5441176470588235,
          0.5441176470588235,
          0.5601604278074866,
          0.5601604278074866,
          0.5628342245989305,
          0.5628342245989305,
          0.5681818181818182,
          0.5681818181818182,
          0.5748663101604278,
          0.5748663101604278,
          0.6109625668449198,
          0.6109625668449198,
          0.6136363636363636,
          0.6136363636363636,
          0.6149732620320856,
          0.6149732620320856,
          0.6270053475935828,
          0.6270053475935828,
          0.6510695187165776,
          0.6510695187165776,
          0.660427807486631,
          0.660427807486631,
          0.6644385026737968,
          0.6644385026737968,
          0.7459893048128342,
          0.7459893048128342,
          0.7513368983957219,
          0.7513368983957219,
          0.7740641711229946,
          0.7740641711229946,
          0.7941176470588235,
          0.7941176470588235,
          0.856951871657754,
          0.856951871657754,
          0.9879679144385026,
          0.9879679144385026,
          0.9973262032085561,
          0.9973262032085561,
          1.0
         ],
         "xaxis": "x",
         "y": [
          0.0,
          0.007462686567164179,
          0.014925373134328358,
          0.014925373134328358,
          0.029850746268656716,
          0.029850746268656716,
          0.03731343283582089,
          0.03731343283582089,
          0.06716417910447761,
          0.06716417910447761,
          0.07462686567164178,
          0.07462686567164178,
          0.08208955223880597,
          0.08208955223880597,
          0.08955223880597014,
          0.08955223880597014,
          0.1044776119402985,
          0.1044776119402985,
          0.12686567164179105,
          0.12686567164179105,
          0.15671641791044777,
          0.15671641791044777,
          0.16417910447761194,
          0.16417910447761194,
          0.17164179104477612,
          0.17164179104477612,
          0.1865671641791045,
          0.1865671641791045,
          0.19402985074626866,
          0.19402985074626866,
          0.208955223880597,
          0.208955223880597,
          0.21641791044776118,
          0.21641791044776118,
          0.22388059701492538,
          0.22388059701492538,
          0.23134328358208955,
          0.23134328358208955,
          0.23880597014925373,
          0.23880597014925373,
          0.26865671641791045,
          0.26865671641791045,
          0.27611940298507465,
          0.27611940298507465,
          0.29850746268656714,
          0.29850746268656714,
          0.30597014925373134,
          0.30597014925373134,
          0.3208955223880597,
          0.3208955223880597,
          0.34328358208955223,
          0.34328358208955223,
          0.373134328358209,
          0.373134328358209,
          0.3805970149253731,
          0.3805970149253731,
          0.3880597014925373,
          0.3880597014925373,
          0.39552238805970147,
          0.39552238805970147,
          0.40298507462686567,
          0.40298507462686567,
          0.41044776119402987,
          0.41044776119402987,
          0.417910447761194,
          0.417910447761194,
          0.4253731343283582,
          0.4253731343283582,
          0.43283582089552236,
          0.43283582089552236,
          0.44029850746268656,
          0.44029850746268656,
          0.44776119402985076,
          0.44776119402985076,
          0.4552238805970149,
          0.4552238805970149,
          0.4626865671641791,
          0.4626865671641791,
          0.4701492537313433,
          0.4701492537313433,
          0.47761194029850745,
          0.47761194029850745,
          0.48507462686567165,
          0.48507462686567165,
          0.4925373134328358,
          0.4925373134328358,
          0.5,
          0.5,
          0.5074626865671642,
          0.5074626865671642,
          0.5298507462686567,
          0.5298507462686567,
          0.5447761194029851,
          0.5447761194029851,
          0.5522388059701493,
          0.5522388059701493,
          0.5597014925373134,
          0.5597014925373134,
          0.5671641791044776,
          0.5671641791044776,
          0.5746268656716418,
          0.5746268656716418,
          0.5895522388059702,
          0.5895522388059702,
          0.5970149253731343,
          0.5970149253731343,
          0.6119402985074627,
          0.6119402985074627,
          0.6268656716417911,
          0.6268656716417911,
          0.6343283582089553,
          0.6343283582089553,
          0.6417910447761194,
          0.6417910447761194,
          0.6492537313432836,
          0.6492537313432836,
          0.6567164179104478,
          0.6567164179104478,
          0.664179104477612,
          0.664179104477612,
          0.6791044776119403,
          0.6791044776119403,
          0.6865671641791045,
          0.6865671641791045,
          0.6940298507462687,
          0.6940298507462687,
          0.7014925373134329,
          0.7014925373134329,
          0.7089552238805971,
          0.7089552238805971,
          0.7164179104477612,
          0.7164179104477612,
          0.7238805970149254,
          0.7238805970149254,
          0.7313432835820896,
          0.7313432835820896,
          0.7388059701492538,
          0.7388059701492538,
          0.746268656716418,
          0.746268656716418,
          0.7611940298507462,
          0.7611940298507462,
          0.7686567164179104,
          0.7686567164179104,
          0.7761194029850746,
          0.7761194029850746,
          0.7835820895522388,
          0.7835820895522388,
          0.7910447761194029,
          0.7910447761194029,
          0.7985074626865671,
          0.7985074626865671,
          0.8059701492537313,
          0.8059701492537313,
          0.8134328358208955,
          0.8134328358208955,
          0.8208955223880597,
          0.8208955223880597,
          0.8283582089552238,
          0.8283582089552238,
          0.835820895522388,
          0.835820895522388,
          0.8432835820895522,
          0.8432835820895522,
          0.8507462686567164,
          0.8507462686567164,
          0.8582089552238806,
          0.8582089552238806,
          0.8656716417910447,
          0.8656716417910447,
          0.8731343283582089,
          0.8731343283582089,
          0.8805970149253731,
          0.8805970149253731,
          0.8880597014925373,
          0.8880597014925373,
          0.8955223880597015,
          0.8955223880597015,
          0.9029850746268657,
          0.9029850746268657,
          0.9104477611940298,
          0.9104477611940298,
          0.917910447761194,
          0.917910447761194,
          0.9253731343283582,
          0.9253731343283582,
          0.9328358208955224,
          0.9328358208955224,
          0.9402985074626866,
          0.9402985074626866,
          0.9477611940298507,
          0.9477611940298507,
          0.9626865671641791,
          0.9626865671641791,
          0.9701492537313433,
          0.9701492537313433,
          0.9850746268656716,
          0.9850746268656716,
          0.9925373134328358,
          0.9925373134328358,
          1.0,
          1.0
         ],
         "yaxis": "y",
         "type": "scatter"
        }
       ],
       "layout": {
        "template": {
         "data": {
          "histogram2dcontour": [
           {
            "type": "histogram2dcontour",
            "colorbar": {
             "outlinewidth": 0,
             "ticks": ""
            },
            "colorscale": [
             [
              0.0,
              "#0d0887"
             ],
             [
              0.1111111111111111,
              "#46039f"
             ],
             [
              0.2222222222222222,
              "#7201a8"
             ],
             [
              0.3333333333333333,
              "#9c179e"
             ],
             [
              0.4444444444444444,
              "#bd3786"
             ],
             [
              0.5555555555555556,
              "#d8576b"
             ],
             [
              0.6666666666666666,
              "#ed7953"
             ],
             [
              0.7777777777777778,
              "#fb9f3a"
             ],
             [
              0.8888888888888888,
              "#fdca26"
             ],
             [
              1.0,
              "#f0f921"
             ]
            ]
           }
          ],
          "choropleth": [
           {
            "type": "choropleth",
            "colorbar": {
             "outlinewidth": 0,
             "ticks": ""
            }
           }
          ],
          "histogram2d": [
           {
            "type": "histogram2d",
            "colorbar": {
             "outlinewidth": 0,
             "ticks": ""
            },
            "colorscale": [
             [
              0.0,
              "#0d0887"
             ],
             [
              0.1111111111111111,
              "#46039f"
             ],
             [
              0.2222222222222222,
              "#7201a8"
             ],
             [
              0.3333333333333333,
              "#9c179e"
             ],
             [
              0.4444444444444444,
              "#bd3786"
             ],
             [
              0.5555555555555556,
              "#d8576b"
             ],
             [
              0.6666666666666666,
              "#ed7953"
             ],
             [
              0.7777777777777778,
              "#fb9f3a"
             ],
             [
              0.8888888888888888,
              "#fdca26"
             ],
             [
              1.0,
              "#f0f921"
             ]
            ]
           }
          ],
          "heatmap": [
           {
            "type": "heatmap",
            "colorbar": {
             "outlinewidth": 0,
             "ticks": ""
            },
            "colorscale": [
             [
              0.0,
              "#0d0887"
             ],
             [
              0.1111111111111111,
              "#46039f"
             ],
             [
              0.2222222222222222,
              "#7201a8"
             ],
             [
              0.3333333333333333,
              "#9c179e"
             ],
             [
              0.4444444444444444,
              "#bd3786"
             ],
             [
              0.5555555555555556,
              "#d8576b"
             ],
             [
              0.6666666666666666,
              "#ed7953"
             ],
             [
              0.7777777777777778,
              "#fb9f3a"
             ],
             [
              0.8888888888888888,
              "#fdca26"
             ],
             [
              1.0,
              "#f0f921"
             ]
            ]
           }
          ],
          "heatmapgl": [
           {
            "type": "heatmapgl",
            "colorbar": {
             "outlinewidth": 0,
             "ticks": ""
            },
            "colorscale": [
             [
              0.0,
              "#0d0887"
             ],
             [
              0.1111111111111111,
              "#46039f"
             ],
             [
              0.2222222222222222,
              "#7201a8"
             ],
             [
              0.3333333333333333,
              "#9c179e"
             ],
             [
              0.4444444444444444,
              "#bd3786"
             ],
             [
              0.5555555555555556,
              "#d8576b"
             ],
             [
              0.6666666666666666,
              "#ed7953"
             ],
             [
              0.7777777777777778,
              "#fb9f3a"
             ],
             [
              0.8888888888888888,
              "#fdca26"
             ],
             [
              1.0,
              "#f0f921"
             ]
            ]
           }
          ],
          "contourcarpet": [
           {
            "type": "contourcarpet",
            "colorbar": {
             "outlinewidth": 0,
             "ticks": ""
            }
           }
          ],
          "contour": [
           {
            "type": "contour",
            "colorbar": {
             "outlinewidth": 0,
             "ticks": ""
            },
            "colorscale": [
             [
              0.0,
              "#0d0887"
             ],
             [
              0.1111111111111111,
              "#46039f"
             ],
             [
              0.2222222222222222,
              "#7201a8"
             ],
             [
              0.3333333333333333,
              "#9c179e"
             ],
             [
              0.4444444444444444,
              "#bd3786"
             ],
             [
              0.5555555555555556,
              "#d8576b"
             ],
             [
              0.6666666666666666,
              "#ed7953"
             ],
             [
              0.7777777777777778,
              "#fb9f3a"
             ],
             [
              0.8888888888888888,
              "#fdca26"
             ],
             [
              1.0,
              "#f0f921"
             ]
            ]
           }
          ],
          "surface": [
           {
            "type": "surface",
            "colorbar": {
             "outlinewidth": 0,
             "ticks": ""
            },
            "colorscale": [
             [
              0.0,
              "#0d0887"
             ],
             [
              0.1111111111111111,
              "#46039f"
             ],
             [
              0.2222222222222222,
              "#7201a8"
             ],
             [
              0.3333333333333333,
              "#9c179e"
             ],
             [
              0.4444444444444444,
              "#bd3786"
             ],
             [
              0.5555555555555556,
              "#d8576b"
             ],
             [
              0.6666666666666666,
              "#ed7953"
             ],
             [
              0.7777777777777778,
              "#fb9f3a"
             ],
             [
              0.8888888888888888,
              "#fdca26"
             ],
             [
              1.0,
              "#f0f921"
             ]
            ]
           }
          ],
          "mesh3d": [
           {
            "type": "mesh3d",
            "colorbar": {
             "outlinewidth": 0,
             "ticks": ""
            }
           }
          ],
          "scatter": [
           {
            "fillpattern": {
             "fillmode": "overlay",
             "size": 10,
             "solidity": 0.2
            },
            "type": "scatter"
           }
          ],
          "parcoords": [
           {
            "type": "parcoords",
            "line": {
             "colorbar": {
              "outlinewidth": 0,
              "ticks": ""
             }
            }
           }
          ],
          "scatterpolargl": [
           {
            "type": "scatterpolargl",
            "marker": {
             "colorbar": {
              "outlinewidth": 0,
              "ticks": ""
             }
            }
           }
          ],
          "bar": [
           {
            "error_x": {
             "color": "#2a3f5f"
            },
            "error_y": {
             "color": "#2a3f5f"
            },
            "marker": {
             "line": {
              "color": "#E5ECF6",
              "width": 0.5
             },
             "pattern": {
              "fillmode": "overlay",
              "size": 10,
              "solidity": 0.2
             }
            },
            "type": "bar"
           }
          ],
          "scattergeo": [
           {
            "type": "scattergeo",
            "marker": {
             "colorbar": {
              "outlinewidth": 0,
              "ticks": ""
             }
            }
           }
          ],
          "scatterpolar": [
           {
            "type": "scatterpolar",
            "marker": {
             "colorbar": {
              "outlinewidth": 0,
              "ticks": ""
             }
            }
           }
          ],
          "histogram": [
           {
            "marker": {
             "pattern": {
              "fillmode": "overlay",
              "size": 10,
              "solidity": 0.2
             }
            },
            "type": "histogram"
           }
          ],
          "scattergl": [
           {
            "type": "scattergl",
            "marker": {
             "colorbar": {
              "outlinewidth": 0,
              "ticks": ""
             }
            }
           }
          ],
          "scatter3d": [
           {
            "type": "scatter3d",
            "line": {
             "colorbar": {
              "outlinewidth": 0,
              "ticks": ""
             }
            },
            "marker": {
             "colorbar": {
              "outlinewidth": 0,
              "ticks": ""
             }
            }
           }
          ],
          "scattermapbox": [
           {
            "type": "scattermapbox",
            "marker": {
             "colorbar": {
              "outlinewidth": 0,
              "ticks": ""
             }
            }
           }
          ],
          "scatterternary": [
           {
            "type": "scatterternary",
            "marker": {
             "colorbar": {
              "outlinewidth": 0,
              "ticks": ""
             }
            }
           }
          ],
          "scattercarpet": [
           {
            "type": "scattercarpet",
            "marker": {
             "colorbar": {
              "outlinewidth": 0,
              "ticks": ""
             }
            }
           }
          ],
          "carpet": [
           {
            "aaxis": {
             "endlinecolor": "#2a3f5f",
             "gridcolor": "white",
             "linecolor": "white",
             "minorgridcolor": "white",
             "startlinecolor": "#2a3f5f"
            },
            "baxis": {
             "endlinecolor": "#2a3f5f",
             "gridcolor": "white",
             "linecolor": "white",
             "minorgridcolor": "white",
             "startlinecolor": "#2a3f5f"
            },
            "type": "carpet"
           }
          ],
          "table": [
           {
            "cells": {
             "fill": {
              "color": "#EBF0F8"
             },
             "line": {
              "color": "white"
             }
            },
            "header": {
             "fill": {
              "color": "#C8D4E3"
             },
             "line": {
              "color": "white"
             }
            },
            "type": "table"
           }
          ],
          "barpolar": [
           {
            "marker": {
             "line": {
              "color": "#E5ECF6",
              "width": 0.5
             },
             "pattern": {
              "fillmode": "overlay",
              "size": 10,
              "solidity": 0.2
             }
            },
            "type": "barpolar"
           }
          ],
          "pie": [
           {
            "automargin": true,
            "type": "pie"
           }
          ]
         },
         "layout": {
          "autotypenumbers": "strict",
          "colorway": [
           "#636efa",
           "#EF553B",
           "#00cc96",
           "#ab63fa",
           "#FFA15A",
           "#19d3f3",
           "#FF6692",
           "#B6E880",
           "#FF97FF",
           "#FECB52"
          ],
          "font": {
           "color": "#2a3f5f"
          },
          "hovermode": "closest",
          "hoverlabel": {
           "align": "left"
          },
          "paper_bgcolor": "white",
          "plot_bgcolor": "#E5ECF6",
          "polar": {
           "bgcolor": "#E5ECF6",
           "angularaxis": {
            "gridcolor": "white",
            "linecolor": "white",
            "ticks": ""
           },
           "radialaxis": {
            "gridcolor": "white",
            "linecolor": "white",
            "ticks": ""
           }
          },
          "ternary": {
           "bgcolor": "#E5ECF6",
           "aaxis": {
            "gridcolor": "white",
            "linecolor": "white",
            "ticks": ""
           },
           "baxis": {
            "gridcolor": "white",
            "linecolor": "white",
            "ticks": ""
           },
           "caxis": {
            "gridcolor": "white",
            "linecolor": "white",
            "ticks": ""
           }
          },
          "coloraxis": {
           "colorbar": {
            "outlinewidth": 0,
            "ticks": ""
           }
          },
          "colorscale": {
           "sequential": [
            [
             0.0,
             "#0d0887"
            ],
            [
             0.1111111111111111,
             "#46039f"
            ],
            [
             0.2222222222222222,
             "#7201a8"
            ],
            [
             0.3333333333333333,
             "#9c179e"
            ],
            [
             0.4444444444444444,
             "#bd3786"
            ],
            [
             0.5555555555555556,
             "#d8576b"
            ],
            [
             0.6666666666666666,
             "#ed7953"
            ],
            [
             0.7777777777777778,
             "#fb9f3a"
            ],
            [
             0.8888888888888888,
             "#fdca26"
            ],
            [
             1.0,
             "#f0f921"
            ]
           ],
           "sequentialminus": [
            [
             0.0,
             "#0d0887"
            ],
            [
             0.1111111111111111,
             "#46039f"
            ],
            [
             0.2222222222222222,
             "#7201a8"
            ],
            [
             0.3333333333333333,
             "#9c179e"
            ],
            [
             0.4444444444444444,
             "#bd3786"
            ],
            [
             0.5555555555555556,
             "#d8576b"
            ],
            [
             0.6666666666666666,
             "#ed7953"
            ],
            [
             0.7777777777777778,
             "#fb9f3a"
            ],
            [
             0.8888888888888888,
             "#fdca26"
            ],
            [
             1.0,
             "#f0f921"
            ]
           ],
           "diverging": [
            [
             0,
             "#8e0152"
            ],
            [
             0.1,
             "#c51b7d"
            ],
            [
             0.2,
             "#de77ae"
            ],
            [
             0.3,
             "#f1b6da"
            ],
            [
             0.4,
             "#fde0ef"
            ],
            [
             0.5,
             "#f7f7f7"
            ],
            [
             0.6,
             "#e6f5d0"
            ],
            [
             0.7,
             "#b8e186"
            ],
            [
             0.8,
             "#7fbc41"
            ],
            [
             0.9,
             "#4d9221"
            ],
            [
             1,
             "#276419"
            ]
           ]
          },
          "xaxis": {
           "gridcolor": "white",
           "linecolor": "white",
           "ticks": "",
           "title": {
            "standoff": 15
           },
           "zerolinecolor": "white",
           "automargin": true,
           "zerolinewidth": 2
          },
          "yaxis": {
           "gridcolor": "white",
           "linecolor": "white",
           "ticks": "",
           "title": {
            "standoff": 15
           },
           "zerolinecolor": "white",
           "automargin": true,
           "zerolinewidth": 2
          },
          "scene": {
           "xaxis": {
            "backgroundcolor": "#E5ECF6",
            "gridcolor": "white",
            "linecolor": "white",
            "showbackground": true,
            "ticks": "",
            "zerolinecolor": "white",
            "gridwidth": 2
           },
           "yaxis": {
            "backgroundcolor": "#E5ECF6",
            "gridcolor": "white",
            "linecolor": "white",
            "showbackground": true,
            "ticks": "",
            "zerolinecolor": "white",
            "gridwidth": 2
           },
           "zaxis": {
            "backgroundcolor": "#E5ECF6",
            "gridcolor": "white",
            "linecolor": "white",
            "showbackground": true,
            "ticks": "",
            "zerolinecolor": "white",
            "gridwidth": 2
           }
          },
          "shapedefaults": {
           "line": {
            "color": "#2a3f5f"
           }
          },
          "annotationdefaults": {
           "arrowcolor": "#2a3f5f",
           "arrowhead": 0,
           "arrowwidth": 1
          },
          "geo": {
           "bgcolor": "white",
           "landcolor": "#E5ECF6",
           "subunitcolor": "white",
           "showland": true,
           "showlakes": true,
           "lakecolor": "white"
          },
          "title": {
           "x": 0.05
          },
          "mapbox": {
           "style": "light"
          }
         }
        },
        "xaxis": {
         "anchor": "y",
         "domain": [
          0.0,
          1.0
         ],
         "title": {
          "text": "False Positive Rate"
         }
        },
        "yaxis": {
         "anchor": "x",
         "domain": [
          0.0,
          1.0
         ],
         "title": {
          "text": "True Positive Rate"
         }
        },
        "legend": {
         "tracegroupgap": 0
        },
        "title": {
         "text": "ROC curve of LogisticRegression"
        },
        "height": 500,
        "width": 500,
        "shapes": [
         {
          "line": {
           "dash": "dash"
          },
          "type": "line",
          "x0": 0,
          "x1": 1,
          "y0": 0,
          "y1": 1
         }
        ]
       },
       "config": {
        "plotlyServerURL": "https://plot.ly"
       }
      },
      "text/html": "<div>                            <div id=\"ccd5339b-e038-4ecb-95e8-88dada051dad\" class=\"plotly-graph-div\" style=\"height:500px; width:500px;\"></div>            <script type=\"text/javascript\">                require([\"plotly\"], function(Plotly) {                    window.PLOTLYENV=window.PLOTLYENV || {};                                    if (document.getElementById(\"ccd5339b-e038-4ecb-95e8-88dada051dad\")) {                    Plotly.newPlot(                        \"ccd5339b-e038-4ecb-95e8-88dada051dad\",                        [{\"fillpattern\":{\"shape\":\"\"},\"hovertemplate\":\"False Positive Rate=%{x}\\u003cbr\\u003eTrue Positive Rate=%{y}\\u003cextra\\u003e\\u003c\\u002fextra\\u003e\",\"legendgroup\":\"\",\"line\":{\"color\":\"#636efa\"},\"marker\":{\"symbol\":\"circle\"},\"mode\":\"lines\",\"name\":\"\",\"orientation\":\"v\",\"showlegend\":false,\"stackgroup\":\"1\",\"x\":[0.0,0.0,0.0,0.001336898395721925,0.001336898395721925,0.004010695187165776,0.004010695187165776,0.0053475935828877,0.0053475935828877,0.0106951871657754,0.0106951871657754,0.012032085561497326,0.012032085561497326,0.013368983957219251,0.013368983957219251,0.014705882352941176,0.014705882352941176,0.017379679144385027,0.017379679144385027,0.020053475935828877,0.020053475935828877,0.022727272727272728,0.022727272727272728,0.02540106951871658,0.02540106951871658,0.034759358288770054,0.034759358288770054,0.03609625668449198,0.03609625668449198,0.0374331550802139,0.0374331550802139,0.04144385026737968,0.04144385026737968,0.04411764705882353,0.04411764705882353,0.045454545454545456,0.045454545454545456,0.053475935828877004,0.053475935828877004,0.06149732620320856,0.06149732620320856,0.06417112299465241,0.06417112299465241,0.06550802139037433,0.06550802139037433,0.06684491978609626,0.06684491978609626,0.07085561497326204,0.07085561497326204,0.07219251336898395,0.07219251336898395,0.08823529411764706,0.08823529411764706,0.08957219251336898,0.08957219251336898,0.09358288770053476,0.09358288770053476,0.10294117647058823,0.10294117647058823,0.10828877005347594,0.10828877005347594,0.11764705882352941,0.11764705882352941,0.12165775401069519,0.12165775401069519,0.12834224598930483,0.12834224598930483,0.12967914438502673,0.12967914438502673,0.13903743315508021,0.13903743315508021,0.1483957219251337,0.1483957219251337,0.1497326203208556,0.1497326203208556,0.1537433155080214,0.1537433155080214,0.15508021390374332,0.15508021390374332,0.15641711229946523,0.15641711229946523,0.1590909090909091,0.1590909090909091,0.16711229946524064,0.16711229946524064,0.16844919786096257,0.16844919786096257,0.17245989304812834,0.17245989304812834,0.18850267379679145,0.18850267379679145,0.19117647058823528,0.19117647058823528,0.19385026737967914,0.19385026737967914,0.21256684491978609,0.21256684491978609,0.21390374331550802,0.21390374331550802,0.21524064171122995,0.21524064171122995,0.22593582887700533,0.22593582887700533,0.22994652406417113,0.22994652406417113,0.23796791443850268,0.23796791443850268,0.24331550802139038,0.24331550802139038,0.24598930481283424,0.24598930481283424,0.24866310160427807,0.24866310160427807,0.27807486631016043,0.27807486631016043,0.27941176470588236,0.27941176470588236,0.28609625668449196,0.28609625668449196,0.29010695187165775,0.29010695187165775,0.2967914438502674,0.2967914438502674,0.29812834224598933,0.29812834224598933,0.31016042780748665,0.31016042780748665,0.32887700534759357,0.32887700534759357,0.3382352941176471,0.3382352941176471,0.34358288770053474,0.34358288770053474,0.3689839572192513,0.3689839572192513,0.4050802139037433,0.4050802139037433,0.410427807486631,0.410427807486631,0.41711229946524064,0.41711229946524064,0.42780748663101603,0.42780748663101603,0.44786096256684493,0.44786096256684493,0.46524064171123,0.46524064171123,0.47058823529411764,0.47058823529411764,0.47459893048128343,0.47459893048128343,0.47593582887700536,0.47593582887700536,0.4799465240641711,0.4799465240641711,0.5040106951871658,0.5040106951871658,0.5227272727272727,0.5227272727272727,0.5280748663101604,0.5280748663101604,0.5320855614973262,0.5320855614973262,0.5441176470588235,0.5441176470588235,0.5601604278074866,0.5601604278074866,0.5628342245989305,0.5628342245989305,0.5681818181818182,0.5681818181818182,0.5748663101604278,0.5748663101604278,0.6109625668449198,0.6109625668449198,0.6136363636363636,0.6136363636363636,0.6149732620320856,0.6149732620320856,0.6270053475935828,0.6270053475935828,0.6510695187165776,0.6510695187165776,0.660427807486631,0.660427807486631,0.6644385026737968,0.6644385026737968,0.7459893048128342,0.7459893048128342,0.7513368983957219,0.7513368983957219,0.7740641711229946,0.7740641711229946,0.7941176470588235,0.7941176470588235,0.856951871657754,0.856951871657754,0.9879679144385026,0.9879679144385026,0.9973262032085561,0.9973262032085561,1.0],\"xaxis\":\"x\",\"y\":[0.0,0.007462686567164179,0.014925373134328358,0.014925373134328358,0.029850746268656716,0.029850746268656716,0.03731343283582089,0.03731343283582089,0.06716417910447761,0.06716417910447761,0.07462686567164178,0.07462686567164178,0.08208955223880597,0.08208955223880597,0.08955223880597014,0.08955223880597014,0.1044776119402985,0.1044776119402985,0.12686567164179105,0.12686567164179105,0.15671641791044777,0.15671641791044777,0.16417910447761194,0.16417910447761194,0.17164179104477612,0.17164179104477612,0.1865671641791045,0.1865671641791045,0.19402985074626866,0.19402985074626866,0.208955223880597,0.208955223880597,0.21641791044776118,0.21641791044776118,0.22388059701492538,0.22388059701492538,0.23134328358208955,0.23134328358208955,0.23880597014925373,0.23880597014925373,0.26865671641791045,0.26865671641791045,0.27611940298507465,0.27611940298507465,0.29850746268656714,0.29850746268656714,0.30597014925373134,0.30597014925373134,0.3208955223880597,0.3208955223880597,0.34328358208955223,0.34328358208955223,0.373134328358209,0.373134328358209,0.3805970149253731,0.3805970149253731,0.3880597014925373,0.3880597014925373,0.39552238805970147,0.39552238805970147,0.40298507462686567,0.40298507462686567,0.41044776119402987,0.41044776119402987,0.417910447761194,0.417910447761194,0.4253731343283582,0.4253731343283582,0.43283582089552236,0.43283582089552236,0.44029850746268656,0.44029850746268656,0.44776119402985076,0.44776119402985076,0.4552238805970149,0.4552238805970149,0.4626865671641791,0.4626865671641791,0.4701492537313433,0.4701492537313433,0.47761194029850745,0.47761194029850745,0.48507462686567165,0.48507462686567165,0.4925373134328358,0.4925373134328358,0.5,0.5,0.5074626865671642,0.5074626865671642,0.5298507462686567,0.5298507462686567,0.5447761194029851,0.5447761194029851,0.5522388059701493,0.5522388059701493,0.5597014925373134,0.5597014925373134,0.5671641791044776,0.5671641791044776,0.5746268656716418,0.5746268656716418,0.5895522388059702,0.5895522388059702,0.5970149253731343,0.5970149253731343,0.6119402985074627,0.6119402985074627,0.6268656716417911,0.6268656716417911,0.6343283582089553,0.6343283582089553,0.6417910447761194,0.6417910447761194,0.6492537313432836,0.6492537313432836,0.6567164179104478,0.6567164179104478,0.664179104477612,0.664179104477612,0.6791044776119403,0.6791044776119403,0.6865671641791045,0.6865671641791045,0.6940298507462687,0.6940298507462687,0.7014925373134329,0.7014925373134329,0.7089552238805971,0.7089552238805971,0.7164179104477612,0.7164179104477612,0.7238805970149254,0.7238805970149254,0.7313432835820896,0.7313432835820896,0.7388059701492538,0.7388059701492538,0.746268656716418,0.746268656716418,0.7611940298507462,0.7611940298507462,0.7686567164179104,0.7686567164179104,0.7761194029850746,0.7761194029850746,0.7835820895522388,0.7835820895522388,0.7910447761194029,0.7910447761194029,0.7985074626865671,0.7985074626865671,0.8059701492537313,0.8059701492537313,0.8134328358208955,0.8134328358208955,0.8208955223880597,0.8208955223880597,0.8283582089552238,0.8283582089552238,0.835820895522388,0.835820895522388,0.8432835820895522,0.8432835820895522,0.8507462686567164,0.8507462686567164,0.8582089552238806,0.8582089552238806,0.8656716417910447,0.8656716417910447,0.8731343283582089,0.8731343283582089,0.8805970149253731,0.8805970149253731,0.8880597014925373,0.8880597014925373,0.8955223880597015,0.8955223880597015,0.9029850746268657,0.9029850746268657,0.9104477611940298,0.9104477611940298,0.917910447761194,0.917910447761194,0.9253731343283582,0.9253731343283582,0.9328358208955224,0.9328358208955224,0.9402985074626866,0.9402985074626866,0.9477611940298507,0.9477611940298507,0.9626865671641791,0.9626865671641791,0.9701492537313433,0.9701492537313433,0.9850746268656716,0.9850746268656716,0.9925373134328358,0.9925373134328358,1.0,1.0],\"yaxis\":\"y\",\"type\":\"scatter\"}],                        {\"template\":{\"data\":{\"histogram2dcontour\":[{\"type\":\"histogram2dcontour\",\"colorbar\":{\"outlinewidth\":0,\"ticks\":\"\"},\"colorscale\":[[0.0,\"#0d0887\"],[0.1111111111111111,\"#46039f\"],[0.2222222222222222,\"#7201a8\"],[0.3333333333333333,\"#9c179e\"],[0.4444444444444444,\"#bd3786\"],[0.5555555555555556,\"#d8576b\"],[0.6666666666666666,\"#ed7953\"],[0.7777777777777778,\"#fb9f3a\"],[0.8888888888888888,\"#fdca26\"],[1.0,\"#f0f921\"]]}],\"choropleth\":[{\"type\":\"choropleth\",\"colorbar\":{\"outlinewidth\":0,\"ticks\":\"\"}}],\"histogram2d\":[{\"type\":\"histogram2d\",\"colorbar\":{\"outlinewidth\":0,\"ticks\":\"\"},\"colorscale\":[[0.0,\"#0d0887\"],[0.1111111111111111,\"#46039f\"],[0.2222222222222222,\"#7201a8\"],[0.3333333333333333,\"#9c179e\"],[0.4444444444444444,\"#bd3786\"],[0.5555555555555556,\"#d8576b\"],[0.6666666666666666,\"#ed7953\"],[0.7777777777777778,\"#fb9f3a\"],[0.8888888888888888,\"#fdca26\"],[1.0,\"#f0f921\"]]}],\"heatmap\":[{\"type\":\"heatmap\",\"colorbar\":{\"outlinewidth\":0,\"ticks\":\"\"},\"colorscale\":[[0.0,\"#0d0887\"],[0.1111111111111111,\"#46039f\"],[0.2222222222222222,\"#7201a8\"],[0.3333333333333333,\"#9c179e\"],[0.4444444444444444,\"#bd3786\"],[0.5555555555555556,\"#d8576b\"],[0.6666666666666666,\"#ed7953\"],[0.7777777777777778,\"#fb9f3a\"],[0.8888888888888888,\"#fdca26\"],[1.0,\"#f0f921\"]]}],\"heatmapgl\":[{\"type\":\"heatmapgl\",\"colorbar\":{\"outlinewidth\":0,\"ticks\":\"\"},\"colorscale\":[[0.0,\"#0d0887\"],[0.1111111111111111,\"#46039f\"],[0.2222222222222222,\"#7201a8\"],[0.3333333333333333,\"#9c179e\"],[0.4444444444444444,\"#bd3786\"],[0.5555555555555556,\"#d8576b\"],[0.6666666666666666,\"#ed7953\"],[0.7777777777777778,\"#fb9f3a\"],[0.8888888888888888,\"#fdca26\"],[1.0,\"#f0f921\"]]}],\"contourcarpet\":[{\"type\":\"contourcarpet\",\"colorbar\":{\"outlinewidth\":0,\"ticks\":\"\"}}],\"contour\":[{\"type\":\"contour\",\"colorbar\":{\"outlinewidth\":0,\"ticks\":\"\"},\"colorscale\":[[0.0,\"#0d0887\"],[0.1111111111111111,\"#46039f\"],[0.2222222222222222,\"#7201a8\"],[0.3333333333333333,\"#9c179e\"],[0.4444444444444444,\"#bd3786\"],[0.5555555555555556,\"#d8576b\"],[0.6666666666666666,\"#ed7953\"],[0.7777777777777778,\"#fb9f3a\"],[0.8888888888888888,\"#fdca26\"],[1.0,\"#f0f921\"]]}],\"surface\":[{\"type\":\"surface\",\"colorbar\":{\"outlinewidth\":0,\"ticks\":\"\"},\"colorscale\":[[0.0,\"#0d0887\"],[0.1111111111111111,\"#46039f\"],[0.2222222222222222,\"#7201a8\"],[0.3333333333333333,\"#9c179e\"],[0.4444444444444444,\"#bd3786\"],[0.5555555555555556,\"#d8576b\"],[0.6666666666666666,\"#ed7953\"],[0.7777777777777778,\"#fb9f3a\"],[0.8888888888888888,\"#fdca26\"],[1.0,\"#f0f921\"]]}],\"mesh3d\":[{\"type\":\"mesh3d\",\"colorbar\":{\"outlinewidth\":0,\"ticks\":\"\"}}],\"scatter\":[{\"fillpattern\":{\"fillmode\":\"overlay\",\"size\":10,\"solidity\":0.2},\"type\":\"scatter\"}],\"parcoords\":[{\"type\":\"parcoords\",\"line\":{\"colorbar\":{\"outlinewidth\":0,\"ticks\":\"\"}}}],\"scatterpolargl\":[{\"type\":\"scatterpolargl\",\"marker\":{\"colorbar\":{\"outlinewidth\":0,\"ticks\":\"\"}}}],\"bar\":[{\"error_x\":{\"color\":\"#2a3f5f\"},\"error_y\":{\"color\":\"#2a3f5f\"},\"marker\":{\"line\":{\"color\":\"#E5ECF6\",\"width\":0.5},\"pattern\":{\"fillmode\":\"overlay\",\"size\":10,\"solidity\":0.2}},\"type\":\"bar\"}],\"scattergeo\":[{\"type\":\"scattergeo\",\"marker\":{\"colorbar\":{\"outlinewidth\":0,\"ticks\":\"\"}}}],\"scatterpolar\":[{\"type\":\"scatterpolar\",\"marker\":{\"colorbar\":{\"outlinewidth\":0,\"ticks\":\"\"}}}],\"histogram\":[{\"marker\":{\"pattern\":{\"fillmode\":\"overlay\",\"size\":10,\"solidity\":0.2}},\"type\":\"histogram\"}],\"scattergl\":[{\"type\":\"scattergl\",\"marker\":{\"colorbar\":{\"outlinewidth\":0,\"ticks\":\"\"}}}],\"scatter3d\":[{\"type\":\"scatter3d\",\"line\":{\"colorbar\":{\"outlinewidth\":0,\"ticks\":\"\"}},\"marker\":{\"colorbar\":{\"outlinewidth\":0,\"ticks\":\"\"}}}],\"scattermapbox\":[{\"type\":\"scattermapbox\",\"marker\":{\"colorbar\":{\"outlinewidth\":0,\"ticks\":\"\"}}}],\"scatterternary\":[{\"type\":\"scatterternary\",\"marker\":{\"colorbar\":{\"outlinewidth\":0,\"ticks\":\"\"}}}],\"scattercarpet\":[{\"type\":\"scattercarpet\",\"marker\":{\"colorbar\":{\"outlinewidth\":0,\"ticks\":\"\"}}}],\"carpet\":[{\"aaxis\":{\"endlinecolor\":\"#2a3f5f\",\"gridcolor\":\"white\",\"linecolor\":\"white\",\"minorgridcolor\":\"white\",\"startlinecolor\":\"#2a3f5f\"},\"baxis\":{\"endlinecolor\":\"#2a3f5f\",\"gridcolor\":\"white\",\"linecolor\":\"white\",\"minorgridcolor\":\"white\",\"startlinecolor\":\"#2a3f5f\"},\"type\":\"carpet\"}],\"table\":[{\"cells\":{\"fill\":{\"color\":\"#EBF0F8\"},\"line\":{\"color\":\"white\"}},\"header\":{\"fill\":{\"color\":\"#C8D4E3\"},\"line\":{\"color\":\"white\"}},\"type\":\"table\"}],\"barpolar\":[{\"marker\":{\"line\":{\"color\":\"#E5ECF6\",\"width\":0.5},\"pattern\":{\"fillmode\":\"overlay\",\"size\":10,\"solidity\":0.2}},\"type\":\"barpolar\"}],\"pie\":[{\"automargin\":true,\"type\":\"pie\"}]},\"layout\":{\"autotypenumbers\":\"strict\",\"colorway\":[\"#636efa\",\"#EF553B\",\"#00cc96\",\"#ab63fa\",\"#FFA15A\",\"#19d3f3\",\"#FF6692\",\"#B6E880\",\"#FF97FF\",\"#FECB52\"],\"font\":{\"color\":\"#2a3f5f\"},\"hovermode\":\"closest\",\"hoverlabel\":{\"align\":\"left\"},\"paper_bgcolor\":\"white\",\"plot_bgcolor\":\"#E5ECF6\",\"polar\":{\"bgcolor\":\"#E5ECF6\",\"angularaxis\":{\"gridcolor\":\"white\",\"linecolor\":\"white\",\"ticks\":\"\"},\"radialaxis\":{\"gridcolor\":\"white\",\"linecolor\":\"white\",\"ticks\":\"\"}},\"ternary\":{\"bgcolor\":\"#E5ECF6\",\"aaxis\":{\"gridcolor\":\"white\",\"linecolor\":\"white\",\"ticks\":\"\"},\"baxis\":{\"gridcolor\":\"white\",\"linecolor\":\"white\",\"ticks\":\"\"},\"caxis\":{\"gridcolor\":\"white\",\"linecolor\":\"white\",\"ticks\":\"\"}},\"coloraxis\":{\"colorbar\":{\"outlinewidth\":0,\"ticks\":\"\"}},\"colorscale\":{\"sequential\":[[0.0,\"#0d0887\"],[0.1111111111111111,\"#46039f\"],[0.2222222222222222,\"#7201a8\"],[0.3333333333333333,\"#9c179e\"],[0.4444444444444444,\"#bd3786\"],[0.5555555555555556,\"#d8576b\"],[0.6666666666666666,\"#ed7953\"],[0.7777777777777778,\"#fb9f3a\"],[0.8888888888888888,\"#fdca26\"],[1.0,\"#f0f921\"]],\"sequentialminus\":[[0.0,\"#0d0887\"],[0.1111111111111111,\"#46039f\"],[0.2222222222222222,\"#7201a8\"],[0.3333333333333333,\"#9c179e\"],[0.4444444444444444,\"#bd3786\"],[0.5555555555555556,\"#d8576b\"],[0.6666666666666666,\"#ed7953\"],[0.7777777777777778,\"#fb9f3a\"],[0.8888888888888888,\"#fdca26\"],[1.0,\"#f0f921\"]],\"diverging\":[[0,\"#8e0152\"],[0.1,\"#c51b7d\"],[0.2,\"#de77ae\"],[0.3,\"#f1b6da\"],[0.4,\"#fde0ef\"],[0.5,\"#f7f7f7\"],[0.6,\"#e6f5d0\"],[0.7,\"#b8e186\"],[0.8,\"#7fbc41\"],[0.9,\"#4d9221\"],[1,\"#276419\"]]},\"xaxis\":{\"gridcolor\":\"white\",\"linecolor\":\"white\",\"ticks\":\"\",\"title\":{\"standoff\":15},\"zerolinecolor\":\"white\",\"automargin\":true,\"zerolinewidth\":2},\"yaxis\":{\"gridcolor\":\"white\",\"linecolor\":\"white\",\"ticks\":\"\",\"title\":{\"standoff\":15},\"zerolinecolor\":\"white\",\"automargin\":true,\"zerolinewidth\":2},\"scene\":{\"xaxis\":{\"backgroundcolor\":\"#E5ECF6\",\"gridcolor\":\"white\",\"linecolor\":\"white\",\"showbackground\":true,\"ticks\":\"\",\"zerolinecolor\":\"white\",\"gridwidth\":2},\"yaxis\":{\"backgroundcolor\":\"#E5ECF6\",\"gridcolor\":\"white\",\"linecolor\":\"white\",\"showbackground\":true,\"ticks\":\"\",\"zerolinecolor\":\"white\",\"gridwidth\":2},\"zaxis\":{\"backgroundcolor\":\"#E5ECF6\",\"gridcolor\":\"white\",\"linecolor\":\"white\",\"showbackground\":true,\"ticks\":\"\",\"zerolinecolor\":\"white\",\"gridwidth\":2}},\"shapedefaults\":{\"line\":{\"color\":\"#2a3f5f\"}},\"annotationdefaults\":{\"arrowcolor\":\"#2a3f5f\",\"arrowhead\":0,\"arrowwidth\":1},\"geo\":{\"bgcolor\":\"white\",\"landcolor\":\"#E5ECF6\",\"subunitcolor\":\"white\",\"showland\":true,\"showlakes\":true,\"lakecolor\":\"white\"},\"title\":{\"x\":0.05},\"mapbox\":{\"style\":\"light\"}}},\"xaxis\":{\"anchor\":\"y\",\"domain\":[0.0,1.0],\"title\":{\"text\":\"False Positive Rate\"}},\"yaxis\":{\"anchor\":\"x\",\"domain\":[0.0,1.0],\"title\":{\"text\":\"True Positive Rate\"}},\"legend\":{\"tracegroupgap\":0},\"title\":{\"text\":\"ROC curve of LogisticRegression\"},\"height\":500,\"width\":500,\"shapes\":[{\"line\":{\"dash\":\"dash\"},\"type\":\"line\",\"x0\":0,\"x1\":1,\"y0\":0,\"y1\":1}]},                        {\"responsive\": true}                    ).then(function(){\n                            \nvar gd = document.getElementById('ccd5339b-e038-4ecb-95e8-88dada051dad');\nvar x = new MutationObserver(function (mutations, observer) {{\n        var display = window.getComputedStyle(gd).display;\n        if (!display || display === 'none') {{\n            console.log([gd, 'removed!']);\n            Plotly.purge(gd);\n            observer.disconnect();\n        }}\n}});\n\n// Listen for the removal of the full notebook cells\nvar notebookContainer = gd.closest('#notebook-container');\nif (notebookContainer) {{\n    x.observe(notebookContainer, {childList: true});\n}}\n\n// Listen for the clearing of the current output cell\nvar outputEl = gd.closest('.output');\nif (outputEl) {{\n    x.observe(outputEl, {childList: true});\n}}\n\n                        })                };                });            </script>        </div>"
     },
     "metadata": {},
     "output_type": "display_data"
    }
   ],
   "source": [
    "logreg_figure.show()"
   ],
   "metadata": {
    "collapsed": false,
    "ExecuteTime": {
     "end_time": "2024-02-01T14:10:31.390008800Z",
     "start_time": "2024-02-01T14:10:31.376173100Z"
    }
   },
   "id": "f4085d7591a7704c"
  },
  {
   "cell_type": "code",
   "execution_count": 112,
   "outputs": [],
   "source": [
    "import pickle\n",
    "\n",
    "with open('../models/logreg.pkl', 'wb') as file:\n",
    "    pickle.dump(grid_search_logreg.best_estimator_, file)"
   ],
   "metadata": {
    "collapsed": false,
    "ExecuteTime": {
     "end_time": "2024-02-01T16:04:54.982668400Z",
     "start_time": "2024-02-01T16:04:54.973401800Z"
    }
   },
   "id": "9063843cea8e6049"
  }
 ],
 "metadata": {
  "kernelspec": {
   "display_name": "Python 3",
   "language": "python",
   "name": "python3"
  },
  "language_info": {
   "codemirror_mode": {
    "name": "ipython",
    "version": 2
   },
   "file_extension": ".py",
   "mimetype": "text/x-python",
   "name": "python",
   "nbconvert_exporter": "python",
   "pygments_lexer": "ipython2",
   "version": "2.7.6"
  }
 },
 "nbformat": 4,
 "nbformat_minor": 5
}
