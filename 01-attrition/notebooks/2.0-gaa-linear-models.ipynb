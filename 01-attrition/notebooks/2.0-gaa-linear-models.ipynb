{
 "cells": [
  {
   "cell_type": "code",
   "execution_count": 8,
   "outputs": [],
   "source": [
    "from pandas import read_csv\n",
    "\n",
    "data = read_csv('../data/processed/data.csv')"
   ],
   "metadata": {
    "collapsed": false,
    "ExecuteTime": {
     "end_time": "2024-01-31T12:15:31.456325800Z",
     "start_time": "2024-01-31T12:15:31.425363200Z"
    }
   },
   "id": "6bb9496e5ae5a264"
  },
  {
   "cell_type": "code",
   "execution_count": 11,
   "outputs": [],
   "source": [
    "TARGET = 'Attrition_Yes'\n",
    "TEST_SPLIT = 0.2\n",
    "TRAIN_SPLIT = 1 - TEST_SPLIT"
   ],
   "metadata": {
    "collapsed": false,
    "ExecuteTime": {
     "end_time": "2024-01-31T12:15:38.468627800Z",
     "start_time": "2024-01-31T12:15:38.462819200Z"
    }
   },
   "id": "1903cb5fe3786d59"
  },
  {
   "cell_type": "code",
   "execution_count": 75,
   "outputs": [],
   "source": [
    "x, y = data.drop(columns=[TARGET]), data[TARGET]\n",
    "train_data_len = int(len(x) * TRAIN_SPLIT)\n",
    "x_train, y_train = x[:train_data_len], y[:train_data_len]\n",
    "x_test, y_test = x[train_data_len:], y[train_data_len:]"
   ],
   "metadata": {
    "collapsed": false,
    "ExecuteTime": {
     "end_time": "2024-01-31T12:30:37.776952300Z",
     "start_time": "2024-01-31T12:30:37.763042600Z"
    }
   },
   "id": "c9c1cd8fde8d57b2"
  },
  {
   "cell_type": "code",
   "execution_count": 76,
   "outputs": [
    {
     "data": {
      "text/plain": "Unnamed: 0.1                          0\nUnnamed: 0                            0\nAge                                   0\nDistanceFromHome                      0\nJobLevel                              0\nMonthlyIncome                         0\nNumCompaniesWorked                   19\nPercentSalaryHike                     0\nStockOptionLevel                      0\nTotalWorkingYears                     9\nTrainingTimesLastYear                 0\nYearsAtCompany                        0\nYearsSinceLastPromotion               0\nYearsWithCurrManager                  0\nMeanWorkingTime                       1\nMedianWorkingTime                     1\nSkewWorkingTime                       1\nAttrition_Yes                         0\nBusinessTravel_Travel_Frequently      0\nBusinessTravel_Travel_Rarely          0\nDepartment_Research & Development     0\nDepartment_Sales                      0\nEducation_Below College               0\nEducation_College                     0\nEducation_Doctor                      0\nEducation_Master                      0\nEducationField_Life Sciences          0\nEducationField_Marketing              0\nEducationField_Medical                0\nEducationField_Other                  0\nEducationField_Technical Degree       0\nGender_Male                           0\nJobRole_Human Resources               0\nJobRole_Laboratory Technician         0\nJobRole_Manager                       0\nJobRole_Manufacturing Director        0\nJobRole_Research Director             0\nJobRole_Research Scientist            0\nJobRole_Sales Executive               0\nJobRole_Sales Representative          0\nMaritalStatus_Married                 0\nMaritalStatus_Single                  0\nJobInvolvement_Low                    0\nJobInvolvement_Medium                 0\nJobInvolvement_Very High              0\nPerformanceRating_Very High           0\nEnvironmentSatisfaction_Low           0\nEnvironmentSatisfaction_Medium        0\nEnvironmentSatisfaction_Very High     0\nJobSatisfaction_Low                   0\nJobSatisfaction_Medium                0\nJobSatisfaction_Very High             0\nWorkLifeBalance_Best                  0\nWorkLifeBalance_Better                0\nWorkLifeBalance_Good                  0\ndtype: int64"
     },
     "execution_count": 76,
     "metadata": {},
     "output_type": "execute_result"
    }
   ],
   "source": [
    "data.isnull().sum()"
   ],
   "metadata": {
    "collapsed": false,
    "ExecuteTime": {
     "end_time": "2024-01-31T12:30:38.381779100Z",
     "start_time": "2024-01-31T12:30:38.369183500Z"
    }
   },
   "id": "a5a6763d1ddc0e0d"
  },
  {
   "cell_type": "code",
   "execution_count": 103,
   "outputs": [],
   "source": [
    "from sklearn.preprocessing import StandardScaler\n",
    "from sklearn.pipeline import Pipeline\n",
    "from sklearn.linear_model import LogisticRegression\n",
    "from sklearn.impute import SimpleImputer\n",
    "\n",
    "pipeline = Pipeline(steps=[\n",
    "    (\n",
    "        'Fill missing values',\n",
    "        SimpleImputer(strategy='median')  # can use median as there are no missing categorical features\n",
    "    ),\n",
    "    (\n",
    "        'Scaling',\n",
    "        StandardScaler()\n",
    "    ),\n",
    "    (\n",
    "        'Logistic regression',\n",
    "        LogisticRegression(max_iter=10000)\n",
    "    )\n",
    "])"
   ],
   "metadata": {
    "collapsed": false,
    "ExecuteTime": {
     "end_time": "2024-01-31T12:37:32.816349400Z",
     "start_time": "2024-01-31T12:37:32.802503200Z"
    }
   },
   "id": "dd6306ce924da2f8"
  },
  {
   "cell_type": "code",
   "execution_count": 104,
   "outputs": [],
   "source": [
    "pipeline = pipeline.fit(x_train, y_train)"
   ],
   "metadata": {
    "collapsed": false,
    "ExecuteTime": {
     "end_time": "2024-01-31T12:37:33.591776600Z",
     "start_time": "2024-01-31T12:37:33.528080500Z"
    }
   },
   "id": "e7b1190aeda92095"
  },
  {
   "cell_type": "code",
   "execution_count": 105,
   "outputs": [
    {
     "data": {
      "text/plain": "(0.8469387755102041, 0.13432835820895522, 0.7489823609226595)"
     },
     "execution_count": 105,
     "metadata": {},
     "output_type": "execute_result"
    }
   ],
   "source": [
    "from sklearn.metrics import accuracy_score, recall_score, roc_auc_score\n",
    "\n",
    "labels = pipeline.predict(x_test)\n",
    "probas = pipeline.predict_proba(x_test)[:, 1]\n",
    "\n",
    "accuracy_score(y_test, labels), recall_score(y_test, labels), roc_auc_score(y_test, probas)"
   ],
   "metadata": {
    "collapsed": false,
    "ExecuteTime": {
     "end_time": "2024-01-31T12:37:34.387473Z",
     "start_time": "2024-01-31T12:37:34.240447600Z"
    }
   },
   "id": "8feb4db9ce55018c"
  },
  {
   "cell_type": "code",
   "execution_count": 106,
   "outputs": [
    {
     "data": {
      "application/vnd.plotly.v1+json": {
       "data": [
        {
         "fillpattern": {
          "shape": ""
         },
         "hovertemplate": "False Positive Rate=%{x}<br>True Positive Rate=%{y}<extra></extra>",
         "legendgroup": "",
         "line": {
          "color": "#636efa"
         },
         "marker": {
          "symbol": "circle"
         },
         "mode": "lines",
         "name": "",
         "orientation": "v",
         "showlegend": false,
         "stackgroup": "1",
         "x": [
          0.0,
          0.0,
          0.0,
          0.00267379679144385,
          0.00267379679144385,
          0.004010695187165776,
          0.004010695187165776,
          0.0053475935828877,
          0.0053475935828877,
          0.0066844919786096255,
          0.0066844919786096255,
          0.008021390374331552,
          0.008021390374331552,
          0.009358288770053475,
          0.009358288770053475,
          0.014705882352941176,
          0.014705882352941176,
          0.017379679144385027,
          0.017379679144385027,
          0.0213903743315508,
          0.0213903743315508,
          0.02406417112299465,
          0.02406417112299465,
          0.026737967914438502,
          0.026737967914438502,
          0.03342245989304813,
          0.03342245989304813,
          0.034759358288770054,
          0.034759358288770054,
          0.03609625668449198,
          0.03609625668449198,
          0.03877005347593583,
          0.03877005347593583,
          0.0427807486631016,
          0.0427807486631016,
          0.045454545454545456,
          0.045454545454545456,
          0.04679144385026738,
          0.04679144385026738,
          0.05213903743315508,
          0.05213903743315508,
          0.053475935828877004,
          0.053475935828877004,
          0.05481283422459893,
          0.05481283422459893,
          0.05614973262032086,
          0.05614973262032086,
          0.06283422459893048,
          0.06283422459893048,
          0.06550802139037433,
          0.06550802139037433,
          0.06684491978609626,
          0.06684491978609626,
          0.07219251336898395,
          0.07219251336898395,
          0.0748663101604278,
          0.0748663101604278,
          0.07887700534759358,
          0.07887700534759358,
          0.08288770053475936,
          0.08288770053475936,
          0.09224598930481283,
          0.09224598930481283,
          0.09491978609625669,
          0.09491978609625669,
          0.09893048128342247,
          0.09893048128342247,
          0.10160427807486631,
          0.10160427807486631,
          0.10828877005347594,
          0.10828877005347594,
          0.11096256684491979,
          0.11096256684491979,
          0.1163101604278075,
          0.1163101604278075,
          0.12165775401069519,
          0.12165775401069519,
          0.12299465240641712,
          0.12299465240641712,
          0.13770053475935828,
          0.13770053475935828,
          0.14304812834224598,
          0.14304812834224598,
          0.1483957219251337,
          0.1483957219251337,
          0.1537433155080214,
          0.1537433155080214,
          0.15508021390374332,
          0.15508021390374332,
          0.15775401069518716,
          0.15775401069518716,
          0.16310160427807488,
          0.16310160427807488,
          0.1697860962566845,
          0.1697860962566845,
          0.17379679144385027,
          0.17379679144385027,
          0.17914438502673796,
          0.17914438502673796,
          0.18449197860962566,
          0.18449197860962566,
          0.1858288770053476,
          0.1858288770053476,
          0.19518716577540107,
          0.19518716577540107,
          0.19786096256684493,
          0.19786096256684493,
          0.20320855614973263,
          0.20320855614973263,
          0.20989304812834225,
          0.20989304812834225,
          0.21524064171122995,
          0.21524064171122995,
          0.2286096256684492,
          0.2286096256684492,
          0.2339572192513369,
          0.2339572192513369,
          0.23529411764705882,
          0.23529411764705882,
          0.24064171122994651,
          0.24064171122994651,
          0.25133689839572193,
          0.25133689839572193,
          0.25267379679144386,
          0.25267379679144386,
          0.25935828877005346,
          0.25935828877005346,
          0.28342245989304815,
          0.28342245989304815,
          0.2874331550802139,
          0.2874331550802139,
          0.2914438502673797,
          0.2914438502673797,
          0.3074866310160428,
          0.3074866310160428,
          0.3088235294117647,
          0.3088235294117647,
          0.3181818181818182,
          0.3181818181818182,
          0.3582887700534759,
          0.3582887700534759,
          0.35962566844919786,
          0.35962566844919786,
          0.3609625668449198,
          0.3609625668449198,
          0.3689839572192513,
          0.3689839572192513,
          0.37566844919786097,
          0.37566844919786097,
          0.39572192513368987,
          0.39572192513368987,
          0.4037433155080214,
          0.4037433155080214,
          0.42513368983957217,
          0.42513368983957217,
          0.4411764705882353,
          0.4411764705882353,
          0.4532085561497326,
          0.4532085561497326,
          0.47459893048128343,
          0.47459893048128343,
          0.47593582887700536,
          0.47593582887700536,
          0.48128342245989303,
          0.48128342245989303,
          0.4879679144385027,
          0.4879679144385027,
          0.4893048128342246,
          0.4893048128342246,
          0.5080213903743316,
          0.5080213903743316,
          0.5120320855614974,
          0.5120320855614974,
          0.5521390374331551,
          0.5521390374331551,
          0.5614973262032086,
          0.5614973262032086,
          0.5828877005347594,
          0.5828877005347594,
          0.5935828877005348,
          0.5935828877005348,
          0.5962566844919787,
          0.5962566844919787,
          0.6029411764705882,
          0.6029411764705882,
          0.6136363636363636,
          0.6136363636363636,
          0.6283422459893048,
          0.6283422459893048,
          0.6296791443850267,
          0.6296791443850267,
          0.6363636363636364,
          0.6363636363636364,
          0.6590909090909091,
          0.6590909090909091,
          0.6684491978609626,
          0.6684491978609626,
          0.6844919786096256,
          0.6844919786096256,
          0.6951871657754011,
          0.6951871657754011,
          0.6978609625668449,
          0.6978609625668449,
          0.7205882352941176,
          0.7205882352941176,
          0.7286096256684492,
          0.7286096256684492,
          0.7406417112299465,
          0.7406417112299465,
          0.8542780748663101,
          0.8542780748663101,
          0.983957219251337,
          0.983957219251337,
          0.9919786096256684,
          0.9919786096256684,
          1.0
         ],
         "xaxis": "x",
         "y": [
          0.0,
          0.007462686567164179,
          0.014925373134328358,
          0.014925373134328358,
          0.022388059701492536,
          0.022388059701492536,
          0.029850746268656716,
          0.029850746268656716,
          0.03731343283582089,
          0.03731343283582089,
          0.04477611940298507,
          0.04477611940298507,
          0.05970149253731343,
          0.05970149253731343,
          0.07462686567164178,
          0.07462686567164178,
          0.08955223880597014,
          0.08955223880597014,
          0.09701492537313433,
          0.09701492537313433,
          0.1044776119402985,
          0.1044776119402985,
          0.13432835820895522,
          0.13432835820895522,
          0.1417910447761194,
          0.1417910447761194,
          0.15671641791044777,
          0.15671641791044777,
          0.1865671641791045,
          0.1865671641791045,
          0.19402985074626866,
          0.19402985074626866,
          0.20149253731343283,
          0.20149253731343283,
          0.21641791044776118,
          0.21641791044776118,
          0.22388059701492538,
          0.22388059701492538,
          0.23134328358208955,
          0.23134328358208955,
          0.2537313432835821,
          0.2537313432835821,
          0.26119402985074625,
          0.26119402985074625,
          0.26865671641791045,
          0.26865671641791045,
          0.27611940298507465,
          0.27611940298507465,
          0.29850746268656714,
          0.29850746268656714,
          0.31343283582089554,
          0.31343283582089554,
          0.3208955223880597,
          0.3208955223880597,
          0.3283582089552239,
          0.3283582089552239,
          0.3358208955223881,
          0.3358208955223881,
          0.35074626865671643,
          0.35074626865671643,
          0.3582089552238806,
          0.3582089552238806,
          0.3656716417910448,
          0.3656716417910448,
          0.373134328358209,
          0.373134328358209,
          0.3805970149253731,
          0.3805970149253731,
          0.3880597014925373,
          0.3880597014925373,
          0.39552238805970147,
          0.39552238805970147,
          0.40298507462686567,
          0.40298507462686567,
          0.41044776119402987,
          0.41044776119402987,
          0.417910447761194,
          0.417910447761194,
          0.44029850746268656,
          0.44029850746268656,
          0.44776119402985076,
          0.44776119402985076,
          0.4552238805970149,
          0.4552238805970149,
          0.4701492537313433,
          0.4701492537313433,
          0.48507462686567165,
          0.48507462686567165,
          0.4925373134328358,
          0.4925373134328358,
          0.5,
          0.5,
          0.5074626865671642,
          0.5074626865671642,
          0.5149253731343284,
          0.5149253731343284,
          0.5223880597014925,
          0.5223880597014925,
          0.5298507462686567,
          0.5298507462686567,
          0.5373134328358209,
          0.5373134328358209,
          0.5447761194029851,
          0.5447761194029851,
          0.5522388059701493,
          0.5522388059701493,
          0.5597014925373134,
          0.5597014925373134,
          0.5671641791044776,
          0.5671641791044776,
          0.5746268656716418,
          0.5746268656716418,
          0.5895522388059702,
          0.5895522388059702,
          0.6044776119402985,
          0.6044776119402985,
          0.6119402985074627,
          0.6119402985074627,
          0.6194029850746269,
          0.6194029850746269,
          0.6268656716417911,
          0.6268656716417911,
          0.6343283582089553,
          0.6343283582089553,
          0.6417910447761194,
          0.6417910447761194,
          0.6492537313432836,
          0.6492537313432836,
          0.6567164179104478,
          0.6567164179104478,
          0.664179104477612,
          0.664179104477612,
          0.6716417910447762,
          0.6716417910447762,
          0.6791044776119403,
          0.6791044776119403,
          0.6865671641791045,
          0.6865671641791045,
          0.6940298507462687,
          0.6940298507462687,
          0.7014925373134329,
          0.7014925373134329,
          0.7089552238805971,
          0.7089552238805971,
          0.7164179104477612,
          0.7164179104477612,
          0.7238805970149254,
          0.7238805970149254,
          0.7313432835820896,
          0.7313432835820896,
          0.7388059701492538,
          0.7388059701492538,
          0.746268656716418,
          0.746268656716418,
          0.753731343283582,
          0.753731343283582,
          0.7611940298507462,
          0.7611940298507462,
          0.7686567164179104,
          0.7686567164179104,
          0.7761194029850746,
          0.7761194029850746,
          0.7910447761194029,
          0.7910447761194029,
          0.7985074626865671,
          0.7985074626865671,
          0.8059701492537313,
          0.8059701492537313,
          0.8134328358208955,
          0.8134328358208955,
          0.8283582089552238,
          0.8283582089552238,
          0.835820895522388,
          0.835820895522388,
          0.8432835820895522,
          0.8432835820895522,
          0.8507462686567164,
          0.8507462686567164,
          0.8582089552238806,
          0.8582089552238806,
          0.8656716417910447,
          0.8656716417910447,
          0.8731343283582089,
          0.8731343283582089,
          0.8805970149253731,
          0.8805970149253731,
          0.8880597014925373,
          0.8880597014925373,
          0.9029850746268657,
          0.9029850746268657,
          0.9104477611940298,
          0.9104477611940298,
          0.917910447761194,
          0.917910447761194,
          0.9253731343283582,
          0.9253731343283582,
          0.9328358208955224,
          0.9328358208955224,
          0.9402985074626866,
          0.9402985074626866,
          0.9477611940298507,
          0.9477611940298507,
          0.9552238805970149,
          0.9552238805970149,
          0.9626865671641791,
          0.9626865671641791,
          0.9701492537313433,
          0.9701492537313433,
          0.9776119402985075,
          0.9776119402985075,
          0.9850746268656716,
          0.9850746268656716,
          0.9925373134328358,
          0.9925373134328358,
          1.0,
          1.0
         ],
         "yaxis": "y",
         "type": "scatter"
        }
       ],
       "layout": {
        "template": {
         "data": {
          "histogram2dcontour": [
           {
            "type": "histogram2dcontour",
            "colorbar": {
             "outlinewidth": 0,
             "ticks": ""
            },
            "colorscale": [
             [
              0.0,
              "#0d0887"
             ],
             [
              0.1111111111111111,
              "#46039f"
             ],
             [
              0.2222222222222222,
              "#7201a8"
             ],
             [
              0.3333333333333333,
              "#9c179e"
             ],
             [
              0.4444444444444444,
              "#bd3786"
             ],
             [
              0.5555555555555556,
              "#d8576b"
             ],
             [
              0.6666666666666666,
              "#ed7953"
             ],
             [
              0.7777777777777778,
              "#fb9f3a"
             ],
             [
              0.8888888888888888,
              "#fdca26"
             ],
             [
              1.0,
              "#f0f921"
             ]
            ]
           }
          ],
          "choropleth": [
           {
            "type": "choropleth",
            "colorbar": {
             "outlinewidth": 0,
             "ticks": ""
            }
           }
          ],
          "histogram2d": [
           {
            "type": "histogram2d",
            "colorbar": {
             "outlinewidth": 0,
             "ticks": ""
            },
            "colorscale": [
             [
              0.0,
              "#0d0887"
             ],
             [
              0.1111111111111111,
              "#46039f"
             ],
             [
              0.2222222222222222,
              "#7201a8"
             ],
             [
              0.3333333333333333,
              "#9c179e"
             ],
             [
              0.4444444444444444,
              "#bd3786"
             ],
             [
              0.5555555555555556,
              "#d8576b"
             ],
             [
              0.6666666666666666,
              "#ed7953"
             ],
             [
              0.7777777777777778,
              "#fb9f3a"
             ],
             [
              0.8888888888888888,
              "#fdca26"
             ],
             [
              1.0,
              "#f0f921"
             ]
            ]
           }
          ],
          "heatmap": [
           {
            "type": "heatmap",
            "colorbar": {
             "outlinewidth": 0,
             "ticks": ""
            },
            "colorscale": [
             [
              0.0,
              "#0d0887"
             ],
             [
              0.1111111111111111,
              "#46039f"
             ],
             [
              0.2222222222222222,
              "#7201a8"
             ],
             [
              0.3333333333333333,
              "#9c179e"
             ],
             [
              0.4444444444444444,
              "#bd3786"
             ],
             [
              0.5555555555555556,
              "#d8576b"
             ],
             [
              0.6666666666666666,
              "#ed7953"
             ],
             [
              0.7777777777777778,
              "#fb9f3a"
             ],
             [
              0.8888888888888888,
              "#fdca26"
             ],
             [
              1.0,
              "#f0f921"
             ]
            ]
           }
          ],
          "heatmapgl": [
           {
            "type": "heatmapgl",
            "colorbar": {
             "outlinewidth": 0,
             "ticks": ""
            },
            "colorscale": [
             [
              0.0,
              "#0d0887"
             ],
             [
              0.1111111111111111,
              "#46039f"
             ],
             [
              0.2222222222222222,
              "#7201a8"
             ],
             [
              0.3333333333333333,
              "#9c179e"
             ],
             [
              0.4444444444444444,
              "#bd3786"
             ],
             [
              0.5555555555555556,
              "#d8576b"
             ],
             [
              0.6666666666666666,
              "#ed7953"
             ],
             [
              0.7777777777777778,
              "#fb9f3a"
             ],
             [
              0.8888888888888888,
              "#fdca26"
             ],
             [
              1.0,
              "#f0f921"
             ]
            ]
           }
          ],
          "contourcarpet": [
           {
            "type": "contourcarpet",
            "colorbar": {
             "outlinewidth": 0,
             "ticks": ""
            }
           }
          ],
          "contour": [
           {
            "type": "contour",
            "colorbar": {
             "outlinewidth": 0,
             "ticks": ""
            },
            "colorscale": [
             [
              0.0,
              "#0d0887"
             ],
             [
              0.1111111111111111,
              "#46039f"
             ],
             [
              0.2222222222222222,
              "#7201a8"
             ],
             [
              0.3333333333333333,
              "#9c179e"
             ],
             [
              0.4444444444444444,
              "#bd3786"
             ],
             [
              0.5555555555555556,
              "#d8576b"
             ],
             [
              0.6666666666666666,
              "#ed7953"
             ],
             [
              0.7777777777777778,
              "#fb9f3a"
             ],
             [
              0.8888888888888888,
              "#fdca26"
             ],
             [
              1.0,
              "#f0f921"
             ]
            ]
           }
          ],
          "surface": [
           {
            "type": "surface",
            "colorbar": {
             "outlinewidth": 0,
             "ticks": ""
            },
            "colorscale": [
             [
              0.0,
              "#0d0887"
             ],
             [
              0.1111111111111111,
              "#46039f"
             ],
             [
              0.2222222222222222,
              "#7201a8"
             ],
             [
              0.3333333333333333,
              "#9c179e"
             ],
             [
              0.4444444444444444,
              "#bd3786"
             ],
             [
              0.5555555555555556,
              "#d8576b"
             ],
             [
              0.6666666666666666,
              "#ed7953"
             ],
             [
              0.7777777777777778,
              "#fb9f3a"
             ],
             [
              0.8888888888888888,
              "#fdca26"
             ],
             [
              1.0,
              "#f0f921"
             ]
            ]
           }
          ],
          "mesh3d": [
           {
            "type": "mesh3d",
            "colorbar": {
             "outlinewidth": 0,
             "ticks": ""
            }
           }
          ],
          "scatter": [
           {
            "fillpattern": {
             "fillmode": "overlay",
             "size": 10,
             "solidity": 0.2
            },
            "type": "scatter"
           }
          ],
          "parcoords": [
           {
            "type": "parcoords",
            "line": {
             "colorbar": {
              "outlinewidth": 0,
              "ticks": ""
             }
            }
           }
          ],
          "scatterpolargl": [
           {
            "type": "scatterpolargl",
            "marker": {
             "colorbar": {
              "outlinewidth": 0,
              "ticks": ""
             }
            }
           }
          ],
          "bar": [
           {
            "error_x": {
             "color": "#2a3f5f"
            },
            "error_y": {
             "color": "#2a3f5f"
            },
            "marker": {
             "line": {
              "color": "#E5ECF6",
              "width": 0.5
             },
             "pattern": {
              "fillmode": "overlay",
              "size": 10,
              "solidity": 0.2
             }
            },
            "type": "bar"
           }
          ],
          "scattergeo": [
           {
            "type": "scattergeo",
            "marker": {
             "colorbar": {
              "outlinewidth": 0,
              "ticks": ""
             }
            }
           }
          ],
          "scatterpolar": [
           {
            "type": "scatterpolar",
            "marker": {
             "colorbar": {
              "outlinewidth": 0,
              "ticks": ""
             }
            }
           }
          ],
          "histogram": [
           {
            "marker": {
             "pattern": {
              "fillmode": "overlay",
              "size": 10,
              "solidity": 0.2
             }
            },
            "type": "histogram"
           }
          ],
          "scattergl": [
           {
            "type": "scattergl",
            "marker": {
             "colorbar": {
              "outlinewidth": 0,
              "ticks": ""
             }
            }
           }
          ],
          "scatter3d": [
           {
            "type": "scatter3d",
            "line": {
             "colorbar": {
              "outlinewidth": 0,
              "ticks": ""
             }
            },
            "marker": {
             "colorbar": {
              "outlinewidth": 0,
              "ticks": ""
             }
            }
           }
          ],
          "scattermapbox": [
           {
            "type": "scattermapbox",
            "marker": {
             "colorbar": {
              "outlinewidth": 0,
              "ticks": ""
             }
            }
           }
          ],
          "scatterternary": [
           {
            "type": "scatterternary",
            "marker": {
             "colorbar": {
              "outlinewidth": 0,
              "ticks": ""
             }
            }
           }
          ],
          "scattercarpet": [
           {
            "type": "scattercarpet",
            "marker": {
             "colorbar": {
              "outlinewidth": 0,
              "ticks": ""
             }
            }
           }
          ],
          "carpet": [
           {
            "aaxis": {
             "endlinecolor": "#2a3f5f",
             "gridcolor": "white",
             "linecolor": "white",
             "minorgridcolor": "white",
             "startlinecolor": "#2a3f5f"
            },
            "baxis": {
             "endlinecolor": "#2a3f5f",
             "gridcolor": "white",
             "linecolor": "white",
             "minorgridcolor": "white",
             "startlinecolor": "#2a3f5f"
            },
            "type": "carpet"
           }
          ],
          "table": [
           {
            "cells": {
             "fill": {
              "color": "#EBF0F8"
             },
             "line": {
              "color": "white"
             }
            },
            "header": {
             "fill": {
              "color": "#C8D4E3"
             },
             "line": {
              "color": "white"
             }
            },
            "type": "table"
           }
          ],
          "barpolar": [
           {
            "marker": {
             "line": {
              "color": "#E5ECF6",
              "width": 0.5
             },
             "pattern": {
              "fillmode": "overlay",
              "size": 10,
              "solidity": 0.2
             }
            },
            "type": "barpolar"
           }
          ],
          "pie": [
           {
            "automargin": true,
            "type": "pie"
           }
          ]
         },
         "layout": {
          "autotypenumbers": "strict",
          "colorway": [
           "#636efa",
           "#EF553B",
           "#00cc96",
           "#ab63fa",
           "#FFA15A",
           "#19d3f3",
           "#FF6692",
           "#B6E880",
           "#FF97FF",
           "#FECB52"
          ],
          "font": {
           "color": "#2a3f5f"
          },
          "hovermode": "closest",
          "hoverlabel": {
           "align": "left"
          },
          "paper_bgcolor": "white",
          "plot_bgcolor": "#E5ECF6",
          "polar": {
           "bgcolor": "#E5ECF6",
           "angularaxis": {
            "gridcolor": "white",
            "linecolor": "white",
            "ticks": ""
           },
           "radialaxis": {
            "gridcolor": "white",
            "linecolor": "white",
            "ticks": ""
           }
          },
          "ternary": {
           "bgcolor": "#E5ECF6",
           "aaxis": {
            "gridcolor": "white",
            "linecolor": "white",
            "ticks": ""
           },
           "baxis": {
            "gridcolor": "white",
            "linecolor": "white",
            "ticks": ""
           },
           "caxis": {
            "gridcolor": "white",
            "linecolor": "white",
            "ticks": ""
           }
          },
          "coloraxis": {
           "colorbar": {
            "outlinewidth": 0,
            "ticks": ""
           }
          },
          "colorscale": {
           "sequential": [
            [
             0.0,
             "#0d0887"
            ],
            [
             0.1111111111111111,
             "#46039f"
            ],
            [
             0.2222222222222222,
             "#7201a8"
            ],
            [
             0.3333333333333333,
             "#9c179e"
            ],
            [
             0.4444444444444444,
             "#bd3786"
            ],
            [
             0.5555555555555556,
             "#d8576b"
            ],
            [
             0.6666666666666666,
             "#ed7953"
            ],
            [
             0.7777777777777778,
             "#fb9f3a"
            ],
            [
             0.8888888888888888,
             "#fdca26"
            ],
            [
             1.0,
             "#f0f921"
            ]
           ],
           "sequentialminus": [
            [
             0.0,
             "#0d0887"
            ],
            [
             0.1111111111111111,
             "#46039f"
            ],
            [
             0.2222222222222222,
             "#7201a8"
            ],
            [
             0.3333333333333333,
             "#9c179e"
            ],
            [
             0.4444444444444444,
             "#bd3786"
            ],
            [
             0.5555555555555556,
             "#d8576b"
            ],
            [
             0.6666666666666666,
             "#ed7953"
            ],
            [
             0.7777777777777778,
             "#fb9f3a"
            ],
            [
             0.8888888888888888,
             "#fdca26"
            ],
            [
             1.0,
             "#f0f921"
            ]
           ],
           "diverging": [
            [
             0,
             "#8e0152"
            ],
            [
             0.1,
             "#c51b7d"
            ],
            [
             0.2,
             "#de77ae"
            ],
            [
             0.3,
             "#f1b6da"
            ],
            [
             0.4,
             "#fde0ef"
            ],
            [
             0.5,
             "#f7f7f7"
            ],
            [
             0.6,
             "#e6f5d0"
            ],
            [
             0.7,
             "#b8e186"
            ],
            [
             0.8,
             "#7fbc41"
            ],
            [
             0.9,
             "#4d9221"
            ],
            [
             1,
             "#276419"
            ]
           ]
          },
          "xaxis": {
           "gridcolor": "white",
           "linecolor": "white",
           "ticks": "",
           "title": {
            "standoff": 15
           },
           "zerolinecolor": "white",
           "automargin": true,
           "zerolinewidth": 2
          },
          "yaxis": {
           "gridcolor": "white",
           "linecolor": "white",
           "ticks": "",
           "title": {
            "standoff": 15
           },
           "zerolinecolor": "white",
           "automargin": true,
           "zerolinewidth": 2
          },
          "scene": {
           "xaxis": {
            "backgroundcolor": "#E5ECF6",
            "gridcolor": "white",
            "linecolor": "white",
            "showbackground": true,
            "ticks": "",
            "zerolinecolor": "white",
            "gridwidth": 2
           },
           "yaxis": {
            "backgroundcolor": "#E5ECF6",
            "gridcolor": "white",
            "linecolor": "white",
            "showbackground": true,
            "ticks": "",
            "zerolinecolor": "white",
            "gridwidth": 2
           },
           "zaxis": {
            "backgroundcolor": "#E5ECF6",
            "gridcolor": "white",
            "linecolor": "white",
            "showbackground": true,
            "ticks": "",
            "zerolinecolor": "white",
            "gridwidth": 2
           }
          },
          "shapedefaults": {
           "line": {
            "color": "#2a3f5f"
           }
          },
          "annotationdefaults": {
           "arrowcolor": "#2a3f5f",
           "arrowhead": 0,
           "arrowwidth": 1
          },
          "geo": {
           "bgcolor": "white",
           "landcolor": "#E5ECF6",
           "subunitcolor": "white",
           "showland": true,
           "showlakes": true,
           "lakecolor": "white"
          },
          "title": {
           "x": 0.05
          },
          "mapbox": {
           "style": "light"
          }
         }
        },
        "xaxis": {
         "anchor": "y",
         "domain": [
          0.0,
          1.0
         ],
         "title": {
          "text": "False Positive Rate"
         }
        },
        "yaxis": {
         "anchor": "x",
         "domain": [
          0.0,
          1.0
         ],
         "title": {
          "text": "True Positive Rate"
         }
        },
        "legend": {
         "tracegroupgap": 0
        },
        "title": {
         "text": "ROC curve"
        },
        "height": 500,
        "width": 500,
        "shapes": [
         {
          "line": {
           "dash": "dash"
          },
          "type": "line",
          "x0": 0,
          "x1": 1,
          "y0": 0,
          "y1": 1
         }
        ]
       },
       "config": {
        "plotlyServerURL": "https://plot.ly"
       }
      },
      "text/html": "<div>                            <div id=\"389dd523-3e2e-4203-898a-e2a975e9c504\" class=\"plotly-graph-div\" style=\"height:500px; width:500px;\"></div>            <script type=\"text/javascript\">                require([\"plotly\"], function(Plotly) {                    window.PLOTLYENV=window.PLOTLYENV || {};                                    if (document.getElementById(\"389dd523-3e2e-4203-898a-e2a975e9c504\")) {                    Plotly.newPlot(                        \"389dd523-3e2e-4203-898a-e2a975e9c504\",                        [{\"fillpattern\":{\"shape\":\"\"},\"hovertemplate\":\"False Positive Rate=%{x}\\u003cbr\\u003eTrue Positive Rate=%{y}\\u003cextra\\u003e\\u003c\\u002fextra\\u003e\",\"legendgroup\":\"\",\"line\":{\"color\":\"#636efa\"},\"marker\":{\"symbol\":\"circle\"},\"mode\":\"lines\",\"name\":\"\",\"orientation\":\"v\",\"showlegend\":false,\"stackgroup\":\"1\",\"x\":[0.0,0.0,0.0,0.00267379679144385,0.00267379679144385,0.004010695187165776,0.004010695187165776,0.0053475935828877,0.0053475935828877,0.0066844919786096255,0.0066844919786096255,0.008021390374331552,0.008021390374331552,0.009358288770053475,0.009358288770053475,0.014705882352941176,0.014705882352941176,0.017379679144385027,0.017379679144385027,0.0213903743315508,0.0213903743315508,0.02406417112299465,0.02406417112299465,0.026737967914438502,0.026737967914438502,0.03342245989304813,0.03342245989304813,0.034759358288770054,0.034759358288770054,0.03609625668449198,0.03609625668449198,0.03877005347593583,0.03877005347593583,0.0427807486631016,0.0427807486631016,0.045454545454545456,0.045454545454545456,0.04679144385026738,0.04679144385026738,0.05213903743315508,0.05213903743315508,0.053475935828877004,0.053475935828877004,0.05481283422459893,0.05481283422459893,0.05614973262032086,0.05614973262032086,0.06283422459893048,0.06283422459893048,0.06550802139037433,0.06550802139037433,0.06684491978609626,0.06684491978609626,0.07219251336898395,0.07219251336898395,0.0748663101604278,0.0748663101604278,0.07887700534759358,0.07887700534759358,0.08288770053475936,0.08288770053475936,0.09224598930481283,0.09224598930481283,0.09491978609625669,0.09491978609625669,0.09893048128342247,0.09893048128342247,0.10160427807486631,0.10160427807486631,0.10828877005347594,0.10828877005347594,0.11096256684491979,0.11096256684491979,0.1163101604278075,0.1163101604278075,0.12165775401069519,0.12165775401069519,0.12299465240641712,0.12299465240641712,0.13770053475935828,0.13770053475935828,0.14304812834224598,0.14304812834224598,0.1483957219251337,0.1483957219251337,0.1537433155080214,0.1537433155080214,0.15508021390374332,0.15508021390374332,0.15775401069518716,0.15775401069518716,0.16310160427807488,0.16310160427807488,0.1697860962566845,0.1697860962566845,0.17379679144385027,0.17379679144385027,0.17914438502673796,0.17914438502673796,0.18449197860962566,0.18449197860962566,0.1858288770053476,0.1858288770053476,0.19518716577540107,0.19518716577540107,0.19786096256684493,0.19786096256684493,0.20320855614973263,0.20320855614973263,0.20989304812834225,0.20989304812834225,0.21524064171122995,0.21524064171122995,0.2286096256684492,0.2286096256684492,0.2339572192513369,0.2339572192513369,0.23529411764705882,0.23529411764705882,0.24064171122994651,0.24064171122994651,0.25133689839572193,0.25133689839572193,0.25267379679144386,0.25267379679144386,0.25935828877005346,0.25935828877005346,0.28342245989304815,0.28342245989304815,0.2874331550802139,0.2874331550802139,0.2914438502673797,0.2914438502673797,0.3074866310160428,0.3074866310160428,0.3088235294117647,0.3088235294117647,0.3181818181818182,0.3181818181818182,0.3582887700534759,0.3582887700534759,0.35962566844919786,0.35962566844919786,0.3609625668449198,0.3609625668449198,0.3689839572192513,0.3689839572192513,0.37566844919786097,0.37566844919786097,0.39572192513368987,0.39572192513368987,0.4037433155080214,0.4037433155080214,0.42513368983957217,0.42513368983957217,0.4411764705882353,0.4411764705882353,0.4532085561497326,0.4532085561497326,0.47459893048128343,0.47459893048128343,0.47593582887700536,0.47593582887700536,0.48128342245989303,0.48128342245989303,0.4879679144385027,0.4879679144385027,0.4893048128342246,0.4893048128342246,0.5080213903743316,0.5080213903743316,0.5120320855614974,0.5120320855614974,0.5521390374331551,0.5521390374331551,0.5614973262032086,0.5614973262032086,0.5828877005347594,0.5828877005347594,0.5935828877005348,0.5935828877005348,0.5962566844919787,0.5962566844919787,0.6029411764705882,0.6029411764705882,0.6136363636363636,0.6136363636363636,0.6283422459893048,0.6283422459893048,0.6296791443850267,0.6296791443850267,0.6363636363636364,0.6363636363636364,0.6590909090909091,0.6590909090909091,0.6684491978609626,0.6684491978609626,0.6844919786096256,0.6844919786096256,0.6951871657754011,0.6951871657754011,0.6978609625668449,0.6978609625668449,0.7205882352941176,0.7205882352941176,0.7286096256684492,0.7286096256684492,0.7406417112299465,0.7406417112299465,0.8542780748663101,0.8542780748663101,0.983957219251337,0.983957219251337,0.9919786096256684,0.9919786096256684,1.0],\"xaxis\":\"x\",\"y\":[0.0,0.007462686567164179,0.014925373134328358,0.014925373134328358,0.022388059701492536,0.022388059701492536,0.029850746268656716,0.029850746268656716,0.03731343283582089,0.03731343283582089,0.04477611940298507,0.04477611940298507,0.05970149253731343,0.05970149253731343,0.07462686567164178,0.07462686567164178,0.08955223880597014,0.08955223880597014,0.09701492537313433,0.09701492537313433,0.1044776119402985,0.1044776119402985,0.13432835820895522,0.13432835820895522,0.1417910447761194,0.1417910447761194,0.15671641791044777,0.15671641791044777,0.1865671641791045,0.1865671641791045,0.19402985074626866,0.19402985074626866,0.20149253731343283,0.20149253731343283,0.21641791044776118,0.21641791044776118,0.22388059701492538,0.22388059701492538,0.23134328358208955,0.23134328358208955,0.2537313432835821,0.2537313432835821,0.26119402985074625,0.26119402985074625,0.26865671641791045,0.26865671641791045,0.27611940298507465,0.27611940298507465,0.29850746268656714,0.29850746268656714,0.31343283582089554,0.31343283582089554,0.3208955223880597,0.3208955223880597,0.3283582089552239,0.3283582089552239,0.3358208955223881,0.3358208955223881,0.35074626865671643,0.35074626865671643,0.3582089552238806,0.3582089552238806,0.3656716417910448,0.3656716417910448,0.373134328358209,0.373134328358209,0.3805970149253731,0.3805970149253731,0.3880597014925373,0.3880597014925373,0.39552238805970147,0.39552238805970147,0.40298507462686567,0.40298507462686567,0.41044776119402987,0.41044776119402987,0.417910447761194,0.417910447761194,0.44029850746268656,0.44029850746268656,0.44776119402985076,0.44776119402985076,0.4552238805970149,0.4552238805970149,0.4701492537313433,0.4701492537313433,0.48507462686567165,0.48507462686567165,0.4925373134328358,0.4925373134328358,0.5,0.5,0.5074626865671642,0.5074626865671642,0.5149253731343284,0.5149253731343284,0.5223880597014925,0.5223880597014925,0.5298507462686567,0.5298507462686567,0.5373134328358209,0.5373134328358209,0.5447761194029851,0.5447761194029851,0.5522388059701493,0.5522388059701493,0.5597014925373134,0.5597014925373134,0.5671641791044776,0.5671641791044776,0.5746268656716418,0.5746268656716418,0.5895522388059702,0.5895522388059702,0.6044776119402985,0.6044776119402985,0.6119402985074627,0.6119402985074627,0.6194029850746269,0.6194029850746269,0.6268656716417911,0.6268656716417911,0.6343283582089553,0.6343283582089553,0.6417910447761194,0.6417910447761194,0.6492537313432836,0.6492537313432836,0.6567164179104478,0.6567164179104478,0.664179104477612,0.664179104477612,0.6716417910447762,0.6716417910447762,0.6791044776119403,0.6791044776119403,0.6865671641791045,0.6865671641791045,0.6940298507462687,0.6940298507462687,0.7014925373134329,0.7014925373134329,0.7089552238805971,0.7089552238805971,0.7164179104477612,0.7164179104477612,0.7238805970149254,0.7238805970149254,0.7313432835820896,0.7313432835820896,0.7388059701492538,0.7388059701492538,0.746268656716418,0.746268656716418,0.753731343283582,0.753731343283582,0.7611940298507462,0.7611940298507462,0.7686567164179104,0.7686567164179104,0.7761194029850746,0.7761194029850746,0.7910447761194029,0.7910447761194029,0.7985074626865671,0.7985074626865671,0.8059701492537313,0.8059701492537313,0.8134328358208955,0.8134328358208955,0.8283582089552238,0.8283582089552238,0.835820895522388,0.835820895522388,0.8432835820895522,0.8432835820895522,0.8507462686567164,0.8507462686567164,0.8582089552238806,0.8582089552238806,0.8656716417910447,0.8656716417910447,0.8731343283582089,0.8731343283582089,0.8805970149253731,0.8805970149253731,0.8880597014925373,0.8880597014925373,0.9029850746268657,0.9029850746268657,0.9104477611940298,0.9104477611940298,0.917910447761194,0.917910447761194,0.9253731343283582,0.9253731343283582,0.9328358208955224,0.9328358208955224,0.9402985074626866,0.9402985074626866,0.9477611940298507,0.9477611940298507,0.9552238805970149,0.9552238805970149,0.9626865671641791,0.9626865671641791,0.9701492537313433,0.9701492537313433,0.9776119402985075,0.9776119402985075,0.9850746268656716,0.9850746268656716,0.9925373134328358,0.9925373134328358,1.0,1.0],\"yaxis\":\"y\",\"type\":\"scatter\"}],                        {\"template\":{\"data\":{\"histogram2dcontour\":[{\"type\":\"histogram2dcontour\",\"colorbar\":{\"outlinewidth\":0,\"ticks\":\"\"},\"colorscale\":[[0.0,\"#0d0887\"],[0.1111111111111111,\"#46039f\"],[0.2222222222222222,\"#7201a8\"],[0.3333333333333333,\"#9c179e\"],[0.4444444444444444,\"#bd3786\"],[0.5555555555555556,\"#d8576b\"],[0.6666666666666666,\"#ed7953\"],[0.7777777777777778,\"#fb9f3a\"],[0.8888888888888888,\"#fdca26\"],[1.0,\"#f0f921\"]]}],\"choropleth\":[{\"type\":\"choropleth\",\"colorbar\":{\"outlinewidth\":0,\"ticks\":\"\"}}],\"histogram2d\":[{\"type\":\"histogram2d\",\"colorbar\":{\"outlinewidth\":0,\"ticks\":\"\"},\"colorscale\":[[0.0,\"#0d0887\"],[0.1111111111111111,\"#46039f\"],[0.2222222222222222,\"#7201a8\"],[0.3333333333333333,\"#9c179e\"],[0.4444444444444444,\"#bd3786\"],[0.5555555555555556,\"#d8576b\"],[0.6666666666666666,\"#ed7953\"],[0.7777777777777778,\"#fb9f3a\"],[0.8888888888888888,\"#fdca26\"],[1.0,\"#f0f921\"]]}],\"heatmap\":[{\"type\":\"heatmap\",\"colorbar\":{\"outlinewidth\":0,\"ticks\":\"\"},\"colorscale\":[[0.0,\"#0d0887\"],[0.1111111111111111,\"#46039f\"],[0.2222222222222222,\"#7201a8\"],[0.3333333333333333,\"#9c179e\"],[0.4444444444444444,\"#bd3786\"],[0.5555555555555556,\"#d8576b\"],[0.6666666666666666,\"#ed7953\"],[0.7777777777777778,\"#fb9f3a\"],[0.8888888888888888,\"#fdca26\"],[1.0,\"#f0f921\"]]}],\"heatmapgl\":[{\"type\":\"heatmapgl\",\"colorbar\":{\"outlinewidth\":0,\"ticks\":\"\"},\"colorscale\":[[0.0,\"#0d0887\"],[0.1111111111111111,\"#46039f\"],[0.2222222222222222,\"#7201a8\"],[0.3333333333333333,\"#9c179e\"],[0.4444444444444444,\"#bd3786\"],[0.5555555555555556,\"#d8576b\"],[0.6666666666666666,\"#ed7953\"],[0.7777777777777778,\"#fb9f3a\"],[0.8888888888888888,\"#fdca26\"],[1.0,\"#f0f921\"]]}],\"contourcarpet\":[{\"type\":\"contourcarpet\",\"colorbar\":{\"outlinewidth\":0,\"ticks\":\"\"}}],\"contour\":[{\"type\":\"contour\",\"colorbar\":{\"outlinewidth\":0,\"ticks\":\"\"},\"colorscale\":[[0.0,\"#0d0887\"],[0.1111111111111111,\"#46039f\"],[0.2222222222222222,\"#7201a8\"],[0.3333333333333333,\"#9c179e\"],[0.4444444444444444,\"#bd3786\"],[0.5555555555555556,\"#d8576b\"],[0.6666666666666666,\"#ed7953\"],[0.7777777777777778,\"#fb9f3a\"],[0.8888888888888888,\"#fdca26\"],[1.0,\"#f0f921\"]]}],\"surface\":[{\"type\":\"surface\",\"colorbar\":{\"outlinewidth\":0,\"ticks\":\"\"},\"colorscale\":[[0.0,\"#0d0887\"],[0.1111111111111111,\"#46039f\"],[0.2222222222222222,\"#7201a8\"],[0.3333333333333333,\"#9c179e\"],[0.4444444444444444,\"#bd3786\"],[0.5555555555555556,\"#d8576b\"],[0.6666666666666666,\"#ed7953\"],[0.7777777777777778,\"#fb9f3a\"],[0.8888888888888888,\"#fdca26\"],[1.0,\"#f0f921\"]]}],\"mesh3d\":[{\"type\":\"mesh3d\",\"colorbar\":{\"outlinewidth\":0,\"ticks\":\"\"}}],\"scatter\":[{\"fillpattern\":{\"fillmode\":\"overlay\",\"size\":10,\"solidity\":0.2},\"type\":\"scatter\"}],\"parcoords\":[{\"type\":\"parcoords\",\"line\":{\"colorbar\":{\"outlinewidth\":0,\"ticks\":\"\"}}}],\"scatterpolargl\":[{\"type\":\"scatterpolargl\",\"marker\":{\"colorbar\":{\"outlinewidth\":0,\"ticks\":\"\"}}}],\"bar\":[{\"error_x\":{\"color\":\"#2a3f5f\"},\"error_y\":{\"color\":\"#2a3f5f\"},\"marker\":{\"line\":{\"color\":\"#E5ECF6\",\"width\":0.5},\"pattern\":{\"fillmode\":\"overlay\",\"size\":10,\"solidity\":0.2}},\"type\":\"bar\"}],\"scattergeo\":[{\"type\":\"scattergeo\",\"marker\":{\"colorbar\":{\"outlinewidth\":0,\"ticks\":\"\"}}}],\"scatterpolar\":[{\"type\":\"scatterpolar\",\"marker\":{\"colorbar\":{\"outlinewidth\":0,\"ticks\":\"\"}}}],\"histogram\":[{\"marker\":{\"pattern\":{\"fillmode\":\"overlay\",\"size\":10,\"solidity\":0.2}},\"type\":\"histogram\"}],\"scattergl\":[{\"type\":\"scattergl\",\"marker\":{\"colorbar\":{\"outlinewidth\":0,\"ticks\":\"\"}}}],\"scatter3d\":[{\"type\":\"scatter3d\",\"line\":{\"colorbar\":{\"outlinewidth\":0,\"ticks\":\"\"}},\"marker\":{\"colorbar\":{\"outlinewidth\":0,\"ticks\":\"\"}}}],\"scattermapbox\":[{\"type\":\"scattermapbox\",\"marker\":{\"colorbar\":{\"outlinewidth\":0,\"ticks\":\"\"}}}],\"scatterternary\":[{\"type\":\"scatterternary\",\"marker\":{\"colorbar\":{\"outlinewidth\":0,\"ticks\":\"\"}}}],\"scattercarpet\":[{\"type\":\"scattercarpet\",\"marker\":{\"colorbar\":{\"outlinewidth\":0,\"ticks\":\"\"}}}],\"carpet\":[{\"aaxis\":{\"endlinecolor\":\"#2a3f5f\",\"gridcolor\":\"white\",\"linecolor\":\"white\",\"minorgridcolor\":\"white\",\"startlinecolor\":\"#2a3f5f\"},\"baxis\":{\"endlinecolor\":\"#2a3f5f\",\"gridcolor\":\"white\",\"linecolor\":\"white\",\"minorgridcolor\":\"white\",\"startlinecolor\":\"#2a3f5f\"},\"type\":\"carpet\"}],\"table\":[{\"cells\":{\"fill\":{\"color\":\"#EBF0F8\"},\"line\":{\"color\":\"white\"}},\"header\":{\"fill\":{\"color\":\"#C8D4E3\"},\"line\":{\"color\":\"white\"}},\"type\":\"table\"}],\"barpolar\":[{\"marker\":{\"line\":{\"color\":\"#E5ECF6\",\"width\":0.5},\"pattern\":{\"fillmode\":\"overlay\",\"size\":10,\"solidity\":0.2}},\"type\":\"barpolar\"}],\"pie\":[{\"automargin\":true,\"type\":\"pie\"}]},\"layout\":{\"autotypenumbers\":\"strict\",\"colorway\":[\"#636efa\",\"#EF553B\",\"#00cc96\",\"#ab63fa\",\"#FFA15A\",\"#19d3f3\",\"#FF6692\",\"#B6E880\",\"#FF97FF\",\"#FECB52\"],\"font\":{\"color\":\"#2a3f5f\"},\"hovermode\":\"closest\",\"hoverlabel\":{\"align\":\"left\"},\"paper_bgcolor\":\"white\",\"plot_bgcolor\":\"#E5ECF6\",\"polar\":{\"bgcolor\":\"#E5ECF6\",\"angularaxis\":{\"gridcolor\":\"white\",\"linecolor\":\"white\",\"ticks\":\"\"},\"radialaxis\":{\"gridcolor\":\"white\",\"linecolor\":\"white\",\"ticks\":\"\"}},\"ternary\":{\"bgcolor\":\"#E5ECF6\",\"aaxis\":{\"gridcolor\":\"white\",\"linecolor\":\"white\",\"ticks\":\"\"},\"baxis\":{\"gridcolor\":\"white\",\"linecolor\":\"white\",\"ticks\":\"\"},\"caxis\":{\"gridcolor\":\"white\",\"linecolor\":\"white\",\"ticks\":\"\"}},\"coloraxis\":{\"colorbar\":{\"outlinewidth\":0,\"ticks\":\"\"}},\"colorscale\":{\"sequential\":[[0.0,\"#0d0887\"],[0.1111111111111111,\"#46039f\"],[0.2222222222222222,\"#7201a8\"],[0.3333333333333333,\"#9c179e\"],[0.4444444444444444,\"#bd3786\"],[0.5555555555555556,\"#d8576b\"],[0.6666666666666666,\"#ed7953\"],[0.7777777777777778,\"#fb9f3a\"],[0.8888888888888888,\"#fdca26\"],[1.0,\"#f0f921\"]],\"sequentialminus\":[[0.0,\"#0d0887\"],[0.1111111111111111,\"#46039f\"],[0.2222222222222222,\"#7201a8\"],[0.3333333333333333,\"#9c179e\"],[0.4444444444444444,\"#bd3786\"],[0.5555555555555556,\"#d8576b\"],[0.6666666666666666,\"#ed7953\"],[0.7777777777777778,\"#fb9f3a\"],[0.8888888888888888,\"#fdca26\"],[1.0,\"#f0f921\"]],\"diverging\":[[0,\"#8e0152\"],[0.1,\"#c51b7d\"],[0.2,\"#de77ae\"],[0.3,\"#f1b6da\"],[0.4,\"#fde0ef\"],[0.5,\"#f7f7f7\"],[0.6,\"#e6f5d0\"],[0.7,\"#b8e186\"],[0.8,\"#7fbc41\"],[0.9,\"#4d9221\"],[1,\"#276419\"]]},\"xaxis\":{\"gridcolor\":\"white\",\"linecolor\":\"white\",\"ticks\":\"\",\"title\":{\"standoff\":15},\"zerolinecolor\":\"white\",\"automargin\":true,\"zerolinewidth\":2},\"yaxis\":{\"gridcolor\":\"white\",\"linecolor\":\"white\",\"ticks\":\"\",\"title\":{\"standoff\":15},\"zerolinecolor\":\"white\",\"automargin\":true,\"zerolinewidth\":2},\"scene\":{\"xaxis\":{\"backgroundcolor\":\"#E5ECF6\",\"gridcolor\":\"white\",\"linecolor\":\"white\",\"showbackground\":true,\"ticks\":\"\",\"zerolinecolor\":\"white\",\"gridwidth\":2},\"yaxis\":{\"backgroundcolor\":\"#E5ECF6\",\"gridcolor\":\"white\",\"linecolor\":\"white\",\"showbackground\":true,\"ticks\":\"\",\"zerolinecolor\":\"white\",\"gridwidth\":2},\"zaxis\":{\"backgroundcolor\":\"#E5ECF6\",\"gridcolor\":\"white\",\"linecolor\":\"white\",\"showbackground\":true,\"ticks\":\"\",\"zerolinecolor\":\"white\",\"gridwidth\":2}},\"shapedefaults\":{\"line\":{\"color\":\"#2a3f5f\"}},\"annotationdefaults\":{\"arrowcolor\":\"#2a3f5f\",\"arrowhead\":0,\"arrowwidth\":1},\"geo\":{\"bgcolor\":\"white\",\"landcolor\":\"#E5ECF6\",\"subunitcolor\":\"white\",\"showland\":true,\"showlakes\":true,\"lakecolor\":\"white\"},\"title\":{\"x\":0.05},\"mapbox\":{\"style\":\"light\"}}},\"xaxis\":{\"anchor\":\"y\",\"domain\":[0.0,1.0],\"title\":{\"text\":\"False Positive Rate\"}},\"yaxis\":{\"anchor\":\"x\",\"domain\":[0.0,1.0],\"title\":{\"text\":\"True Positive Rate\"}},\"legend\":{\"tracegroupgap\":0},\"title\":{\"text\":\"ROC curve\"},\"height\":500,\"width\":500,\"shapes\":[{\"line\":{\"dash\":\"dash\"},\"type\":\"line\",\"x0\":0,\"x1\":1,\"y0\":0,\"y1\":1}]},                        {\"responsive\": true}                    ).then(function(){\n                            \nvar gd = document.getElementById('389dd523-3e2e-4203-898a-e2a975e9c504');\nvar x = new MutationObserver(function (mutations, observer) {{\n        var display = window.getComputedStyle(gd).display;\n        if (!display || display === 'none') {{\n            console.log([gd, 'removed!']);\n            Plotly.purge(gd);\n            observer.disconnect();\n        }}\n}});\n\n// Listen for the removal of the full notebook cells\nvar notebookContainer = gd.closest('#notebook-container');\nif (notebookContainer) {{\n    x.observe(notebookContainer, {childList: true});\n}}\n\n// Listen for the clearing of the current output cell\nvar outputEl = gd.closest('.output');\nif (outputEl) {{\n    x.observe(outputEl, {childList: true});\n}}\n\n                        })                };                });            </script>        </div>"
     },
     "metadata": {},
     "output_type": "display_data"
    }
   ],
   "source": [
    "from plotly.express import area\n",
    "from sklearn.metrics import roc_curve\n",
    "\n",
    "fpr, tpr, thresholds = roc_curve(y_test, probas)\n",
    "\n",
    "figure = area(x=fpr, y=tpr, title='ROC curve',\n",
    "              labels={'x': 'False Positive Rate', 'y': 'True Positive Rate'},\n",
    "              width=500, height=500)\n",
    "figure.add_shape(type='line', line={'dash': 'dash'}, x0=0, x1=1, y0=0, y1=1)\n",
    "figure.show()"
   ],
   "metadata": {
    "collapsed": false,
    "ExecuteTime": {
     "end_time": "2024-01-31T12:37:35.932326800Z",
     "start_time": "2024-01-31T12:37:35.883354Z"
    }
   },
   "id": "ff24312158e53da0"
  }
 ],
 "metadata": {
  "kernelspec": {
   "display_name": "Python 3",
   "language": "python",
   "name": "python3"
  },
  "language_info": {
   "codemirror_mode": {
    "name": "ipython",
    "version": 2
   },
   "file_extension": ".py",
   "mimetype": "text/x-python",
   "name": "python",
   "nbconvert_exporter": "python",
   "pygments_lexer": "ipython2",
   "version": "2.7.6"
  }
 },
 "nbformat": 4,
 "nbformat_minor": 5
}
