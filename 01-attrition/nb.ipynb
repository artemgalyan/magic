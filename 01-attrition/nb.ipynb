{
 "cells": [
  {
   "cell_type": "code",
   "execution_count": 1,
   "id": "3f00a10bf18e0905",
   "metadata": {
    "collapsed": false,
    "ExecuteTime": {
     "end_time": "2024-01-28T10:55:53.185012100Z",
     "start_time": "2024-01-28T10:55:53.139532Z"
    }
   },
   "outputs": [],
   "source": [
    "from pandas import read_csv\n",
    "\n",
    "general_data = read_csv('general_data.csv')\n",
    "manager_survey_data = read_csv('manager_survey_data.csv')\n",
    "employee_survey_data = read_csv('employee_survey_data.csv')"
   ]
  },
  {
   "cell_type": "code",
   "execution_count": 2,
   "outputs": [],
   "source": [
    "ID_COLUMN = 'EmployeeID'"
   ],
   "metadata": {
    "collapsed": false,
    "ExecuteTime": {
     "end_time": "2024-01-28T10:55:57.334709300Z",
     "start_time": "2024-01-28T10:55:57.309776500Z"
    }
   },
   "id": "95b902973304c969"
  },
  {
   "cell_type": "code",
   "execution_count": 3,
   "id": "a27e582279e7fa81",
   "metadata": {
    "collapsed": false,
    "ExecuteTime": {
     "end_time": "2024-01-28T10:55:58.733639900Z",
     "start_time": "2024-01-28T10:55:58.694403300Z"
    }
   },
   "outputs": [],
   "source": [
    "data = general_data \\\n",
    "    .merge(manager_survey_data, on=ID_COLUMN, how='left') \\\n",
    "    .merge(employee_survey_data, on=ID_COLUMN, how='left')"
   ]
  },
  {
   "cell_type": "code",
   "execution_count": 5,
   "id": "9a948be2969b0168",
   "metadata": {
    "collapsed": false,
    "ExecuteTime": {
     "end_time": "2024-01-28T10:56:07.079885800Z",
     "start_time": "2024-01-28T10:56:07.046828700Z"
    }
   },
   "outputs": [],
   "source": [
    "data['Education'] = data['Education'].replace(list(range(1, 6)), ['Below College', 'College', 'Bachelor', 'Master', 'Doctor'])\n",
    "data['WorkLifeBalance'] = data['WorkLifeBalance'].replace(list(range(1, 5)), ['Bad', 'Good', 'Better', 'Best'])\n",
    "\n",
    "for column in ['EnvironmentSatisfaction', 'JobInvolvement', 'JobSatisfaction', 'PerformanceRating']:\n",
    "    data[column] = data[column].replace(list(range(1, 5)), ['Low', 'Medium', 'High', 'Very High'])"
   ]
  },
  {
   "cell_type": "code",
   "execution_count": 6,
   "id": "9bae72b53491ae50",
   "metadata": {
    "collapsed": false,
    "ExecuteTime": {
     "end_time": "2024-01-28T10:56:08.899251500Z",
     "start_time": "2024-01-28T10:56:08.828541100Z"
    }
   },
   "outputs": [
    {
     "data": {
      "text/plain": "               Age  DistanceFromHome  EmployeeCount   EmployeeID     JobLevel  \\\ncount  4410.000000       4410.000000         4410.0  4410.000000  4410.000000   \nmean     36.923810          9.192517            1.0  2205.500000     2.063946   \nstd       9.133301          8.105026            0.0  1273.201673     1.106689   \nmin      18.000000          1.000000            1.0     1.000000     1.000000   \n25%      30.000000          2.000000            1.0  1103.250000     1.000000   \n50%      36.000000          7.000000            1.0  2205.500000     2.000000   \n75%      43.000000         14.000000            1.0  3307.750000     3.000000   \nmax      60.000000         29.000000            1.0  4410.000000     5.000000   \n\n       MonthlyIncome  NumCompaniesWorked  PercentSalaryHike  StandardHours  \\\ncount    4410.000000         4391.000000        4410.000000         4410.0   \nmean    65029.312925            2.694830          15.209524            8.0   \nstd     47068.888559            2.498887           3.659108            0.0   \nmin     10090.000000            0.000000          11.000000            8.0   \n25%     29110.000000            1.000000          12.000000            8.0   \n50%     49190.000000            2.000000          14.000000            8.0   \n75%     83800.000000            4.000000          18.000000            8.0   \nmax    199990.000000            9.000000          25.000000            8.0   \n\n       StockOptionLevel  TotalWorkingYears  TrainingTimesLastYear  \\\ncount       4410.000000        4401.000000            4410.000000   \nmean           0.793878          11.279936               2.799320   \nstd            0.851883           7.782222               1.288978   \nmin            0.000000           0.000000               0.000000   \n25%            0.000000           6.000000               2.000000   \n50%            1.000000          10.000000               3.000000   \n75%            1.000000          15.000000               3.000000   \nmax            3.000000          40.000000               6.000000   \n\n       YearsAtCompany  YearsSinceLastPromotion  YearsWithCurrManager  \ncount     4410.000000              4410.000000           4410.000000  \nmean         7.008163                 2.187755              4.123129  \nstd          6.125135                 3.221699              3.567327  \nmin          0.000000                 0.000000              0.000000  \n25%          3.000000                 0.000000              2.000000  \n50%          5.000000                 1.000000              3.000000  \n75%          9.000000                 3.000000              7.000000  \nmax         40.000000                15.000000             17.000000  ",
      "text/html": "<div>\n<style scoped>\n    .dataframe tbody tr th:only-of-type {\n        vertical-align: middle;\n    }\n\n    .dataframe tbody tr th {\n        vertical-align: top;\n    }\n\n    .dataframe thead th {\n        text-align: right;\n    }\n</style>\n<table border=\"1\" class=\"dataframe\">\n  <thead>\n    <tr style=\"text-align: right;\">\n      <th></th>\n      <th>Age</th>\n      <th>DistanceFromHome</th>\n      <th>EmployeeCount</th>\n      <th>EmployeeID</th>\n      <th>JobLevel</th>\n      <th>MonthlyIncome</th>\n      <th>NumCompaniesWorked</th>\n      <th>PercentSalaryHike</th>\n      <th>StandardHours</th>\n      <th>StockOptionLevel</th>\n      <th>TotalWorkingYears</th>\n      <th>TrainingTimesLastYear</th>\n      <th>YearsAtCompany</th>\n      <th>YearsSinceLastPromotion</th>\n      <th>YearsWithCurrManager</th>\n    </tr>\n  </thead>\n  <tbody>\n    <tr>\n      <th>count</th>\n      <td>4410.000000</td>\n      <td>4410.000000</td>\n      <td>4410.0</td>\n      <td>4410.000000</td>\n      <td>4410.000000</td>\n      <td>4410.000000</td>\n      <td>4391.000000</td>\n      <td>4410.000000</td>\n      <td>4410.0</td>\n      <td>4410.000000</td>\n      <td>4401.000000</td>\n      <td>4410.000000</td>\n      <td>4410.000000</td>\n      <td>4410.000000</td>\n      <td>4410.000000</td>\n    </tr>\n    <tr>\n      <th>mean</th>\n      <td>36.923810</td>\n      <td>9.192517</td>\n      <td>1.0</td>\n      <td>2205.500000</td>\n      <td>2.063946</td>\n      <td>65029.312925</td>\n      <td>2.694830</td>\n      <td>15.209524</td>\n      <td>8.0</td>\n      <td>0.793878</td>\n      <td>11.279936</td>\n      <td>2.799320</td>\n      <td>7.008163</td>\n      <td>2.187755</td>\n      <td>4.123129</td>\n    </tr>\n    <tr>\n      <th>std</th>\n      <td>9.133301</td>\n      <td>8.105026</td>\n      <td>0.0</td>\n      <td>1273.201673</td>\n      <td>1.106689</td>\n      <td>47068.888559</td>\n      <td>2.498887</td>\n      <td>3.659108</td>\n      <td>0.0</td>\n      <td>0.851883</td>\n      <td>7.782222</td>\n      <td>1.288978</td>\n      <td>6.125135</td>\n      <td>3.221699</td>\n      <td>3.567327</td>\n    </tr>\n    <tr>\n      <th>min</th>\n      <td>18.000000</td>\n      <td>1.000000</td>\n      <td>1.0</td>\n      <td>1.000000</td>\n      <td>1.000000</td>\n      <td>10090.000000</td>\n      <td>0.000000</td>\n      <td>11.000000</td>\n      <td>8.0</td>\n      <td>0.000000</td>\n      <td>0.000000</td>\n      <td>0.000000</td>\n      <td>0.000000</td>\n      <td>0.000000</td>\n      <td>0.000000</td>\n    </tr>\n    <tr>\n      <th>25%</th>\n      <td>30.000000</td>\n      <td>2.000000</td>\n      <td>1.0</td>\n      <td>1103.250000</td>\n      <td>1.000000</td>\n      <td>29110.000000</td>\n      <td>1.000000</td>\n      <td>12.000000</td>\n      <td>8.0</td>\n      <td>0.000000</td>\n      <td>6.000000</td>\n      <td>2.000000</td>\n      <td>3.000000</td>\n      <td>0.000000</td>\n      <td>2.000000</td>\n    </tr>\n    <tr>\n      <th>50%</th>\n      <td>36.000000</td>\n      <td>7.000000</td>\n      <td>1.0</td>\n      <td>2205.500000</td>\n      <td>2.000000</td>\n      <td>49190.000000</td>\n      <td>2.000000</td>\n      <td>14.000000</td>\n      <td>8.0</td>\n      <td>1.000000</td>\n      <td>10.000000</td>\n      <td>3.000000</td>\n      <td>5.000000</td>\n      <td>1.000000</td>\n      <td>3.000000</td>\n    </tr>\n    <tr>\n      <th>75%</th>\n      <td>43.000000</td>\n      <td>14.000000</td>\n      <td>1.0</td>\n      <td>3307.750000</td>\n      <td>3.000000</td>\n      <td>83800.000000</td>\n      <td>4.000000</td>\n      <td>18.000000</td>\n      <td>8.0</td>\n      <td>1.000000</td>\n      <td>15.000000</td>\n      <td>3.000000</td>\n      <td>9.000000</td>\n      <td>3.000000</td>\n      <td>7.000000</td>\n    </tr>\n    <tr>\n      <th>max</th>\n      <td>60.000000</td>\n      <td>29.000000</td>\n      <td>1.0</td>\n      <td>4410.000000</td>\n      <td>5.000000</td>\n      <td>199990.000000</td>\n      <td>9.000000</td>\n      <td>25.000000</td>\n      <td>8.0</td>\n      <td>3.000000</td>\n      <td>40.000000</td>\n      <td>6.000000</td>\n      <td>40.000000</td>\n      <td>15.000000</td>\n      <td>17.000000</td>\n    </tr>\n  </tbody>\n</table>\n</div>"
     },
     "execution_count": 6,
     "metadata": {},
     "output_type": "execute_result"
    }
   ],
   "source": [
    "data.describe()"
   ]
  },
  {
   "cell_type": "code",
   "execution_count": 7,
   "id": "e2ad5a3857d1d7e3",
   "metadata": {
    "collapsed": false,
    "ExecuteTime": {
     "end_time": "2024-01-28T10:56:12.139041500Z",
     "start_time": "2024-01-28T10:56:11.090440400Z"
    }
   },
   "outputs": [],
   "source": [
    "in_times = read_csv('in_time.csv')\n",
    "out_times = read_csv('out_time.csv')"
   ]
  },
  {
   "cell_type": "code",
   "execution_count": 8,
   "id": "f68990c6d5e5e7a0",
   "metadata": {
    "collapsed": false,
    "ExecuteTime": {
     "end_time": "2024-01-28T10:56:16.227669Z",
     "start_time": "2024-01-28T10:56:16.205933900Z"
    }
   },
   "outputs": [],
   "source": [
    "from collections.abc import Generator\n",
    "\n",
    "from numpy import nan\n",
    "from pandas import DataFrame, Series, to_datetime\n",
    "\n",
    "SECONDS_IN_HOUR = 3600\n",
    "\n",
    "\n",
    "def preprocess_time_dataframe(times: DataFrame) -> DataFrame:\n",
    "    \"\"\"\n",
    "    Preprocesses the dataframe: replaces NA with None and converts all dates to time in seconds format\n",
    "    :param times: input dataframe with in/out times\n",
    "    :return: preprocessed dataframe \n",
    "    \"\"\"\n",
    "\n",
    "    times[times == 'NA'] = nan\n",
    "    for column in times.columns[1:]:\n",
    "        times[column] = to_datetime(times[column]).map(\n",
    "            lambda x: x if x is None else (x - x.replace(hour=0, minute=0, second=0)).total_seconds() / SECONDS_IN_HOUR)\n",
    "\n",
    "    return times\n",
    "\n",
    "\n",
    "def get_working_time_statistics(in_times_: DataFrame, out_times_: DataFrame,\n",
    "                                statistics: list[str] | None = None) -> Generator[Series, None, None]:\n",
    "    \"\"\"\n",
    "    Calculates named statistics for working time\n",
    "    :param in_times_: dataframe with working day start times\n",
    "    :param out_times_: dataframe with working day end times\n",
    "    :param statistics: statistics to calculate, should be methods of pandas.DataFrame and should result in Series object\n",
    "    :return: Generator yielding series with given statistics\n",
    "    \"\"\"\n",
    "\n",
    "    assert (in_times_.index == out_times_.index).all()\n",
    "    assert (in_times_.columns == out_times_.columns).all()\n",
    "\n",
    "    if statistics is None:\n",
    "        statistics = ['mean', 'median', 'skew']\n",
    "\n",
    "    in_times_ = preprocess_time_dataframe(in_times_)\n",
    "    out_times_ = preprocess_time_dataframe(out_times_)\n",
    "    relevant_columns = in_times_.columns[1:]\n",
    "    working_time = out_times_[relevant_columns] - in_times_[relevant_columns]\n",
    "\n",
    "    for statistic_name in statistics:\n",
    "        assert hasattr(working_time, statistic_name), \\\n",
    "            f'Statistic {statistic_name} can not be calculated for the dataframe, ensure dataframe has this method'\n",
    "        statistic = getattr(working_time, statistic_name)(axis=1)\n",
    "        assert isinstance(statistic, Series), f'dataframe.{statistic_name}() should be a series object'\n",
    "        statistic.name = statistic_name.capitalize() + 'WorkingTime'\n",
    "        statistic[ID_COLUMN] = in_times_.index\n",
    "        yield statistic"
   ]
  },
  {
   "cell_type": "code",
   "execution_count": 9,
   "outputs": [],
   "source": [
    "for statistic in get_working_time_statistics(in_times, out_times):\n",
    "    data = data.join(statistic, on=ID_COLUMN, how='left')"
   ],
   "metadata": {
    "collapsed": false,
    "ExecuteTime": {
     "end_time": "2024-01-28T10:56:31.901013300Z",
     "start_time": "2024-01-28T10:56:17.561737800Z"
    }
   },
   "id": "c7c9e75612b3a482"
  },
  {
   "cell_type": "code",
   "execution_count": 10,
   "id": "32b1ba9c85bada28",
   "metadata": {
    "collapsed": false,
    "ExecuteTime": {
     "end_time": "2024-01-28T10:56:42.251709900Z",
     "start_time": "2024-01-28T10:56:42.226768700Z"
    }
   },
   "outputs": [
    {
     "data": {
      "text/plain": "Age                         0\nAttrition                   0\nBusinessTravel              0\nDepartment                  0\nDistanceFromHome            0\nEducation                   0\nEducationField              0\nEmployeeCount               0\nEmployeeID                  0\nGender                      0\nJobLevel                    0\nJobRole                     0\nMaritalStatus               0\nMonthlyIncome               0\nNumCompaniesWorked         19\nOver18                      0\nPercentSalaryHike           0\nStandardHours               0\nStockOptionLevel            0\nTotalWorkingYears           9\nTrainingTimesLastYear       0\nYearsAtCompany              0\nYearsSinceLastPromotion     0\nYearsWithCurrManager        0\nJobInvolvement              0\nPerformanceRating           0\nEnvironmentSatisfaction    25\nJobSatisfaction            20\nWorkLifeBalance            38\nMeanWorkingTime             1\nMedianWorkingTime           1\nSkewWorkingTime             1\ndtype: int64"
     },
     "execution_count": 10,
     "metadata": {},
     "output_type": "execute_result"
    }
   ],
   "source": [
    "data.isnull().sum()"
   ]
  },
  {
   "cell_type": "code",
   "execution_count": 11,
   "id": "7e1e6e35fe145af7",
   "metadata": {
    "collapsed": false,
    "ExecuteTime": {
     "end_time": "2024-01-28T10:57:41.053246500Z",
     "start_time": "2024-01-28T10:57:20.543462700Z"
    }
   },
   "outputs": [],
   "source": [
    "from ydata_profiling import ProfileReport\n",
    "\n",
    "profile_report = ProfileReport(data, title='Data profile report')"
   ]
  },
  {
   "cell_type": "code",
   "execution_count": 12,
   "id": "55026c8c9dc5cb6",
   "metadata": {
    "collapsed": false,
    "ExecuteTime": {
     "end_time": "2024-01-28T10:58:34.722820500Z",
     "start_time": "2024-01-28T10:57:41.057158400Z"
    }
   },
   "outputs": [
    {
     "data": {
      "text/plain": "Summarize dataset:   0%|          | 0/5 [00:00<?, ?it/s]",
      "application/vnd.jupyter.widget-view+json": {
       "version_major": 2,
       "version_minor": 0,
       "model_id": "02ad9aa3f2994f6aa04024bbd7ead573"
      }
     },
     "metadata": {},
     "output_type": "display_data"
    },
    {
     "data": {
      "text/plain": "Generate report structure:   0%|          | 0/1 [00:00<?, ?it/s]",
      "application/vnd.jupyter.widget-view+json": {
       "version_major": 2,
       "version_minor": 0,
       "model_id": "426de3ac9b464eb28e0f9e05c15f4415"
      }
     },
     "metadata": {},
     "output_type": "display_data"
    },
    {
     "data": {
      "text/plain": "Render HTML:   0%|          | 0/1 [00:00<?, ?it/s]",
      "application/vnd.jupyter.widget-view+json": {
       "version_major": 2,
       "version_minor": 0,
       "model_id": "99b3e45030bd44c29e2d6f8c8df545db"
      }
     },
     "metadata": {},
     "output_type": "display_data"
    },
    {
     "data": {
      "text/plain": "Export report to file:   0%|          | 0/1 [00:00<?, ?it/s]",
      "application/vnd.jupyter.widget-view+json": {
       "version_major": 2,
       "version_minor": 0,
       "model_id": "3e1d7291eaf040d7b26bb50a2b874cf3"
      }
     },
     "metadata": {},
     "output_type": "display_data"
    }
   ],
   "source": [
    "profile_report.to_file('report.html')"
   ]
  },
  {
   "cell_type": "code",
   "execution_count": 13,
   "id": "993c77a6af58db4",
   "metadata": {
    "collapsed": false,
    "ExecuteTime": {
     "end_time": "2024-01-28T11:32:07.237651100Z",
     "start_time": "2024-01-28T11:32:07.236641400Z"
    }
   },
   "outputs": [],
   "source": [
    "numerical_columns = [column for column in data.columns if data[column].dtype != object]\n",
    "categorical_columns = [column for column in data.columns if data[column].dtype == object]"
   ]
  },
  {
   "cell_type": "code",
   "execution_count": 14,
   "id": "968dc637c479da8c",
   "metadata": {
    "collapsed": false,
    "ExecuteTime": {
     "end_time": "2024-01-28T11:32:10.175618700Z",
     "start_time": "2024-01-28T11:32:10.162102500Z"
    }
   },
   "outputs": [
    {
     "data": {
      "text/plain": "(3699, 711)"
     },
     "execution_count": 14,
     "metadata": {},
     "output_type": "execute_result"
    }
   ],
   "source": [
    "said_no, said_yes = data['Attrition'].value_counts()\n",
    "said_no, said_yes"
   ]
  },
  {
   "cell_type": "code",
   "execution_count": 15,
   "id": "ee22372c03637808",
   "metadata": {
    "collapsed": false,
    "ExecuteTime": {
     "end_time": "2024-01-28T11:32:12.163245400Z",
     "start_time": "2024-01-28T11:32:11.975592500Z"
    }
   },
   "outputs": [],
   "source": [
    "# use weights for better visualizations because of class imbalance\n",
    "\n",
    "yes_weight = said_no / said_yes\n",
    "no_weight = 1\n",
    "weights = [((yes_weight - no_weight) * (row['Attrition'] == 'Yes') + no_weight) for _, row in data.iterrows()]"
   ]
  },
  {
   "cell_type": "code",
   "execution_count": 20,
   "id": "6ed683818b863615",
   "metadata": {
    "collapsed": false,
    "ExecuteTime": {
     "end_time": "2024-01-28T11:35:11.847586900Z",
     "start_time": "2024-01-28T11:35:11.324706800Z"
    }
   },
   "outputs": [
    {
     "data": {
      "text/plain": "<IPython.lib.display.IFrame at 0x1fed428cc50>",
      "text/html": "\n        <iframe\n            width=\"100%\"\n            height=\"650\"\n            src=\"http://127.0.0.1:8050/\"\n            frameborder=\"0\"\n            allowfullscreen\n            \n        ></iframe>\n        "
     },
     "metadata": {},
     "output_type": "display_data"
    }
   ],
   "source": [
    "from dash import Dash, dcc, html, Input, Output\n",
    "from plotly.graph_objects import Figure\n",
    "\n",
    "import plotly.graph_objects as go\n",
    "\n",
    "\n",
    "def make_interactive_plot(x_columns: list[str], y_columns: list[str], title: str | None = None,\n",
    "                          *, df: DataFrame = data) -> Dash:\n",
    "    \"\"\"\n",
    "    Creates interactive plot for given x and y columns\n",
    "    :param x_columns: x columns to display\n",
    "    :param y_columns: y columns to display\n",
    "    :param title: title of the plot\n",
    "    :param df: dataframe, default is data\n",
    "    :return: Dash with interactive plot\n",
    "    \"\"\"\n",
    "    assert set(x_columns).issubset(set(df.columns)), 'x_columns must be in data.columns'\n",
    "    assert set(y_columns).issubset(set(df.columns)), 'y_columns must be in data.columns'\n",
    "    assert len(x_columns) > 0\n",
    "    assert len(y_columns) > 0\n",
    "\n",
    "    if title is None:\n",
    "        title = ', '.join(x_columns) + ' to ' + ', '.join(y_columns)\n",
    "\n",
    "    app = Dash(__name__)\n",
    "    \n",
    "    graph_types = {\n",
    "        'Line': go.Line,\n",
    "        'Scatter': go.Scatter,\n",
    "        'Box': go.Box,\n",
    "        'Box individual': go.Box,\n",
    "    }\n",
    "\n",
    "    app.layout = html.Div([\n",
    "        html.H5(title),\n",
    "        dcc.RadioItems(\n",
    "            id='graph-type',\n",
    "            options=list(graph_types.keys()),\n",
    "            value='Line',\n",
    "            inline=True\n",
    "        ),\n",
    "        html.P('x-axis:'),\n",
    "        dcc.Checklist(\n",
    "            id='x-axis',\n",
    "            options=x_columns,\n",
    "            value=[x_columns[0]],\n",
    "            inline=True,\n",
    "        ),\n",
    "        html.P('y-axis:'),\n",
    "        dcc.RadioItems(\n",
    "            id='y-axis',\n",
    "            options=y_columns,\n",
    "            value=y_columns[0],\n",
    "            inline=True,\n",
    "        ),\n",
    "        dcc.Graph(id='graph')\n",
    "    ])\n",
    "\n",
    "    @app.callback(\n",
    "        Output('graph', 'figure'),\n",
    "        Input('graph-type', 'value'),\n",
    "        Input('x-axis', 'value'),\n",
    "        Input('y-axis', 'value')\n",
    "    )\n",
    "    def generate_chart(graph_type: str, x_values: list[str], y_value: str) -> Figure:\n",
    "        figure = Figure()\n",
    "        factory = graph_types[graph_type]\n",
    "        for value in x_values:\n",
    "            kwargs = {\n",
    "                'name': value,\n",
    "                'x': df[value],\n",
    "            }\n",
    "            if graph_type == 'Scatter':\n",
    "                kwargs['mode'] = 'markers'\n",
    "            if graph_type != 'Box individual':\n",
    "                kwargs['y'] = df[y_value]\n",
    "\n",
    "            trace = factory(**kwargs)\n",
    "            figure.add_trace(trace)\n",
    "        return figure\n",
    "\n",
    "    return app\n",
    "\n",
    "\n",
    "app = make_interactive_plot(data.columns, data.columns, 'Title')\n",
    "app.run_server(debug=True)"
   ]
  },
  {
   "cell_type": "code",
   "execution_count": null,
   "id": "3db23f4f9681be26",
   "metadata": {
    "collapsed": false
   },
   "outputs": [],
   "source": [
    "import matplotlib.pyplot as plt\n",
    "import seaborn as sns\n",
    "\n",
    "log_scaled = {'Asymmetry of overworking'}\n",
    "\n",
    "for i in range(len(data.columns)):\n",
    "    _, ax = plt.subplots(nrows=1, ncols=3, figsize=(24, 5))\n",
    "    ax[0].set_title('Fill with weights')\n",
    "    ax[1].set_title('Stacked with weights')\n",
    "    ax[2].set_title('Stacked without weights')\n",
    "    sns.histplot(data=data, hue='Attrition', x=data.columns[i], log_scale=data.columns[i] in log_scaled,\n",
    "                 multiple='fill', weights=weights, ax=ax[0], bins=100)\n",
    "    sns.histplot(data=data, hue='Attrition', x=data.columns[i], log_scale=data.columns[i] in log_scaled,\n",
    "                 multiple='stack', weights=weights, ax=ax[1], bins=100)\n",
    "    sns.histplot(data=data, hue='Attrition', x=data.columns[i], log_scale=data.columns[i] in log_scaled,\n",
    "                 multiple='stack', ax=ax[2], bins=100)\n",
    "    if data[data.columns[i]].dtype == object:\n",
    "        for j in range(3):\n",
    "            ax[j].xaxis.set_tick_params(rotation=90)\n",
    "    plt.tight_layout()\n",
    "    plt.show()"
   ]
  }
 ],
 "metadata": {
  "kernelspec": {
   "display_name": "Python 3 (ipykernel)",
   "language": "python",
   "name": "python3"
  },
  "language_info": {
   "codemirror_mode": {
    "name": "ipython",
    "version": 3
   },
   "file_extension": ".py",
   "mimetype": "text/x-python",
   "name": "python",
   "nbconvert_exporter": "python",
   "pygments_lexer": "ipython3",
   "version": "3.11.7"
  }
 },
 "nbformat": 4,
 "nbformat_minor": 5
}
